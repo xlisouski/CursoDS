{
 "cells": [
  {
   "cell_type": "code",
   "execution_count": 1,
   "id": "67d0e3b0",
   "metadata": {},
   "outputs": [],
   "source": [
    "# Importación de librerías \n",
    "import pandas as pd\n",
    "import numpy as np\n",
    "import matplotlib as mpl\n",
    "import matplotlib.pyplot as plt\n",
    "import seaborn as sns\n",
    "# Libreria para métricas\n",
    "import scipy \n",
    "# Libreria para estimar regresión\n",
    "import statsmodels.formula.api as sm\n",
    "# Libreria para metricas \n",
    "from sklearn.metrics import mean_squared_error\n",
    "from sklearn.metrics import r2_score\n",
    "# Libreria para separar en train y test\n",
    "from sklearn.model_selection import train_test_split\n",
    "# Seteo para que no se muestre notación científica\n",
    "np.set_printoptions(suppress=True)"
   ]
  },
  {
   "cell_type": "code",
   "execution_count": 2,
   "id": "07af4b39",
   "metadata": {},
   "outputs": [
    {
     "data": {
      "text/html": [
       "<div>\n",
       "<style scoped>\n",
       "    .dataframe tbody tr th:only-of-type {\n",
       "        vertical-align: middle;\n",
       "    }\n",
       "\n",
       "    .dataframe tbody tr th {\n",
       "        vertical-align: top;\n",
       "    }\n",
       "\n",
       "    .dataframe thead th {\n",
       "        text-align: right;\n",
       "    }\n",
       "</style>\n",
       "<table border=\"1\" class=\"dataframe\">\n",
       "  <thead>\n",
       "    <tr style=\"text-align: right;\">\n",
       "      <th></th>\n",
       "      <th>Id</th>\n",
       "      <th>MSSubClass</th>\n",
       "      <th>MSZoning</th>\n",
       "      <th>LotFrontage</th>\n",
       "      <th>LotArea</th>\n",
       "      <th>Street</th>\n",
       "      <th>Alley</th>\n",
       "      <th>LotShape</th>\n",
       "      <th>LandContour</th>\n",
       "      <th>Utilities</th>\n",
       "      <th>...</th>\n",
       "      <th>PoolArea</th>\n",
       "      <th>PoolQC</th>\n",
       "      <th>Fence</th>\n",
       "      <th>MiscFeature</th>\n",
       "      <th>MiscVal</th>\n",
       "      <th>MoSold</th>\n",
       "      <th>YrSold</th>\n",
       "      <th>SaleType</th>\n",
       "      <th>SaleCondition</th>\n",
       "      <th>SalePrice</th>\n",
       "    </tr>\n",
       "  </thead>\n",
       "  <tbody>\n",
       "    <tr>\n",
       "      <th>0</th>\n",
       "      <td>1</td>\n",
       "      <td>60</td>\n",
       "      <td>RL</td>\n",
       "      <td>65.0</td>\n",
       "      <td>8450</td>\n",
       "      <td>Pave</td>\n",
       "      <td>NaN</td>\n",
       "      <td>Reg</td>\n",
       "      <td>Lvl</td>\n",
       "      <td>AllPub</td>\n",
       "      <td>...</td>\n",
       "      <td>0</td>\n",
       "      <td>NaN</td>\n",
       "      <td>NaN</td>\n",
       "      <td>NaN</td>\n",
       "      <td>0</td>\n",
       "      <td>2</td>\n",
       "      <td>2008</td>\n",
       "      <td>WD</td>\n",
       "      <td>Normal</td>\n",
       "      <td>208500</td>\n",
       "    </tr>\n",
       "    <tr>\n",
       "      <th>1</th>\n",
       "      <td>2</td>\n",
       "      <td>20</td>\n",
       "      <td>RL</td>\n",
       "      <td>80.0</td>\n",
       "      <td>9600</td>\n",
       "      <td>Pave</td>\n",
       "      <td>NaN</td>\n",
       "      <td>Reg</td>\n",
       "      <td>Lvl</td>\n",
       "      <td>AllPub</td>\n",
       "      <td>...</td>\n",
       "      <td>0</td>\n",
       "      <td>NaN</td>\n",
       "      <td>NaN</td>\n",
       "      <td>NaN</td>\n",
       "      <td>0</td>\n",
       "      <td>5</td>\n",
       "      <td>2007</td>\n",
       "      <td>WD</td>\n",
       "      <td>Normal</td>\n",
       "      <td>181500</td>\n",
       "    </tr>\n",
       "    <tr>\n",
       "      <th>2</th>\n",
       "      <td>3</td>\n",
       "      <td>60</td>\n",
       "      <td>RL</td>\n",
       "      <td>68.0</td>\n",
       "      <td>11250</td>\n",
       "      <td>Pave</td>\n",
       "      <td>NaN</td>\n",
       "      <td>IR1</td>\n",
       "      <td>Lvl</td>\n",
       "      <td>AllPub</td>\n",
       "      <td>...</td>\n",
       "      <td>0</td>\n",
       "      <td>NaN</td>\n",
       "      <td>NaN</td>\n",
       "      <td>NaN</td>\n",
       "      <td>0</td>\n",
       "      <td>9</td>\n",
       "      <td>2008</td>\n",
       "      <td>WD</td>\n",
       "      <td>Normal</td>\n",
       "      <td>223500</td>\n",
       "    </tr>\n",
       "    <tr>\n",
       "      <th>3</th>\n",
       "      <td>4</td>\n",
       "      <td>70</td>\n",
       "      <td>RL</td>\n",
       "      <td>60.0</td>\n",
       "      <td>9550</td>\n",
       "      <td>Pave</td>\n",
       "      <td>NaN</td>\n",
       "      <td>IR1</td>\n",
       "      <td>Lvl</td>\n",
       "      <td>AllPub</td>\n",
       "      <td>...</td>\n",
       "      <td>0</td>\n",
       "      <td>NaN</td>\n",
       "      <td>NaN</td>\n",
       "      <td>NaN</td>\n",
       "      <td>0</td>\n",
       "      <td>2</td>\n",
       "      <td>2006</td>\n",
       "      <td>WD</td>\n",
       "      <td>Abnorml</td>\n",
       "      <td>140000</td>\n",
       "    </tr>\n",
       "    <tr>\n",
       "      <th>4</th>\n",
       "      <td>5</td>\n",
       "      <td>60</td>\n",
       "      <td>RL</td>\n",
       "      <td>84.0</td>\n",
       "      <td>14260</td>\n",
       "      <td>Pave</td>\n",
       "      <td>NaN</td>\n",
       "      <td>IR1</td>\n",
       "      <td>Lvl</td>\n",
       "      <td>AllPub</td>\n",
       "      <td>...</td>\n",
       "      <td>0</td>\n",
       "      <td>NaN</td>\n",
       "      <td>NaN</td>\n",
       "      <td>NaN</td>\n",
       "      <td>0</td>\n",
       "      <td>12</td>\n",
       "      <td>2008</td>\n",
       "      <td>WD</td>\n",
       "      <td>Normal</td>\n",
       "      <td>250000</td>\n",
       "    </tr>\n",
       "  </tbody>\n",
       "</table>\n",
       "<p>5 rows × 81 columns</p>\n",
       "</div>"
      ],
      "text/plain": [
       "   Id  MSSubClass MSZoning  LotFrontage  LotArea Street Alley LotShape  \\\n",
       "0   1          60       RL         65.0     8450   Pave   NaN      Reg   \n",
       "1   2          20       RL         80.0     9600   Pave   NaN      Reg   \n",
       "2   3          60       RL         68.0    11250   Pave   NaN      IR1   \n",
       "3   4          70       RL         60.0     9550   Pave   NaN      IR1   \n",
       "4   5          60       RL         84.0    14260   Pave   NaN      IR1   \n",
       "\n",
       "  LandContour Utilities  ... PoolArea PoolQC Fence MiscFeature MiscVal MoSold  \\\n",
       "0         Lvl    AllPub  ...        0    NaN   NaN         NaN       0      2   \n",
       "1         Lvl    AllPub  ...        0    NaN   NaN         NaN       0      5   \n",
       "2         Lvl    AllPub  ...        0    NaN   NaN         NaN       0      9   \n",
       "3         Lvl    AllPub  ...        0    NaN   NaN         NaN       0      2   \n",
       "4         Lvl    AllPub  ...        0    NaN   NaN         NaN       0     12   \n",
       "\n",
       "  YrSold  SaleType  SaleCondition  SalePrice  \n",
       "0   2008        WD         Normal     208500  \n",
       "1   2007        WD         Normal     181500  \n",
       "2   2008        WD         Normal     223500  \n",
       "3   2006        WD        Abnorml     140000  \n",
       "4   2008        WD         Normal     250000  \n",
       "\n",
       "[5 rows x 81 columns]"
      ]
     },
     "execution_count": 2,
     "metadata": {},
     "output_type": "execute_result"
    }
   ],
   "source": [
    "# Levanto el dataset\n",
    "url = 'https://raw.githubusercontent.com/xlisouski/DataCoder/main/train.csv'\n",
    "df = pd.read_csv(url, sep = ',')\n",
    "df.head()"
   ]
  },
  {
   "cell_type": "markdown",
   "id": "84281177",
   "metadata": {},
   "source": [
    "# Variable Target: SalePrice\n",
    "La variable objetivo es de tipo **numérica**, por lo que el modelo a desarrollar será de tipo **Aprendizaje Supervisado: Regresión**. \n",
    "<br> <br/>\n",
    "A continuación se presentarán algunas estadísticas para entender el comportamiento, formato y distribución de esta variable. "
   ]
  },
  {
   "cell_type": "markdown",
   "id": "7891fce2",
   "metadata": {},
   "source": [
    "## Análisis Variable Target: SalePrice\n",
    "Se puede observar que la variable tiene una distribución asimétrica positiva (la mediana es menor que el promedio), concentrando gran porción de los registros en valores bajos, y observando muy pocos registros en valores altos.  \n",
    "<br> <br/>\n",
    "Esto indicaría que hay muy pocas casas con precios extremadamente altos. \n",
    "<br> <br/>\n",
    "Al tratar con una variable target de este tipo de distribución, una buena prácica suele ser intentar predecir el logaritmo de la variable, para suavizar un poco la curva de valores posibles. \n",
    "<br> <br/>\n",
    "A continuación se presentará el histograma del logaritmo de la variable target. "
   ]
  },
  {
   "cell_type": "code",
   "execution_count": 3,
   "id": "1319b96d",
   "metadata": {},
   "outputs": [
    {
     "data": {
      "text/plain": [
       "Text(0.5, 1.0, 'Distribución de SalePrice transformado a Logaritmo')"
      ]
     },
     "execution_count": 3,
     "metadata": {},
     "output_type": "execute_result"
    },
    {
     "data": {
      "image/png": "[encoded data removed]",
      "text/plain": [
       "<Figure size 640x480 with 1 Axes>"
      ]
     },
     "metadata": {},
     "output_type": "display_data"
    }
   ],
   "source": [
    "# Primero genero la variable logaritmica \n",
    "df['SalePrice_Log'] = np.log(df['SalePrice'])\n",
    "\n",
    "# Luego grafico\n",
    "plt.figure()\n",
    "# Histograma\n",
    "sns.histplot(data = df,\n",
    "             x = 'SalePrice_Log',\n",
    "             bins = 30,            \n",
    "             alpha = 0.25,\n",
    "             kde = True,\n",
    "             stat='probability',\n",
    "             color = '#B76BCB')\n",
    "plt.title('Distribución de SalePrice transformado a Logaritmo')"
   ]
  },
  {
   "cell_type": "markdown",
   "id": "a79a2ad7",
   "metadata": {},
   "source": [
    "# Comparemos modelos "
   ]
  },
  {
   "cell_type": "code",
   "execution_count": 4,
   "id": "3519df77",
   "metadata": {},
   "outputs": [],
   "source": [
    "# Primero calculo variables de antiguedad\n",
    "df['Antig_Viv'] = df['YrSold'] - df['YearBuilt']\n",
    "df['Antig_Rem'] = np.where( df['YearRemodAdd'] > df['YrSold'],\n",
    "                            df['YrSold'] - df['YearBuilt'],\n",
    "                            df['YrSold'] - df['YearRemodAdd'])\n",
    "\n",
    "# Renombro variable con nombre con numero\n",
    "df = df.rename(columns={'1stFlrSF': 'Var_1stFlrSF'})\n",
    "\n",
    "# MasVnrArea tiene vacíos, la completo con la mediana \n",
    "df['MasVnrArea'] = df['MasVnrArea'].fillna(df['MasVnrArea'].median())"
   ]
  },
  {
   "cell_type": "code",
   "execution_count": 5,
   "id": "8214426d",
   "metadata": {},
   "outputs": [],
   "source": [
    "# Separo usando el paquete sklearn\n",
    "df_train,df_test = train_test_split(df,\n",
    "                                    test_size = 0.25, #Porcentaje de muestra test \n",
    "                                    random_state = 42) #Semilla"
   ]
  },
  {
   "cell_type": "markdown",
   "id": "f4792e7b",
   "metadata": {},
   "source": [
    "# Modelo 1: Con 11 Features"
   ]
  },
  {
   "cell_type": "code",
   "execution_count": 6,
   "id": "dba2ca63",
   "metadata": {},
   "outputs": [
    {
     "name": "stdout",
     "output_type": "stream",
     "text": [
      "Coeficientes:\n",
      "Intercept       10.924235\n",
      "OverallQual      0.096310\n",
      "GarageCars       0.087618\n",
      "GrLivArea        0.000209\n",
      "Antig_Viv       -0.001962\n",
      "GarageArea       0.000044\n",
      "Antig_Rem       -0.002169\n",
      "FullBath        -0.026336\n",
      "TotalBsmtSF      0.000063\n",
      "Var_1stFlrSF     0.000060\n",
      "TotRmsAbvGrd     0.007425\n",
      "MasVnrArea      -0.000020\n",
      "dtype: float64\n",
      "\n",
      "-----------------------\n",
      "P-Valores:\n",
      "MasVnrArea      0.565000\n",
      "GarageArea      0.419600\n",
      "TotRmsAbvGrd    0.205586\n",
      "FullBath        0.064886\n",
      "Var_1stFlrSF    0.021819\n",
      "TotalBsmtSF     0.005753\n",
      "Intercept       0.000000\n",
      "OverallQual     0.000000\n",
      "GarageCars      0.000000\n",
      "GrLivArea       0.000000\n",
      "Antig_Viv       0.000000\n",
      "Antig_Rem       0.000000\n",
      "dtype: float64\n"
     ]
    }
   ],
   "source": [
    "features_base = ['OverallQual','GarageCars','GrLivArea','Antig_Viv','GarageArea',\n",
    "                 'Antig_Rem','FullBath','TotalBsmtSF','Var_1stFlrSF','TotRmsAbvGrd','MasVnrArea']\n",
    "model_formula = 'SalePrice_Log ~ ' + ' + '.join(df_train[features_base].columns)\n",
    "lm1 = sm.ols(formula = model_formula, data = df_train).fit()\n",
    "\n",
    "coeficientes = lm1.params\n",
    "print('Coeficientes:')\n",
    "print(coeficientes.head(21).round(6))\n",
    "print('')\n",
    "print('-----------------------')\n",
    "pvalores_1 = lm1.pvalues\n",
    "print('P-Valores:')\n",
    "print(pvalores_1.head(21).round(6).sort_values(ascending=False))"
   ]
  },
  {
   "cell_type": "code",
   "execution_count": 7,
   "id": "18552b8e",
   "metadata": {},
   "outputs": [],
   "source": [
    "# Genero columna de predicciones\n",
    "df_train['Pred_1'] = lm1.predict(df_train)\n",
    "df_test['Pred_1'] = lm1.predict(df_test)"
   ]
  },
  {
   "cell_type": "markdown",
   "id": "c1f59e73",
   "metadata": {},
   "source": [
    "# PLSR "
   ]
  },
  {
   "cell_type": "code",
   "execution_count": 8,
   "id": "b048fa2c",
   "metadata": {},
   "outputs": [
    {
     "data": {
      "text/html": [
       "<style>#sk-container-id-1 {color: black;}#sk-container-id-1 pre{padding: 0;}#sk-container-id-1 div.sk-toggleable {background-color: white;}#sk-container-id-1 label.sk-toggleable__label {cursor: pointer;display: block;width: 100%;margin-bottom: 0;padding: 0.3em;box-sizing: border-box;text-align: center;}#sk-container-id-1 label.sk-toggleable__label-arrow:before {content: \"▸\";float: left;margin-right: 0.25em;color: #696969;}#sk-container-id-1 label.sk-toggleable__label-arrow:hover:before {color: black;}#sk-container-id-1 div.sk-estimator:hover label.sk-toggleable__label-arrow:before {color: black;}#sk-container-id-1 div.sk-toggleable__content {max-height: 0;max-width: 0;overflow: hidden;text-align: left;background-color: #f0f8ff;}#sk-container-id-1 div.sk-toggleable__content pre {margin: 0.2em;color: black;border-radius: 0.25em;background-color: #f0f8ff;}#sk-container-id-1 input.sk-toggleable__control:checked~div.sk-toggleable__content {max-height: 200px;max-width: 100%;overflow: auto;}#sk-container-id-1 input.sk-toggleable__control:checked~label.sk-toggleable__label-arrow:before {content: \"▾\";}#sk-container-id-1 div.sk-estimator input.sk-toggleable__control:checked~label.sk-toggleable__label {background-color: #d4ebff;}#sk-container-id-1 div.sk-label input.sk-toggleable__control:checked~label.sk-toggleable__label {background-color: #d4ebff;}#sk-container-id-1 input.sk-hidden--visually {border: 0;clip: rect(1px 1px 1px 1px);clip: rect(1px, 1px, 1px, 1px);height: 1px;margin: -1px;overflow: hidden;padding: 0;position: absolute;width: 1px;}#sk-container-id-1 div.sk-estimator {font-family: monospace;background-color: #f0f8ff;border: 1px dotted black;border-radius: 0.25em;box-sizing: border-box;margin-bottom: 0.5em;}#sk-container-id-1 div.sk-estimator:hover {background-color: #d4ebff;}#sk-container-id-1 div.sk-parallel-item::after {content: \"\";width: 100%;border-bottom: 1px solid gray;flex-grow: 1;}#sk-container-id-1 div.sk-label:hover label.sk-toggleable__label {background-color: #d4ebff;}#sk-container-id-1 div.sk-serial::before {content: \"\";position: absolute;border-left: 1px solid gray;box-sizing: border-box;top: 0;bottom: 0;left: 50%;z-index: 0;}#sk-container-id-1 div.sk-serial {display: flex;flex-direction: column;align-items: center;background-color: white;padding-right: 0.2em;padding-left: 0.2em;position: relative;}#sk-container-id-1 div.sk-item {position: relative;z-index: 1;}#sk-container-id-1 div.sk-parallel {display: flex;align-items: stretch;justify-content: center;background-color: white;position: relative;}#sk-container-id-1 div.sk-item::before, #sk-container-id-1 div.sk-parallel-item::before {content: \"\";position: absolute;border-left: 1px solid gray;box-sizing: border-box;top: 0;bottom: 0;left: 50%;z-index: -1;}#sk-container-id-1 div.sk-parallel-item {display: flex;flex-direction: column;z-index: 1;position: relative;background-color: white;}#sk-container-id-1 div.sk-parallel-item:first-child::after {align-self: flex-end;width: 50%;}#sk-container-id-1 div.sk-parallel-item:last-child::after {align-self: flex-start;width: 50%;}#sk-container-id-1 div.sk-parallel-item:only-child::after {width: 0;}#sk-container-id-1 div.sk-dashed-wrapped {border: 1px dashed gray;margin: 0 0.4em 0.5em 0.4em;box-sizing: border-box;padding-bottom: 0.4em;background-color: white;}#sk-container-id-1 div.sk-label label {font-family: monospace;font-weight: bold;display: inline-block;line-height: 1.2em;}#sk-container-id-1 div.sk-label-container {text-align: center;}#sk-container-id-1 div.sk-container {/* jupyter's `normalize.less` sets `[hidden] { display: none; }` but bootstrap.min.css set `[hidden] { display: none !important; }` so we also need the `!important` here to be able to override the default hidden behavior on the sphinx rendered scikit-learn.org. See: https://github.com/scikit-learn/scikit-learn/issues/21755 */display: inline-block !important;position: relative;}#sk-container-id-1 div.sk-text-repr-fallback {display: none;}</style><div id=\"sk-container-id-1\" class=\"sk-top-container\"><div class=\"sk-text-repr-fallback\"><pre>PLSRegression(n_components=4)</pre><b>In a Jupyter environment, please rerun this cell to show the HTML representation or trust the notebook. <br />On GitHub, the HTML representation is unable to render, please try loading this page with nbviewer.org.</b></div><div class=\"sk-container\" hidden><div class=\"sk-item\"><div class=\"sk-estimator sk-toggleable\"><input class=\"sk-toggleable__control sk-hidden--visually\" id=\"sk-estimator-id-1\" type=\"checkbox\" checked><label for=\"sk-estimator-id-1\" class=\"sk-toggleable__label sk-toggleable__label-arrow\">PLSRegression</label><div class=\"sk-toggleable__content\"><pre>PLSRegression(n_components=4)</pre></div></div></div></div></div>"
      ],
      "text/plain": [
       "PLSRegression(n_components=4)"
      ]
     },
     "execution_count": 8,
     "metadata": {},
     "output_type": "execute_result"
    }
   ],
   "source": [
    "# Importo libreria\n",
    "from sklearn.cross_decomposition import PLSRegression\n",
    "\n",
    "features_base = ['OverallQual','GarageCars','GrLivArea','Antig_Viv','GarageArea',\n",
    "                 'Antig_Rem','FullBath','TotalBsmtSF','Var_1stFlrSF','TotRmsAbvGrd','MasVnrArea']\n",
    "\n",
    "X_train = df_train[features_base].values\n",
    "X_test = df_test[features_base].values\n",
    "y_train = df_train['SalePrice_Log'].values\n",
    "\n",
    "# Crear un modelo PLSR con el número de componentes deseados\n",
    "plsr_model = PLSRegression(n_components = 4)\n",
    "\n",
    "# Ajustar el modelo PLSR a los datos de entrenamiento\n",
    "plsr_model.fit(X_train, y_train)\n",
    "\n"
   ]
  },
  {
   "cell_type": "code",
   "execution_count": 10,
   "id": "3baa131b",
   "metadata": {},
   "outputs": [],
   "source": [
    "# Predicciones \n",
    "df_train['Pred_2'] = plsr_model.predict(X_train)\n",
    "df_test['Pred_2'] = plsr_model.predict(X_test)"
   ]
  },
  {
   "cell_type": "code",
   "execution_count": 11,
   "id": "91fec602",
   "metadata": {},
   "outputs": [
    {
     "data": {
      "image/png": "[encoded data removed]",
      "text/plain": [
       "<Figure size 640x480 with 1 Axes>"
      ]
     },
     "metadata": {},
     "output_type": "display_data"
    }
   ],
   "source": [
    "plt.figure()\n",
    "# Histograma\n",
    "sns.histplot(data = df_test,\n",
    "             x = 'Pred_1',\n",
    "             bins = 30,            \n",
    "             alpha = 0.25,\n",
    "             kde = True,\n",
    "             stat='probability',\n",
    "            label = 'Modelo 1')\n",
    "sns.histplot(data  = df_test, \n",
    "             x = 'Pred_2', \n",
    "             bins = 30, \n",
    "             alpha = 0.25, \n",
    "             kde = True, \n",
    "             stat='probability', \n",
    "             color='red', \n",
    "             label='Modelo 2')\n",
    "plt.title('Distribución de Predicciones')\n",
    "plt.xlabel('Predicciones')\n",
    "plt.legend()\n",
    "plt.show()"
   ]
  },
  {
   "cell_type": "code",
   "execution_count": 12,
   "id": "94f5b8b1",
   "metadata": {},
   "outputs": [
    {
     "name": "stdout",
     "output_type": "stream",
     "text": [
      "RMSE\n",
      "MODELO 1\n",
      "TEST: 0.1646\n",
      "TRAIN: 0.1713\n",
      "----------------\n",
      "MODELO 2\n",
      "TEST: 0.1649\n",
      "TRAIN: 0.1719\n"
     ]
    }
   ],
   "source": [
    "# Metricas\n",
    "rmse_1_test= mean_squared_error(df_test['SalePrice_Log'], df_test['Pred_1'], squared=False)\n",
    "r_squared_1_test = r2_score(df_test['SalePrice_Log'], df_test['Pred_1'])\n",
    "rmse_1_train = mean_squared_error(df_train['SalePrice_Log'], df_train['Pred_1'], squared=False)\n",
    "r_squared_1_train = r2_score(df_train['SalePrice_Log'], df_train['Pred_1'])\n",
    "\n",
    "rmse_2_test = mean_squared_error(df_test['SalePrice_Log'], df_test['Pred_2'], squared=False)\n",
    "r_squared_2_test = r2_score(df_test['SalePrice_Log'], df_test['Pred_2'])\n",
    "rmse_2_train = mean_squared_error(df_train['SalePrice_Log'], df_train['Pred_2'], squared=False)\n",
    "r_squared_2_train = r2_score(df_train['SalePrice_Log'], df_train['Pred_2'])\n",
    "\n",
    "print('RMSE')\n",
    "print('MODELO 1')\n",
    "print('TEST: ' + str(rmse_1_test.round(4)))\n",
    "print('TRAIN: ' + str(rmse_1_train.round(4)))\n",
    "print('----------------')\n",
    "print('MODELO 2')\n",
    "print('TEST: ' + str(rmse_2_test.round(4)))\n",
    "print('TRAIN: ' + str(rmse_2_train.round(4)))"
   ]
  },
  {
   "cell_type": "markdown",
   "id": "b06fd84e",
   "metadata": {},
   "source": [
    "# Clustering"
   ]
  },
  {
   "cell_type": "markdown",
   "id": "9ec73f1e",
   "metadata": {},
   "source": [
    "# K - Means\n",
    "## Identificar cantidad de clusters óptima\n",
    "Utilizaremos la métrica 'inertia_', que se utiliza para evaluar la calidad de la agrupación resultante. \n",
    "<br>\n",
    "\n",
    "Mide cuánto están dispersos los puntos dentro de cada clúster. En otras palabras, cuantifica la variabilidad total dentro de los clústeres.\n",
    "<br>\n",
    "\n",
    "Se busca un punto en el que la inertia disminuye significativamente a medida que se aumenta el número de clústeres (k) y luego se estabiliza. Este punto se conoce como el \"codo\" en el gráfico de la inertia frente al número de clústeres. El número de clústeres correspondiente a este codo se considera un buen candidato para el número óptimo de clústeres. \n",
    "<br>"
   ]
  },
  {
   "cell_type": "code",
   "execution_count": 16,
   "id": "f86ca207",
   "metadata": {},
   "outputs": [],
   "source": [
    "features_base = ['OverallQual','GarageCars','GrLivArea','Antig_Viv','GarageArea']\n",
    "\n",
    "medias = df_train[features_base].mean()\n",
    "desvios = df_train[features_base].std()\n",
    "\n",
    "df_train_normalizada = (df_train[features_base] - medias) / desvios\n",
    "df_test_normalizada = (df_test[features_base] - medias) / desvios\n",
    "\n",
    "X_train_norm = df_train_normalizada.values\n",
    "X_test_norm = df_test_normalizada.values\n"
   ]
  },
  {
   "cell_type": "code",
   "execution_count": 17,
   "id": "bf67c25e",
   "metadata": {},
   "outputs": [
    {
     "data": {
      "image/png": "[encoded data removed]",
      "text/plain": [
       "<Figure size 640x480 with 1 Axes>"
      ]
     },
     "metadata": {},
     "output_type": "display_data"
    }
   ],
   "source": [
    "# Libreria para KMeans\n",
    "from sklearn.cluster import KMeans\n",
    "# Genero distintos algoritmos para definir el n_cluster que más me convence\n",
    "wcss = []\n",
    "for i in range(1, 31):\n",
    "    kmeans = KMeans(n_clusters=i, init='k-means++', max_iter=300, n_init=10, random_state=0)\n",
    "    kmeans.fit(X_train_norm)\n",
    "    wcss.append(kmeans.inertia_)\n",
    "plt.plot(range(1, 31), wcss)\n",
    "plt.title('Metodo del codo')\n",
    "plt.xlabel('Numero de clusters')\n",
    "plt.ylabel('Inercia')\n",
    "plt.show()"
   ]
  },
  {
   "cell_type": "code",
   "execution_count": 32,
   "id": "6b9b0382",
   "metadata": {},
   "outputs": [],
   "source": [
    "# Genero el modelo\n",
    "n_clusters = 7\n",
    "kmeans = KMeans(n_clusters = n_clusters, \n",
    "                init = 'k-means++', \n",
    "                max_iter = 300, \n",
    "                n_init = 10, \n",
    "                random_state = 0)"
   ]
  },
  {
   "cell_type": "code",
   "execution_count": 33,
   "id": "8d323069",
   "metadata": {},
   "outputs": [
    {
     "data": {
      "text/html": [
       "<div>\n",
       "<style scoped>\n",
       "    .dataframe tbody tr th:only-of-type {\n",
       "        vertical-align: middle;\n",
       "    }\n",
       "\n",
       "    .dataframe tbody tr th {\n",
       "        vertical-align: top;\n",
       "    }\n",
       "\n",
       "    .dataframe thead th {\n",
       "        text-align: right;\n",
       "    }\n",
       "</style>\n",
       "<table border=\"1\" class=\"dataframe\">\n",
       "  <thead>\n",
       "    <tr style=\"text-align: right;\">\n",
       "      <th></th>\n",
       "      <th>0</th>\n",
       "      <th>1</th>\n",
       "      <th>2</th>\n",
       "      <th>3</th>\n",
       "      <th>4</th>\n",
       "      <th>Cluster</th>\n",
       "    </tr>\n",
       "  </thead>\n",
       "  <tbody>\n",
       "    <tr>\n",
       "      <th>0</th>\n",
       "      <td>0.636782</td>\n",
       "      <td>0.293696</td>\n",
       "      <td>-0.051620</td>\n",
       "      <td>-1.100502</td>\n",
       "      <td>-0.192529</td>\n",
       "      <td>5</td>\n",
       "    </tr>\n",
       "    <tr>\n",
       "      <th>1</th>\n",
       "      <td>-0.094883</td>\n",
       "      <td>0.293696</td>\n",
       "      <td>-0.421500</td>\n",
       "      <td>-0.153777</td>\n",
       "      <td>0.030681</td>\n",
       "      <td>2</td>\n",
       "    </tr>\n",
       "    <tr>\n",
       "      <th>2</th>\n",
       "      <td>-0.094883</td>\n",
       "      <td>-1.069005</td>\n",
       "      <td>-0.518237</td>\n",
       "      <td>1.086758</td>\n",
       "      <td>-0.938147</td>\n",
       "      <td>4</td>\n",
       "    </tr>\n",
       "    <tr>\n",
       "      <th>3</th>\n",
       "      <td>-0.826548</td>\n",
       "      <td>-1.069005</td>\n",
       "      <td>-0.207159</td>\n",
       "      <td>0.335908</td>\n",
       "      <td>-0.909652</td>\n",
       "      <td>1</td>\n",
       "    </tr>\n",
       "    <tr>\n",
       "      <th>4</th>\n",
       "      <td>-0.094883</td>\n",
       "      <td>-1.069005</td>\n",
       "      <td>-0.169222</td>\n",
       "      <td>0.401199</td>\n",
       "      <td>-0.838415</td>\n",
       "      <td>1</td>\n",
       "    </tr>\n",
       "  </tbody>\n",
       "</table>\n",
       "</div>"
      ],
      "text/plain": [
       "          0         1         2         3         4  Cluster\n",
       "0  0.636782  0.293696 -0.051620 -1.100502 -0.192529        5\n",
       "1 -0.094883  0.293696 -0.421500 -0.153777  0.030681        2\n",
       "2 -0.094883 -1.069005 -0.518237  1.086758 -0.938147        4\n",
       "3 -0.826548 -1.069005 -0.207159  0.335908 -0.909652        1\n",
       "4 -0.094883 -1.069005 -0.169222  0.401199 -0.838415        1"
      ]
     },
     "execution_count": 33,
     "metadata": {},
     "output_type": "execute_result"
    }
   ],
   "source": [
    "# Construyo dataframe con predicciones \n",
    "df_analizar_pred = pd.DataFrame(X_train_norm)\n",
    "df_analizar_pred['Cluster'] = kmeans.fit_predict(X_train_norm)\n",
    "df_analizar_pred.head()"
   ]
  },
  {
   "cell_type": "code",
   "execution_count": 34,
   "id": "9ed44e3c",
   "metadata": {},
   "outputs": [
    {
     "data": {
      "text/plain": [
       "0    135\n",
       "1    184\n",
       "2    220\n",
       "3    101\n",
       "4     81\n",
       "5    319\n",
       "6     55\n",
       "Name: Cluster, dtype: int64"
      ]
     },
     "execution_count": 34,
     "metadata": {},
     "output_type": "execute_result"
    }
   ],
   "source": [
    "df_analizar_pred['Cluster'].value_counts().sort_index()"
   ]
  },
  {
   "cell_type": "code",
   "execution_count": 35,
   "id": "c8889a62",
   "metadata": {},
   "outputs": [],
   "source": [
    "# Agrego target\n",
    "df_train_normalizada = df_train_normalizada.reset_index()\n",
    "df_train = df_train.reset_index()\n",
    "df_analizar_pred['SalePrice_Log'] = df_train['SalePrice_Log']"
   ]
  },
  {
   "cell_type": "code",
   "execution_count": 36,
   "id": "f2b2c825",
   "metadata": {},
   "outputs": [
    {
     "data": {
      "text/plain": [
       "Text(0.5, 1.0, 'Relación entre Logaritmo del Precio de Venta y Cluster')"
      ]
     },
     "execution_count": 36,
     "metadata": {},
     "output_type": "execute_result"
    },
    {
     "data": {
      "image/png": "[encoded data removed]",
      "text/plain": [
       "<Figure size 640x480 with 1 Axes>"
      ]
     },
     "metadata": {},
     "output_type": "display_data"
    }
   ],
   "source": [
    "# Boxplot\n",
    "plt.figure()\n",
    "sns.boxplot(data = df_analizar_pred,\n",
    "            x = 'Cluster',\n",
    "            y = 'SalePrice_Log', \n",
    "            showfliers = False)\n",
    "plt.title('Relación entre Logaritmo del Precio de Venta y Cluster')"
   ]
  },
  {
   "cell_type": "code",
   "execution_count": 37,
   "id": "8e9eac88",
   "metadata": {},
   "outputs": [
    {
     "data": {
      "text/html": [
       "<div>\n",
       "<style scoped>\n",
       "    .dataframe tbody tr th:only-of-type {\n",
       "        vertical-align: middle;\n",
       "    }\n",
       "\n",
       "    .dataframe tbody tr th {\n",
       "        vertical-align: top;\n",
       "    }\n",
       "\n",
       "    .dataframe thead th {\n",
       "        text-align: right;\n",
       "    }\n",
       "</style>\n",
       "<table border=\"1\" class=\"dataframe\">\n",
       "  <thead>\n",
       "    <tr style=\"text-align: right;\">\n",
       "      <th></th>\n",
       "      <th>Cluster</th>\n",
       "      <th>Promedio_OverallQual</th>\n",
       "      <th>Promedio_GarageCars</th>\n",
       "      <th>Promedio_GrLivArea</th>\n",
       "      <th>Promedio_Antig_Viv</th>\n",
       "      <th>Promedio_GarageArea</th>\n",
       "      <th>Mediana_SalePrice</th>\n",
       "    </tr>\n",
       "  </thead>\n",
       "  <tbody>\n",
       "    <tr>\n",
       "      <th>0</th>\n",
       "      <td>0</td>\n",
       "      <td>8.177778</td>\n",
       "      <td>2.911111</td>\n",
       "      <td>2189.851852</td>\n",
       "      <td>6.392593</td>\n",
       "      <td>810.940741</td>\n",
       "      <td>12.623061</td>\n",
       "    </tr>\n",
       "    <tr>\n",
       "      <th>1</th>\n",
       "      <td>1</td>\n",
       "      <td>4.983696</td>\n",
       "      <td>1.000000</td>\n",
       "      <td>1093.048913</td>\n",
       "      <td>53.217391</td>\n",
       "      <td>299.869565</td>\n",
       "      <td>11.726017</td>\n",
       "    </tr>\n",
       "    <tr>\n",
       "      <th>2</th>\n",
       "      <td>2</td>\n",
       "      <td>5.213636</td>\n",
       "      <td>2.004545</td>\n",
       "      <td>1179.563636</td>\n",
       "      <td>43.559091</td>\n",
       "      <td>530.786364</td>\n",
       "      <td>11.870600</td>\n",
       "    </tr>\n",
       "    <tr>\n",
       "      <th>3</th>\n",
       "      <td>3</td>\n",
       "      <td>5.910891</td>\n",
       "      <td>2.079208</td>\n",
       "      <td>2072.920792</td>\n",
       "      <td>65.435644</td>\n",
       "      <td>541.564356</td>\n",
       "      <td>12.103486</td>\n",
       "    </tr>\n",
       "    <tr>\n",
       "      <th>4</th>\n",
       "      <td>4</td>\n",
       "      <td>5.987654</td>\n",
       "      <td>1.024691</td>\n",
       "      <td>1662.308642</td>\n",
       "      <td>82.407407</td>\n",
       "      <td>278.703704</td>\n",
       "      <td>11.842229</td>\n",
       "    </tr>\n",
       "    <tr>\n",
       "      <th>5</th>\n",
       "      <td>5</td>\n",
       "      <td>6.937304</td>\n",
       "      <td>2.015674</td>\n",
       "      <td>1621.018809</td>\n",
       "      <td>10.244514</td>\n",
       "      <td>514.755486</td>\n",
       "      <td>12.198544</td>\n",
       "    </tr>\n",
       "    <tr>\n",
       "      <th>6</th>\n",
       "      <td>6</td>\n",
       "      <td>4.527273</td>\n",
       "      <td>0.000000</td>\n",
       "      <td>1078.309091</td>\n",
       "      <td>61.963636</td>\n",
       "      <td>0.000000</td>\n",
       "      <td>11.482466</td>\n",
       "    </tr>\n",
       "  </tbody>\n",
       "</table>\n",
       "</div>"
      ],
      "text/plain": [
       "   Cluster  Promedio_OverallQual  Promedio_GarageCars  Promedio_GrLivArea  \\\n",
       "0        0              8.177778             2.911111         2189.851852   \n",
       "1        1              4.983696             1.000000         1093.048913   \n",
       "2        2              5.213636             2.004545         1179.563636   \n",
       "3        3              5.910891             2.079208         2072.920792   \n",
       "4        4              5.987654             1.024691         1662.308642   \n",
       "5        5              6.937304             2.015674         1621.018809   \n",
       "6        6              4.527273             0.000000         1078.309091   \n",
       "\n",
       "   Promedio_Antig_Viv  Promedio_GarageArea  Mediana_SalePrice  \n",
       "0            6.392593           810.940741          12.623061  \n",
       "1           53.217391           299.869565          11.726017  \n",
       "2           43.559091           530.786364          11.870600  \n",
       "3           65.435644           541.564356          12.103486  \n",
       "4           82.407407           278.703704          11.842229  \n",
       "5           10.244514           514.755486          12.198544  \n",
       "6           61.963636             0.000000          11.482466  "
      ]
     },
     "execution_count": 37,
     "metadata": {},
     "output_type": "execute_result"
    }
   ],
   "source": [
    "# Analicemos el contenido de cada cluster\n",
    "df_train['Cluster'] = df_analizar_pred['Cluster']\n",
    "resultados = df_train.groupby('Cluster').agg(           \n",
    "    Promedio_OverallQual = ('OverallQual', 'mean'),\n",
    "    Promedio_GarageCars = ('GarageCars', 'mean'),\n",
    "    Promedio_GrLivArea = ('GrLivArea', 'mean'),\n",
    "    Promedio_Antig_Viv = ('Antig_Viv', 'mean'),\n",
    "    Promedio_GarageArea = ('GarageArea', 'mean'),\n",
    "    Mediana_SalePrice = ('SalePrice_Log', 'median')\n",
    ").reset_index()\n",
    "resultados"
   ]
  },
  {
   "cell_type": "code",
   "execution_count": 39,
   "id": "1da7ed05",
   "metadata": {},
   "outputs": [],
   "source": [
    "# Joineo con dataset original \n",
    "df_train = df_train.merge(resultados[['Cluster','Mediana_SalePrice']],\n",
    "              left_on = 'Cluster',\n",
    "              right_on = 'Cluster',\n",
    "              how = 'left')\n"
   ]
  },
  {
   "cell_type": "code",
   "execution_count": 25,
   "id": "ca5fd8b9",
   "metadata": {},
   "outputs": [],
   "source": [
    "# Hago predicción de cluster en muestra de test\n",
    "df_analizar_pred_test = pd.DataFrame(X_test_norm)\n",
    "df_analizar_pred_test['Cluster'] = kmeans.fit_predict(X_test_norm)\n",
    "df_test = df_test.reset_index()\n",
    "df_test['Cluster'] = df_analizar_pred_test['Cluster']"
   ]
  },
  {
   "cell_type": "code",
   "execution_count": 40,
   "id": "8eac1888",
   "metadata": {},
   "outputs": [],
   "source": [
    "# Joineo con dataset original \n",
    "df_test = df_test.merge(resultados[['Cluster','Mediana_SalePrice']],\n",
    "              left_on = 'Cluster',\n",
    "              right_on = 'Cluster',\n",
    "              how = 'left')\n"
   ]
  },
  {
   "cell_type": "code",
   "execution_count": 38,
   "id": "42c9e886",
   "metadata": {},
   "outputs": [],
   "source": [
    "columnas_a_eliminar = ['Mediana_SalePrice', 'Pred_3']\n",
    "df_test.drop(columnas_a_eliminar, axis=1, inplace=True)\n",
    "df_train.drop(columnas_a_eliminar, axis=1, inplace=True)"
   ]
  },
  {
   "cell_type": "code",
   "execution_count": null,
   "id": "fdf128be",
   "metadata": {},
   "outputs": [],
   "source": [
    "df_test.head()"
   ]
  },
  {
   "cell_type": "markdown",
   "id": "da5e6e5a",
   "metadata": {},
   "source": [
    "# Modelo 3 - Con Cluster"
   ]
  },
  {
   "cell_type": "code",
   "execution_count": 41,
   "id": "706b1e16",
   "metadata": {},
   "outputs": [
    {
     "name": "stdout",
     "output_type": "stream",
     "text": [
      "Coeficientes:\n",
      "Intercept            4.128356\n",
      "Mediana_SalePrice    0.620363\n",
      "Antig_Rem           -0.003705\n",
      "FullBath             0.008625\n",
      "TotalBsmtSF          0.000149\n",
      "Var_1stFlrSF         0.000074\n",
      "TotRmsAbvGrd         0.038109\n",
      "MasVnrArea           0.000127\n",
      "dtype: float64\n",
      "\n",
      "-----------------------\n",
      "P-Valores:\n",
      "FullBath             0.579633\n",
      "Var_1stFlrSF         0.009910\n",
      "MasVnrArea           0.001289\n",
      "Intercept            0.000000\n",
      "Mediana_SalePrice    0.000000\n",
      "Antig_Rem            0.000000\n",
      "TotalBsmtSF          0.000000\n",
      "TotRmsAbvGrd         0.000000\n",
      "dtype: float64\n"
     ]
    }
   ],
   "source": [
    "features_base = ['Mediana_SalePrice','Antig_Rem','FullBath','TotalBsmtSF','Var_1stFlrSF','TotRmsAbvGrd','MasVnrArea']\n",
    "model_formula = 'SalePrice_Log ~ ' + ' + '.join(df_train[features_base].columns)\n",
    "lm2 = sm.ols(formula = model_formula, data = df_train).fit()\n",
    "\n",
    "coeficientes = lm2.params\n",
    "print('Coeficientes:')\n",
    "print(coeficientes.head(21).round(6))\n",
    "print('')\n",
    "print('-----------------------')\n",
    "pvalores_1 = lm2.pvalues\n",
    "print('P-Valores:')\n",
    "print(pvalores_1.head(21).round(6).sort_values(ascending=False))"
   ]
  },
  {
   "cell_type": "code",
   "execution_count": 28,
   "id": "8abacfe5",
   "metadata": {},
   "outputs": [],
   "source": [
    "# Genero columna de predicciones\n",
    "df_train['Pred_3'] = lm2.predict(df_train)\n",
    "df_test['Pred_3'] = lm2.predict(df_test)"
   ]
  },
  {
   "cell_type": "code",
   "execution_count": 29,
   "id": "b912547f",
   "metadata": {},
   "outputs": [
    {
     "data": {
      "image/png": "[encoded data removed]",
      "text/plain": [
       "<Figure size 640x480 with 1 Axes>"
      ]
     },
     "metadata": {},
     "output_type": "display_data"
    }
   ],
   "source": [
    "plt.figure()\n",
    "# Histograma\n",
    "sns.histplot(data = df_test,\n",
    "             x = 'Pred_1',\n",
    "             bins = 30,            \n",
    "             alpha = 0.25,\n",
    "             kde = True,\n",
    "             stat='probability',\n",
    "            label = 'Modelo 1')\n",
    "sns.histplot(data  = df_test, \n",
    "             x = 'Pred_2', \n",
    "             bins = 30, \n",
    "             alpha = 0.25, \n",
    "             kde = True, \n",
    "             stat='probability', \n",
    "             color='red', \n",
    "             label='Modelo 2')\n",
    "sns.histplot(data  = df_test, \n",
    "             x = 'Pred_3', \n",
    "             bins = 30, \n",
    "             alpha = 0.25, \n",
    "             kde = True, \n",
    "             stat='probability', \n",
    "             color='green', \n",
    "             label='Modelo 3')\n",
    "plt.title('Distribución de Predicciones')\n",
    "plt.xlabel('Predicciones')\n",
    "plt.legend()\n",
    "plt.show()"
   ]
  },
  {
   "cell_type": "code",
   "execution_count": 30,
   "id": "63e0224d",
   "metadata": {},
   "outputs": [
    {
     "name": "stdout",
     "output_type": "stream",
     "text": [
      "RMSE\n",
      "MODELO 1\n",
      "TEST: 0.1646\n",
      "TRAIN: 0.1713\n",
      "----------------\n",
      "MODELO 2\n",
      "TEST: 0.1649\n",
      "TRAIN: 0.1719\n",
      "----------------\n",
      "MODELO 3\n",
      "TEST: 0.2845\n",
      "TRAIN: 0.1988\n"
     ]
    }
   ],
   "source": [
    "# Metricas\n",
    "rmse_3_test = mean_squared_error(df_test['SalePrice_Log'], df_test['Pred_3'], squared=False)\n",
    "r_squared_3_test = r2_score(df_test['SalePrice_Log'], df_test['Pred_3'])\n",
    "rmse_3_train = mean_squared_error(df_train['SalePrice_Log'], df_train['Pred_3'], squared=False)\n",
    "r_squared_3_train = r2_score(df_train['SalePrice_Log'], df_train['Pred_3'])\n",
    "\n",
    "print('RMSE')\n",
    "print('MODELO 1')\n",
    "print('TEST: ' + str(rmse_1_test.round(4)))\n",
    "print('TRAIN: ' + str(rmse_1_train.round(4)))\n",
    "print('----------------')\n",
    "print('MODELO 2')\n",
    "print('TEST: ' + str(rmse_2_test.round(4)))\n",
    "print('TRAIN: ' + str(rmse_2_train.round(4)))\n",
    "print('----------------')\n",
    "print('MODELO 3')\n",
    "print('TEST: ' + str(rmse_3_test.round(4)))\n",
    "print('TRAIN: ' + str(rmse_3_train.round(4)))"
   ]
  },
  {
   "cell_type": "code",
   "execution_count": 31,
   "id": "a23f3fb2",
   "metadata": {},
   "outputs": [
    {
     "name": "stdout",
     "output_type": "stream",
     "text": [
      "r - 2\n",
      "MODELO 1\n",
      "TEST: 0.8435\n",
      "TRAIN: 0.8102\n",
      "----------------\n",
      "MODELO 2\n",
      "TEST: 0.8431\n",
      "TRAIN: 0.809\n",
      "----------------\n",
      "MODELO 3\n",
      "TEST: 0.5325\n",
      "TRAIN: 0.7446\n"
     ]
    }
   ],
   "source": [
    "print('r - 2')\n",
    "print('MODELO 1')\n",
    "print('TEST: ' + str(r_squared_1_test.round(4)))\n",
    "print('TRAIN: ' + str(r_squared_1_train.round(4)))\n",
    "print('----------------')\n",
    "print('MODELO 2')\n",
    "print('TEST: ' + str(r_squared_2_test.round(4)))\n",
    "print('TRAIN: ' + str(r_squared_2_train.round(4)))\n",
    "print('----------------')\n",
    "print('MODELO 3')\n",
    "print('TEST: ' + str(r_squared_3_test.round(4)))\n",
    "print('TRAIN: ' + str(r_squared_3_train.round(4)))"
   ]
  }
 ],
 "metadata": {
  "kernelspec": {
   "display_name": "Python 3 (ipykernel)",
   "language": "python",
   "name": "python3"
  },
  "language_info": {
   "codemirror_mode": {
    "name": "ipython",
    "version": 3
   },
   "file_extension": ".py",
   "mimetype": "text/x-python",
   "name": "python",
   "nbconvert_exporter": "python",
   "pygments_lexer": "ipython3",
   "version": "3.11.4"
  }
 },
 "nbformat": 4,
 "nbformat_minor": 5
}
