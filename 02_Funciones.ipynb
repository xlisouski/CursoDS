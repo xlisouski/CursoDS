{
 "cells": [
  {
   "cell_type": "markdown",
   "id": "82411c07-9c8c-47c2-9c83-55091c93efdb",
   "metadata": {},
   "source": [
    "FUNCIONES: Mi primera función"
   ]
  },
  {
   "cell_type": "code",
   "execution_count": 1,
   "id": "42118ef2-da7b-4f34-bc5b-85fa08c9d682",
   "metadata": {},
   "outputs": [],
   "source": [
    "# Construir una función que devuelva una potencia \n",
    "\n",
    "def potencia(base,exponente):\n",
    "    resultado = base ** exponente \n",
    "    return resultado\n"
   ]
  },
  {
   "cell_type": "code",
   "execution_count": 3,
   "id": "6134341e-3deb-491e-b8e7-f0bac82ead82",
   "metadata": {},
   "outputs": [
    {
     "name": "stdout",
     "output_type": "stream",
     "text": [
      "8\n",
      "25\n"
     ]
    }
   ],
   "source": [
    "print(potencia(2,3))\n",
    "prueba = potencia(5,2)\n",
    "print(prueba)"
   ]
  },
  {
   "cell_type": "code",
   "execution_count": 4,
   "id": "fb1b03d2-3d4a-4fee-8d18-84fdfee39f28",
   "metadata": {},
   "outputs": [],
   "source": [
    "# Construir una función que me devuelva un saludo \n",
    "\n",
    "def saludar(nombre):\n",
    "    mensaje = \"Hola \" + nombre\n",
    "    return mensaje\n"
   ]
  },
  {
   "cell_type": "code",
   "execution_count": 7,
   "id": "94f57203-8fdc-48f2-a6a2-2d376340bf3f",
   "metadata": {},
   "outputs": [
    {
     "name": "stdout",
     "output_type": "stream",
     "text": [
      "Hola Ximena\n"
     ]
    }
   ],
   "source": [
    "mi_saludo = saludar(nombre = \"Ximena\")\n",
    "print(mi_saludo)"
   ]
  },
  {
   "cell_type": "code",
   "execution_count": 12,
   "id": "54abbbc9-0ef3-42ac-8e75-89a930c7df1b",
   "metadata": {},
   "outputs": [
    {
     "name": "stdout",
     "output_type": "stream",
     "text": [
      "5\n",
      "range(0, 5)\n"
     ]
    }
   ],
   "source": [
    "sueldos = [100,50,130,210,150]\n",
    "print(len(sueldos))\n",
    "print(range(0,len(sueldos)))\n",
    "\n"
   ]
  },
  {
   "cell_type": "code",
   "execution_count": 21,
   "id": "8e86e877-ce04-48b5-82df-c8539288f19a",
   "metadata": {},
   "outputs": [],
   "source": [
    "def supera_sueldo_min(lista_sueldos,sueldo_min):\n",
    "\n",
    "    # Generar una lista vacía: \n",
    "    clasificador = []\n",
    "\n",
    "    # Genero un for para recorrer mi lista y clasificar a cada elemento\n",
    "    for i in range(0,len(lista_sueldos)):\n",
    "\n",
    "        if lista_sueldos[i] <= sueldo_min:\n",
    "            es_min = True\n",
    "        else: \n",
    "            es_min = False \n",
    "\n",
    "        clasificador.append(es_min)\n",
    "\n",
    "    sueldo_prom = sum(lista_sueldos) / len(lista_sueldos)\n",
    "\n",
    "    return[clasificador,sueldo_prom]       \n",
    "\n",
    "\n",
    "    "
   ]
  },
  {
   "cell_type": "code",
   "execution_count": 24,
   "id": "88d5ca39-dfc8-488d-8edf-ea901fedd7c7",
   "metadata": {},
   "outputs": [
    {
     "name": "stdout",
     "output_type": "stream",
     "text": [
      "[[True, True, False, False, False, False, False, True], 160.0]\n",
      "<class 'list'>\n",
      "[True, True, False, False, False, False, False, True]\n",
      "160.0\n"
     ]
    }
   ],
   "source": [
    "sueldos = [100,50,130,210,150,300,230,110]\n",
    "\n",
    "resultado_sueldos = supera_sueldo_min(lista_sueldos = sueldos, sueldo_min = 120)\n",
    "\n",
    "print(resultado_sueldos)\n",
    "print(type(resultado_sueldos))\n",
    "print(resultado_sueldos[0])\n",
    "print(resultado_sueldos[1])\n"
   ]
  },
  {
   "cell_type": "code",
   "execution_count": 26,
   "id": "9757cb79-cf72-402d-8bd8-1f7222ae4186",
   "metadata": {},
   "outputs": [
    {
     "name": "stdout",
     "output_type": "stream",
     "text": [
      "[False, False, False, True, False, True, False, False, False]\n",
      "270.6666666666667\n"
     ]
    }
   ],
   "source": [
    "sueldos_1 = [200,220,590,90,211,111,444,160,410]\n",
    "\n",
    "resultado_sueldos_1 = supera_sueldo_min(lista_sueldos = sueldos_1, sueldo_min = 120)\n",
    "\n",
    "print(resultado_sueldos_1[0])\n",
    "print(resultado_sueldos_1[1])"
   ]
  }
 ],
 "metadata": {
  "kernelspec": {
   "display_name": "Python 3 (ipykernel)",
   "language": "python",
   "name": "python3"
  },
  "language_info": {
   "codemirror_mode": {
    "name": "ipython",
    "version": 3
   },
   "file_extension": ".py",
   "mimetype": "text/x-python",
   "name": "python",
   "nbconvert_exporter": "python",
   "pygments_lexer": "ipython3",
   "version": "3.11.4"
  }
 },
 "nbformat": 4,
 "nbformat_minor": 5
}
