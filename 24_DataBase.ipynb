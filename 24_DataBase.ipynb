{
 "cells": [
  {
   "cell_type": "markdown",
   "id": "42d626eb",
   "metadata": {},
   "source": [
    "# SQLLite\n",
    "\n",
    "SQLite es probablemente la base de datos más sencilla para conectarse con una aplicación de Python, ya que no necesita instalar ningún módulo SQL de Python externo para hacerlo. De manera predeterminada, su instalación de Python contiene una biblioteca SQL de Python llamada sqlite3 que puede usar para interactuar con una base de datos SQLite.\n",
    "\n",
    "Además, las bases de datos SQLite no tienen servidor y son independientes, ya que leen y escriben datos en un archivo. Esto significa que, a diferencia de MySQL y PostgreSQL, ¡ni siquiera necesita instalar y ejecutar un servidor SQLite para realizar operaciones de base de datos!\n",
    "\n",
    "Miremos como conectarnos a sqlite3 con una base de datos en Python:"
   ]
  },
  {
   "cell_type": "code",
   "execution_count": 32,
   "id": "3ef41047",
   "metadata": {},
   "outputs": [],
   "source": [
    "import sqlite3\n",
    "from sqlite3 import Error # Importar librerias\n",
    "def create_connection(path): # Definir funcion crear conexion\n",
    "    connection = None\n",
    "    try:\n",
    "        connection = sqlite3.connect(path) # uso de connect() que recibe una ruta a la base de datos SQLLite (puede estar en la ram o no)\n",
    "        print(\"Conexion a SQLite DB exitosa\") # Si la conexion es exitosa se imprime\n",
    "    except Error as e: # Si existe algun error\n",
    "        print(f\"El error '{e}' ha ocurrido\") # mostrar el error\n",
    "    return connection"
   ]
  },
  {
   "cell_type": "markdown",
   "id": "066605b0",
   "metadata": {},
   "source": [
    "# Conexiones\n",
    "* ```sqlite3.connect(ruta)``` devuelve un objeto de conexión, que a su vez es devuelto por ```create_connection()```. \n",
    "* Este objeto de conexión se puede utilizar para ejecutar consultas en una base de datos SQLite. \n",
    "* El siguiente script crea una conexión a la base de datos SQLite:"
   ]
  },
  {
   "cell_type": "code",
   "execution_count": 33,
   "id": "8f6762a4",
   "metadata": {},
   "outputs": [
    {
     "name": "stdout",
     "output_type": "stream",
     "text": [
      "Conexion a SQLite DB exitosa\n"
     ]
    }
   ],
   "source": [
    "connection = create_connection(\"david.sqlite\")"
   ]
  },
  {
   "cell_type": "markdown",
   "id": "e41abde8",
   "metadata": {},
   "source": [
    "# Crear tablas SQL Lite\n",
    "\n",
    "* Para ejecutar consultas en SQLite, debemos usar ```cursor.execute()```. \n",
    "* Definiremos una función llamada ```execute_query()``` que usa este método. \n",
    "* Su función aceptará el objeto de conexión y una cadena de consulta, que pasará a ```cursor.execute()```.\n",
    "* ```.execute()``` puede ejecutar cualquier consulta que se le pase en forma de string. "
   ]
  },
  {
   "cell_type": "code",
   "execution_count": 34,
   "id": "33879b60",
   "metadata": {},
   "outputs": [],
   "source": [
    "def execute_query(connection, query):\n",
    "    cursor = connection.cursor()\n",
    "    try:\n",
    "        cursor.execute(query)\n",
    "        connection.commit()\n",
    "        print(\"Query ejecutado satisfactoriamente\")\n",
    "    except Error as e:\n",
    "        print(f\"El error '{e}' ha ocurrido\")"
   ]
  },
  {
   "cell_type": "code",
   "execution_count": 35,
   "id": "a04cc5fa",
   "metadata": {},
   "outputs": [],
   "source": [
    "# Armamos el QUERY\n",
    "crear_tabla_usuarios = \"\"\"\n",
    "CREATE TABLE IF NOT EXISTS users (\n",
    "  id INTEGER PRIMARY KEY AUTOINCREMENT,\n",
    "  name TEXT NOT NULL,\n",
    "  age INTEGER,\n",
    "  gender TEXT,\n",
    "  nationality TEXT\n",
    ");\n",
    "\"\"\""
   ]
  },
  {
   "cell_type": "code",
   "execution_count": 36,
   "id": "ec9fd451",
   "metadata": {},
   "outputs": [
    {
     "name": "stdout",
     "output_type": "stream",
     "text": [
      "Query ejecutado satisfactoriamente\n"
     ]
    }
   ],
   "source": [
    "# Ejecuto el query\n",
    "execute_query(connection, crear_tabla_usuarios) "
   ]
  },
  {
   "cell_type": "code",
   "execution_count": 37,
   "id": "7bcdc881",
   "metadata": {},
   "outputs": [],
   "source": [
    "# Creo query para generar segunda tabla\n",
    "crear_tabla_posts = \"\"\"\n",
    "CREATE TABLE IF NOT EXISTS posts(\n",
    "  id INTEGER PRIMARY KEY AUTOINCREMENT, \n",
    "  title TEXT NOT NULL, \n",
    "  description TEXT NOT NULL, \n",
    "  user_id INTEGER NOT NULL, \n",
    "  FOREIGN KEY (user_id) REFERENCES users (id)\n",
    ");\n",
    "\"\"\"\n",
    "# Dado que existe una relación de uno a muchos entre los usuarios y las publicaciones, \n",
    "# veran una clave externa user_id en la tabla de publicaciones que hace referencia \n",
    "# a la columna de identificación en la tabla de usuarios. "
   ]
  },
  {
   "cell_type": "code",
   "execution_count": 38,
   "id": "7356a62e",
   "metadata": {},
   "outputs": [
    {
     "name": "stdout",
     "output_type": "stream",
     "text": [
      "Query ejecutado satisfactoriamente\n"
     ]
    }
   ],
   "source": [
    "# Ejecuto el query\n",
    "execute_query(connection, crear_tabla_posts)"
   ]
  },
  {
   "cell_type": "code",
   "execution_count": 39,
   "id": "327b8e0b",
   "metadata": {},
   "outputs": [
    {
     "name": "stdout",
     "output_type": "stream",
     "text": [
      "Query ejecutado satisfactoriamente\n",
      "Query ejecutado satisfactoriamente\n"
     ]
    }
   ],
   "source": [
    "# Dos tablas mas: \n",
    "crear_tabla_comentarios = \"\"\"\n",
    "CREATE TABLE IF NOT EXISTS comments (\n",
    "  id INTEGER PRIMARY KEY AUTOINCREMENT, \n",
    "  text TEXT NOT NULL, \n",
    "  user_id INTEGER NOT NULL, \n",
    "  post_id INTEGER NOT NULL, \n",
    "  FOREIGN KEY (user_id) REFERENCES users (id) FOREIGN KEY (post_id) REFERENCES posts (id)\n",
    ");\n",
    "\"\"\"\n",
    "\n",
    "crear_tabla_likes = \"\"\"\n",
    "CREATE TABLE IF NOT EXISTS likes (\n",
    "  id INTEGER PRIMARY KEY AUTOINCREMENT, \n",
    "  user_id INTEGER NOT NULL, \n",
    "  post_id integer NOT NULL, \n",
    "  FOREIGN KEY (user_id) REFERENCES users (id) FOREIGN KEY (post_id) REFERENCES posts (id)\n",
    ");\n",
    "\"\"\"\n",
    "\n",
    "execute_query(connection, crear_tabla_comentarios)  \n",
    "execute_query(connection, crear_tabla_likes)     "
   ]
  },
  {
   "cell_type": "code",
   "execution_count": 40,
   "id": "aace297b",
   "metadata": {},
   "outputs": [
    {
     "name": "stdout",
     "output_type": "stream",
     "text": [
      "Query ejecutado satisfactoriamente\n"
     ]
    }
   ],
   "source": [
    "# Llenamos las tablas \n",
    "crear_usuarios = \"\"\"\n",
    "INSERT INTO\n",
    "  users (name, age, gender, nationality)\n",
    "VALUES\n",
    "  ('James', 25, 'hombre', 'USA'),\n",
    "  ('Leila', 32, 'mujer', 'France'),\n",
    "  ('Brigitte', 35, 'mujer', 'England'),\n",
    "  ('Mike', 40, 'hombre', 'Denmark'),\n",
    "  ('Elizabeth', 21, 'mujer', 'Canada');\n",
    "\"\"\"\n",
    "execute_query(connection, crear_usuarios)    "
   ]
  },
  {
   "cell_type": "code",
   "execution_count": 41,
   "id": "92a7ea40",
   "metadata": {},
   "outputs": [
    {
     "name": "stdout",
     "output_type": "stream",
     "text": [
      "Query ejecutado satisfactoriamente\n"
     ]
    }
   ],
   "source": [
    "crear_posts = \"\"\"\n",
    "INSERT INTO\n",
    "  posts (title, description, user_id)\n",
    "VALUES\n",
    "  (\"Feliz\", \"Me siento feliz hoy\", 1),\n",
    "  (\"Caliente\", \"El clima esta caliente hoy\", 2),\n",
    "  (\"Ayuda\", \"Necesito ayuda en esto\", 2),\n",
    "  (\"Buenas noticias\", \"Me casare pronto\", 1),\n",
    "  (\"Juego interesante\", \"Fue genial jugar al tenis\", 5),\n",
    "  (\"Fiesta\", \"Alguno quiere venir a esta fiesta hoy?\", 3);\n",
    "\"\"\"\n",
    "execute_query(connection, crear_posts)  "
   ]
  },
  {
   "cell_type": "code",
   "execution_count": 42,
   "id": "4b8a2954",
   "metadata": {},
   "outputs": [
    {
     "name": "stdout",
     "output_type": "stream",
     "text": [
      "Query ejecutado satisfactoriamente\n",
      "Query ejecutado satisfactoriamente\n"
     ]
    }
   ],
   "source": [
    "crear_comentarios = \"\"\"\n",
    "INSERT INTO\n",
    "  comments (text, user_id, post_id)\n",
    "VALUES\n",
    "  ('Cuenta conmigo', 1, 6),\n",
    "  ('Que tipo de ayuda?', 5, 3),\n",
    "  ('Felicitaciones', 2, 4),\n",
    "  ('Estuve jugando con Rafael', 4, 5),\n",
    "  ('Te ayudo con tu tesis?', 2, 3),\n",
    "  ('Muchas felicitaciones', 5, 4);\n",
    "\"\"\"\n",
    "\n",
    "crear_likes = \"\"\"\n",
    "INSERT INTO\n",
    "  likes (user_id, post_id)\n",
    "VALUES\n",
    "  (1, 6),\n",
    "  (2, 3),\n",
    "  (1, 5),\n",
    "  (5, 4),\n",
    "  (2, 4),\n",
    "  (4, 2),\n",
    "  (3, 6);\n",
    "\"\"\"\n",
    "\n",
    "execute_query(connection, crear_comentarios)\n",
    "execute_query(connection, crear_likes)  "
   ]
  },
  {
   "cell_type": "markdown",
   "id": "b2b8823e",
   "metadata": {},
   "source": [
    "# Selección de data\n",
    "Para trabajar en los análisis vistos hasta el momento, debemos conectarnos a la base de datos y obtener la información que necesitamos. "
   ]
  },
  {
   "cell_type": "code",
   "execution_count": 43,
   "id": "fb007179",
   "metadata": {},
   "outputs": [],
   "source": [
    "def execute_read_query(connection, query):\n",
    "    cursor = connection.cursor()\n",
    "    result = None\n",
    "    try:\n",
    "        cursor.execute(query)\n",
    "        result = cursor.fetchall()\n",
    "        return result\n",
    "    except Error as e:\n",
    "        print(f\"Error '{e}' ha ocurrido\")"
   ]
  },
  {
   "cell_type": "code",
   "execution_count": 44,
   "id": "f62f07f2",
   "metadata": {},
   "outputs": [
    {
     "data": {
      "text/plain": [
       "[(1, 'James', 25, 'hombre', 'USA'),\n",
       " (2, 'Leila', 32, 'mujer', 'France'),\n",
       " (3, 'Brigitte', 35, 'mujer', 'England'),\n",
       " (4, 'Mike', 40, 'hombre', 'Denmark'),\n",
       " (5, 'Elizabeth', 21, 'mujer', 'Canada'),\n",
       " (6, 'James', 25, 'hombre', 'USA'),\n",
       " (7, 'Leila', 32, 'mujer', 'France'),\n",
       " (8, 'Brigitte', 35, 'mujer', 'England'),\n",
       " (9, 'Mike', 40, 'hombre', 'Denmark'),\n",
       " (10, 'Elizabeth', 21, 'mujer', 'Canada')]"
      ]
     },
     "execution_count": 44,
     "metadata": {},
     "output_type": "execute_result"
    }
   ],
   "source": [
    "elegir_usuarios = \"SELECT * from users\"\n",
    "users = execute_read_query(connection, elegir_usuarios)\n",
    "\n",
    "users"
   ]
  },
  {
   "cell_type": "code",
   "execution_count": 45,
   "id": "9e069f5a",
   "metadata": {},
   "outputs": [
    {
     "data": {
      "text/plain": [
       "[(1, 'Feliz', 'Me siento feliz hoy', 1),\n",
       " (2, 'Caliente', 'El clima esta caliente hoy', 2),\n",
       " (3, 'Ayuda', 'Necesito ayuda en esto', 2),\n",
       " (4, 'Buenas noticias', 'Me casare pronto', 1),\n",
       " (5, 'Juego interesante', 'Fue genial jugar al tenis', 5),\n",
       " (6, 'Fiesta', 'Alguno quiere venir a esta fiesta hoy?', 3),\n",
       " (7, 'Feliz', 'Me siento feliz hoy', 1),\n",
       " (8, 'Caliente', 'El clima esta caliente hoy', 2),\n",
       " (9, 'Ayuda', 'Necesito ayuda en esto', 2),\n",
       " (10, 'Buenas noticias', 'Me casare pronto', 1),\n",
       " (11, 'Juego interesante', 'Fue genial jugar al tenis', 5),\n",
       " (12, 'Fiesta', 'Alguno quiere venir a esta fiesta hoy?', 3)]"
      ]
     },
     "execution_count": 45,
     "metadata": {},
     "output_type": "execute_result"
    }
   ],
   "source": [
    "elegir_posts = \"SELECT * FROM posts\"\n",
    "posts = execute_read_query(connection, elegir_posts)\n",
    "\n",
    "posts"
   ]
  },
  {
   "cell_type": "code",
   "execution_count": 46,
   "id": "96776d76",
   "metadata": {},
   "outputs": [
    {
     "data": {
      "text/plain": [
       "[(1, 'James', 'Me siento feliz hoy'),\n",
       " (2, 'Leila', 'El clima esta caliente hoy'),\n",
       " (2, 'Leila', 'Necesito ayuda en esto'),\n",
       " (1, 'James', 'Me casare pronto'),\n",
       " (5, 'Elizabeth', 'Fue genial jugar al tenis'),\n",
       " (3, 'Brigitte', 'Alguno quiere venir a esta fiesta hoy?'),\n",
       " (1, 'James', 'Me siento feliz hoy'),\n",
       " (2, 'Leila', 'El clima esta caliente hoy'),\n",
       " (2, 'Leila', 'Necesito ayuda en esto'),\n",
       " (1, 'James', 'Me casare pronto'),\n",
       " (5, 'Elizabeth', 'Fue genial jugar al tenis'),\n",
       " (3, 'Brigitte', 'Alguno quiere venir a esta fiesta hoy?')]"
      ]
     },
     "execution_count": 46,
     "metadata": {},
     "output_type": "execute_result"
    }
   ],
   "source": [
    "joins_usuarios_posts = \"\"\"\n",
    "SELECT\n",
    "  users.id,\n",
    "  users.name,\n",
    "  posts.description\n",
    "FROM\n",
    "  posts\n",
    "  INNER JOIN users ON users.id = posts.user_id\n",
    "\"\"\"\n",
    "\n",
    "usuarios_posts = execute_read_query(connection, joins_usuarios_posts)\n",
    "usuarios_posts"
   ]
  },
  {
   "cell_type": "code",
   "execution_count": 47,
   "id": "f88961d9",
   "metadata": {},
   "outputs": [],
   "source": [
    "# Para obtener nombre de columnas: \n",
    "cursor = connection.cursor()\n",
    "cursor.execute(joins_usuarios_posts)\n",
    "cursor.fetchall()\n",
    "\n",
    "columnas = [description[0] for description in cursor.description]"
   ]
  },
  {
   "cell_type": "code",
   "execution_count": 48,
   "id": "abd9d6d7",
   "metadata": {},
   "outputs": [
    {
     "data": {
      "text/plain": [
       "['id', 'name', 'description']"
      ]
     },
     "execution_count": 48,
     "metadata": {},
     "output_type": "execute_result"
    }
   ],
   "source": [
    "columnas"
   ]
  },
  {
   "cell_type": "code",
   "execution_count": 49,
   "id": "4bb6e0b2",
   "metadata": {},
   "outputs": [
    {
     "data": {
      "text/html": [
       "<div>\n",
       "<style scoped>\n",
       "    .dataframe tbody tr th:only-of-type {\n",
       "        vertical-align: middle;\n",
       "    }\n",
       "\n",
       "    .dataframe tbody tr th {\n",
       "        vertical-align: top;\n",
       "    }\n",
       "\n",
       "    .dataframe thead th {\n",
       "        text-align: right;\n",
       "    }\n",
       "</style>\n",
       "<table border=\"1\" class=\"dataframe\">\n",
       "  <thead>\n",
       "    <tr style=\"text-align: right;\">\n",
       "      <th></th>\n",
       "      <th>id</th>\n",
       "      <th>name</th>\n",
       "      <th>description</th>\n",
       "    </tr>\n",
       "  </thead>\n",
       "  <tbody>\n",
       "    <tr>\n",
       "      <th>0</th>\n",
       "      <td>1</td>\n",
       "      <td>James</td>\n",
       "      <td>Me siento feliz hoy</td>\n",
       "    </tr>\n",
       "    <tr>\n",
       "      <th>1</th>\n",
       "      <td>2</td>\n",
       "      <td>Leila</td>\n",
       "      <td>El clima esta caliente hoy</td>\n",
       "    </tr>\n",
       "    <tr>\n",
       "      <th>2</th>\n",
       "      <td>2</td>\n",
       "      <td>Leila</td>\n",
       "      <td>Necesito ayuda en esto</td>\n",
       "    </tr>\n",
       "    <tr>\n",
       "      <th>3</th>\n",
       "      <td>1</td>\n",
       "      <td>James</td>\n",
       "      <td>Me casare pronto</td>\n",
       "    </tr>\n",
       "    <tr>\n",
       "      <th>4</th>\n",
       "      <td>5</td>\n",
       "      <td>Elizabeth</td>\n",
       "      <td>Fue genial jugar al tenis</td>\n",
       "    </tr>\n",
       "    <tr>\n",
       "      <th>5</th>\n",
       "      <td>3</td>\n",
       "      <td>Brigitte</td>\n",
       "      <td>Alguno quiere venir a esta fiesta hoy?</td>\n",
       "    </tr>\n",
       "    <tr>\n",
       "      <th>6</th>\n",
       "      <td>1</td>\n",
       "      <td>James</td>\n",
       "      <td>Me siento feliz hoy</td>\n",
       "    </tr>\n",
       "    <tr>\n",
       "      <th>7</th>\n",
       "      <td>2</td>\n",
       "      <td>Leila</td>\n",
       "      <td>El clima esta caliente hoy</td>\n",
       "    </tr>\n",
       "    <tr>\n",
       "      <th>8</th>\n",
       "      <td>2</td>\n",
       "      <td>Leila</td>\n",
       "      <td>Necesito ayuda en esto</td>\n",
       "    </tr>\n",
       "    <tr>\n",
       "      <th>9</th>\n",
       "      <td>1</td>\n",
       "      <td>James</td>\n",
       "      <td>Me casare pronto</td>\n",
       "    </tr>\n",
       "    <tr>\n",
       "      <th>10</th>\n",
       "      <td>5</td>\n",
       "      <td>Elizabeth</td>\n",
       "      <td>Fue genial jugar al tenis</td>\n",
       "    </tr>\n",
       "    <tr>\n",
       "      <th>11</th>\n",
       "      <td>3</td>\n",
       "      <td>Brigitte</td>\n",
       "      <td>Alguno quiere venir a esta fiesta hoy?</td>\n",
       "    </tr>\n",
       "  </tbody>\n",
       "</table>\n",
       "</div>"
      ],
      "text/plain": [
       "    id       name                             description\n",
       "0    1      James                     Me siento feliz hoy\n",
       "1    2      Leila              El clima esta caliente hoy\n",
       "2    2      Leila                  Necesito ayuda en esto\n",
       "3    1      James                        Me casare pronto\n",
       "4    5  Elizabeth               Fue genial jugar al tenis\n",
       "5    3   Brigitte  Alguno quiere venir a esta fiesta hoy?\n",
       "6    1      James                     Me siento feliz hoy\n",
       "7    2      Leila              El clima esta caliente hoy\n",
       "8    2      Leila                  Necesito ayuda en esto\n",
       "9    1      James                        Me casare pronto\n",
       "10   5  Elizabeth               Fue genial jugar al tenis\n",
       "11   3   Brigitte  Alguno quiere venir a esta fiesta hoy?"
      ]
     },
     "execution_count": 49,
     "metadata": {},
     "output_type": "execute_result"
    }
   ],
   "source": [
    "import pandas as pd\n",
    "usuarios_posts_df = pd.DataFrame(usuarios_posts,\n",
    "                                 columns = columnas)\n",
    "usuarios_posts_df"
   ]
  },
  {
   "cell_type": "code",
   "execution_count": 51,
   "id": "2ea391b3",
   "metadata": {},
   "outputs": [
    {
     "data": {
      "text/plain": [
       "2.3333333333333335"
      ]
     },
     "execution_count": 51,
     "metadata": {},
     "output_type": "execute_result"
    }
   ],
   "source": [
    "usuarios_posts_df['id'].mean()"
   ]
  }
 ],
 "metadata": {
  "kernelspec": {
   "display_name": "Python 3 (ipykernel)",
   "language": "python",
   "name": "python3"
  },
  "language_info": {
   "codemirror_mode": {
    "name": "ipython",
    "version": 3
   },
   "file_extension": ".py",
   "mimetype": "text/x-python",
   "name": "python",
   "nbconvert_exporter": "python",
   "pygments_lexer": "ipython3",
   "version": "3.11.4"
  }
 },
 "nbformat": 4,
 "nbformat_minor": 5
}
