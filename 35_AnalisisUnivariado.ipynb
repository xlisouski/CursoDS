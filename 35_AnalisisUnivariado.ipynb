{
 "cells": [
  {
   "cell_type": "code",
   "execution_count": 62,
   "id": "bc0c8f70",
   "metadata": {},
   "outputs": [],
   "source": [
    "import pandas as pd\n",
    "import numpy as np\n",
    "import matplotlib as mpl\n",
    "import matplotlib.pyplot as plt\n",
    "import seaborn as sns"
   ]
  },
  {
   "cell_type": "code",
   "execution_count": 63,
   "id": "eff3260a",
   "metadata": {},
   "outputs": [],
   "source": [
    "# Levanto dataset\n",
    "url = 'https://raw.githubusercontent.com/xlisouski/DataCoder/main/train.csv'\n",
    "df = pd.read_csv(url, sep = ',')"
   ]
  },
  {
   "cell_type": "code",
   "execution_count": 64,
   "id": "dd51413d",
   "metadata": {},
   "outputs": [
    {
     "data": {
      "text/html": [
       "<div>\n",
       "<style scoped>\n",
       "    .dataframe tbody tr th:only-of-type {\n",
       "        vertical-align: middle;\n",
       "    }\n",
       "\n",
       "    .dataframe tbody tr th {\n",
       "        vertical-align: top;\n",
       "    }\n",
       "\n",
       "    .dataframe thead th {\n",
       "        text-align: right;\n",
       "    }\n",
       "</style>\n",
       "<table border=\"1\" class=\"dataframe\">\n",
       "  <thead>\n",
       "    <tr style=\"text-align: right;\">\n",
       "      <th></th>\n",
       "      <th>Id</th>\n",
       "      <th>MSSubClass</th>\n",
       "      <th>MSZoning</th>\n",
       "      <th>LotFrontage</th>\n",
       "      <th>LotArea</th>\n",
       "      <th>Street</th>\n",
       "      <th>Alley</th>\n",
       "      <th>LotShape</th>\n",
       "      <th>LandContour</th>\n",
       "      <th>Utilities</th>\n",
       "      <th>...</th>\n",
       "      <th>PoolArea</th>\n",
       "      <th>PoolQC</th>\n",
       "      <th>Fence</th>\n",
       "      <th>MiscFeature</th>\n",
       "      <th>MiscVal</th>\n",
       "      <th>MoSold</th>\n",
       "      <th>YrSold</th>\n",
       "      <th>SaleType</th>\n",
       "      <th>SaleCondition</th>\n",
       "      <th>SalePrice</th>\n",
       "    </tr>\n",
       "  </thead>\n",
       "  <tbody>\n",
       "    <tr>\n",
       "      <th>0</th>\n",
       "      <td>1</td>\n",
       "      <td>60</td>\n",
       "      <td>RL</td>\n",
       "      <td>65.0</td>\n",
       "      <td>8450</td>\n",
       "      <td>Pave</td>\n",
       "      <td>NaN</td>\n",
       "      <td>Reg</td>\n",
       "      <td>Lvl</td>\n",
       "      <td>AllPub</td>\n",
       "      <td>...</td>\n",
       "      <td>0</td>\n",
       "      <td>NaN</td>\n",
       "      <td>NaN</td>\n",
       "      <td>NaN</td>\n",
       "      <td>0</td>\n",
       "      <td>2</td>\n",
       "      <td>2008</td>\n",
       "      <td>WD</td>\n",
       "      <td>Normal</td>\n",
       "      <td>208500</td>\n",
       "    </tr>\n",
       "    <tr>\n",
       "      <th>1</th>\n",
       "      <td>2</td>\n",
       "      <td>20</td>\n",
       "      <td>RL</td>\n",
       "      <td>80.0</td>\n",
       "      <td>9600</td>\n",
       "      <td>Pave</td>\n",
       "      <td>NaN</td>\n",
       "      <td>Reg</td>\n",
       "      <td>Lvl</td>\n",
       "      <td>AllPub</td>\n",
       "      <td>...</td>\n",
       "      <td>0</td>\n",
       "      <td>NaN</td>\n",
       "      <td>NaN</td>\n",
       "      <td>NaN</td>\n",
       "      <td>0</td>\n",
       "      <td>5</td>\n",
       "      <td>2007</td>\n",
       "      <td>WD</td>\n",
       "      <td>Normal</td>\n",
       "      <td>181500</td>\n",
       "    </tr>\n",
       "    <tr>\n",
       "      <th>2</th>\n",
       "      <td>3</td>\n",
       "      <td>60</td>\n",
       "      <td>RL</td>\n",
       "      <td>68.0</td>\n",
       "      <td>11250</td>\n",
       "      <td>Pave</td>\n",
       "      <td>NaN</td>\n",
       "      <td>IR1</td>\n",
       "      <td>Lvl</td>\n",
       "      <td>AllPub</td>\n",
       "      <td>...</td>\n",
       "      <td>0</td>\n",
       "      <td>NaN</td>\n",
       "      <td>NaN</td>\n",
       "      <td>NaN</td>\n",
       "      <td>0</td>\n",
       "      <td>9</td>\n",
       "      <td>2008</td>\n",
       "      <td>WD</td>\n",
       "      <td>Normal</td>\n",
       "      <td>223500</td>\n",
       "    </tr>\n",
       "    <tr>\n",
       "      <th>3</th>\n",
       "      <td>4</td>\n",
       "      <td>70</td>\n",
       "      <td>RL</td>\n",
       "      <td>60.0</td>\n",
       "      <td>9550</td>\n",
       "      <td>Pave</td>\n",
       "      <td>NaN</td>\n",
       "      <td>IR1</td>\n",
       "      <td>Lvl</td>\n",
       "      <td>AllPub</td>\n",
       "      <td>...</td>\n",
       "      <td>0</td>\n",
       "      <td>NaN</td>\n",
       "      <td>NaN</td>\n",
       "      <td>NaN</td>\n",
       "      <td>0</td>\n",
       "      <td>2</td>\n",
       "      <td>2006</td>\n",
       "      <td>WD</td>\n",
       "      <td>Abnorml</td>\n",
       "      <td>140000</td>\n",
       "    </tr>\n",
       "    <tr>\n",
       "      <th>4</th>\n",
       "      <td>5</td>\n",
       "      <td>60</td>\n",
       "      <td>RL</td>\n",
       "      <td>84.0</td>\n",
       "      <td>14260</td>\n",
       "      <td>Pave</td>\n",
       "      <td>NaN</td>\n",
       "      <td>IR1</td>\n",
       "      <td>Lvl</td>\n",
       "      <td>AllPub</td>\n",
       "      <td>...</td>\n",
       "      <td>0</td>\n",
       "      <td>NaN</td>\n",
       "      <td>NaN</td>\n",
       "      <td>NaN</td>\n",
       "      <td>0</td>\n",
       "      <td>12</td>\n",
       "      <td>2008</td>\n",
       "      <td>WD</td>\n",
       "      <td>Normal</td>\n",
       "      <td>250000</td>\n",
       "    </tr>\n",
       "  </tbody>\n",
       "</table>\n",
       "<p>5 rows × 81 columns</p>\n",
       "</div>"
      ],
      "text/plain": [
       "   Id  MSSubClass MSZoning  LotFrontage  LotArea Street Alley LotShape  \\\n",
       "0   1          60       RL         65.0     8450   Pave   NaN      Reg   \n",
       "1   2          20       RL         80.0     9600   Pave   NaN      Reg   \n",
       "2   3          60       RL         68.0    11250   Pave   NaN      IR1   \n",
       "3   4          70       RL         60.0     9550   Pave   NaN      IR1   \n",
       "4   5          60       RL         84.0    14260   Pave   NaN      IR1   \n",
       "\n",
       "  LandContour Utilities  ... PoolArea PoolQC Fence MiscFeature MiscVal MoSold  \\\n",
       "0         Lvl    AllPub  ...        0    NaN   NaN         NaN       0      2   \n",
       "1         Lvl    AllPub  ...        0    NaN   NaN         NaN       0      5   \n",
       "2         Lvl    AllPub  ...        0    NaN   NaN         NaN       0      9   \n",
       "3         Lvl    AllPub  ...        0    NaN   NaN         NaN       0      2   \n",
       "4         Lvl    AllPub  ...        0    NaN   NaN         NaN       0     12   \n",
       "\n",
       "  YrSold  SaleType  SaleCondition  SalePrice  \n",
       "0   2008        WD         Normal     208500  \n",
       "1   2007        WD         Normal     181500  \n",
       "2   2008        WD         Normal     223500  \n",
       "3   2006        WD        Abnorml     140000  \n",
       "4   2008        WD         Normal     250000  \n",
       "\n",
       "[5 rows x 81 columns]"
      ]
     },
     "execution_count": 64,
     "metadata": {},
     "output_type": "execute_result"
    }
   ],
   "source": [
    "df.head()"
   ]
  },
  {
   "cell_type": "markdown",
   "id": "bf89b5bd",
   "metadata": {},
   "source": [
    "# Histogramas\n",
    "\n",
    "## Tipo de variable: numérica\n",
    "\n",
    "El histograma es una técnica gráfica utilizada para presentar gran cantidad de datos. Se le atribuye a Karl Pearson en 1895. El histograma puede ser: de **frecuencias absolutas, de frecuencias relativas, de frecuencias absolutas acumuladas y de frecuencias relativas acumuladas**. Para la construcción del histograma se requiere elaborar una tabla de distribución de frecuencias, lo cual se desarrollará a continuación.\n",
    "\n",
    "El gráfico de la distribución de frecuencias, se llama histograma. El histograma de frecuencias es una representación visual de los datos en donde se evidencian fundamentalmente tres características: **forma, acumulación o tendencia posicional y dispersión o variabilidad**.\n",
    "\n",
    "El histograma (de frecuencias) en si es una sucesión de rectángulos construidos sobre un sistema de coordenadas de la siguiente manera:\n",
    "\n",
    "1. Las bases de los rectángulos se localizan en el eje horizontal. La longitud de la base es igual al ancho del intervalo.\n",
    "2. Las alturas de los rectángulos se registran sobre el eje vertical y corresponden a las frecuencias de los intervalos.\n",
    "3. Las áreas de los rectángulos son proporcionales a las frecuencias de las clases.\n",
    "\n",
    "$$k= 1 + 3.3 log_{10} (n)$$\n"
   ]
  },
  {
   "cell_type": "markdown",
   "id": "bc32f54e",
   "metadata": {},
   "source": [
    "## Variable de ejemplo a estudiar\n",
    "A los efectos de presentar un ejemplo estudiaremos la variable **LotArea**"
   ]
  },
  {
   "cell_type": "code",
   "execution_count": 65,
   "id": "b4bbefe0",
   "metadata": {},
   "outputs": [
    {
     "data": {
      "image/png": "[encoded data removed]",
      "text/plain": [
       "<Figure size 640x480 with 1 Axes>"
      ]
     },
     "metadata": {},
     "output_type": "display_data"
    }
   ],
   "source": [
    "# Histograma con frecuencias absolutas \n",
    "sns.histplot(df['LotArea'], \n",
    "             kde = False,\n",
    "             bins = 30,            \n",
    "             alpha = 0.3) \n",
    "plt.title('Histograma de LotArea')\n",
    "plt.show()"
   ]
  },
  {
   "cell_type": "code",
   "execution_count": 66,
   "id": "c9f4409d",
   "metadata": {},
   "outputs": [
    {
     "data": {
      "image/png": "[encoded data removed]",
      "text/plain": [
       "<Figure size 640x480 with 1 Axes>"
      ]
     },
     "metadata": {},
     "output_type": "display_data"
    }
   ],
   "source": [
    "# Histograma con frecuencias relativas \n",
    "sns.histplot(df['LotArea'], \n",
    "             kde = False,\n",
    "             bins = 30,            \n",
    "             alpha = 0.3,\n",
    "             stat = 'probability') \n",
    "plt.title('Histograma de LotArea')\n",
    "plt.show()"
   ]
  },
  {
   "cell_type": "code",
   "execution_count": 67,
   "id": "96efd64e",
   "metadata": {},
   "outputs": [
    {
     "data": {
      "image/png": "[encoded data removed]",
      "text/plain": [
       "<Figure size 640x480 with 1 Axes>"
      ]
     },
     "metadata": {},
     "output_type": "display_data"
    }
   ],
   "source": [
    "# Histograma con curva de densidad \n",
    "sns.histplot(df['LotArea'], \n",
    "             kde = True,\n",
    "             bins = 30,            \n",
    "             alpha = 0.3,\n",
    "             stat = 'probability') \n",
    "plt.title('Histograma de LotArea')\n",
    "plt.show()"
   ]
  },
  {
   "cell_type": "code",
   "execution_count": 68,
   "id": "9e178379",
   "metadata": {},
   "outputs": [
    {
     "data": {
      "image/png": "[encoded data removed]",
      "text/plain": [
       "<Figure size 640x480 with 1 Axes>"
      ]
     },
     "metadata": {},
     "output_type": "display_data"
    }
   ],
   "source": [
    "# Histograma con curva de densidad de frecuencias acumuladas\n",
    "sns.histplot(df['LotArea'], \n",
    "             kde = True,\n",
    "             bins = 30,            \n",
    "             alpha = 0.3,\n",
    "             stat = 'probability',\n",
    "             cumulative = True) \n",
    "plt.title('Distribución acumulada de LotArea')\n",
    "plt.show()"
   ]
  },
  {
   "cell_type": "markdown",
   "id": "c26228a9",
   "metadata": {},
   "source": [
    "# Boxplots"
   ]
  },
  {
   "cell_type": "code",
   "execution_count": 69,
   "id": "d83095e4",
   "metadata": {},
   "outputs": [
    {
     "data": {
      "application/vnd.plotly.v1+json": {
       "config": {
        "plotlyServerURL": "https://plot.ly"
       },
       "data": [
        {
         "alignmentgroup": "True",
         "hovertemplate": "LotArea=%{x}<extra></extra>",
         "legendgroup": "",
         "marker": {
          "color": "#636efa"
         },
         "name": "",
         "notched": false,
         "offsetgroup": "",
         "orientation": "h",
         "showlegend": false,
         "type": "box",
         "x": [
          8450,
          9600,
          11250,
          9550,
          14260,
          14115,
          10084,
          10382,
          6120,
          7420,
          11200,
          11924,
          12968,
          10652,
          10920,
          6120,
          11241,
          10791,
          13695,
          7560,
          14215,
          7449,
          9742,
          4224,
          8246,
          14230,
          7200,
          11478,
          16321,
          6324,
          8500,
          8544,
          11049,
          10552,
          7313,
          13418,
          10859,
          8532,
          7922,
          6040,
          8658,
          16905,
          9180,
          9200,
          7945,
          7658,
          12822,
          11096,
          4456,
          7742,
          13869,
          6240,
          8472,
          50271,
          7134,
          10175,
          2645,
          11645,
          13682,
          7200,
          13072,
          7200,
          6442,
          10300,
          9375,
          9591,
          19900,
          10665,
          4608,
          15593,
          13651,
          7599,
          10141,
          10200,
          5790,
          1596,
          8475,
          8635,
          10778,
          10440,
          13000,
          4500,
          10206,
          8892,
          8530,
          16059,
          11911,
          3951,
          8470,
          8070,
          7200,
          8500,
          13360,
          7200,
          9337,
          9765,
          10264,
          10921,
          10625,
          9320,
          10603,
          9206,
          7018,
          10402,
          7758,
          9375,
          10800,
          6000,
          8500,
          11751,
          9525,
          7750,
          9965,
          21000,
          7259,
          3230,
          11616,
          8536,
          12376,
          8461,
          21453,
          6060,
          9464,
          7892,
          17043,
          6780,
          4928,
          4388,
          7590,
          8973,
          14200,
          12224,
          7388,
          6853,
          10335,
          10400,
          10355,
          11070,
          9066,
          15426,
          10500,
          11645,
          8520,
          10335,
          9100,
          2522,
          6120,
          9505,
          7500,
          6240,
          10356,
          13891,
          14803,
          13500,
          11340,
          9600,
          7200,
          12003,
          12552,
          19378,
          11120,
          13688,
          12182,
          5500,
          5400,
          10106,
          10708,
          10562,
          8244,
          16669,
          12358,
          31770,
          5306,
          10197,
          12416,
          12615,
          10029,
          13650,
          17423,
          8520,
          2117,
          7588,
          9060,
          11426,
          7438,
          22950,
          9947,
          10410,
          7018,
          4923,
          10570,
          7472,
          9017,
          2522,
          7180,
          2280,
          9416,
          25419,
          5520,
          9591,
          8546,
          10125,
          7000,
          4438,
          3500,
          11851,
          13673,
          12493,
          14364,
          8250,
          5604,
          10420,
          8640,
          13568,
          10900,
          10011,
          8450,
          9906,
          15660,
          3010,
          8990,
          8068,
          11475,
          10500,
          13472,
          1680,
          9950,
          1869,
          8521,
          3182,
          8760,
          15138,
          1680,
          10650,
          7851,
          1680,
          8773,
          9453,
          12030,
          8741,
          9000,
          3880,
          5000,
          10762,
          8880,
          10400,
          9142,
          11310,
          11317,
          159000,
          5350,
          4750,
          8366,
          9350,
          8400,
          8738,
          8791,
          8814,
          12435,
          12702,
          19296,
          9588,
          8471,
          5500,
          5232,
          12090,
          11207,
          8400,
          6900,
          7917,
          10728,
          39104,
          11764,
          9600,
          8314,
          7264,
          9196,
          19138,
          14450,
          10005,
          11287,
          7200,
          5063,
          9612,
          8012,
          4251,
          9786,
          8125,
          9819,
          8730,
          15611,
          5687,
          11409,
          16659,
          9600,
          7937,
          13710,
          7399,
          11700,
          14000,
          15750,
          16226,
          13704,
          9800,
          18386,
          10386,
          13474,
          7920,
          12342,
          12378,
          7685,
          8000,
          7800,
          215245,
          9600,
          7795,
          13005,
          9000,
          9900,
          14115,
          16259,
          12099,
          10380,
          5820,
          11275,
          5000,
          10846,
          11600,
          11888,
          6402,
          10624,
          8176,
          10655,
          8198,
          9042,
          164660,
          14157,
          9135,
          14145,
          12400,
          14191,
          8400,
          8544,
          8849,
          2592,
          6435,
          12772,
          17600,
          2448,
          20431,
          7820,
          5271,
          9084,
          8520,
          8400,
          11249,
          9248,
          4224,
          6930,
          12011,
          7540,
          9144,
          7301,
          1680,
          18800,
          10690,
          9500,
          9150,
          7800,
          9830,
          8121,
          17120,
          7175,
          10634,
          8200,
          10020,
          8846,
          11143,
          11394,
          8123,
          5000,
          7200,
          9245,
          9000,
          53107,
          3182,
          8410,
          7200,
          9382,
          12474,
          8405,
          12209,
          8339,
          7446,
          10134,
          9571,
          7200,
          7590,
          8967,
          8125,
          14963,
          8767,
          10200,
          12090,
          10364,
          9991,
          10480,
          15576,
          14154,
          10800,
          9571,
          34650,
          4403,
          8960,
          11228,
          8899,
          7844,
          22420,
          8160,
          8450,
          7060,
          16635,
          21750,
          9200,
          9000,
          3378,
          12800,
          8593,
          6762,
          11457,
          1680,
          5586,
          1920,
          10839,
          1890,
          10667,
          4400,
          6000,
          4280,
          12354,
          15431,
          12108,
          6240,
          3922,
          8750,
          9855,
          16492,
          11214,
          8600,
          6000,
          5684,
          70761,
          9303,
          9000,
          9297,
          9600,
          4571,
          53227,
          5100,
          7015,
          8004,
          7200,
          8281,
          11988,
          8430,
          3072,
          10628,
          9480,
          11428,
          9291,
          6820,
          11952,
          3675,
          14977,
          5330,
          8480,
          13125,
          13693,
          10637,
          5925,
          16033,
          11846,
          2500,
          4500,
          7758,
          9600,
          10289,
          12243,
          10800,
          1526,
          2665,
          9490,
          15578,
          7931,
          5784,
          7879,
          12692,
          9120,
          7800,
          7535,
          1890,
          9803,
          9170,
          15602,
          2308,
          7596,
          9554,
          7862,
          9600,
          9600,
          14559,
          6792,
          9100,
          9187,
          10594,
          12220,
          10448,
          10208,
          9531,
          10918,
          10800,
          11988,
          5000,
          40094,
          11787,
          7500,
          13300,
          14948,
          9098,
          32668,
          10200,
          6155,
          7200,
          5000,
          9056,
          7000,
          8924,
          12735,
          11553,
          11423,
          14601,
          11000,
          10140,
          4058,
          17104,
          13837,
          8737,
          7244,
          8235,
          9375,
          4043,
          6000,
          11146,
          8777,
          10625,
          6380,
          14850,
          11040,
          21872,
          3196,
          11341,
          10010,
          13907,
          21780,
          13346,
          6858,
          11198,
          10171,
          12327,
          7032,
          13101,
          7332,
          13159,
          9967,
          10500,
          8480,
          6292,
          11777,
          3604,
          12150,
          14585,
          12704,
          11841,
          13500,
          6120,
          11443,
          10267,
          8740,
          25095,
          9100,
          8320,
          13478,
          6600,
          4435,
          7990,
          11302,
          3600,
          3922,
          12984,
          1950,
          10927,
          9000,
          10041,
          3182,
          12803,
          13600,
          12464,
          7800,
          12168,
          7943,
          11050,
          10395,
          11885,
          8402,
          1491,
          8800,
          7861,
          7227,
          11694,
          12244,
          8248,
          10800,
          7064,
          2117,
          10400,
          10000,
          12342,
          9600,
          11606,
          9020,
          9000,
          4590,
          11900,
          9250,
          6979,
          10896,
          6120,
          6000,
          8777,
          3982,
          12677,
          7050,
          13860,
          10793,
          9187,
          10530,
          7200,
          10452,
          7700,
          1936,
          8125,
          9084,
          8750,
          10320,
          10437,
          1680,
          10007,
          7200,
          17503,
          9937,
          12384,
          46589,
          13560,
          10012,
          20896,
          11194,
          18450,
          8125,
          14175,
          11600,
          8633,
          6629,
          11250,
          14442,
          9200,
          2289,
          9600,
          9022,
          11844,
          9945,
          8012,
          4500,
          2887,
          11248,
          16770,
          5062,
          10207,
          5105,
          8089,
          7577,
          4426,
          21535,
          26178,
          5400,
          6120,
          13811,
          6000,
          6420,
          8450,
          4282,
          14331,
          9600,
          12438,
          7630,
          8400,
          5600,
          115149,
          6240,
          9018,
          7162,
          4130,
          8712,
          4671,
          9873,
          13517,
          10140,
          10800,
          10000,
          10542,
          9920,
          6563,
          4426,
          8120,
          8172,
          13286,
          6960,
          21695,
          7314,
          11475,
          6240,
          5389,
          9590,
          11404,
          10000,
          8978,
          10800,
          8544,
          10463,
          10800,
          9313,
          9600,
          6768,
          8450,
          12886,
          5395,
          8963,
          8795,
          11700,
          10593,
          8405,
          8800,
          7750,
          9236,
          10240,
          7930,
          3230,
          10769,
          11616,
          2280,
          12257,
          9100,
          6911,
          8640,
          9430,
          9549,
          14587,
          10421,
          12508,
          9100,
          53504,
          7252,
          8877,
          7819,
          10150,
          14226,
          4500,
          11210,
          13350,
          8400,
          10530,
          7875,
          7153,
          16285,
          9101,
          6300,
          9790,
          10800,
          10142,
          6000,
          12205,
          3182,
          11333,
          9920,
          9158,
          10832,
          8400,
          8197,
          7677,
          13518,
          7200,
          12798,
          4800,
          8199,
          13891,
          9000,
          12274,
          9750,
          21384,
          13400,
          8100,
          10140,
          4438,
          8712,
          9750,
          8248,
          12137,
          11425,
          13265,
          8816,
          6371,
          7226,
          6000,
          12394,
          9900,
          11216,
          14803,
          6130,
          8529,
          28698,
          2544,
          11900,
          3180,
          9548,
          10004,
          7875,
          9600,
          8100,
          1680,
          9525,
          11767,
          12155,
          10440,
          9020,
          8000,
          12665,
          16647,
          9317,
          15523,
          45600,
          9600,
          4435,
          3196,
          7128,
          12095,
          17920,
          6897,
          10970,
          8125,
          10400,
          11029,
          7642,
          11625,
          9672,
          7931,
          8640,
          8750,
          10656,
          6970,
          14762,
          9938,
          6600,
          8750,
          8892,
          12144,
          5720,
          9000,
          25286,
          8834,
          11782,
          7000,
          7024,
          13758,
          9636,
          6204,
          7150,
          5119,
          8393,
          16466,
          15865,
          12160,
          8064,
          11184,
          8414,
          13284,
          7018,
          7056,
          8765,
          7018,
          12919,
          6993,
          7340,
          8712,
          7875,
          14859,
          6173,
          9920,
          13501,
          11500,
          8885,
          12589,
          11600,
          9286,
          6120,
          6270,
          3000,
          2001,
          9000,
          17140,
          13125,
          11029,
          8462,
          8777,
          10237,
          8012,
          10240,
          15611,
          11999,
          9900,
          11838,
          13006,
          8925,
          9100,
          11670,
          8487,
          27650,
          5825,
          10083,
          9675,
          8760,
          24090,
          12640,
          8755,
          7711,
          25000,
          14375,
          8820,
          8163,
          14536,
          14006,
          9360,
          7200,
          7800,
          7200,
          11075,
          9400,
          7136,
          1300,
          7420,
          8450,
          2572,
          7207,
          12227,
          2308,
          11923,
          11316,
          10237,
          9600,
          7390,
          5925,
          10382,
          10800,
          2268,
          7892,
          11639,
          11414,
          2651,
          5900,
          4274,
          9450,
          8816,
          12122,
          12203,
          3182,
          11250,
          10125,
          10880,
          5310,
          10159,
          12046,
          8125,
          9452,
          17671,
          9760,
          8846,
          12456,
          4712,
          10659,
          11717,
          9786,
          6762,
          10206,
          5400,
          11957,
          11500,
          3182,
          8385,
          12155,
          2217,
          12118,
          6000,
          21286,
          9825,
          10592,
          7200,
          11664,
          8400,
          11883,
          5814,
          10784,
          3013,
          7024,
          7406,
          9439,
          3182,
          15498,
          7700,
          9300,
          9520,
          9492,
          1680,
          7082,
          15863,
          14541,
          8125,
          6305,
          11500,
          12898,
          9240,
          1533,
          1477,
          13125,
          9130,
          5381,
          11839,
          9600,
          13680,
          16056,
          9245,
          21750,
          11100,
          8993,
          11175,
          9500,
          8562,
          11367,
          11361,
          7052,
          29959,
          11308,
          11275,
          4920,
          18000,
          13600,
          6000,
          11000,
          14000,
          7837,
          9760,
          3964,
          9600,
          10152,
          11700,
          7585,
          7950,
          8556,
          13125,
          10800,
          15870,
          4435,
          8775,
          11040,
          7500,
          8749,
          8800,
          13031,
          9069,
          1974,
          10574,
          2522,
          3316,
          8544,
          2160,
          8400,
          9230,
          5868,
          9317,
          6882,
          3696,
          6000,
          11880,
          8400,
          9758,
          7000,
          8910,
          2016,
          12256,
          10357,
          23257,
          8063,
          11362,
          8000,
          10480,
          7100,
          8923,
          5400,
          12085,
          7750,
          9764,
          13825,
          7560,
          8263,
          10084,
          8926,
          9405,
          9125,
          10434,
          3684,
          14572,
          11796,
          7200,
          7804,
          10712,
          9900,
          9828,
          8773,
          6180,
          9600,
          6342,
          9819,
          8731,
          7350,
          10304,
          9965,
          9000,
          12180,
          6240,
          11200,
          12000,
          5700,
          9000,
          8280,
          17755,
          14115,
          5890,
          13700,
          10768,
          9350,
          5001,
          11932,
          9120,
          2280,
          14778,
          8724,
          12900,
          16157,
          9541,
          10475,
          10852,
          13728,
          35760,
          9880,
          9120,
          4017,
          18030,
          16560,
          10678,
          6951,
          3950,
          7681,
          8335,
          11170,
          5587,
          15623,
          10800,
          35133,
          9738,
          10615,
          12461,
          8935,
          7500,
          32463,
          2645,
          9600,
          4500,
          9364,
          8029,
          14054,
          8850,
          9100,
          11235,
          9353,
          10400,
          6000,
          9750,
          10140,
          14684,
          8900,
          9135,
          7763,
          10182,
          11218,
          12134,
          9340,
          10246,
          10205,
          7094,
          8930,
          8640,
          6240,
          1680,
          7800,
          8250,
          10496,
          10680,
          15384,
          10482,
          14598,
          8872,
          8769,
          7910,
          18890,
          7728,
          9842,
          12160,
          8525,
          13132,
          2628,
          12393,
          13072,
          9037,
          8158,
          9849,
          10625,
          13891,
          11435,
          12090,
          8125,
          12328,
          9600,
          7200,
          11160,
          3136,
          9858,
          17542,
          6931,
          6240,
          14303,
          4060,
          9587,
          9750,
          24682,
          9600,
          11250,
          13515,
          4060,
          3735,
          10120,
          13214,
          14100,
          11344,
          23595,
          9156,
          13526,
          11512,
          5362,
          11345,
          12936,
          17871,
          9473,
          7500,
          9808,
          8049,
          8800,
          9400,
          9638,
          6000,
          9790,
          36500,
          5664,
          11065,
          14112,
          1680,
          6600,
          10140,
          8172,
          8400,
          8700,
          3675,
          63887,
          7500,
          10762,
          7500,
          10120,
          8688,
          3363,
          13173,
          6955,
          8072,
          12000,
          7153,
          17500,
          8814,
          9572,
          14774,
          8190,
          11075,
          10226,
          4230,
          14781,
          10215,
          8400,
          6627,
          10186,
          5330,
          9986,
          3636,
          4270,
          6600,
          10440,
          9084,
          10000,
          10780,
          8877,
          7200,
          2368,
          9650,
          9246,
          4118,
          13450,
          9560,
          8294,
          13695,
          9375,
          7558,
          11103,
          6000,
          20781,
          15306,
          16196,
          5250,
          11643,
          9247,
          6000,
          14720,
          10316,
          10192,
          9477,
          12537,
          2117,
          16737,
          9842,
          16158,
          12513,
          8499,
          3180,
          7500,
          9179,
          2665,
          4435,
          10635,
          5400,
          9600,
          9750,
          11400,
          10625,
          10991,
          6292,
          10998,
          1953,
          9735,
          8212,
          12925,
          7200,
          25339,
          9060,
          5436,
          16692,
          8520,
          14892,
          6000,
          9100,
          8944,
          7838,
          10800,
          4045,
          12665,
          57200,
          6120,
          7200,
          6171,
          6000,
          7415,
          6762,
          15256,
          10410,
          3842,
          8445,
          8780,
          7740,
          20544,
          12420,
          9600,
          7200,
          10994,
          13053,
          3635,
          11340,
          16545,
          9204,
          16381,
          11700,
          4043,
          4435,
          19690,
          9503,
          10721,
          10944,
          10930,
          7200,
          12546,
          21930,
          4928,
          10800,
          10261,
          17400,
          8400,
          9000,
          12444,
          7407,
          11584,
          11526,
          4426,
          11003,
          8854,
          8500,
          8400,
          26142,
          10000,
          11767,
          1533,
          9000,
          9262,
          3675,
          17217,
          7500,
          7917,
          13175,
          9042,
          9717,
          9937
         ],
         "x0": " ",
         "xaxis": "x",
         "y0": " ",
         "yaxis": "y"
        }
       ],
       "layout": {
        "boxmode": "group",
        "legend": {
         "tracegroupgap": 0
        },
        "margin": {
         "t": 60
        },
        "template": {
         "data": {
          "bar": [
           {
            "error_x": {
             "color": "#2a3f5f"
            },
            "error_y": {
             "color": "#2a3f5f"
            },
            "marker": {
             "line": {
              "color": "#E5ECF6",
              "width": 0.5
             },
             "pattern": {
              "fillmode": "overlay",
              "size": 10,
              "solidity": 0.2
             }
            },
            "type": "bar"
           }
          ],
          "barpolar": [
           {
            "marker": {
             "line": {
              "color": "#E5ECF6",
              "width": 0.5
             },
             "pattern": {
              "fillmode": "overlay",
              "size": 10,
              "solidity": 0.2
             }
            },
            "type": "barpolar"
           }
          ],
          "carpet": [
           {
            "aaxis": {
             "endlinecolor": "#2a3f5f",
             "gridcolor": "white",
             "linecolor": "white",
             "minorgridcolor": "white",
             "startlinecolor": "#2a3f5f"
            },
            "baxis": {
             "endlinecolor": "#2a3f5f",
             "gridcolor": "white",
             "linecolor": "white",
             "minorgridcolor": "white",
             "startlinecolor": "#2a3f5f"
            },
            "type": "carpet"
           }
          ],
          "choropleth": [
           {
            "colorbar": {
             "outlinewidth": 0,
             "ticks": ""
            },
            "type": "choropleth"
           }
          ],
          "contour": [
           {
            "colorbar": {
             "outlinewidth": 0,
             "ticks": ""
            },
            "colorscale": [
             [
              0,
              "#0d0887"
             ],
             [
              0.1111111111111111,
              "#46039f"
             ],
             [
              0.2222222222222222,
              "#7201a8"
             ],
             [
              0.3333333333333333,
              "#9c179e"
             ],
             [
              0.4444444444444444,
              "#bd3786"
             ],
             [
              0.5555555555555556,
              "#d8576b"
             ],
             [
              0.6666666666666666,
              "#ed7953"
             ],
             [
              0.7777777777777778,
              "#fb9f3a"
             ],
             [
              0.8888888888888888,
              "#fdca26"
             ],
             [
              1,
              "#f0f921"
             ]
            ],
            "type": "contour"
           }
          ],
          "contourcarpet": [
           {
            "colorbar": {
             "outlinewidth": 0,
             "ticks": ""
            },
            "type": "contourcarpet"
           }
          ],
          "heatmap": [
           {
            "colorbar": {
             "outlinewidth": 0,
             "ticks": ""
            },
            "colorscale": [
             [
              0,
              "#0d0887"
             ],
             [
              0.1111111111111111,
              "#46039f"
             ],
             [
              0.2222222222222222,
              "#7201a8"
             ],
             [
              0.3333333333333333,
              "#9c179e"
             ],
             [
              0.4444444444444444,
              "#bd3786"
             ],
             [
              0.5555555555555556,
              "#d8576b"
             ],
             [
              0.6666666666666666,
              "#ed7953"
             ],
             [
              0.7777777777777778,
              "#fb9f3a"
             ],
             [
              0.8888888888888888,
              "#fdca26"
             ],
             [
              1,
              "#f0f921"
             ]
            ],
            "type": "heatmap"
           }
          ],
          "heatmapgl": [
           {
            "colorbar": {
             "outlinewidth": 0,
             "ticks": ""
            },
            "colorscale": [
             [
              0,
              "#0d0887"
             ],
             [
              0.1111111111111111,
              "#46039f"
             ],
             [
              0.2222222222222222,
              "#7201a8"
             ],
             [
              0.3333333333333333,
              "#9c179e"
             ],
             [
              0.4444444444444444,
              "#bd3786"
             ],
             [
              0.5555555555555556,
              "#d8576b"
             ],
             [
              0.6666666666666666,
              "#ed7953"
             ],
             [
              0.7777777777777778,
              "#fb9f3a"
             ],
             [
              0.8888888888888888,
              "#fdca26"
             ],
             [
              1,
              "#f0f921"
             ]
            ],
            "type": "heatmapgl"
           }
          ],
          "histogram": [
           {
            "marker": {
             "pattern": {
              "fillmode": "overlay",
              "size": 10,
              "solidity": 0.2
             }
            },
            "type": "histogram"
           }
          ],
          "histogram2d": [
           {
            "colorbar": {
             "outlinewidth": 0,
             "ticks": ""
            },
            "colorscale": [
             [
              0,
              "#0d0887"
             ],
             [
              0.1111111111111111,
              "#46039f"
             ],
             [
              0.2222222222222222,
              "#7201a8"
             ],
             [
              0.3333333333333333,
              "#9c179e"
             ],
             [
              0.4444444444444444,
              "#bd3786"
             ],
             [
              0.5555555555555556,
              "#d8576b"
             ],
             [
              0.6666666666666666,
              "#ed7953"
             ],
             [
              0.7777777777777778,
              "#fb9f3a"
             ],
             [
              0.8888888888888888,
              "#fdca26"
             ],
             [
              1,
              "#f0f921"
             ]
            ],
            "type": "histogram2d"
           }
          ],
          "histogram2dcontour": [
           {
            "colorbar": {
             "outlinewidth": 0,
             "ticks": ""
            },
            "colorscale": [
             [
              0,
              "#0d0887"
             ],
             [
              0.1111111111111111,
              "#46039f"
             ],
             [
              0.2222222222222222,
              "#7201a8"
             ],
             [
              0.3333333333333333,
              "#9c179e"
             ],
             [
              0.4444444444444444,
              "#bd3786"
             ],
             [
              0.5555555555555556,
              "#d8576b"
             ],
             [
              0.6666666666666666,
              "#ed7953"
             ],
             [
              0.7777777777777778,
              "#fb9f3a"
             ],
             [
              0.8888888888888888,
              "#fdca26"
             ],
             [
              1,
              "#f0f921"
             ]
            ],
            "type": "histogram2dcontour"
           }
          ],
          "mesh3d": [
           {
            "colorbar": {
             "outlinewidth": 0,
             "ticks": ""
            },
            "type": "mesh3d"
           }
          ],
          "parcoords": [
           {
            "line": {
             "colorbar": {
              "outlinewidth": 0,
              "ticks": ""
             }
            },
            "type": "parcoords"
           }
          ],
          "pie": [
           {
            "automargin": true,
            "type": "pie"
           }
          ],
          "scatter": [
           {
            "fillpattern": {
             "fillmode": "overlay",
             "size": 10,
             "solidity": 0.2
            },
            "type": "scatter"
           }
          ],
          "scatter3d": [
           {
            "line": {
             "colorbar": {
              "outlinewidth": 0,
              "ticks": ""
             }
            },
            "marker": {
             "colorbar": {
              "outlinewidth": 0,
              "ticks": ""
             }
            },
            "type": "scatter3d"
           }
          ],
          "scattercarpet": [
           {
            "marker": {
             "colorbar": {
              "outlinewidth": 0,
              "ticks": ""
             }
            },
            "type": "scattercarpet"
           }
          ],
          "scattergeo": [
           {
            "marker": {
             "colorbar": {
              "outlinewidth": 0,
              "ticks": ""
             }
            },
            "type": "scattergeo"
           }
          ],
          "scattergl": [
           {
            "marker": {
             "colorbar": {
              "outlinewidth": 0,
              "ticks": ""
             }
            },
            "type": "scattergl"
           }
          ],
          "scattermapbox": [
           {
            "marker": {
             "colorbar": {
              "outlinewidth": 0,
              "ticks": ""
             }
            },
            "type": "scattermapbox"
           }
          ],
          "scatterpolar": [
           {
            "marker": {
             "colorbar": {
              "outlinewidth": 0,
              "ticks": ""
             }
            },
            "type": "scatterpolar"
           }
          ],
          "scatterpolargl": [
           {
            "marker": {
             "colorbar": {
              "outlinewidth": 0,
              "ticks": ""
             }
            },
            "type": "scatterpolargl"
           }
          ],
          "scatterternary": [
           {
            "marker": {
             "colorbar": {
              "outlinewidth": 0,
              "ticks": ""
             }
            },
            "type": "scatterternary"
           }
          ],
          "surface": [
           {
            "colorbar": {
             "outlinewidth": 0,
             "ticks": ""
            },
            "colorscale": [
             [
              0,
              "#0d0887"
             ],
             [
              0.1111111111111111,
              "#46039f"
             ],
             [
              0.2222222222222222,
              "#7201a8"
             ],
             [
              0.3333333333333333,
              "#9c179e"
             ],
             [
              0.4444444444444444,
              "#bd3786"
             ],
             [
              0.5555555555555556,
              "#d8576b"
             ],
             [
              0.6666666666666666,
              "#ed7953"
             ],
             [
              0.7777777777777778,
              "#fb9f3a"
             ],
             [
              0.8888888888888888,
              "#fdca26"
             ],
             [
              1,
              "#f0f921"
             ]
            ],
            "type": "surface"
           }
          ],
          "table": [
           {
            "cells": {
             "fill": {
              "color": "#EBF0F8"
             },
             "line": {
              "color": "white"
             }
            },
            "header": {
             "fill": {
              "color": "#C8D4E3"
             },
             "line": {
              "color": "white"
             }
            },
            "type": "table"
           }
          ]
         },
         "layout": {
          "annotationdefaults": {
           "arrowcolor": "#2a3f5f",
           "arrowhead": 0,
           "arrowwidth": 1
          },
          "autotypenumbers": "strict",
          "coloraxis": {
           "colorbar": {
            "outlinewidth": 0,
            "ticks": ""
           }
          },
          "colorscale": {
           "diverging": [
            [
             0,
             "#8e0152"
            ],
            [
             0.1,
             "#c51b7d"
            ],
            [
             0.2,
             "#de77ae"
            ],
            [
             0.3,
             "#f1b6da"
            ],
            [
             0.4,
             "#fde0ef"
            ],
            [
             0.5,
             "#f7f7f7"
            ],
            [
             0.6,
             "#e6f5d0"
            ],
            [
             0.7,
             "#b8e186"
            ],
            [
             0.8,
             "#7fbc41"
            ],
            [
             0.9,
             "#4d9221"
            ],
            [
             1,
             "#276419"
            ]
           ],
           "sequential": [
            [
             0,
             "#0d0887"
            ],
            [
             0.1111111111111111,
             "#46039f"
            ],
            [
             0.2222222222222222,
             "#7201a8"
            ],
            [
             0.3333333333333333,
             "#9c179e"
            ],
            [
             0.4444444444444444,
             "#bd3786"
            ],
            [
             0.5555555555555556,
             "#d8576b"
            ],
            [
             0.6666666666666666,
             "#ed7953"
            ],
            [
             0.7777777777777778,
             "#fb9f3a"
            ],
            [
             0.8888888888888888,
             "#fdca26"
            ],
            [
             1,
             "#f0f921"
            ]
           ],
           "sequentialminus": [
            [
             0,
             "#0d0887"
            ],
            [
             0.1111111111111111,
             "#46039f"
            ],
            [
             0.2222222222222222,
             "#7201a8"
            ],
            [
             0.3333333333333333,
             "#9c179e"
            ],
            [
             0.4444444444444444,
             "#bd3786"
            ],
            [
             0.5555555555555556,
             "#d8576b"
            ],
            [
             0.6666666666666666,
             "#ed7953"
            ],
            [
             0.7777777777777778,
             "#fb9f3a"
            ],
            [
             0.8888888888888888,
             "#fdca26"
            ],
            [
             1,
             "#f0f921"
            ]
           ]
          },
          "colorway": [
           "#636efa",
           "#EF553B",
           "#00cc96",
           "#ab63fa",
           "#FFA15A",
           "#19d3f3",
           "#FF6692",
           "#B6E880",
           "#FF97FF",
           "#FECB52"
          ],
          "font": {
           "color": "#2a3f5f"
          },
          "geo": {
           "bgcolor": "white",
           "lakecolor": "white",
           "landcolor": "#E5ECF6",
           "showlakes": true,
           "showland": true,
           "subunitcolor": "white"
          },
          "hoverlabel": {
           "align": "left"
          },
          "hovermode": "closest",
          "mapbox": {
           "style": "light"
          },
          "paper_bgcolor": "white",
          "plot_bgcolor": "#E5ECF6",
          "polar": {
           "angularaxis": {
            "gridcolor": "white",
            "linecolor": "white",
            "ticks": ""
           },
           "bgcolor": "#E5ECF6",
           "radialaxis": {
            "gridcolor": "white",
            "linecolor": "white",
            "ticks": ""
           }
          },
          "scene": {
           "xaxis": {
            "backgroundcolor": "#E5ECF6",
            "gridcolor": "white",
            "gridwidth": 2,
            "linecolor": "white",
            "showbackground": true,
            "ticks": "",
            "zerolinecolor": "white"
           },
           "yaxis": {
            "backgroundcolor": "#E5ECF6",
            "gridcolor": "white",
            "gridwidth": 2,
            "linecolor": "white",
            "showbackground": true,
            "ticks": "",
            "zerolinecolor": "white"
           },
           "zaxis": {
            "backgroundcolor": "#E5ECF6",
            "gridcolor": "white",
            "gridwidth": 2,
            "linecolor": "white",
            "showbackground": true,
            "ticks": "",
            "zerolinecolor": "white"
           }
          },
          "shapedefaults": {
           "line": {
            "color": "#2a3f5f"
           }
          },
          "ternary": {
           "aaxis": {
            "gridcolor": "white",
            "linecolor": "white",
            "ticks": ""
           },
           "baxis": {
            "gridcolor": "white",
            "linecolor": "white",
            "ticks": ""
           },
           "bgcolor": "#E5ECF6",
           "caxis": {
            "gridcolor": "white",
            "linecolor": "white",
            "ticks": ""
           }
          },
          "title": {
           "x": 0.05
          },
          "xaxis": {
           "automargin": true,
           "gridcolor": "white",
           "linecolor": "white",
           "ticks": "",
           "title": {
            "standoff": 15
           },
           "zerolinecolor": "white",
           "zerolinewidth": 2
          },
          "yaxis": {
           "automargin": true,
           "gridcolor": "white",
           "linecolor": "white",
           "ticks": "",
           "title": {
            "standoff": 15
           },
           "zerolinecolor": "white",
           "zerolinewidth": 2
          }
         }
        },
        "xaxis": {
         "anchor": "y",
         "domain": [
          0,
          1
         ],
         "title": {
          "text": "LotArea"
         }
        },
        "yaxis": {
         "anchor": "x",
         "domain": [
          0,
          1
         ]
        }
       }
      },
      "text/html": [
       "<div>                            <div id=\"5ba7effa-0c40-497d-bfd4-15b985baedac\" class=\"plotly-graph-div\" style=\"height:525px; width:100%;\"></div>            <script type=\"text/javascript\">                require([\"plotly\"], function(Plotly) {                    window.PLOTLYENV=window.PLOTLYENV || {};                                    if (document.getElementById(\"5ba7effa-0c40-497d-bfd4-15b985baedac\")) {                    Plotly.newPlot(                        \"5ba7effa-0c40-497d-bfd4-15b985baedac\",                        [{\"alignmentgroup\":\"True\",\"hovertemplate\":\"LotArea=%{x}<extra></extra>\",\"legendgroup\":\"\",\"marker\":{\"color\":\"#636efa\"},\"name\":\"\",\"notched\":false,\"offsetgroup\":\"\",\"orientation\":\"h\",\"showlegend\":false,\"x\":[8450,9600,11250,9550,14260,14115,10084,10382,6120,7420,11200,11924,12968,10652,10920,6120,11241,10791,13695,7560,14215,7449,9742,4224,8246,14230,7200,11478,16321,6324,8500,8544,11049,10552,7313,13418,10859,8532,7922,6040,8658,16905,9180,9200,7945,7658,12822,11096,4456,7742,13869,6240,8472,50271,7134,10175,2645,11645,13682,7200,13072,7200,6442,10300,9375,9591,19900,10665,4608,15593,13651,7599,10141,10200,5790,1596,8475,8635,10778,10440,13000,4500,10206,8892,8530,16059,11911,3951,8470,8070,7200,8500,13360,7200,9337,9765,10264,10921,10625,9320,10603,9206,7018,10402,7758,9375,10800,6000,8500,11751,9525,7750,9965,21000,7259,3230,11616,8536,12376,8461,21453,6060,9464,7892,17043,6780,4928,4388,7590,8973,14200,12224,7388,6853,10335,10400,10355,11070,9066,15426,10500,11645,8520,10335,9100,2522,6120,9505,7500,6240,10356,13891,14803,13500,11340,9600,7200,12003,12552,19378,11120,13688,12182,5500,5400,10106,10708,10562,8244,16669,12358,31770,5306,10197,12416,12615,10029,13650,17423,8520,2117,7588,9060,11426,7438,22950,9947,10410,7018,4923,10570,7472,9017,2522,7180,2280,9416,25419,5520,9591,8546,10125,7000,4438,3500,11851,13673,12493,14364,8250,5604,10420,8640,13568,10900,10011,8450,9906,15660,3010,8990,8068,11475,10500,13472,1680,9950,1869,8521,3182,8760,15138,1680,10650,7851,1680,8773,9453,12030,8741,9000,3880,5000,10762,8880,10400,9142,11310,11317,159000,5350,4750,8366,9350,8400,8738,8791,8814,12435,12702,19296,9588,8471,5500,5232,12090,11207,8400,6900,7917,10728,39104,11764,9600,8314,7264,9196,19138,14450,10005,11287,7200,5063,9612,8012,4251,9786,8125,9819,8730,15611,5687,11409,16659,9600,7937,13710,7399,11700,14000,15750,16226,13704,9800,18386,10386,13474,7920,12342,12378,7685,8000,7800,215245,9600,7795,13005,9000,9900,14115,16259,12099,10380,5820,11275,5000,10846,11600,11888,6402,10624,8176,10655,8198,9042,164660,14157,9135,14145,12400,14191,8400,8544,8849,2592,6435,12772,17600,2448,20431,7820,5271,9084,8520,8400,11249,9248,4224,6930,12011,7540,9144,7301,1680,18800,10690,9500,9150,7800,9830,8121,17120,7175,10634,8200,10020,8846,11143,11394,8123,5000,7200,9245,9000,53107,3182,8410,7200,9382,12474,8405,12209,8339,7446,10134,9571,7200,7590,8967,8125,14963,8767,10200,12090,10364,9991,10480,15576,14154,10800,9571,34650,4403,8960,11228,8899,7844,22420,8160,8450,7060,16635,21750,9200,9000,3378,12800,8593,6762,11457,1680,5586,1920,10839,1890,10667,4400,6000,4280,12354,15431,12108,6240,3922,8750,9855,16492,11214,8600,6000,5684,70761,9303,9000,9297,9600,4571,53227,5100,7015,8004,7200,8281,11988,8430,3072,10628,9480,11428,9291,6820,11952,3675,14977,5330,8480,13125,13693,10637,5925,16033,11846,2500,4500,7758,9600,10289,12243,10800,1526,2665,9490,15578,7931,5784,7879,12692,9120,7800,7535,1890,9803,9170,15602,2308,7596,9554,7862,9600,9600,14559,6792,9100,9187,10594,12220,10448,10208,9531,10918,10800,11988,5000,40094,11787,7500,13300,14948,9098,32668,10200,6155,7200,5000,9056,7000,8924,12735,11553,11423,14601,11000,10140,4058,17104,13837,8737,7244,8235,9375,4043,6000,11146,8777,10625,6380,14850,11040,21872,3196,11341,10010,13907,21780,13346,6858,11198,10171,12327,7032,13101,7332,13159,9967,10500,8480,6292,11777,3604,12150,14585,12704,11841,13500,6120,11443,10267,8740,25095,9100,8320,13478,6600,4435,7990,11302,3600,3922,12984,1950,10927,9000,10041,3182,12803,13600,12464,7800,12168,7943,11050,10395,11885,8402,1491,8800,7861,7227,11694,12244,8248,10800,7064,2117,10400,10000,12342,9600,11606,9020,9000,4590,11900,9250,6979,10896,6120,6000,8777,3982,12677,7050,13860,10793,9187,10530,7200,10452,7700,1936,8125,9084,8750,10320,10437,1680,10007,7200,17503,9937,12384,46589,13560,10012,20896,11194,18450,8125,14175,11600,8633,6629,11250,14442,9200,2289,9600,9022,11844,9945,8012,4500,2887,11248,16770,5062,10207,5105,8089,7577,4426,21535,26178,5400,6120,13811,6000,6420,8450,4282,14331,9600,12438,7630,8400,5600,115149,6240,9018,7162,4130,8712,4671,9873,13517,10140,10800,10000,10542,9920,6563,4426,8120,8172,13286,6960,21695,7314,11475,6240,5389,9590,11404,10000,8978,10800,8544,10463,10800,9313,9600,6768,8450,12886,5395,8963,8795,11700,10593,8405,8800,7750,9236,10240,7930,3230,10769,11616,2280,12257,9100,6911,8640,9430,9549,14587,10421,12508,9100,53504,7252,8877,7819,10150,14226,4500,11210,13350,8400,10530,7875,7153,16285,9101,6300,9790,10800,10142,6000,12205,3182,11333,9920,9158,10832,8400,8197,7677,13518,7200,12798,4800,8199,13891,9000,12274,9750,21384,13400,8100,10140,4438,8712,9750,8248,12137,11425,13265,8816,6371,7226,6000,12394,9900,11216,14803,6130,8529,28698,2544,11900,3180,9548,10004,7875,9600,8100,1680,9525,11767,12155,10440,9020,8000,12665,16647,9317,15523,45600,9600,4435,3196,7128,12095,17920,6897,10970,8125,10400,11029,7642,11625,9672,7931,8640,8750,10656,6970,14762,9938,6600,8750,8892,12144,5720,9000,25286,8834,11782,7000,7024,13758,9636,6204,7150,5119,8393,16466,15865,12160,8064,11184,8414,13284,7018,7056,8765,7018,12919,6993,7340,8712,7875,14859,6173,9920,13501,11500,8885,12589,11600,9286,6120,6270,3000,2001,9000,17140,13125,11029,8462,8777,10237,8012,10240,15611,11999,9900,11838,13006,8925,9100,11670,8487,27650,5825,10083,9675,8760,24090,12640,8755,7711,25000,14375,8820,8163,14536,14006,9360,7200,7800,7200,11075,9400,7136,1300,7420,8450,2572,7207,12227,2308,11923,11316,10237,9600,7390,5925,10382,10800,2268,7892,11639,11414,2651,5900,4274,9450,8816,12122,12203,3182,11250,10125,10880,5310,10159,12046,8125,9452,17671,9760,8846,12456,4712,10659,11717,9786,6762,10206,5400,11957,11500,3182,8385,12155,2217,12118,6000,21286,9825,10592,7200,11664,8400,11883,5814,10784,3013,7024,7406,9439,3182,15498,7700,9300,9520,9492,1680,7082,15863,14541,8125,6305,11500,12898,9240,1533,1477,13125,9130,5381,11839,9600,13680,16056,9245,21750,11100,8993,11175,9500,8562,11367,11361,7052,29959,11308,11275,4920,18000,13600,6000,11000,14000,7837,9760,3964,9600,10152,11700,7585,7950,8556,13125,10800,15870,4435,8775,11040,7500,8749,8800,13031,9069,1974,10574,2522,3316,8544,2160,8400,9230,5868,9317,6882,3696,6000,11880,8400,9758,7000,8910,2016,12256,10357,23257,8063,11362,8000,10480,7100,8923,5400,12085,7750,9764,13825,7560,8263,10084,8926,9405,9125,10434,3684,14572,11796,7200,7804,10712,9900,9828,8773,6180,9600,6342,9819,8731,7350,10304,9965,9000,12180,6240,11200,12000,5700,9000,8280,17755,14115,5890,13700,10768,9350,5001,11932,9120,2280,14778,8724,12900,16157,9541,10475,10852,13728,35760,9880,9120,4017,18030,16560,10678,6951,3950,7681,8335,11170,5587,15623,10800,35133,9738,10615,12461,8935,7500,32463,2645,9600,4500,9364,8029,14054,8850,9100,11235,9353,10400,6000,9750,10140,14684,8900,9135,7763,10182,11218,12134,9340,10246,10205,7094,8930,8640,6240,1680,7800,8250,10496,10680,15384,10482,14598,8872,8769,7910,18890,7728,9842,12160,8525,13132,2628,12393,13072,9037,8158,9849,10625,13891,11435,12090,8125,12328,9600,7200,11160,3136,9858,17542,6931,6240,14303,4060,9587,9750,24682,9600,11250,13515,4060,3735,10120,13214,14100,11344,23595,9156,13526,11512,5362,11345,12936,17871,9473,7500,9808,8049,8800,9400,9638,6000,9790,36500,5664,11065,14112,1680,6600,10140,8172,8400,8700,3675,63887,7500,10762,7500,10120,8688,3363,13173,6955,8072,12000,7153,17500,8814,9572,14774,8190,11075,10226,4230,14781,10215,8400,6627,10186,5330,9986,3636,4270,6600,10440,9084,10000,10780,8877,7200,2368,9650,9246,4118,13450,9560,8294,13695,9375,7558,11103,6000,20781,15306,16196,5250,11643,9247,6000,14720,10316,10192,9477,12537,2117,16737,9842,16158,12513,8499,3180,7500,9179,2665,4435,10635,5400,9600,9750,11400,10625,10991,6292,10998,1953,9735,8212,12925,7200,25339,9060,5436,16692,8520,14892,6000,9100,8944,7838,10800,4045,12665,57200,6120,7200,6171,6000,7415,6762,15256,10410,3842,8445,8780,7740,20544,12420,9600,7200,10994,13053,3635,11340,16545,9204,16381,11700,4043,4435,19690,9503,10721,10944,10930,7200,12546,21930,4928,10800,10261,17400,8400,9000,12444,7407,11584,11526,4426,11003,8854,8500,8400,26142,10000,11767,1533,9000,9262,3675,17217,7500,7917,13175,9042,9717,9937],\"x0\":\" \",\"xaxis\":\"x\",\"y0\":\" \",\"yaxis\":\"y\",\"type\":\"box\"}],                        {\"template\":{\"data\":{\"histogram2dcontour\":[{\"type\":\"histogram2dcontour\",\"colorbar\":{\"outlinewidth\":0,\"ticks\":\"\"},\"colorscale\":[[0.0,\"#0d0887\"],[0.1111111111111111,\"#46039f\"],[0.2222222222222222,\"#7201a8\"],[0.3333333333333333,\"#9c179e\"],[0.4444444444444444,\"#bd3786\"],[0.5555555555555556,\"#d8576b\"],[0.6666666666666666,\"#ed7953\"],[0.7777777777777778,\"#fb9f3a\"],[0.8888888888888888,\"#fdca26\"],[1.0,\"#f0f921\"]]}],\"choropleth\":[{\"type\":\"choropleth\",\"colorbar\":{\"outlinewidth\":0,\"ticks\":\"\"}}],\"histogram2d\":[{\"type\":\"histogram2d\",\"colorbar\":{\"outlinewidth\":0,\"ticks\":\"\"},\"colorscale\":[[0.0,\"#0d0887\"],[0.1111111111111111,\"#46039f\"],[0.2222222222222222,\"#7201a8\"],[0.3333333333333333,\"#9c179e\"],[0.4444444444444444,\"#bd3786\"],[0.5555555555555556,\"#d8576b\"],[0.6666666666666666,\"#ed7953\"],[0.7777777777777778,\"#fb9f3a\"],[0.8888888888888888,\"#fdca26\"],[1.0,\"#f0f921\"]]}],\"heatmap\":[{\"type\":\"heatmap\",\"colorbar\":{\"outlinewidth\":0,\"ticks\":\"\"},\"colorscale\":[[0.0,\"#0d0887\"],[0.1111111111111111,\"#46039f\"],[0.2222222222222222,\"#7201a8\"],[0.3333333333333333,\"#9c179e\"],[0.4444444444444444,\"#bd3786\"],[0.5555555555555556,\"#d8576b\"],[0.6666666666666666,\"#ed7953\"],[0.7777777777777778,\"#fb9f3a\"],[0.8888888888888888,\"#fdca26\"],[1.0,\"#f0f921\"]]}],\"heatmapgl\":[{\"type\":\"heatmapgl\",\"colorbar\":{\"outlinewidth\":0,\"ticks\":\"\"},\"colorscale\":[[0.0,\"#0d0887\"],[0.1111111111111111,\"#46039f\"],[0.2222222222222222,\"#7201a8\"],[0.3333333333333333,\"#9c179e\"],[0.4444444444444444,\"#bd3786\"],[0.5555555555555556,\"#d8576b\"],[0.6666666666666666,\"#ed7953\"],[0.7777777777777778,\"#fb9f3a\"],[0.8888888888888888,\"#fdca26\"],[1.0,\"#f0f921\"]]}],\"contourcarpet\":[{\"type\":\"contourcarpet\",\"colorbar\":{\"outlinewidth\":0,\"ticks\":\"\"}}],\"contour\":[{\"type\":\"contour\",\"colorbar\":{\"outlinewidth\":0,\"ticks\":\"\"},\"colorscale\":[[0.0,\"#0d0887\"],[0.1111111111111111,\"#46039f\"],[0.2222222222222222,\"#7201a8\"],[0.3333333333333333,\"#9c179e\"],[0.4444444444444444,\"#bd3786\"],[0.5555555555555556,\"#d8576b\"],[0.6666666666666666,\"#ed7953\"],[0.7777777777777778,\"#fb9f3a\"],[0.8888888888888888,\"#fdca26\"],[1.0,\"#f0f921\"]]}],\"surface\":[{\"type\":\"surface\",\"colorbar\":{\"outlinewidth\":0,\"ticks\":\"\"},\"colorscale\":[[0.0,\"#0d0887\"],[0.1111111111111111,\"#46039f\"],[0.2222222222222222,\"#7201a8\"],[0.3333333333333333,\"#9c179e\"],[0.4444444444444444,\"#bd3786\"],[0.5555555555555556,\"#d8576b\"],[0.6666666666666666,\"#ed7953\"],[0.7777777777777778,\"#fb9f3a\"],[0.8888888888888888,\"#fdca26\"],[1.0,\"#f0f921\"]]}],\"mesh3d\":[{\"type\":\"mesh3d\",\"colorbar\":{\"outlinewidth\":0,\"ticks\":\"\"}}],\"scatter\":[{\"fillpattern\":{\"fillmode\":\"overlay\",\"size\":10,\"solidity\":0.2},\"type\":\"scatter\"}],\"parcoords\":[{\"type\":\"parcoords\",\"line\":{\"colorbar\":{\"outlinewidth\":0,\"ticks\":\"\"}}}],\"scatterpolargl\":[{\"type\":\"scatterpolargl\",\"marker\":{\"colorbar\":{\"outlinewidth\":0,\"ticks\":\"\"}}}],\"bar\":[{\"error_x\":{\"color\":\"#2a3f5f\"},\"error_y\":{\"color\":\"#2a3f5f\"},\"marker\":{\"line\":{\"color\":\"#E5ECF6\",\"width\":0.5},\"pattern\":{\"fillmode\":\"overlay\",\"size\":10,\"solidity\":0.2}},\"type\":\"bar\"}],\"scattergeo\":[{\"type\":\"scattergeo\",\"marker\":{\"colorbar\":{\"outlinewidth\":0,\"ticks\":\"\"}}}],\"scatterpolar\":[{\"type\":\"scatterpolar\",\"marker\":{\"colorbar\":{\"outlinewidth\":0,\"ticks\":\"\"}}}],\"histogram\":[{\"marker\":{\"pattern\":{\"fillmode\":\"overlay\",\"size\":10,\"solidity\":0.2}},\"type\":\"histogram\"}],\"scattergl\":[{\"type\":\"scattergl\",\"marker\":{\"colorbar\":{\"outlinewidth\":0,\"ticks\":\"\"}}}],\"scatter3d\":[{\"type\":\"scatter3d\",\"line\":{\"colorbar\":{\"outlinewidth\":0,\"ticks\":\"\"}},\"marker\":{\"colorbar\":{\"outlinewidth\":0,\"ticks\":\"\"}}}],\"scattermapbox\":[{\"type\":\"scattermapbox\",\"marker\":{\"colorbar\":{\"outlinewidth\":0,\"ticks\":\"\"}}}],\"scatterternary\":[{\"type\":\"scatterternary\",\"marker\":{\"colorbar\":{\"outlinewidth\":0,\"ticks\":\"\"}}}],\"scattercarpet\":[{\"type\":\"scattercarpet\",\"marker\":{\"colorbar\":{\"outlinewidth\":0,\"ticks\":\"\"}}}],\"carpet\":[{\"aaxis\":{\"endlinecolor\":\"#2a3f5f\",\"gridcolor\":\"white\",\"linecolor\":\"white\",\"minorgridcolor\":\"white\",\"startlinecolor\":\"#2a3f5f\"},\"baxis\":{\"endlinecolor\":\"#2a3f5f\",\"gridcolor\":\"white\",\"linecolor\":\"white\",\"minorgridcolor\":\"white\",\"startlinecolor\":\"#2a3f5f\"},\"type\":\"carpet\"}],\"table\":[{\"cells\":{\"fill\":{\"color\":\"#EBF0F8\"},\"line\":{\"color\":\"white\"}},\"header\":{\"fill\":{\"color\":\"#C8D4E3\"},\"line\":{\"color\":\"white\"}},\"type\":\"table\"}],\"barpolar\":[{\"marker\":{\"line\":{\"color\":\"#E5ECF6\",\"width\":0.5},\"pattern\":{\"fillmode\":\"overlay\",\"size\":10,\"solidity\":0.2}},\"type\":\"barpolar\"}],\"pie\":[{\"automargin\":true,\"type\":\"pie\"}]},\"layout\":{\"autotypenumbers\":\"strict\",\"colorway\":[\"#636efa\",\"#EF553B\",\"#00cc96\",\"#ab63fa\",\"#FFA15A\",\"#19d3f3\",\"#FF6692\",\"#B6E880\",\"#FF97FF\",\"#FECB52\"],\"font\":{\"color\":\"#2a3f5f\"},\"hovermode\":\"closest\",\"hoverlabel\":{\"align\":\"left\"},\"paper_bgcolor\":\"white\",\"plot_bgcolor\":\"#E5ECF6\",\"polar\":{\"bgcolor\":\"#E5ECF6\",\"angularaxis\":{\"gridcolor\":\"white\",\"linecolor\":\"white\",\"ticks\":\"\"},\"radialaxis\":{\"gridcolor\":\"white\",\"linecolor\":\"white\",\"ticks\":\"\"}},\"ternary\":{\"bgcolor\":\"#E5ECF6\",\"aaxis\":{\"gridcolor\":\"white\",\"linecolor\":\"white\",\"ticks\":\"\"},\"baxis\":{\"gridcolor\":\"white\",\"linecolor\":\"white\",\"ticks\":\"\"},\"caxis\":{\"gridcolor\":\"white\",\"linecolor\":\"white\",\"ticks\":\"\"}},\"coloraxis\":{\"colorbar\":{\"outlinewidth\":0,\"ticks\":\"\"}},\"colorscale\":{\"sequential\":[[0.0,\"#0d0887\"],[0.1111111111111111,\"#46039f\"],[0.2222222222222222,\"#7201a8\"],[0.3333333333333333,\"#9c179e\"],[0.4444444444444444,\"#bd3786\"],[0.5555555555555556,\"#d8576b\"],[0.6666666666666666,\"#ed7953\"],[0.7777777777777778,\"#fb9f3a\"],[0.8888888888888888,\"#fdca26\"],[1.0,\"#f0f921\"]],\"sequentialminus\":[[0.0,\"#0d0887\"],[0.1111111111111111,\"#46039f\"],[0.2222222222222222,\"#7201a8\"],[0.3333333333333333,\"#9c179e\"],[0.4444444444444444,\"#bd3786\"],[0.5555555555555556,\"#d8576b\"],[0.6666666666666666,\"#ed7953\"],[0.7777777777777778,\"#fb9f3a\"],[0.8888888888888888,\"#fdca26\"],[1.0,\"#f0f921\"]],\"diverging\":[[0,\"#8e0152\"],[0.1,\"#c51b7d\"],[0.2,\"#de77ae\"],[0.3,\"#f1b6da\"],[0.4,\"#fde0ef\"],[0.5,\"#f7f7f7\"],[0.6,\"#e6f5d0\"],[0.7,\"#b8e186\"],[0.8,\"#7fbc41\"],[0.9,\"#4d9221\"],[1,\"#276419\"]]},\"xaxis\":{\"gridcolor\":\"white\",\"linecolor\":\"white\",\"ticks\":\"\",\"title\":{\"standoff\":15},\"zerolinecolor\":\"white\",\"automargin\":true,\"zerolinewidth\":2},\"yaxis\":{\"gridcolor\":\"white\",\"linecolor\":\"white\",\"ticks\":\"\",\"title\":{\"standoff\":15},\"zerolinecolor\":\"white\",\"automargin\":true,\"zerolinewidth\":2},\"scene\":{\"xaxis\":{\"backgroundcolor\":\"#E5ECF6\",\"gridcolor\":\"white\",\"linecolor\":\"white\",\"showbackground\":true,\"ticks\":\"\",\"zerolinecolor\":\"white\",\"gridwidth\":2},\"yaxis\":{\"backgroundcolor\":\"#E5ECF6\",\"gridcolor\":\"white\",\"linecolor\":\"white\",\"showbackground\":true,\"ticks\":\"\",\"zerolinecolor\":\"white\",\"gridwidth\":2},\"zaxis\":{\"backgroundcolor\":\"#E5ECF6\",\"gridcolor\":\"white\",\"linecolor\":\"white\",\"showbackground\":true,\"ticks\":\"\",\"zerolinecolor\":\"white\",\"gridwidth\":2}},\"shapedefaults\":{\"line\":{\"color\":\"#2a3f5f\"}},\"annotationdefaults\":{\"arrowcolor\":\"#2a3f5f\",\"arrowhead\":0,\"arrowwidth\":1},\"geo\":{\"bgcolor\":\"white\",\"landcolor\":\"#E5ECF6\",\"subunitcolor\":\"white\",\"showland\":true,\"showlakes\":true,\"lakecolor\":\"white\"},\"title\":{\"x\":0.05},\"mapbox\":{\"style\":\"light\"}}},\"xaxis\":{\"anchor\":\"y\",\"domain\":[0.0,1.0],\"title\":{\"text\":\"LotArea\"}},\"yaxis\":{\"anchor\":\"x\",\"domain\":[0.0,1.0]},\"legend\":{\"tracegroupgap\":0},\"margin\":{\"t\":60},\"boxmode\":\"group\"},                        {\"responsive\": true}                    ).then(function(){\n",
       "                            \n",
       "var gd = document.getElementById('5ba7effa-0c40-497d-bfd4-15b985baedac');\n",
       "var x = new MutationObserver(function (mutations, observer) {{\n",
       "        var display = window.getComputedStyle(gd).display;\n",
       "        if (!display || display === 'none') {{\n",
       "            console.log([gd, 'removed!']);\n",
       "            Plotly.purge(gd);\n",
       "            observer.disconnect();\n",
       "        }}\n",
       "}});\n",
       "\n",
       "// Listen for the removal of the full notebook cells\n",
       "var notebookContainer = gd.closest('#notebook-container');\n",
       "if (notebookContainer) {{\n",
       "    x.observe(notebookContainer, {childList: true});\n",
       "}}\n",
       "\n",
       "// Listen for the clearing of the current output cell\n",
       "var outputEl = gd.closest('.output');\n",
       "if (outputEl) {{\n",
       "    x.observe(outputEl, {childList: true});\n",
       "}}\n",
       "\n",
       "                        })                };                });            </script>        </div>"
      ]
     },
     "metadata": {},
     "output_type": "display_data"
    }
   ],
   "source": [
    "# Boxplot con Plotly\n",
    "import plotly.express as px\n",
    "fig = px.box(df, x=\"LotArea\")\n",
    "fig.show()"
   ]
  },
  {
   "cell_type": "markdown",
   "id": "9abcfa28",
   "metadata": {},
   "source": [
    "# Medidas de tendencia central \n",
    "\n",
    "1. **Media** \n",
    "$$\\bar{x} =\\frac{\\sum_{i=1}^n x_i}{n}$$\n",
    "\n",
    "    Para el caso de datos discretos agrupados:\n",
    "\n",
    "$$\\bar{x} =\\sum_j x_j fr(x_j)$$\n",
    "\n",
    "Para datos agrupados en clases, la media se calcula suponiendo que todos los datos de cada clase son idénticos al centro de la clase, con lo que, llamando mj a estos valores centrales y fr (mj) a la frecuencia relativa de la clase j, la fórmula se reduce a:\n",
    "\n",
    "$$\\bar{x} =\\sum_j m_j fr(m_j)$$\n",
    "\n",
    "2. **Media geometrica**\n",
    "    <br>Se calcula multiplicando todos los valores y luego tomando la raíz enésima del producto, donde \"n\" es el número total de valores en el conjunto de datos.\n",
    "    <br>Se utiliza en finanzas para calcular tasas de rendimiento promedio, en ciencias naturales para analizar crecimiento exponencial o promedios de tasas de cambio, y en otras áreas donde se requiere calcular un promedio de valores multiplicativos.\n",
    "    <br>Admite solo valores NO negativos. \n",
    "\n",
    "$$B=\\sqrt{x_1 *x_2 *\\dots* x_n}$$\n",
    "\n",
    "3. **Media armonica**\n",
    "    <br>Se calcula dividiendo el número de elementos por la suma de los inversos de los valores individuales. \n",
    "    <br>Es útil cuando se tienen datos que están inversamente relacionados entre sí. Por ejemplo, cuando se trata de velocidades y tiempos, si los datos muestran una relación inversa (como el tiempo necesario para recorrer una distancia a cierta velocidad), la media armónica puede ser más representativa.\n",
    "\n",
    "$$C= \\frac{n}{\\sum_{i=1}^n \\frac{1}{x_i}}$$\n",
    "\n",
    "\n",
    "4. **Media recortada** \n",
    "    <br>Es simplemente la media removiendo en la parte inferior y superior de los datos ordenados cierto porcentaje de los datos \n",
    "    <br>\n",
    "\n",
    "5. **Mediana y moda**\n",
    "    <br>La mediana es un valor tal que, ordenados en magnitud los datos, el 50% es menor que ella y el 50% mayor. \n",
    "    <br>Por tanto, al ordenar los datos sin agrupar, la mediana es el valor central, si su número es impar, o la media de los dos centrales, si hay un número par.\n",
    "    <br>\n",
    "    <br>Para datos agrupados discretos se toma como mediana el valor xm tal que\n",
    "$$fr(x\\leq x_a) <0.5$$\n",
    "$$fr(x\\leq x_b) >0.5$$\n",
    "\n",
    "    <br>La moda simplemente es el valor mas frecuente"
   ]
  },
  {
   "cell_type": "markdown",
   "id": "f3c5d40b",
   "metadata": {},
   "source": [
    "# Usando la librería scipy"
   ]
  },
  {
   "cell_type": "code",
   "execution_count": 70,
   "id": "b616aaa7",
   "metadata": {},
   "outputs": [
    {
     "data": {
      "text/plain": [
       "DescribeResult(nobs=1460, minmax=(1300, 215245), mean=10516.828082191782, variance=99625649.65034176, skewness=12.195142125084478, kurtosis=202.5437927513529)"
      ]
     },
     "execution_count": 70,
     "metadata": {},
     "output_type": "execute_result"
    }
   ],
   "source": [
    "import scipy \n",
    "scipy.stats.describe(df['LotArea'])"
   ]
  },
  {
   "cell_type": "code",
   "execution_count": 71,
   "id": "28e1f10b",
   "metadata": {},
   "outputs": [
    {
     "data": {
      "text/plain": [
       "10516.828082191782"
      ]
     },
     "execution_count": 71,
     "metadata": {},
     "output_type": "execute_result"
    }
   ],
   "source": [
    "# Media\n",
    "df['LotArea'].mean()"
   ]
  },
  {
   "cell_type": "code",
   "execution_count": 72,
   "id": "b482829c",
   "metadata": {},
   "outputs": [
    {
     "data": {
      "text/plain": [
       "9052.880193663315"
      ]
     },
     "execution_count": 72,
     "metadata": {},
     "output_type": "execute_result"
    }
   ],
   "source": [
    "# Media geometrica\n",
    "scipy.stats.gmean(df['LotArea']) "
   ]
  },
  {
   "cell_type": "code",
   "execution_count": 73,
   "id": "c819d7af",
   "metadata": {},
   "outputs": [
    {
     "data": {
      "text/plain": [
       "7806.604057584135"
      ]
     },
     "execution_count": 73,
     "metadata": {},
     "output_type": "execute_result"
    }
   ],
   "source": [
    "# Media armonica\n",
    "scipy.stats.hmean(df['LotArea']) "
   ]
  },
  {
   "cell_type": "code",
   "execution_count": 74,
   "id": "96c29b19",
   "metadata": {},
   "outputs": [
    {
     "data": {
      "text/plain": [
       "9563.284246575342"
      ]
     },
     "execution_count": 74,
     "metadata": {},
     "output_type": "execute_result"
    }
   ],
   "source": [
    "# Media recortada\n",
    "scipy.stats.trim_mean(df['LotArea'],0.1)"
   ]
  },
  {
   "cell_type": "code",
   "execution_count": 75,
   "id": "68b6d78c",
   "metadata": {},
   "outputs": [
    {
     "name": "stderr",
     "output_type": "stream",
     "text": [
      "C:\\Users\\usernosis\\AppData\\Local\\Temp\\ipykernel_16028\\2203074221.py:2: FutureWarning:\n",
      "\n",
      "Unlike other reduction functions (e.g. `skew`, `kurtosis`), the default behavior of `mode` typically preserves the axis it acts along. In SciPy 1.11.0, this behavior will change: the default value of `keepdims` will become False, the `axis` over which the statistic is taken will be eliminated, and the value None will no longer be accepted. Set `keepdims` to True or False to avoid this warning.\n",
      "\n"
     ]
    },
    {
     "data": {
      "text/plain": [
       "ModeResult(mode=array([7200], dtype=int64), count=array([25]))"
      ]
     },
     "execution_count": 75,
     "metadata": {},
     "output_type": "execute_result"
    }
   ],
   "source": [
    "# Moda\n",
    "scipy.stats.mode(df['LotArea'])"
   ]
  },
  {
   "cell_type": "code",
   "execution_count": 76,
   "id": "68839397",
   "metadata": {},
   "outputs": [
    {
     "data": {
      "text/plain": [
       "9478.5"
      ]
     },
     "execution_count": 76,
     "metadata": {},
     "output_type": "execute_result"
    }
   ],
   "source": [
    "# Mediana\n",
    "df['LotArea'].median()"
   ]
  },
  {
   "cell_type": "markdown",
   "id": "1d55bde6",
   "metadata": {},
   "source": [
    "# Medidas de dispersion\n",
    "\n",
    "1. **Desviacion tipica** \n",
    "\n",
    "    <br>Promedio de las desviaciones de los datos respecto a la medida de centralización\n",
    "\n",
    "$$s=\\sqrt{\\frac{\\sum_{i=1}^n (x_i -\\bar{x})^2}{n-1}}$$\n",
    "\n",
    "    Para datos agrupados es:\n",
    "\n",
    "$$s=\\sqrt{\\sum_{i=1}^n (x_i -\\bar{x})^2 fr(x_i)}$$\n",
    "\n",
    "\n",
    "2. **Coeficiente de variacion**\n",
    "\n",
    "    <br>El coeficiente de variación es una medida relativa de variabilidad. Un CV más alto indica una mayor dispersión relativa en comparación con la media, mientras que un CV más bajo indica una dispersión menor en relación con la media.\n",
    "\n",
    "    * **CV < 0.2:** Datos homogéneos\n",
    "    * **CV < 0.5:** Datos moderadamente heterogéneos\n",
    "    * **CV > 0.5:** Datos muy heterogéneos\n",
    "<br>\n",
    "\n",
    "3. **Mediana de las desviaciones absolutas**\n",
    "    <br>La mediana de las desviaciones absolutas (MEDA) que tiene la ventaja, como la mediana, de no verse afectada por datos extremos.\n",
    "\n",
    "$$MEDA= median|X_t - Mediana| $$\n",
    "\n",
    "4. **Rango** \n",
    "<br>Se denomina rango o recorrido de una variable la diferencia entre su valor máximo y mínimo\n",
    "\n",
    "$$Rango = Max(X)- Min(X)$$\n",
    "\n",
    "\n",
    "5. **Percentil** \n",
    "    <br>Llamaremos percentil p al menor valor superior al $p%$ de los datos. \n",
    "    <br> \n",
    "\n",
    "6.  **Cuartiles** \n",
    "    <br>Llamaremos cuartiles a aquellos valores que dividen la distribución en cuatro partes iguales. \n",
    "    <br> El primer cuartil, Q1, es por definición igual al percentil 25, el segundo es la mediana y el tercero, Q3, el percentil 75, los percentiles y los cuartiles se utilizan para construir medidas de dispersión basadas en los datos ordenados, como el **rango intercuartílico (IQR)**, que es la diferencia entre los percentiles 75 y 25.\n",
    "\n",
    "$$IQR= P_{75} -P_{25}$$\n",
    "\n",
    "7. **Error estandar**\n",
    "    <br>Desviación estándar de la muestra dividida por la raíz cuadrada del tamaño de la muestra (suponiendo la independencia estadística de los valores de la muestra).\n",
    "    <br>Un error estándar más pequeño indica que la media muestral es una estimación más precisa de la verdadera media poblacional, mientras que un error estándar más grande indica mayor incertidumbre en la estimación.\n",
    "\n",
    "$$SE= \\frac{\\sigma}{\\sqrt{n}}$$\n"
   ]
  },
  {
   "cell_type": "code",
   "execution_count": 37,
   "id": "11580411",
   "metadata": {},
   "outputs": [
    {
     "data": {
      "text/plain": [
       "99625649.6503417"
      ]
     },
     "execution_count": 37,
     "metadata": {},
     "output_type": "execute_result"
    }
   ],
   "source": [
    "# Varianza\n",
    "df['LotArea'].var()"
   ]
  },
  {
   "cell_type": "code",
   "execution_count": 77,
   "id": "d600314b",
   "metadata": {},
   "outputs": [
    {
     "data": {
      "text/plain": [
       "9981.264932379147"
      ]
     },
     "execution_count": 77,
     "metadata": {},
     "output_type": "execute_result"
    }
   ],
   "source": [
    "# Desvio muestral\n",
    "np.std(df['LotArea'], ddof=1)"
   ]
  },
  {
   "cell_type": "code",
   "execution_count": 78,
   "id": "7577609d",
   "metadata": {},
   "outputs": [
    {
     "data": {
      "text/plain": [
       "9977.846105448101"
      ]
     },
     "execution_count": 78,
     "metadata": {},
     "output_type": "execute_result"
    }
   ],
   "source": [
    "# Desvio poblacional\n",
    "np.std(df['LotArea'], ddof=0)"
   ]
  },
  {
   "cell_type": "code",
   "execution_count": 79,
   "id": "77433c5c",
   "metadata": {},
   "outputs": [
    {
     "data": {
      "text/plain": [
       "0.9487505194026763"
      ]
     },
     "execution_count": 79,
     "metadata": {},
     "output_type": "execute_result"
    }
   ],
   "source": [
    "# Coeficiente de variación\n",
    "scipy.stats.variation(df['LotArea'])"
   ]
  },
  {
   "cell_type": "code",
   "execution_count": 80,
   "id": "bb14320f",
   "metadata": {},
   "outputs": [
    {
     "data": {
      "text/plain": [
       "0.948750519402676"
      ]
     },
     "execution_count": 80,
     "metadata": {},
     "output_type": "execute_result"
    }
   ],
   "source": [
    "# Coeficiente de variación a mano\n",
    "np.std(df['LotArea'], ddof=0)/df['LotArea'].mean()"
   ]
  },
  {
   "cell_type": "code",
   "execution_count": 47,
   "id": "7daaa7f3",
   "metadata": {},
   "outputs": [
    {
     "data": {
      "text/plain": [
       "4048.0"
      ]
     },
     "execution_count": 47,
     "metadata": {},
     "output_type": "execute_result"
    }
   ],
   "source": [
    "# Rango intercuartílico\n",
    "scipy.stats.iqr(df['LotArea'])"
   ]
  },
  {
   "cell_type": "code",
   "execution_count": 48,
   "id": "f006e256",
   "metadata": {},
   "outputs": [
    {
     "data": {
      "text/plain": [
       "261.221642165902"
      ]
     },
     "execution_count": 48,
     "metadata": {},
     "output_type": "execute_result"
    }
   ],
   "source": [
    "# Error estándar\n",
    "scipy.stats.sem(df['LotArea']) "
   ]
  },
  {
   "cell_type": "code",
   "execution_count": 49,
   "id": "a4cd2b1f",
   "metadata": {},
   "outputs": [],
   "source": [
    "# Cuartiles \n",
    "primer_cuartil = df['LotArea'].quantile(0.25)\n",
    "tercer_cuartil = df['LotArea'].quantile(0.75)\n",
    "\n",
    "# Deciles\n",
    "primer_decil = df['LotArea'].quantile(0.1)\n",
    "\n",
    "# Percentiles\n",
    "primer_pecentil = df['LotArea'].quantile(0.01)"
   ]
  },
  {
   "cell_type": "markdown",
   "id": "c92fbe81",
   "metadata": {},
   "source": [
    "# Medidas de asimetria y kurtosis\n",
    "\n",
    "Estas medidas informan sobre dos aspectos importantes de la forma de\n",
    "la distribución: su grado de asimetría y su grado de homogeneidad. Al ser\n",
    "medidas de forma, no dependen de las unidades de medida de los datos\n",
    "\n",
    "**Asimetria** En un conjunto de datos simétricos respecto a su media $\\bar{x}$, la suma $\\sum (x-\\bar{x})^3$ será nula, mientras que con datos asimétricos esta suma crecerá con la asimetría.\n",
    "Para obtener una medida adimensional, se define el coeficiente de\n",
    "asimetría mediante:\n",
    "\n",
    "$$CA=\\frac{\\sum_{i=1}^n (x_i -\\bar{x})^3}{ns^3}$$\n",
    "\n",
    "Donde s es la desviación típica.\n",
    "\n",
    "El signo del coeficiente de asimetría indica la forma de la distribución. \n",
    "1. Si este coeficiente es negativo, la distribución se alarga para valores inferiores a la media\n",
    "\n",
    "2. Si el coeficiente es positivo, la cola de la distribución se extiende para valores superiores a la media\n",
    "\n",
    "![ejemplo.jpg](data:image/jpeg;base64,iVBORw0KGgoAAAANSUhEUgAAAYIAAAFJCAIAAAAZt72pAAAAAXNSR0IArs4c6QAAAARnQU1BAACxjwv8YQUAAAAJcEhZcwAADsMAAA7DAcdvqGQAADBoSURBVHhe7Z0HWBTXGve/5/nuTfniTbnJNbm5N7GgiWKLFaPGco1RVFBA7C32gg2xYMNeUXpvFuxd7L1hjyY27BU1FpCidPD7wxl3N2skuDPLDPL/Pe+zz3vODDNnyvnNOQu7/J8XhBCiKtQQIURlqCFCiMpQQ4QQlaGGCCEqQw0RQlSGGiKEqAw1RAhRGWqIEKIy1BAhRGWoIUKIylBDhBCVoYbUJD7+KSI1NVUqvx6sY23dSiqYypix45ZErpAKSpCc/Oz69ZtSgRBToYZUY936KOeRowICQ/v1G3DnTqxU+xqePXtWtXIVqWAq/gEhh6OPSoWCAUvu2r1PKhgQtXkbwtV1/ImTv0hVSnPs+MkJE91Gj3H18Q3Mzs5GTWJikoen78pV68QK5K2BGlKNFi1aSlkBUERDJnDjxi1YQCoULv37DxSJ5bcVNkVtzcnJadmy9fETp7y8/UQ9eWughtQhJSXFxqaNVMiXiIWRAwc5YVwgNITeOHuOO4Yho0aNeXUkMm36rBHOLi6jxjx69ARrosc6O7tgQLF338EdO/cMHTp8xcq1WG39hs3BIRGu4yY4OQ0NDArDOjNmzhFb2LJ157jxEydOmhx95Nily1eHDRvh4OCI3e3esx9DNvf5nvipfv0HYsuIRg0bJyUlZ2RkTp02A2uOHj32+fPnYjvyGTx4CCSI2WiNatVPnjqNmocPHyOoobcPakgdMNnp0KGTVHg9cXHxbpOnItGNhvz8g8MjliCBZeCX3JVeAWZxGjIsLS29YvlvsJpU++LFb2fPQ2pIfP2CDkcfQ1KnVp1ly1cj6du3P14hxzFjxyG5fftupQoVkRiOhhISErG+yDFLAhalSqNS1ABvnwBsWSrksWfvAUyjdLFw0VJpQQG4efM2tl+5ouX5CzFSVZ6JqKG3D2pIHdB7McqQCq/nwYPf4R0kOg3Vtap75OhxYQFHxw55a+mBdK5evQ499ezZCxoqV7qMp5e+0xpqCBtBUq9uPaEhDD3w+vhxHBZhyxjUlC9rkZmZaaQhqETkogE6DWG/MTGXnUeOmufuKVYQYO9NmjTVRa9efaQFeYiNCAx1KcCBV7Gs3LFj53bt2ktV1NBbCjWkDujhDeo3kAqvBxoKCAxFotMQBiljXcdDFoig4PC8tSQwdMK0CJXDhjtDQ6iBI0JCF2IaJYYhBdFQnz79xMYRsENBNIRhCwSEHQ0ZOtxIQ/v2H9JtDWH0ezrDRRjBSbV5wEqYiopkwIBBopGAGnoroYZUA2MWzH2QpKampqdnZGVlTZs+6+y5C2Kp4MGDh/MXeCGBYoSG4BR0+LyFuV1UJII1azeiPyNBl+7R42ckYoUnT+JqVq+B5C81lJiYhD6PBGCChlcoxsvbX9S8TkOT3Kb4B4SgEpudO2+BWEEH2mCIVPsa0NSRLqOxZawpZqPAyWmoaDaght5KqCHVOPXLmW7deowaNQaP/TO/nn306EntmrUXL1kuLX7J+AmTJk6aPHXaTEzHMM9C/8SQx9V1/ISJbvCOtFIeycnPhg0b4T7f09snABOZpKRkDE+w2ghnl6XLVmGFc+cu6DR09NgJJD80aCh+/4018QpQhIkgO2wHxdTUtOEjRrpNnrYpaqv4fblYTWgIkz5oCK50GjIM62Op7tdbprFx09bKFS3hPuSYlEFAzs4uELF453vX7n1wN6aiOCF5q5O3BGqIEKIy1BAhRGWoIUKIypiooQMHo33zfsEh/q4MZGdnBwaFoeaXX86IGkIIKQgmasjJaSheU1PTmje3FjV1repGLl2ZlJSsqyGEkIIgd1Lm7OyC1+vXb35jUQ4DIuRz5s6HjPIWEkLIX2OihuLi4jdu2tq6tW1wSASKq9ds+LFpM7EI8zKjP34hhJB8MFFD9+7dj1gYCeO4uo5HcUnkCt234aDy9JnfRJ6Tk7N06fLx4ydOnOhm7pgw0W3atOluk6YY1ZsjsK/Jk6dOnTLNqN5MMX3aDDe3wjguBA6q0PaFmDRp8sxZsyZNMq43R+Cq4Uzi1ajeHDFh4qS8fU0yqjdTzMg9h5ONKs0ROHuz5swR8x4FkTspW+DhA9dEHzkmPgkJoKFHj56IPCMjo9p31YcMGzF/gae5w9Pbp3GTpq6uE5AYLVI8goPDOnbu2ta+HXZrtEjx8A8IqlSpSu9+A4zqzREenl7WLVtjXz6+/kaLzBQzZs3+29/+Pmv2XKN6c0RQUGit2lbBwaGFcNXCIxZWr1ErLDzCqN4cgcP5oMQ/JrlNMao3RwQEBDVo0DAl5a+/qO+NkKuhOXPnQ0OYo1mUKi0cOX7CJLEIQEOWlpW3bdshlc1M3/4DDT+NbVYCg0LxZJAKZqbZTy3CwnInv4XACGeX9RuipIL5efTo0bvvvZ9g8DF9s9LOsQNuV6lgZvCUkjIzg172WckvYi5dkcpmplPXbs+f537QR0FM0VBSUjJ6IEY9s+e4jx49VlSiOGTo8AUe3m6Tp4kaUMga6tO//7nC0lBAYBAmm1LBzPzYrHlo6B8++Wk+ho8YuX59oWronXffe1pYGrJ3bF9oGrK1s5cyM4Ne9um/Po+5dFkqmxmtaKjgFLKGMKe4d/++VDAz23fsXLxosVQwM6PGjN2xc5dUMDOBgUHHj5+UCuYnOSm5ZWvb1JQ0qWxmpk6fUWgacnObImVmJis7G6O8+w8eSGUzQw0RQlSGGiKEqAw1RAhRGWqIEKIy1BAhRGWoIUKIylBDhBCVoYYIISpDDRFCVIYaIkQuqalpKYqCm1zadPGAGiJEFleuXvvw408++kSx+PDjj23a2klbLx5QQ4TI4syZX0t8+PHCVdERK48oEss2nGxpQw3JhRoixQho6KN/frbl4J0t++8qEjui79i2LaQv9NAI1BAhsqCG5EMNESILakg+1BAhsqCG5EMNESILakg+1BAhsqCG5EMNESILakg+1BAhsqCG5EMNESILakg+1BAhsqCG5EMNESILakg+1BAhsqCG5EMNESILakg+1BAhsqCG5KMhDaWlpUcuXRkQGHr58lWpKvf/Ke8Oj1jy5EmcVKaGiMaghuSjIQ3NmDln3PiJS5etavhDI1EzyW3KwEFO02fMch45StQAaohoCmpIPhrSEIZCIpnn7pmTk/P4cZxFqdLPnz9HDfSEsZJYSg0RTUENyUeL7w0NHDgYr5u37GjUsLGo8fULOn8hRuTUENEU1JB8NKSh7Ozs4JCIzp27boraimJ4xJLWrW3FImjo5KnTIqeGiKaghuSjIQ1FLIysXNEyIyNTFLfv2F3Xqq7IoaE7d2JFDg1VrlI1PGxhzKVL589fSEpKEvWEqAI1ZDI3bt5CL752/XobO/uUlFSpViFM1NDUaTPi459KBTTxxi2LUqVFPmfufJGAzMyMBg0a/e3vf3/3vff/79/+Ns9dv4iQwocaMpnvatREL37v/fc/+uSfKSlpUq1CmKihenXrYUCEWLhoqagZ6TJ6xszZPr6Bxr8pq1Rlw4aoZ8+eJyc/y8qSRk+EqAI1ZDKpqWnoxRgHdejUSSujoQUePu7zPRFIcnJyROXh6KMbN23VFQHfGyKaghqSjxZ/U5Y/1BDRFNSQfKghQmRBDcmHGiJEFtSQfKghQmRBDcmHGiJEFtSQfKghQmRBDcmHGiJEFtSQfKghommuXL1WvUbN6tVrKBXfVa/hNHS4tHUlMIeGypWvWLtOXaOWmxw45DZ29lnZ2VKLtQc1RDTNoYOHPvrnv9x9V831XqFA+Kxw913Z2tZO2roSmEND9Rv95Bm0zrjxpsaEaf4ffvxJerr0VTkahBoimubgwUNf/KfM1oPGfdXEOHh38/6bbe0dpa0rgTk01KyF/a6j943qTY5Fq4//46OPqCEloYaKFdSQ/KCGlIcaKlZQQ/KDGlIeaqhYQQ3JD2pIeaihYgU1JD+oIeWhhooV5tCQTRv7xMTEeIU4eOjwJ/8sSQ3JgRoimsYcGqpY6bs29l1a2rRTJJo0tf7yqzLUkByoIaJpzKGh5q0cDvzycOeR+4pE+Ip9H3/6L2pIDtQQ0TTm0NBP1g7Qh/EiUyN48e5PqCF5UENE01BD8oMaUh5qqFhBDckPakh5qKFiBTUkP6gh5aGGihXUkPyghpSHGipWUEPygxpSHmqoWEENyQ9qSHmooWIFNSQ/qCHloYaKFdSQ/KCG3oycnJxLl69mG3xbZVxc/O3bd6VCHtRQsYIakh/U0BuQlJRs+W0Fi1KlExISRc2NG7cqlCtfvqyFp5efqAHUULGCGpIf1NAb4B8Qcv78RZ2GkpOfQUAwEfKBAwdjoJS3FjVUvKCG5Ac19GZkZGTqNLT/wOHqVauJel+/oOvXb4qcGipWUEPygxp6Mww1tGjxslatbEQ9NHT8xCmRU0PFCmpIflBDb4ahhtau29SkSVNRDw3FXLoicqGhrVu2Y5qmm6mRtxVqSH5oWUOiC3fs0lWjGrp791650mXS0zOQT3KbkpWVlbdKrobqWH3/Q6PGtnb2LVq03LBuo6gnbyXUkPzQrIb69h+IXmzfzrGCZeWUlFSpViFM1FBcXPzly1ehoXPnLoiadu3aQ0CYnY0ZO07UAE7KihXUkPzgpOwN8PD0hYMQFct/o5ttOTg4WtWxgp5EEVBDxQpqSH5QQ8pDDRUrqCH5QQ0pDzVUrKCG5Ac1pDzUULGCGpIf1JDyUEPFCmpIflBDykMNaZasrMw1q9dGREQsjFioVEx2m/x12W+pITlBDSkPNaRZ4uLiypSr0KBJq3oNmysV39Ws923FKtSQnKCGlIca0izQkI19p73HH2w/fE+p8AuL+vIrTspkBTWkPNSQZsnVkF2nHUfuGXUDOeEdvIkakhnUkPJQQ5qFGlIkFNfQknWn3n33vd59+/fpN0CpmDljlnTVlYAaIopBDSkSimto8doT739QImLVsYWrTigSq7eet27dVrrqSkANEcWghhQJM2joeIl/fBi1/9bWQ7GKxN4TD1q3cZCuuhJQQ0QxqCFFwkwa2rTnplG9ybH72H1qiBrSKNSQIkENKQI1VEyhhhQJakgRqKFiCjWkSFBDikANFQ1iLl12aN+ha/efu3bvKT+69fi5S/fuLVq3o4ZkBjWkCNRQ0WBz1JZyFapu3HNt7Y5L8mPdzssro860tO1IDckMakgRqKGiwebNW76tVH374XvonIrEup0XW7ahhuQGNaQI1FDRQNLQoVijm8zkWLedGlIgqCFFoIaKBtSQIkENyYcaKr5QQ4oENSQfaqj4Qg0pEtSQfKihosShw0d27d6jVMz38Kj8XR1qSGZQQ/KhhooMz549x+3+z8+++OTTzxWJEh9+VK9BU2pIZlBD8qGGigzJScm29l23H47dvO+WIjHXa6lllRrUkMyghuRDDRUZoKE2Dt1y/8znldvCtJjrvYwakh/UkHy0rqHMzMzk5GdSIQ9qyOieMDmoIUWCGpKPpjWUk5PTuXPXbyzK+foFSVXUEDUkJ6ghJaJ4aWjI0OFr1m7MysoaNMjp6dMEUUkNGd0TJgc1pEhQQ/LRroZSU9MsSpXGgAi5n3+wj2+gqDefhs6dP+/n5+8H/APkR1BwcETEIqNKk8M/IMDHx8fWrgs1JCuoISWiGGnoxo1b0JDIwyOWtGvXXuTm09BIl1Et23bu6+TaZ9BY+dHartPXZb9RamuIXv1HtranhuQFNaREFCMN3bp1R6ehsPDFAwYMErn5NOQ80mX6/OU7opXpRdPmhtT5vrFi1sj9/PqVvF/YU0MyghpSIorVpCwVGnr+/Dly/4CQHTv3iHqhoa1btmO+pizQ0EyPZbtwg+Kmlx3T54XWqdc493Z/ZZEJse1Q7IY9V6EhpZqHcPfJ1dCO6FijetMCptiwK6ZVm464R40WyQmf0FwNbT+sWCO3HbrVzNp+z3HFGhm8ZA80tO2VetMCLdx9LBYt3Hv8gdEik2NJnoai9t80qjc59r38zxxSz5EHttOxS1ftvkXdrVsPb5+Ahw8ft2ljJ1Xlaaj+D40+K/lFqdJllI1PPv3s05L//vKrsl/8t4zM+Pd/y3xW8sv3PyihyNYQX+a9lvjwY6U2iPis5H/fff8DBVuIULaFiJL//vqd994Xhy8/chv5VdkPPvzoP8o1MreF776nVAtx56BtuS382sJokcnx+Zdf//0dRVv4tUWJDz8qY1HOqAeZFmXKWnz+5X9TU9OkHq4QimkIpqxZvUb5shaQkVSVx4GD0QGBwYpHeMSi8LCIYBASIj8iwiOWRC41qpQTYPHiJUo1D4GDXRq5zKhSZixeHKlgCxGhoeEabyRauGzpSqNKWREcrHQLw5YvW2VUKStyW7jUPyDIqAeZHGie1LeVQzENAZgoKytLKhBCSMFQUkOEEGIC1BAhRGXMpSFM0LKzs6XCK+S+5573rrscsIV85oDYu/xdGIKt5XNE+Swyjfx3B+TPf/M5gWKRQKpSgnz2KFD2qmFrf7o7w6NTdnf5bA37kjKFyGd34gClghlQfONm0ZCvX9DgwUP69Ruwdt0mqcqAqM3bates7ecfLJVNYv+Bw46OHWbPcR82bIRRd0Vx5qy5o0aNadSw8eHoY1KtPHbv2e/g4IiD8vTyM7r2Z34927dv/+kzZjX9348nT52WauWxd98BOzsHJ6ehCzy8//RW27xlR6UKFR88eCiV35zff3/kMmoMTuDwESOlKgPGuo6fM3c+Iig4XKqSzePHcWKPzs4uUpUBGzdtHeHsgqULPHykKnng1E2ZOn3qtJm4NFLVSw4eihZHh5tHqd15eftNnjINl2zDxi1S1Ut+Of0rruY8d48WLVqeOPmLVCsPH99At8lTBw4cvG69cRdbs3bjsOHO06bPwh179ep1qVYh0tMz3CZP0/2RoFIor6G7d+/VrF5D5K1b24pEx+o1GxYuWjrP3VOmhnBdReIfEIILLHLBgYPRuABI0IFnzJwjKmVib99OJBXLf7Nv/yGRC3SaePo0wfBjvXLQ/Rk6XAMDilxHYmJSudJl4uLipbJJYMs7d+1F4uXtH3PpiqjUofsDVKXAs6GKZeXtO3Yjh2vOnbsg6gVPnsRVrVwlMzNTKssmNvY+eqnIp06bYfSg0lGjWnXoTyrI4OHDxxMmuiF58OB3y28rGD058FC8eu0GkmvXbug+5yQHXPpx4yciefToCW5Iw6NLSEjEvSE+1Hn6zG/BIRGiXhGSk5/VtaqLoygCGopYGAlJixy6+dOHuXwNTZw0WSToS/Xq1hO5EecvxMydt0AqyGP8hEkiwdP1Ty9tfPzTWbPnbYpS4J4GY8aOEwl67KvjkUluU9Cf09LSTf7zjdTUVGhIDK1DwxYNGTpc1OvAUx0XCFZ99uwP39xiMug56J9CNOERS4w0h3vGw9PX2yfgT51oAnja6S6T+3xPDH9EbghuD/ThjAwF3IfrHhgUhgRXBBYQ0tGBAYvTkGGXL1+dMXP2q2MlE9ixc4/YHcYm2N2ly1dFPYCGIHTR6e7ciVXquWhEEdAQjnzxkuUixxTmT6eR8jU0f4GXSHB1/1RDGLPgZP362zmpLA80WCQYm7yqoXv37mNfPzZtpsg9DXTju0OHjxhpCAYRswx02silK0Xlm4IZmVUdK5GvWLkWN67IdUBSV65cgy9+aNBQqpIHxju1atQUORyB7YtcgHsG83ScPXQwjFCkWhl07dpdd5mgNoTIDcFOTT6BRmBWLi4T7vbyZS2MrAcpwLO4Q5R6SkFqQkMYB31jUW7P3gOiHkBD2BFGSch37d6nyODrVYqAhnA9MAwWOR5xZhoN6WZbx46ffFVDy5avxrRf5rTFEMy0RYKb+09HQwBdSGcrmUyZOl0kmMAaagjTMfRSTP4vXLzUtq09Tu/rphv5g+1Ur1pNXBo8M/r1Hyjqdeg2ixvu1q07IpeDmHaJPS6JXNGrVx9RL4ARLl68JHLs8fr1myI3GXhcd5kWePigQ4pcB1rSs2evP705TcDL209cpleHJwAj96XLVmFGg9VwyaRaGcBBQkMQN6yHm0HUC3DzDx48BH0QJ0GspjhFQEOYJTVq2Fjk0LZIMFg1vOTyNdSlSzeRhIUvHpo3p0DPEWN+MTDGCCVvuTJ06tRFJE2aNBXjahyO0XsZaMDkKdOkgjw6dOgkkubNrcV7kGJft2/frWJZWQSOEXOK+/cf5K34xuBOunv3HhIo4HD0USS4pzHRy1sogWPEaphvSmUZoBNiUzdv3ka+wMNbPMCxRzFYRhvO/Ho2d728hsl5610AdepuMEzMxdnDq0hAUlIyJrwil8+DB7/jEJDgMCuUKy8kDiXlLdS/Q4oZLma7IpfD48dxYpjz/PlzjIbEOdTtToeDg6Mi73y9ShHQEE4KnnW4xpg1iDEL7nK0u//LR27U5u1YAUXdJ2BNABN+zPj8A0KcnV1SUnI/aAdBiLcJcYvXrF4DixB79x3MW10u6Dl4jiE6duwsrnezZs1dXccjwTQNtyDi5597v/rUNQ3sCM9wHGD79h2FGurUqmN0ujBdkjOnwJBkwIBB6Kujx7iKGkgNcyXRUVGPs4cRZUjoQrFUPnhK46Ib7VF89OfUL2cwKcM5HDd+oiJ2gODwCBTXRferQMtvK4jZGW5RR8cOq1avF/XywUmDX7AvnDGcN9SI98LEUtRgYBIQGIqje/UXWyaA9ku7G+6MV9RAuziZYimm0qjEqcYQ3rTBcj5ggxj3oTsbDtLlo7yGBHhKiwmq4MqVa7rREE4ZRuAIk5/kgocPH8dcuqJ7CODOE8/tp08TxPYReEyJpfLB4RiOsHDn6SZ9eDrJn0cYgW3Gxup3h6KUveTq1eu6b7k0DUzNsBHddcG8SYyPAA4tJuayUu9P68AYxHCPuF5og8hReePGLbRBFBUBFwXjR6mQd2MkJCQiEfsSlQqC3YntCwzv/9TUVBy4slLAIRjuDt1BJHfuxF67dkN3kpUFmxU9C7eHVKUE5tIQIYQUEGqIEKIy1BAhRGWoIUKIylBDhBCVoYYIISpDDRFCVIYaIoSoDDVECFEZaogQojLUECFEZaghQojKUEOEEJWhhgghKkMNEUJUhhoihKgMNUQIURlqiBCiMtQQIURlqCFCiMpQQ4QQlaGGCCEqQw0RQlRGloaePIkT/6pQB2pSU1OlAiGEFAATNZSamtaqlU35shaNGzfJyJD+Ie/KVevKlS6DGvHfbAkhpCCYqKGjx06sWr0+MzNzz94D8A5qkA8ePARDoR0799jYtBGrEULIXyL3vaHjJ07VrF4DCewTsTBSVFqUKq3sfwEmhLzFmK6hc+cuLPDwtrdvJ/6Tes+evQw1FHPpCpKsrMyOnbv+2KyFTVs7bUYbO3ur7+s1b9HSqF47gRZ+X6/BT82tjeq1Fm3t29Wr/wNejeq1EziT9RughQ5G9doJtLDBDw3xalSvnUDb/vdjs/T0dNHTlULuaGjtuk1iNDRokJOhhq5fv4kkIyPD0rLytm07RL0Gyc7Orlfvh1Ur10plTdLspxZhYRFSQcPgHpUyrdLOsUNOTo5U0CSOHTsp3smVpVPXbs+f/+EXU/KRq6HExKQK5cqjM+/ddzAkdCFq0tLSLb+tIH6DViQ09H29+qtWrpHKmgQaCg0NlwoaxratnZRpFQfta6hDR2qooFy4eOnRoycJCYn+ASENf2gkKn/6qUVcXLy3T0D79h1FTRHQUE5OKxvbqM1bpLIm6dCx0/JlK6WChun+cy8p0yq9+w3QuIb6DhiUmZkhFTSJhjR0OPqor1+Ql7d/YFBYZqb0C/vD0cfgINTorrT2NQQwIJIyraL9Fgo03sOB9luo/WutxUlZ/hQJDRFCCg41ZHbwtFQcadOEvBVQQ+YlOfkZTnFbe/u2DopFm7Z2y5cXgbd1CCkg1JB5uXX79jvvvjdq4nzXyV5KhX3H3h07d5J2QEjRhxoyLzdu3vygxEfrd17ZcvDulv3KxLjJXo7tHaUdEFL0oYbMCzVEyF9CDZkXaoiQv4QaMi/UECF/CTX0B7JzcrKyMhWMa9euUUOE5A81pAfW6D9wcK3atevUqatUfPdd9U//9cWG3deoIUJeBzWkJz0tzaJceYdOfed4L5/lEalIuE71+fDjf67fdZUaIuR1UEN6oKGyZcsOGz1326FYo55vcixee7zEPzgpIyQ/qCE91BAhqkAN6aGGCFEFakgPNUSIKlBDeqghQlSBGtJDDRGiCtSQHmqIEFWghvRQQ4SoAjWkhxoiRBWoIT3UECGqQA3poYYIUQVqSA81RIgqUEN6qCFCVIEa0kMNEaIK1JAeaogQVaCG9FBDhKiChjSUlZXl7RPQu3fffv0GLFu+WlSuXbepa9fuw4Y7X7t2Q9RQQ9QQecvQkIZgnKb/+xHJo0dPKlWomJOTk52dPcLZBTWHDh/5oUHDvLWoIWqIvG1oSEOZmZkQEJLExCSLUqUxOIqJuRwSulAsQk1aWjpyaogaIm8ZWnxvaOWqdX369EOCoVDEwkhRCQ1dunwVSa6GKlXZumW7GC6JpYpADRFSmKALAyQdu3TVkIbQpl69+jjnTcSArW1bQw1dvHgJCTRUv37DEv/48LOSJf/fByW8vL3FCvKhhggpTL7/vj568Wclv/i0ZMmUlFSpViFM1FB6eoaNTZup02YiETWrVq8PC1+MBBO08mUtkpOfIYeGKlepFhwcdvr0mRMnT8XHx+etqwDUECGFScyly+jF586ft7Wz14qGNm/ZUbH8N1IhDwyOxMho5669jRs3EZV8b4gaIm8ZGnpvKHLpykYNG3fp0g3RvXtPMWnEgAjFMWPHxcc/FatRQ9QQecvQ4lvU+UMNUUPkLYMa0kMNEaIK1JAeaogQVaCG9FBDhKgCNaSHGiJEFaghPdQQIapADemhhghRBWpIDzVEiCpQQ3qoIUJUgRrSQw0RogrUkB5qiBBVoIb0UEOEqAI1pIcaIkQViraGsrOzc7++TSHSUtPKlC5DDRFSyBRhDXl5+VSpVsO6ddsWrdooE63bvvPOO65uPtQQIYVJEdbQICen6rUbHDj1++5j9xWKu//5uoyz6zxqiJDCpGhr6Lta9bcrp4yofTe//IoaIqSwoYb0QQ0RogrUkD6oIUJUgRrSBzVEiCpQQ/qghghRBWpIH9QQIapADemDGiJEFaghfVBDhKgCNaQPaogQVaCG9EENEaIK1JA+qCFCVEFbGkpPzwiPWLJl606p/OLFgYPRCzx8PDx909LSRQ01RA2RtwwNaejmzdvfWJRzdR3vNnmqVPXiRfPm1jk5OWHhi5s0aSpqqCFqiLxlaEhDm6K2pqamQjo6DT18+NjPPxhJcvIzy28rYBFyaogaIm8ZmntvyFBDs+e4RyyMFLlFqdIYLiGhhqgh8pahaQ21amVjqKFz5y4goYaoIfKWoWkNeXn7GWoIczQkmZkZday+b9Xa1tKyUv1GzakhRVi+bEWHTl06d+/ZpXsPxaJrj8FDhqW//N0CIUa4jB7btUfPHr16V6teIyUlTapVCMU0lJCQuMDDG8mdO7H16tYTlbmjoUpVNkVt6dOvf/XaDaghRRg6fPjUuYs277+JpioVYcsOfP7FlwkJCdI+CPkjKSmpycnP8Nq+U2e8SrUKYaKGsrOzMfzx8PTt0KETEvGG9OgxrvMXeI1wdjkcfVSsxkmZeTQ0YqbHih1H7uW2U6FYtPr4F9QQKQCam5T9JdSQ0BA0na1cYDQEDW0/fM9oX3KCGiIFhBrSR1HRkNuswH99/m+7dp1b2rZTJFrZOlasVNXddy01RFSBGtJHUdHQ+CneP7W0j/7t8a6j9xWJ3cfud+vlNMtzJTVEVIEa0kcR0lCzFva7j983qjc9Dt7t3HMwNUTUghrSBzVEDRFVoIb0QQ1RQ0QVqCF9UEPUEFEFakgf1BA1RFSBGtIHNUQNEVWghvRBDVFDRBWoIX1QQ9QQUQVqSB/UkLIaWrzmRIl/fOju7u7j4+vl7aVUeHp5nTx1WrobyFsBNaQPakhZDS1ZexIa6tXfpb/TuL6DXZWKn1q1s3doJ90N5K2AGtIHNaTwaGjt8c9K/nvN9osKHjvCdYq3ja2NdDeQtwJqSB/UEDVEVIEa0gc1RA0RVaCG9EENUUNEFaghfVBD1BBRBWpIH9QQNURUgRrSBzVUJDTkNivws88/b9+pWxt7R6WihXXrs+fOS3cYKXSoIX1QQ0VCQ+On+jT6n/Wh04+2R8cqEjuj73XtNWRz1BbpDiOFDjWkD2qoqGioYRPr3ceUPPyuPw/ZvJkaUg1qSB/UEDVEVIEa0gc1RA0RVaCG9EENUUNEFaghfVBD1JDG2bFz1/Jly1esWKVg/Hb2nLR19aCG9EENUUMax7JyNav6P9awaqRI1LJqVLVmvc7duktbVw+tayguLj4gMDQ4JCI7O1vUUEPUULHVUItW9gdO/Y7LpEjsOHJv5ebfevzcR9q6emhdQ1OmTl+2fPUCD+8mTZqKGmqIGirOGlL2wJduOEMN/QVZWVmjx7giwVCofFmLCxcvIaeGqCFNaSgnJ0fKzA81VHAU09DNm7cxHRN5q1Y2y1esQUINUUOa0tCAQYMLzUTUUMFRTENnz10IDVsk8vbtOwYGhSGhhqghTWnIrp1jNjUkD01r6NatO0HB4SJv3tx6/YbNSP6godoNcFVgDUVi66Fb//mqzEjXebuOKLbNyPUnoKFNe66hhxstMi2g3YnTvZtZ2+8/9bvRIpMDbevSc/Bc75VQm9EiOYFjh4bW77qk1LGLmDgj9zNlCh7+juh73XoNjYrKvbtMwMGxQyGOhuyUPfAVUXyLugBMcpsiEotSpW/fvosEGqpZq3YrG9vKlat+8q9/t7br3sK2kyLRqk2X9/7fB9/VqteqbTejRSZHU2uHv/39HSTWtp0N6+WEVf3/ffl12baOvY3qTQ5r284VKteo2+BHG/seRovkBI79nffeb966Q0vljh1hVb/pF/8tpeTht8k9/B+bNe/Zu2+X7j3eKHr16VembHm8du3e02iR4tG3/8CvSlm0adfLqP0mR8s2XX60dqhgWbn7z72M9lWYgdNeqUrVlJRU0dOVQkkNDRs2wsc3EDKaOWuuVPXiBYZC8xd4+PsHBgeHeub+wxjFCAkJ8/XzU3Cb3t7eIaHhUkEhfH19AwODPD2VPPCAgEBsVtlt5h57SJhUUA5coKCgYMUP38vbBzfVAg/PNwr8CH7WhB80IdwXeORddw+p0UqAa+RfWO1/XWDv6COKjyiV1BCIjb3/5EmcVCCEkAKgsIYIIeRNoYYIISpjXg1lZGTGxcUnJSVLZS2RkpKCtomQqrTK06cJqan6NwVTU9NEswvzj/FeBxoWH/9UKuR9oEeEYYPVRZyu58+fS+WXl147LQTipEkFg5sTl16qUhucQKNG4vZD0fDqm4x5NTTP3cOqjlXVylUSEhKlKs0wa/a8ulZ1EQ3qN5CqNMmZX89alCrt6xcklV+8GDN2HJpdxbLyksgVUpVKoIc7OnaoUa26KOKpg6aKsxqxMFJUqo7LqDFoT83qNcRHHdF5mje3Rk3Xrup/TFSAblKhXPnqVav16PGzqHF1HS9OY9u29qJGXZ49e4YTiPaUL2uxY+ce1OA0om249OVKlzl56rRYzWTMqCGYcqTLaCSHo481btxEVGoHdGYp0zB4GM5f4LV+w2adho4eOzFj5hwk6FR9+/YXlYWPeDDOnuPuNnmaoYbQnUSuEfAM9/L2RxIQGDp12gwkruMmRC5diQSdf83ajbkrqcrjx3HQIi50cvIzdOnr12+icsCAQWKpRkCrxMezHj164j7fE8mGjVt69+6LmzDm0hVIM28t0zGjhry8/cTfUgM8JK9duyFyjTBk6PDExKTzF2KksobZtXufTkNNmjRduWqdyGEB3ZcZqAV6sk5Dd+7EQkO3bt25dPmqqNEOuBWdR47C6cKtiOuOGnSkHxo0FEu1ACZiaFtMzGXkzs4uDx8+Rg8Xi7TD5ctXfXwDkXh6+cGbotLBwVEkJmNGDdnatl24aKnIcX4xJhK5RmjTxg4TBzwkMSnT1NsEr2KoIctvKxw/cUrkGBZlZWWJXC0MNYSG1alVJzxiCVo7YaKbqFQdnCJcaAzMMYWEhjDiSE/PQP2Jk79oZ+yGtqGFuqtsZ+eAvoMHOTqR6pdYsClqa/v2HStXtDx95jcU0TYMfsWiLl26icRkzKihPn364Y4UOTR09twFkWsK3JcVy3+zd98BqaxJDDVUrUrV/QcOi3zW7HmaGg0Zgo4kZWrj7ROge2NIjIbQ55Hv3XcQ9XmrqAyGFeXLWixavEwqG4DWampoCYOLKRhGQ+I0go4dO4vEZMyooSWRK/z8g5Hk5OTgbOqGcJripYYOSmVNYqgha+tWujHm3HkLVP9l2es0pJH3VkHLlq11shYaevw49y9s0e1tbNqIehXBFcQJtKpjJZX/CFqLeZBU0ABoLe5AJB6evr///khUyn/kmFFDmOs6DRn25EncipVr5b+JpTi4uk+fJkRt3l7Xqq7O6xrk+fPnGzdtXeDhLf7uISbm8ghnF7Qcc4ohQ4eLddQClzhy6crqVauJZwxeb968HRcXHxgU5jZ5qlhHXRISEie5TcHpQogT6D7fc8bM2fHxT4cOHY7WitVUJDb2/jcW5e7ffyAamZmZO9O5cPES8nXrNzVvbq1zqIqsXLXu2rUb6Mth4YvFld2z90CrVjaoDAldiJGRWM1kzKghsGr1+to1aw8ePEQqawZIvVmz5mhbr17qf2Q5f3DV0U7DpqKTo1inVp07d2JFjVrMmDlHtA3PGxSPHT8pij179lJ9mCY4e+6CaBJC99CeMnU6irrvpVGXvfsO6FqIwNMFlQ3qN0Du5DRUrKM6mNiK5tnattW9JbR9x27UQEbyRWleDRFCyF9CDRFCVIYaIoSoDDVECFEZaogQojLUECFEZaghQojKUENFgJw8pEK+bN22U+Yf7Pz++6NmzZrL3Igh2NSvv52TCoT8GdSQ1vHw9LUoVbpShYpXr16Xql6Pr1+QTIOEhC7E7u7evSeVC0xqaqr4yKgh2dnZNjZtype1EH8cbDLJyc9e95nExMSk386eN9o19qv7qAHRPtSQpkHfGz5iJJI7d2LXrtskKvNBvobQgcV3TbwpkJf4r1CGHD9xasPGLXKahPbgoLp37/mNRTmpyoBLl6+6jpsQsTBy6NDhur/uBaNGjdmydadUIJqHGtI0dnYOun9CmT/o8Nu27/L2CdD1+UOHj+w/cPjVYUhWVtbRYyeWLluVkiL907sbN25t3rJDrBkesUS3R4xBwLr1Udjm+fMXN0Vt1W382rUbiLDwxeLTZPv2H4KG3Od7BodEQBx79h7A4AhLDx6KxtbEN5Ng+wcORi9fscbQF39JXFw8tLh334E/1ZAOL2//Bw8einzV6vUtW7YWOSkSUEOapopl5YJoCP1/3PiJGBT06dMPpkhLSxdf9hQYFGb5bQWjj2iHhi2CIKCb3r37orgkcsUCD2/8LMSEIqQDoSCBTVq3tg0IDJ04abK1dSv8yPgJk2AZLMLPjh49FoEOP8LZBWue+uUMfgrrrFu/CbqBMubOW4BRzOkzv2FGNmPmbPyUf0AIfhCTvoEDB6NoCAxiGHCftOAl+WjozK9ncUTz3D2EItGYkS6jcQagPLEC0T7UkKZBHy6IhqAA8e/hxKRs1+59zZo1v3//AQJzFvR8sZqOhIRELHJ07IAcdpgydbruvRX8uNAQEN+DEX3kGJqBBD8FKyHBChihILAR6AZjK1Gpm5Qh/+3seZFDH0JDID7+KX7kp59aiKIAe2zSpKlhvPod2/lo6HD00WHDRkCUQkNTp80UZ2z0GNe85aQIQA1pmi5duum+SDcf0O3FCEJoaPGS5VZ1rKAMEbpvawQYLMyYOWfylGnoqz82bYYazJ6Qu7qOx0+hWEANeXr5IcT2L+Z9S3H+GsJeMKqaOWsu9vXq/yDAlMowDBss+MtJGQ4cE9LzF2LKlS6zwMMHRQzl8CrzrXFSOFBDmiY29v7Yl1/VJN5SQU8T35puCLr9rVt3kAgNYZyiU4kRGPXovvm0c+euIgFZWVnowEgKoqFKFSpu274LkbvSS/LXEAZrda3qipoWLVqKRAdGSYbx6tc/GWoILcTkzsgvcBCmhDhFuo306tUHr9Jiom2oIU2DLodBBMYvo0ePFV9FjmHOq+OjTVFbh48Yid4+YMAg8Z4IfOTs7IIfcXIaavgLLOhmpMvo6TNmzZ7jPnCQE4rr1m/C8AFzN3RjrIA96r5NsUOHTnjF2ER8WWpiYpKY3925E4uNIPz8gzEJyl0171tBUTNu/MSkpGRs4dzL36/XqlETE7eUlBS0DQmOZdAgJ7GogJw4+cuEiW5ow/IVa1Dcu+8gto/tIB8zdtwktynz3D1GOLug5XmrS4ivQCJFAmqIEKIy1BAhRGWoIUKIylBDhBCVoYYIISpDDRFCVIYaIoSoDDVECFEZaogQojLUECFEZaghQojKUEOEEJWhhgghKkMNEUJU5cWL/w+S2n5S3Z2S2wAAAABJRU5ErkJggg==)\n"
   ]
  },
  {
   "cell_type": "markdown",
   "id": "8995a617",
   "metadata": {},
   "source": [
    "**Kurtosis** \n",
    "    <br>Es una característica de como la frecuencia relativa se reparte entre el centro y los extremos\n",
    "\n",
    "\n",
    "$$CA_p=\\frac{\\sum_{i=1}^n (x_i -\\bar{x})^4}{ns^4}$$\n",
    "\n",
    "<br>\n",
    "    <br>Este coeficiente es siempre mayor o igual que uno. El coeficiente de curtosis es importante porque nos informa respecto a la heterogeneidad de la distribución.\n",
    "    \n",
    "* **Kurtosis = 3:** Distribución normal\n",
    "    * **Kurtosis > 3:** Colas más pesadas o una mayor concentración de datos en comparación con una distribución normal. En una distribución leptocúrtica, hay más datos en las colas y la distribución puede tener picos más pronunciados alrededor de la media, lo que sugiere una mayor probabilidad de observaciones extremas\n",
    "    * **Kurtosis < 3:** Colas más ligeras o una menor concentración de datos en comparación con una distribución normal. En una distribución platicúrtica, la dispersión de los datos hacia las colas es menor, lo que sugiere una probabilidad relativamente menor de observaciones extremas y una mayor uniformidad en la distribución."
   ]
  },
  {
   "cell_type": "code",
   "execution_count": 81,
   "id": "be2e51f0",
   "metadata": {},
   "outputs": [
    {
     "data": {
      "text/plain": [
       "12.195142125084478"
      ]
     },
     "execution_count": 81,
     "metadata": {},
     "output_type": "execute_result"
    }
   ],
   "source": [
    "# Coeficiente de asimetría \n",
    "scipy.stats.skew(df['LotArea']) "
   ]
  },
  {
   "cell_type": "code",
   "execution_count": 51,
   "id": "8cfed719",
   "metadata": {},
   "outputs": [
    {
     "data": {
      "text/plain": [
       "202.5437927513529"
      ]
     },
     "execution_count": 51,
     "metadata": {},
     "output_type": "execute_result"
    }
   ],
   "source": [
    "# Coeficiente de kurtosis\n",
    "scipy.stats.kurtosis(df['LotArea'])"
   ]
  }
 ],
 "metadata": {
  "kernelspec": {
   "display_name": "Python 3 (ipykernel)",
   "language": "python",
   "name": "python3"
  },
  "language_info": {
   "codemirror_mode": {
    "name": "ipython",
    "version": 3
   },
   "file_extension": ".py",
   "mimetype": "text/x-python",
   "name": "python",
   "nbconvert_exporter": "python",
   "pygments_lexer": "ipython3",
   "version": "3.11.4"
  }
 },
 "nbformat": 4,
 "nbformat_minor": 5
}
