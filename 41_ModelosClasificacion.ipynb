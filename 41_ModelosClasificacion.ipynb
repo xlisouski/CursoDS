{
 "cells": [
  {
   "cell_type": "code",
   "execution_count": 4,
   "id": "ef0a92e3",
   "metadata": {},
   "outputs": [],
   "source": [
    "import pandas as pd\n",
    "import numpy as np\n",
    "import matplotlib as mpl\n",
    "import matplotlib.pyplot as plt\n",
    "import seaborn as sns\n",
    "# Librerías para arboles de decision \n",
    "from sklearn.tree import DecisionTreeClassifier\n",
    "from sklearn import tree\n",
    "from sklearn.tree import DecisionTreeClassifier, plot_tree\n",
    "# Librerias para regresión logística\n",
    "import statsmodels.api as sm\n",
    "import statsmodels.formula.api as smf\n",
    "# Librería para PCA\n",
    "from sklearn.decomposition import PCA\n",
    "# Libreria para KMeans\n",
    "from sklearn.cluster import KMeans\n",
    "# Libreria para normalizar\n",
    "from sklearn.preprocessing import StandardScaler\n",
    "# Libreria para separar en train y test\n",
    "from sklearn.model_selection import train_test_split\n",
    "# Librería para RandomForest\n",
    "from sklearn.ensemble import RandomForestClassifier, RandomForestRegressor\n",
    "# Librerías para métricas\n",
    "from sklearn.metrics import confusion_matrix, roc_curve, auc, accuracy_score, classification_report,recall_score, f1_score\n",
    "import scipy \n",
    "# Seteo para que no se muestre notación científica\n",
    "np.set_printoptions(suppress=True)"
   ]
  },
  {
   "cell_type": "code",
   "execution_count": 5,
   "id": "9eeb6d12",
   "metadata": {},
   "outputs": [],
   "source": [
    "# Función para calcular métricas\n",
    "def CalculaMetricas(variable):\n",
    "    \n",
    "    # Elimino los vacíos\n",
    "    variable = variable[variable.isnull() == False]\n",
    "\n",
    "    media = variable.mean()\n",
    "    mediana = variable.median()\n",
    "    media_recortada = scipy.stats.trim_mean(variable,0.1)\n",
    "    varianza = variable.var()\n",
    "    desvio = variable.std()\n",
    "    primer_cuartil = variable.quantile(0.25)\n",
    "    tercer_cuartil = variable.quantile(0.75)\n",
    "    percentil_1 = variable.quantile(0.01)\n",
    "    percentil_99 = variable.quantile(0.99)\n",
    "    error_estandar = scipy.stats.sem(variable) \n",
    "    cv = scipy.stats.variation(variable)\n",
    "    asimetria = scipy.stats.skew(variable) \n",
    "    curtosis = scipy.stats.kurtosis(variable)    \n",
    "    \n",
    "    resultado = (\n",
    "        f'Medidas de Tendencia Central\\n'\n",
    "        f'Media: {round(media, 0)}\\n'\n",
    "        f'Media Recortada: {round(media_recortada, 0)}\\n'\n",
    "        f'Mediana: {round(mediana, 0)}\\n\\n'\n",
    "        f'Medidas de Localización\\n'\n",
    "        f'Primer Cuartil: {round(primer_cuartil, 0)}\\n'\n",
    "        f'Tercer Cuartil: {round(tercer_cuartil, 0)}\\n'\n",
    "        f'Percentil 1: {round(percentil_1, 0)}\\n'\n",
    "        f'Percentil 99: {round(percentil_99, 0)}\\n\\n'\n",
    "        f'Medidas de Dispersión Absolutas\\n'\n",
    "        f'Varianza: {round(varianza, 0)}\\n'\n",
    "        f'Desvío Estándar: {round(desvio, 0)}\\n'\n",
    "        f'Rango Intercuartílico: {round(tercer_cuartil - primer_cuartil, 0)}\\n'\n",
    "        f'Error Estándar: {round(error_estandar, 0)}\\n\\n'\n",
    "        f'Medidas de Dispersión Relativas\\n'\n",
    "        f'Coeficiente de Variación: {round(cv, 2)}\\n'\n",
    "        f'Desvío Intercuartílico: {round((tercer_cuartil - primer_cuartil) / (tercer_cuartil + primer_cuartil), 2)}\\n\\n'\n",
    "        f'Medidas de Asimetría y Curtosis\\n'\n",
    "        f'Coeficiente de Asimetría: {round(asimetria, 2)}\\n'\n",
    "        f'Coeficiente de Curtosis: {round(curtosis, 2)}'\n",
    "    )\n",
    "\n",
    "    print(resultado)"
   ]
  },
  {
   "cell_type": "code",
   "execution_count": 2,
   "id": "197327a3",
   "metadata": {},
   "outputs": [],
   "source": [
    "# Importo la data\n",
    "url = 'https://raw.githubusercontent.com/xlisouski/DataCoder/main/Titanic.csv'\n",
    "df = pd.read_csv(url, sep = ',')"
   ]
  },
  {
   "cell_type": "code",
   "execution_count": 3,
   "id": "b2b450d6",
   "metadata": {},
   "outputs": [
    {
     "data": {
      "text/html": [
       "<div>\n",
       "<style scoped>\n",
       "    .dataframe tbody tr th:only-of-type {\n",
       "        vertical-align: middle;\n",
       "    }\n",
       "\n",
       "    .dataframe tbody tr th {\n",
       "        vertical-align: top;\n",
       "    }\n",
       "\n",
       "    .dataframe thead th {\n",
       "        text-align: right;\n",
       "    }\n",
       "</style>\n",
       "<table border=\"1\" class=\"dataframe\">\n",
       "  <thead>\n",
       "    <tr style=\"text-align: right;\">\n",
       "      <th></th>\n",
       "      <th>PassengerId</th>\n",
       "      <th>Survived</th>\n",
       "      <th>Pclass</th>\n",
       "      <th>Name</th>\n",
       "      <th>Sex</th>\n",
       "      <th>Age</th>\n",
       "      <th>SibSp</th>\n",
       "      <th>Parch</th>\n",
       "      <th>Ticket</th>\n",
       "      <th>Fare</th>\n",
       "      <th>Cabin</th>\n",
       "      <th>Embarked</th>\n",
       "    </tr>\n",
       "  </thead>\n",
       "  <tbody>\n",
       "    <tr>\n",
       "      <th>0</th>\n",
       "      <td>1</td>\n",
       "      <td>0</td>\n",
       "      <td>3</td>\n",
       "      <td>Braund, Mr. Owen Harris</td>\n",
       "      <td>male</td>\n",
       "      <td>22.0</td>\n",
       "      <td>1</td>\n",
       "      <td>0</td>\n",
       "      <td>A/5 21171</td>\n",
       "      <td>7.2500</td>\n",
       "      <td>NaN</td>\n",
       "      <td>S</td>\n",
       "    </tr>\n",
       "    <tr>\n",
       "      <th>1</th>\n",
       "      <td>2</td>\n",
       "      <td>1</td>\n",
       "      <td>1</td>\n",
       "      <td>Cumings, Mrs. John Bradley (Florence Briggs Th...</td>\n",
       "      <td>female</td>\n",
       "      <td>38.0</td>\n",
       "      <td>1</td>\n",
       "      <td>0</td>\n",
       "      <td>PC 17599</td>\n",
       "      <td>71.2833</td>\n",
       "      <td>C85</td>\n",
       "      <td>C</td>\n",
       "    </tr>\n",
       "    <tr>\n",
       "      <th>2</th>\n",
       "      <td>3</td>\n",
       "      <td>1</td>\n",
       "      <td>3</td>\n",
       "      <td>Heikkinen, Miss. Laina</td>\n",
       "      <td>female</td>\n",
       "      <td>26.0</td>\n",
       "      <td>0</td>\n",
       "      <td>0</td>\n",
       "      <td>STON/O2. 3101282</td>\n",
       "      <td>7.9250</td>\n",
       "      <td>NaN</td>\n",
       "      <td>S</td>\n",
       "    </tr>\n",
       "    <tr>\n",
       "      <th>3</th>\n",
       "      <td>4</td>\n",
       "      <td>1</td>\n",
       "      <td>1</td>\n",
       "      <td>Futrelle, Mrs. Jacques Heath (Lily May Peel)</td>\n",
       "      <td>female</td>\n",
       "      <td>35.0</td>\n",
       "      <td>1</td>\n",
       "      <td>0</td>\n",
       "      <td>113803</td>\n",
       "      <td>53.1000</td>\n",
       "      <td>C123</td>\n",
       "      <td>S</td>\n",
       "    </tr>\n",
       "    <tr>\n",
       "      <th>4</th>\n",
       "      <td>5</td>\n",
       "      <td>0</td>\n",
       "      <td>3</td>\n",
       "      <td>Allen, Mr. William Henry</td>\n",
       "      <td>male</td>\n",
       "      <td>35.0</td>\n",
       "      <td>0</td>\n",
       "      <td>0</td>\n",
       "      <td>373450</td>\n",
       "      <td>8.0500</td>\n",
       "      <td>NaN</td>\n",
       "      <td>S</td>\n",
       "    </tr>\n",
       "  </tbody>\n",
       "</table>\n",
       "</div>"
      ],
      "text/plain": [
       "   PassengerId  Survived  Pclass  \\\n",
       "0            1         0       3   \n",
       "1            2         1       1   \n",
       "2            3         1       3   \n",
       "3            4         1       1   \n",
       "4            5         0       3   \n",
       "\n",
       "                                                Name     Sex   Age  SibSp  \\\n",
       "0                            Braund, Mr. Owen Harris    male  22.0      1   \n",
       "1  Cumings, Mrs. John Bradley (Florence Briggs Th...  female  38.0      1   \n",
       "2                             Heikkinen, Miss. Laina  female  26.0      0   \n",
       "3       Futrelle, Mrs. Jacques Heath (Lily May Peel)  female  35.0      1   \n",
       "4                           Allen, Mr. William Henry    male  35.0      0   \n",
       "\n",
       "   Parch            Ticket     Fare Cabin Embarked  \n",
       "0      0         A/5 21171   7.2500   NaN        S  \n",
       "1      0          PC 17599  71.2833   C85        C  \n",
       "2      0  STON/O2. 3101282   7.9250   NaN        S  \n",
       "3      0            113803  53.1000  C123        S  \n",
       "4      0            373450   8.0500   NaN        S  "
      ]
     },
     "execution_count": 3,
     "metadata": {},
     "output_type": "execute_result"
    }
   ],
   "source": [
    "df.head()"
   ]
  },
  {
   "cell_type": "markdown",
   "id": "99dced3f",
   "metadata": {},
   "source": [
    "# Descripción de campos\n",
    "Variable  | Descripcion\n",
    "-------------------|------------------\n",
    "Survived|\tSurvived (1) or died (0)\n",
    "Pclass\t|Passenger’s class\n",
    "Name\t|Passenger’s name\n",
    "Sex\t|Passenger’s sex\n",
    "Age\t|Passenger’s age\n",
    "SibSp\t|Number of siblings/spouses aboard\n",
    "Parch\t|Number of parents/children aboard\n",
    "Ticket\t|Ticket number\n",
    "Fare\t|Fare\n",
    "Cabin\t|Cabin\n",
    "Embarked\t|Port of embarkation"
   ]
  },
  {
   "cell_type": "markdown",
   "id": "68b6f201",
   "metadata": {},
   "source": [
    "# Preprocesamiento: Manejo de nulos "
   ]
  },
  {
   "cell_type": "code",
   "execution_count": 6,
   "id": "5596a307",
   "metadata": {},
   "outputs": [
    {
     "data": {
      "text/html": [
       "<div>\n",
       "<style scoped>\n",
       "    .dataframe tbody tr th:only-of-type {\n",
       "        vertical-align: middle;\n",
       "    }\n",
       "\n",
       "    .dataframe tbody tr th {\n",
       "        vertical-align: top;\n",
       "    }\n",
       "\n",
       "    .dataframe thead th {\n",
       "        text-align: right;\n",
       "    }\n",
       "</style>\n",
       "<table border=\"1\" class=\"dataframe\">\n",
       "  <thead>\n",
       "    <tr style=\"text-align: right;\">\n",
       "      <th></th>\n",
       "      <th>0</th>\n",
       "      <th>Pct</th>\n",
       "    </tr>\n",
       "  </thead>\n",
       "  <tbody>\n",
       "    <tr>\n",
       "      <th>Cabin</th>\n",
       "      <td>687</td>\n",
       "      <td>0.77</td>\n",
       "    </tr>\n",
       "    <tr>\n",
       "      <th>Age</th>\n",
       "      <td>177</td>\n",
       "      <td>0.20</td>\n",
       "    </tr>\n",
       "    <tr>\n",
       "      <th>Embarked</th>\n",
       "      <td>2</td>\n",
       "      <td>0.00</td>\n",
       "    </tr>\n",
       "  </tbody>\n",
       "</table>\n",
       "</div>"
      ],
      "text/plain": [
       "            0   Pct\n",
       "Cabin     687  0.77\n",
       "Age       177  0.20\n",
       "Embarked    2  0.00"
      ]
     },
     "execution_count": 6,
     "metadata": {},
     "output_type": "execute_result"
    }
   ],
   "source": [
    "nulos = df.isnull().sum()\n",
    "nulos = nulos[nulos > 0]\n",
    "cant = df.shape[0]\n",
    "nulos = pd.DataFrame(nulos)\n",
    "nulos['Pct'] = round(nulos / cant,2)\n",
    "nulos.sort_values('Pct',ascending = False)"
   ]
  },
  {
   "cell_type": "markdown",
   "id": "240a4348",
   "metadata": {},
   "source": [
    "## Definiciones\n",
    "1. **Cabin:** dado que más del 50% se encuentra vacío, se eliminará la columna para no utilizarla en el análisis. \n",
    "2. **Age:** Se imputarán los valores faltantes con alguna técnica.\n",
    "3. **Embarked:** Se imputarán los valores faltantes con alguna técnica."
   ]
  },
  {
   "cell_type": "markdown",
   "id": "ce57c7d1",
   "metadata": {},
   "source": [
    "## 1. Cabin\n"
   ]
  },
  {
   "cell_type": "code",
   "execution_count": 7,
   "id": "e83ff7cc",
   "metadata": {},
   "outputs": [],
   "source": [
    "df = df.drop(columns='Cabin')"
   ]
  },
  {
   "cell_type": "markdown",
   "id": "6139b486",
   "metadata": {},
   "source": [
    "## 2. Age\n",
    "Crearemos un modelo que prediga las edades en función de otras variables. <br>\n",
    "Usaremos el paquete 'IterativeImputer' de la librería 'fancyimpute'. Este es una clase que implementa un método de imputación iterativo. Este método se basa en la idea de que los valores faltantes pueden ser estimados con mayor precisión si se toma en cuenta la información de otros atributos en el conjunto de datos."
   ]
  },
  {
   "cell_type": "code",
   "execution_count": 8,
   "id": "d03deaef",
   "metadata": {},
   "outputs": [
    {
     "data": {
      "text/plain": [
       "False    714\n",
       "True     177\n",
       "Name: Age, dtype: int64"
      ]
     },
     "execution_count": 8,
     "metadata": {},
     "output_type": "execute_result"
    }
   ],
   "source": [
    "# Hay que imputar 177 casos\n",
    "df['Age'].isnull().value_counts()"
   ]
  },
  {
   "cell_type": "markdown",
   "id": "f4d7379c",
   "metadata": {},
   "source": [
    "### ¿Cómo arrancamos?\n",
    "1. Estudiar a la variable de manera univariada \n",
    "2. Detectar con qué variables pareciera tener mayor relación \n",
    "3. Estudiar las relaciones y seleccionar features para el modelo de imputación"
   ]
  },
  {
   "cell_type": "code",
   "execution_count": 9,
   "id": "f3790955",
   "metadata": {},
   "outputs": [
    {
     "data": {
      "text/plain": [
       "Text(0.5, 1.0, 'Distribución de Age')"
      ]
     },
     "execution_count": 9,
     "metadata": {},
     "output_type": "execute_result"
    },
    {
     "data": {
      "image/png": "[encoded data removed]",
      "text/plain": [
       "<Figure size 640x480 with 1 Axes>"
      ]
     },
     "metadata": {},
     "output_type": "display_data"
    }
   ],
   "source": [
    "# Distribución de variable Edad\n",
    "plt.figure()\n",
    "# Histograma\n",
    "sns.histplot(data = df,\n",
    "             x = 'Age',\n",
    "             bins = 30,            \n",
    "             alpha = 0.25,\n",
    "             kde = True,\n",
    "             stat='probability')\n",
    "plt.title('Distribución de Age')"
   ]
  },
  {
   "cell_type": "code",
   "execution_count": 10,
   "id": "f9825862",
   "metadata": {},
   "outputs": [
    {
     "name": "stdout",
     "output_type": "stream",
     "text": [
      "Medidas de Tendencia Central\n",
      "Media: 30.0\n",
      "Media Recortada: 29.0\n",
      "Mediana: 28.0\n",
      "\n",
      "Medidas de Localización\n",
      "Primer Cuartil: 20.0\n",
      "Tercer Cuartil: 38.0\n",
      "Percentil 1: 1.0\n",
      "Percentil 99: 66.0\n",
      "\n",
      "Medidas de Dispersión Absolutas\n",
      "Varianza: 211.0\n",
      "Desvío Estándar: 15.0\n",
      "Rango Intercuartílico: 18.0\n",
      "Error Estándar: 1.0\n",
      "\n",
      "Medidas de Dispersión Relativas\n",
      "Coeficiente de Variación: 0.49\n",
      "Desvío Intercuartílico: 0.31\n",
      "\n",
      "Medidas de Asimetría y Curtosis\n",
      "Coeficiente de Asimetría: 0.39\n",
      "Coeficiente de Curtosis: 0.17\n"
     ]
    }
   ],
   "source": [
    "# Métricas de la variable Age\n",
    "CalculaMetricas(df['Age'])"
   ]
  },
  {
   "cell_type": "code",
   "execution_count": 11,
   "id": "dee75fda",
   "metadata": {},
   "outputs": [
    {
     "data": {
      "text/html": [
       "<div>\n",
       "<style scoped>\n",
       "    .dataframe tbody tr th:only-of-type {\n",
       "        vertical-align: middle;\n",
       "    }\n",
       "\n",
       "    .dataframe tbody tr th {\n",
       "        vertical-align: top;\n",
       "    }\n",
       "\n",
       "    .dataframe thead th {\n",
       "        text-align: right;\n",
       "    }\n",
       "</style>\n",
       "<table border=\"1\" class=\"dataframe\">\n",
       "  <thead>\n",
       "    <tr style=\"text-align: right;\">\n",
       "      <th></th>\n",
       "      <th>Feature</th>\n",
       "      <th>Importance</th>\n",
       "    </tr>\n",
       "  </thead>\n",
       "  <tbody>\n",
       "    <tr>\n",
       "      <th>0</th>\n",
       "      <td>Pclass</td>\n",
       "      <td>0.645240</td>\n",
       "    </tr>\n",
       "    <tr>\n",
       "      <th>2</th>\n",
       "      <td>Fare</td>\n",
       "      <td>0.201425</td>\n",
       "    </tr>\n",
       "    <tr>\n",
       "      <th>1</th>\n",
       "      <td>SibSp</td>\n",
       "      <td>0.147604</td>\n",
       "    </tr>\n",
       "    <tr>\n",
       "      <th>3</th>\n",
       "      <td>Is_Male</td>\n",
       "      <td>0.005731</td>\n",
       "    </tr>\n",
       "  </tbody>\n",
       "</table>\n",
       "</div>"
      ],
      "text/plain": [
       "   Feature  Importance\n",
       "0   Pclass    0.645240\n",
       "2     Fare    0.201425\n",
       "1    SibSp    0.147604\n",
       "3  Is_Male    0.005731"
      ]
     },
     "execution_count": 11,
     "metadata": {},
     "output_type": "execute_result"
    }
   ],
   "source": [
    "# Genero algunos features extra\n",
    "df['Is_Male'] = df['Sex'] == 'male'\n",
    "\n",
    "# Filtro para quedarme con aquellos que no tienne NA en la variable de interes\n",
    "df_analizar = df.loc[df['Age'].isnull() == False,]\n",
    "\n",
    "# Declaro features a estudiar\n",
    "features = ['Pclass','SibSp','Fare','Is_Male']\n",
    "\n",
    "# Genero matriz de features y array de target\n",
    "X = df_analizar[features].values\n",
    "y = df_analizar['Age'].values\n",
    "\n",
    "# Crear el modelo de Random Forest\n",
    "model = RandomForestRegressor(n_estimators = 150, \n",
    "                               random_state = 123,\n",
    "                               max_depth = 5,\n",
    "                               min_samples_leaf = 100,\n",
    "                               max_features = 3) \n",
    "\n",
    "# Entrenar el modelo\n",
    "model.fit(X, y)\n",
    "\n",
    "# Obtener la importancia de las características\n",
    "feature_importance = model.feature_importances_\n",
    "\n",
    "# Crear un DataFrame para visualizar la importancia de las características\n",
    "importance_df = pd.DataFrame({'Feature': features, 'Importance': feature_importance})\n",
    "importance_df = importance_df.sort_values('Importance', ascending=False)\n",
    "importance_df.sort_values(by = 'Importance', ascending = False)"
   ]
  },
  {
   "cell_type": "code",
   "execution_count": 12,
   "id": "0260705f",
   "metadata": {},
   "outputs": [
    {
     "data": {
      "text/plain": [
       "Text(0.5, 1.0, 'Relación entre PClass y Age')"
      ]
     },
     "execution_count": 12,
     "metadata": {},
     "output_type": "execute_result"
    },
    {
     "data": {
      "image/png": "[encoded data removed]",
      "text/plain": [
       "<Figure size 640x480 with 1 Axes>"
      ]
     },
     "metadata": {},
     "output_type": "display_data"
    }
   ],
   "source": [
    "# Analizo relaciones\n",
    "# PClass\n",
    "plt.figure()\n",
    "sns.boxplot(data = df_analizar,\n",
    "            x = 'Pclass',\n",
    "            y = 'Age', \n",
    "            showfliers = False)\n",
    "plt.title('Relación entre PClass y Age')"
   ]
  },
  {
   "cell_type": "code",
   "execution_count": 13,
   "id": "37cf21da",
   "metadata": {},
   "outputs": [
    {
     "data": {
      "text/plain": [
       "Text(0.5, 1.0, 'Relación entre SibSp y Age')"
      ]
     },
     "execution_count": 13,
     "metadata": {},
     "output_type": "execute_result"
    },
    {
     "data": {
      "image/png": "[encoded data removed]",
      "text/plain": [
       "<Figure size 640x480 with 1 Axes>"
      ]
     },
     "metadata": {},
     "output_type": "display_data"
    }
   ],
   "source": [
    "plt.figure()\n",
    "sns.boxplot(data = df_analizar,\n",
    "            x = 'SibSp',\n",
    "            y = 'Age', \n",
    "            showfliers = False)\n",
    "plt.title('Relación entre SibSp y Age')"
   ]
  },
  {
   "cell_type": "code",
   "execution_count": 14,
   "id": "9cd34e2a",
   "metadata": {},
   "outputs": [
    {
     "name": "stderr",
     "output_type": "stream",
     "text": [
      "C:\\Users\\usernosis\\AppData\\Local\\Temp\\ipykernel_14424\\1858843438.py:2: SettingWithCopyWarning: \n",
      "A value is trying to be set on a copy of a slice from a DataFrame.\n",
      "Try using .loc[row_indexer,col_indexer] = value instead\n",
      "\n",
      "See the caveats in the documentation: https://pandas.pydata.org/pandas-docs/stable/user_guide/indexing.html#returning-a-view-versus-a-copy\n",
      "  df_analizar['SibSp_top'] = np.where(df_analizar['SibSp'] > 3,3,df_analizar['SibSp'])\n"
     ]
    },
    {
     "data": {
      "text/plain": [
       "Text(0.5, 1.0, 'Relación entre SibSp_top y Age')"
      ]
     },
     "execution_count": 14,
     "metadata": {},
     "output_type": "execute_result"
    },
    {
     "data": {
      "image/png": "[encoded data removed]",
      "text/plain": [
       "<Figure size 640x480 with 1 Axes>"
      ]
     },
     "metadata": {},
     "output_type": "display_data"
    }
   ],
   "source": [
    "# La voy a topear en 3:\n",
    "df_analizar['SibSp_top'] = np.where(df_analizar['SibSp'] > 3,3,df_analizar['SibSp'])\n",
    "plt.figure()\n",
    "sns.boxplot(data = df_analizar,\n",
    "            x = 'SibSp_top',\n",
    "            y = 'Age', \n",
    "            showfliers = False)\n",
    "plt.title('Relación entre SibSp_top y Age')"
   ]
  },
  {
   "cell_type": "code",
   "execution_count": 15,
   "id": "fd0f0ba9",
   "metadata": {},
   "outputs": [
    {
     "name": "stderr",
     "output_type": "stream",
     "text": [
      "C:\\Users\\usernosis\\AppData\\Local\\Temp\\ipykernel_14424\\1550340897.py:2: SettingWithCopyWarning: \n",
      "A value is trying to be set on a copy of a slice from a DataFrame.\n",
      "Try using .loc[row_indexer,col_indexer] = value instead\n",
      "\n",
      "See the caveats in the documentation: https://pandas.pydata.org/pandas-docs/stable/user_guide/indexing.html#returning-a-view-versus-a-copy\n",
      "  df_analizar['Fare_log'] = np.log(df_analizar['Fare'] + 1)\n"
     ]
    },
    {
     "data": {
      "text/plain": [
       "Text(0.5, 1.0, 'Relación entre Fare y Age - Correlación: 0.116')"
      ]
     },
     "execution_count": 15,
     "metadata": {},
     "output_type": "execute_result"
    },
    {
     "data": {
      "image/png": "[encoded data removed]",
      "text/plain": [
       "<Figure size 640x480 with 1 Axes>"
      ]
     },
     "metadata": {},
     "output_type": "display_data"
    }
   ],
   "source": [
    "# Fare\n",
    "df_analizar['Fare_log'] = np.log(df_analizar['Fare'] + 1)\n",
    "sns.scatterplot(data = df_analizar,\n",
    "                x = 'Fare_log',\n",
    "                y = 'Age',\n",
    "                color = '#E7B602')\n",
    "coeficiente = round(df_analizar[['Age','Fare_log']].corr(method='pearson').iloc[0,1],3)\n",
    "plt.title('Relación entre Fare y Age - Correlación: ' + str(coeficiente))"
   ]
  },
  {
   "cell_type": "code",
   "execution_count": 16,
   "id": "ad29dbd0",
   "metadata": {},
   "outputs": [
    {
     "data": {
      "text/plain": [
       "Text(0.5, 1.0, 'Relación entre Sex y Age')"
      ]
     },
     "execution_count": 16,
     "metadata": {},
     "output_type": "execute_result"
    },
    {
     "data": {
      "image/png": "[encoded data removed]",
      "text/plain": [
       "<Figure size 640x480 with 1 Axes>"
      ]
     },
     "metadata": {},
     "output_type": "display_data"
    }
   ],
   "source": [
    "plt.figure()\n",
    "sns.boxplot(data = df_analizar,\n",
    "            x = 'Sex',\n",
    "            y = 'Age', \n",
    "            showfliers = False)\n",
    "plt.title('Relación entre Sex y Age')\n",
    "# No hay diferencia, no la usamos"
   ]
  },
  {
   "cell_type": "raw",
   "id": "10e749bf",
   "metadata": {},
   "source": [
    "!pip install fancyimpute"
   ]
  },
  {
   "cell_type": "code",
   "execution_count": 17,
   "id": "6ad1c875",
   "metadata": {},
   "outputs": [],
   "source": [
    "# Abro librería\n",
    "from fancyimpute import IterativeImputer\n",
    "\n",
    "# Genero features nuevas\n",
    "df['Fare_log'] = np.log(df['Fare'] + 1)\n",
    "df['SibSp_top'] = np.where(df['SibSp'] > 3,3,df['SibSp'])\n",
    "\n",
    "features_age = ['Age','Pclass','SibSp_top','Fare_log']\n",
    "\n",
    "# Genero el imputador\n",
    "imputador_age = IterativeImputer(max_iter = 20,\n",
    "                                 random_state = 123)\n",
    "\n",
    "# Lo entreno\n",
    "imputador_age.fit(df[features_age])\n",
    "\n",
    "# Lo aplico\n",
    "data_imputada = pd.DataFrame(imputador_age.transform(df[features_age]))\n",
    "\n",
    "# Asigno nombres de columnas\n",
    "data_imputada.columns = features_age"
   ]
  },
  {
   "cell_type": "code",
   "execution_count": 18,
   "id": "b1aa5dde",
   "metadata": {},
   "outputs": [
    {
     "data": {
      "text/html": [
       "<div>\n",
       "<style scoped>\n",
       "    .dataframe tbody tr th:only-of-type {\n",
       "        vertical-align: middle;\n",
       "    }\n",
       "\n",
       "    .dataframe tbody tr th {\n",
       "        vertical-align: top;\n",
       "    }\n",
       "\n",
       "    .dataframe thead th {\n",
       "        text-align: right;\n",
       "    }\n",
       "</style>\n",
       "<table border=\"1\" class=\"dataframe\">\n",
       "  <thead>\n",
       "    <tr style=\"text-align: right;\">\n",
       "      <th></th>\n",
       "      <th>Age</th>\n",
       "      <th>Pclass</th>\n",
       "      <th>SibSp_top</th>\n",
       "      <th>Fare_log</th>\n",
       "    </tr>\n",
       "  </thead>\n",
       "  <tbody>\n",
       "    <tr>\n",
       "      <th>0</th>\n",
       "      <td>22.0</td>\n",
       "      <td>3.0</td>\n",
       "      <td>1.0</td>\n",
       "      <td>2.110213</td>\n",
       "    </tr>\n",
       "    <tr>\n",
       "      <th>1</th>\n",
       "      <td>38.0</td>\n",
       "      <td>1.0</td>\n",
       "      <td>1.0</td>\n",
       "      <td>4.280593</td>\n",
       "    </tr>\n",
       "    <tr>\n",
       "      <th>2</th>\n",
       "      <td>26.0</td>\n",
       "      <td>3.0</td>\n",
       "      <td>0.0</td>\n",
       "      <td>2.188856</td>\n",
       "    </tr>\n",
       "    <tr>\n",
       "      <th>3</th>\n",
       "      <td>35.0</td>\n",
       "      <td>1.0</td>\n",
       "      <td>1.0</td>\n",
       "      <td>3.990834</td>\n",
       "    </tr>\n",
       "    <tr>\n",
       "      <th>4</th>\n",
       "      <td>35.0</td>\n",
       "      <td>3.0</td>\n",
       "      <td>0.0</td>\n",
       "      <td>2.202765</td>\n",
       "    </tr>\n",
       "  </tbody>\n",
       "</table>\n",
       "</div>"
      ],
      "text/plain": [
       "    Age  Pclass  SibSp_top  Fare_log\n",
       "0  22.0     3.0        1.0  2.110213\n",
       "1  38.0     1.0        1.0  4.280593\n",
       "2  26.0     3.0        0.0  2.188856\n",
       "3  35.0     1.0        1.0  3.990834\n",
       "4  35.0     3.0        0.0  2.202765"
      ]
     },
     "execution_count": 18,
     "metadata": {},
     "output_type": "execute_result"
    }
   ],
   "source": [
    "data_imputada.head()"
   ]
  },
  {
   "cell_type": "code",
   "execution_count": 19,
   "id": "fa6c3130",
   "metadata": {},
   "outputs": [],
   "source": [
    "# Reasigno \n",
    "df['Age_Imp'] = data_imputada['Age']"
   ]
  },
  {
   "cell_type": "code",
   "execution_count": 20,
   "id": "027e66a5",
   "metadata": {},
   "outputs": [
    {
     "data": {
      "text/plain": [
       "0"
      ]
     },
     "execution_count": 20,
     "metadata": {},
     "output_type": "execute_result"
    }
   ],
   "source": [
    "df['Age_Imp'].isnull().sum()"
   ]
  },
  {
   "cell_type": "code",
   "execution_count": 21,
   "id": "b0ce264e",
   "metadata": {},
   "outputs": [
    {
     "data": {
      "text/plain": [
       "177"
      ]
     },
     "execution_count": 21,
     "metadata": {},
     "output_type": "execute_result"
    }
   ],
   "source": [
    "df['Age'].isnull().sum()"
   ]
  },
  {
   "cell_type": "code",
   "execution_count": 22,
   "id": "4da6056d",
   "metadata": {},
   "outputs": [
    {
     "data": {
      "text/plain": [
       "Text(0.5, 1.0, 'Modificacion MICE Age')"
      ]
     },
     "execution_count": 22,
     "metadata": {},
     "output_type": "execute_result"
    },
    {
     "data": {
      "image/png": "[encoded data removed]",
      "text/plain": [
       "<Figure size 1000x600 with 2 Axes>"
      ]
     },
     "metadata": {},
     "output_type": "display_data"
    }
   ],
   "source": [
    "# Gráfico comparativo\n",
    "plt.figure(figsize=(10,6)) \n",
    "plt.subplot(121)\n",
    "sns.histplot(df['Age'],                    \n",
    "             alpha = 0.25,\n",
    "             kde = True,\n",
    "             stat='probability')\n",
    "plt.title('Original Age')\n",
    "plt.subplot(122)\n",
    "sns.histplot(df['Age_Imp'],                    \n",
    "             alpha = 0.25,\n",
    "             kde = True,\n",
    "             stat='probability')\n",
    "plt.title('Modificacion MICE Age')"
   ]
  },
  {
   "cell_type": "code",
   "execution_count": 26,
   "id": "ec5e2ca4",
   "metadata": {},
   "outputs": [
    {
     "data": {
      "text/plain": [
       "35.232804     1\n",
       "26.291243     1\n",
       "21.293770     1\n",
       "27.501352     1\n",
       "40.249698     1\n",
       "             ..\n",
       "27.630616     7\n",
       "10.552216     7\n",
       "27.443388    14\n",
       "27.477231    15\n",
       "27.509774    19\n",
       "Name: Age_Imp, Length: 81, dtype: int64"
      ]
     },
     "execution_count": 26,
     "metadata": {},
     "output_type": "execute_result"
    }
   ],
   "source": [
    "(df['Age_Imp'][df['Age_Isnull'] == 1]).value_counts().sort_values()"
   ]
  },
  {
   "cell_type": "markdown",
   "id": "f3aeea03",
   "metadata": {},
   "source": [
    "## Revisemos: Dónde estaban los vacíos? "
   ]
  },
  {
   "cell_type": "code",
   "execution_count": 23,
   "id": "935add21",
   "metadata": {},
   "outputs": [],
   "source": [
    "df['Age_Isnull'] = np.where(df['Age'].isnull() == True,1,0)"
   ]
  },
  {
   "cell_type": "code",
   "execution_count": 24,
   "id": "6910d13f",
   "metadata": {},
   "outputs": [
    {
     "data": {
      "text/plain": [
       "Text(0, 0.5, 'Cantidad de pasajeros')"
      ]
     },
     "execution_count": 24,
     "metadata": {},
     "output_type": "execute_result"
    },
    {
     "data": {
      "image/png": "[encoded data removed]",
      "text/plain": [
       "<Figure size 1000x600 with 1 Axes>"
      ]
     },
     "metadata": {},
     "output_type": "display_data"
    }
   ],
   "source": [
    "plt.figure(figsize=(10,6)) \n",
    "sns.countplot(x = \"Pclass\", \n",
    "            hue = \"Age_Isnull\", \n",
    "            data = df)\n",
    "plt.title('Comparativo Pclass según Age faltante')\n",
    "plt.ylabel(\"Cantidad de pasajeros\")"
   ]
  },
  {
   "cell_type": "markdown",
   "id": "81eb2a51",
   "metadata": {},
   "source": [
    "## 3. Embarked\n",
    "Imputaremos con la categoría más frecuente de acuerdo al precio que pagó por su ticket. <br>\n",
    "Esto lo haremos así dado que sólo dos registros del total del dataset tiene información faltante. Para no perder el registro, asignamos con el valor más frecuente. "
   ]
  },
  {
   "cell_type": "code",
   "execution_count": 27,
   "id": "90300c76",
   "metadata": {},
   "outputs": [
    {
     "data": {
      "text/plain": [
       "2"
      ]
     },
     "execution_count": 27,
     "metadata": {},
     "output_type": "execute_result"
    }
   ],
   "source": [
    "df['Embarked'].isnull().sum()"
   ]
  },
  {
   "cell_type": "code",
   "execution_count": 28,
   "id": "f137d589",
   "metadata": {},
   "outputs": [
    {
     "data": {
      "text/plain": [
       "Text(0, 0.5, 'Cantidad de pasajeros')"
      ]
     },
     "execution_count": 28,
     "metadata": {},
     "output_type": "execute_result"
    },
    {
     "data": {
      "image/png": "[encoded data removed]",
      "text/plain": [
       "<Figure size 1000x600 with 1 Axes>"
      ]
     },
     "metadata": {},
     "output_type": "display_data"
    }
   ],
   "source": [
    "plt.figure(figsize=(10,6)) \n",
    "sns.countplot(x = \"Embarked\", \n",
    "            data = df)\n",
    "plt.title('Distribución de tipos Embarked')\n",
    "plt.ylabel(\"Cantidad de pasajeros\")"
   ]
  },
  {
   "cell_type": "code",
   "execution_count": 29,
   "id": "e2c681f7",
   "metadata": {},
   "outputs": [
    {
     "data": {
      "text/plain": [
       "Text(0.5, 1.0, 'Relación entre Fare y Embarked')"
      ]
     },
     "execution_count": 29,
     "metadata": {},
     "output_type": "execute_result"
    },
    {
     "data": {
      "image/png": "[encoded data removed]",
      "text/plain": [
       "<Figure size 1000x600 with 1 Axes>"
      ]
     },
     "metadata": {},
     "output_type": "display_data"
    }
   ],
   "source": [
    "plt.figure(figsize=(10,6)) \n",
    "sns.boxplot(y = 'Fare', \n",
    "              x = 'Embarked',\n",
    "            data = df)\n",
    "plt.title('Relación entre Fare y Embarked')"
   ]
  },
  {
   "cell_type": "code",
   "execution_count": 30,
   "id": "5f245adf",
   "metadata": {},
   "outputs": [
    {
     "data": {
      "text/html": [
       "<div>\n",
       "<style scoped>\n",
       "    .dataframe tbody tr th:only-of-type {\n",
       "        vertical-align: middle;\n",
       "    }\n",
       "\n",
       "    .dataframe tbody tr th {\n",
       "        vertical-align: top;\n",
       "    }\n",
       "\n",
       "    .dataframe thead th {\n",
       "        text-align: right;\n",
       "    }\n",
       "</style>\n",
       "<table border=\"1\" class=\"dataframe\">\n",
       "  <thead>\n",
       "    <tr style=\"text-align: right;\">\n",
       "      <th></th>\n",
       "      <th>Embarked</th>\n",
       "      <th>Mediana</th>\n",
       "      <th>Media</th>\n",
       "    </tr>\n",
       "  </thead>\n",
       "  <tbody>\n",
       "    <tr>\n",
       "      <th>0</th>\n",
       "      <td>C</td>\n",
       "      <td>29.70</td>\n",
       "      <td>59.954144</td>\n",
       "    </tr>\n",
       "    <tr>\n",
       "      <th>1</th>\n",
       "      <td>Q</td>\n",
       "      <td>7.75</td>\n",
       "      <td>13.276030</td>\n",
       "    </tr>\n",
       "    <tr>\n",
       "      <th>2</th>\n",
       "      <td>S</td>\n",
       "      <td>13.00</td>\n",
       "      <td>27.079812</td>\n",
       "    </tr>\n",
       "  </tbody>\n",
       "</table>\n",
       "</div>"
      ],
      "text/plain": [
       "  Embarked  Mediana      Media\n",
       "0        C    29.70  59.954144\n",
       "1        Q     7.75  13.276030\n",
       "2        S    13.00  27.079812"
      ]
     },
     "execution_count": 30,
     "metadata": {},
     "output_type": "execute_result"
    }
   ],
   "source": [
    "resultados = df.groupby('Embarked').agg(           \n",
    "    Mediana = ('Fare', 'median'),            \n",
    "    Media = ('Fare', 'mean')\n",
    ").reset_index()\n",
    "resultados"
   ]
  },
  {
   "cell_type": "code",
   "execution_count": 31,
   "id": "ea6ea6b5",
   "metadata": {},
   "outputs": [
    {
     "data": {
      "text/html": [
       "<div>\n",
       "<style scoped>\n",
       "    .dataframe tbody tr th:only-of-type {\n",
       "        vertical-align: middle;\n",
       "    }\n",
       "\n",
       "    .dataframe tbody tr th {\n",
       "        vertical-align: top;\n",
       "    }\n",
       "\n",
       "    .dataframe thead th {\n",
       "        text-align: right;\n",
       "    }\n",
       "</style>\n",
       "<table border=\"1\" class=\"dataframe\">\n",
       "  <thead>\n",
       "    <tr style=\"text-align: right;\">\n",
       "      <th></th>\n",
       "      <th>Fare_Group</th>\n",
       "      <th>Pct_Q</th>\n",
       "      <th>Pct_C</th>\n",
       "      <th>Pct_S</th>\n",
       "    </tr>\n",
       "  </thead>\n",
       "  <tbody>\n",
       "    <tr>\n",
       "      <th>0</th>\n",
       "      <td>C</td>\n",
       "      <td>0.008547</td>\n",
       "      <td>0.346154</td>\n",
       "      <td>0.636752</td>\n",
       "    </tr>\n",
       "    <tr>\n",
       "      <th>1</th>\n",
       "      <td>Q</td>\n",
       "      <td>0.211618</td>\n",
       "      <td>0.141079</td>\n",
       "      <td>0.647303</td>\n",
       "    </tr>\n",
       "    <tr>\n",
       "      <th>2</th>\n",
       "      <td>S</td>\n",
       "      <td>0.057692</td>\n",
       "      <td>0.127404</td>\n",
       "      <td>0.814904</td>\n",
       "    </tr>\n",
       "  </tbody>\n",
       "</table>\n",
       "</div>"
      ],
      "text/plain": [
       "  Fare_Group     Pct_Q     Pct_C     Pct_S\n",
       "0          C  0.008547  0.346154  0.636752\n",
       "1          Q  0.211618  0.141079  0.647303\n",
       "2          S  0.057692  0.127404  0.814904"
      ]
     },
     "execution_count": 31,
     "metadata": {},
     "output_type": "execute_result"
    }
   ],
   "source": [
    "# Regla propuesta \n",
    "df['Fare_Group'] = np.where(df['Fare'] <= 8,\"Q\",\n",
    "                           np.where(df['Fare'] > 30, \"C\",\"S\"))\n",
    "df['Es_Q'] = np.where(df['Embarked'] == \"Q\", 1, 0)\n",
    "df['Es_C'] = np.where(df['Embarked'] == \"C\", 1, 0)\n",
    "df['Es_S'] = np.where(df['Embarked'] == \"S\", 1, 0)\n",
    "resultados = df.groupby('Fare_Group').agg(           \n",
    "    Pct_Q = ('Es_Q', 'mean'),            \n",
    "    Pct_C = ('Es_C', 'mean'),      \n",
    "    Pct_S = ('Es_S', 'mean') \n",
    ").reset_index()\n",
    "resultados"
   ]
  },
  {
   "cell_type": "code",
   "execution_count": 32,
   "id": "e33b2759",
   "metadata": {},
   "outputs": [
    {
     "data": {
      "text/html": [
       "<div>\n",
       "<style scoped>\n",
       "    .dataframe tbody tr th:only-of-type {\n",
       "        vertical-align: middle;\n",
       "    }\n",
       "\n",
       "    .dataframe tbody tr th {\n",
       "        vertical-align: top;\n",
       "    }\n",
       "\n",
       "    .dataframe thead th {\n",
       "        text-align: right;\n",
       "    }\n",
       "</style>\n",
       "<table border=\"1\" class=\"dataframe\">\n",
       "  <thead>\n",
       "    <tr style=\"text-align: right;\">\n",
       "      <th></th>\n",
       "      <th>PassengerId</th>\n",
       "      <th>Survived</th>\n",
       "      <th>Pclass</th>\n",
       "      <th>Name</th>\n",
       "      <th>Sex</th>\n",
       "      <th>Age</th>\n",
       "      <th>SibSp</th>\n",
       "      <th>Parch</th>\n",
       "      <th>Ticket</th>\n",
       "      <th>Fare</th>\n",
       "      <th>Embarked</th>\n",
       "      <th>Is_Male</th>\n",
       "      <th>Fare_log</th>\n",
       "      <th>SibSp_top</th>\n",
       "      <th>Age_Imp</th>\n",
       "      <th>Age_Isnull</th>\n",
       "      <th>Fare_Group</th>\n",
       "      <th>Es_Q</th>\n",
       "      <th>Es_C</th>\n",
       "      <th>Es_S</th>\n",
       "    </tr>\n",
       "  </thead>\n",
       "  <tbody>\n",
       "    <tr>\n",
       "      <th>61</th>\n",
       "      <td>62</td>\n",
       "      <td>1</td>\n",
       "      <td>1</td>\n",
       "      <td>Icard, Miss. Amelie</td>\n",
       "      <td>female</td>\n",
       "      <td>38.0</td>\n",
       "      <td>0</td>\n",
       "      <td>0</td>\n",
       "      <td>113572</td>\n",
       "      <td>80.0</td>\n",
       "      <td>NaN</td>\n",
       "      <td>False</td>\n",
       "      <td>4.394449</td>\n",
       "      <td>0</td>\n",
       "      <td>38.0</td>\n",
       "      <td>0</td>\n",
       "      <td>C</td>\n",
       "      <td>0</td>\n",
       "      <td>0</td>\n",
       "      <td>0</td>\n",
       "    </tr>\n",
       "    <tr>\n",
       "      <th>829</th>\n",
       "      <td>830</td>\n",
       "      <td>1</td>\n",
       "      <td>1</td>\n",
       "      <td>Stone, Mrs. George Nelson (Martha Evelyn)</td>\n",
       "      <td>female</td>\n",
       "      <td>62.0</td>\n",
       "      <td>0</td>\n",
       "      <td>0</td>\n",
       "      <td>113572</td>\n",
       "      <td>80.0</td>\n",
       "      <td>NaN</td>\n",
       "      <td>False</td>\n",
       "      <td>4.394449</td>\n",
       "      <td>0</td>\n",
       "      <td>62.0</td>\n",
       "      <td>0</td>\n",
       "      <td>C</td>\n",
       "      <td>0</td>\n",
       "      <td>0</td>\n",
       "      <td>0</td>\n",
       "    </tr>\n",
       "  </tbody>\n",
       "</table>\n",
       "</div>"
      ],
      "text/plain": [
       "     PassengerId  Survived  Pclass                                       Name  \\\n",
       "61            62         1       1                        Icard, Miss. Amelie   \n",
       "829          830         1       1  Stone, Mrs. George Nelson (Martha Evelyn)   \n",
       "\n",
       "        Sex   Age  SibSp  Parch  Ticket  Fare Embarked  Is_Male  Fare_log  \\\n",
       "61   female  38.0      0      0  113572  80.0      NaN    False  4.394449   \n",
       "829  female  62.0      0      0  113572  80.0      NaN    False  4.394449   \n",
       "\n",
       "     SibSp_top  Age_Imp  Age_Isnull Fare_Group  Es_Q  Es_C  Es_S  \n",
       "61           0     38.0           0          C     0     0     0  \n",
       "829          0     62.0           0          C     0     0     0  "
      ]
     },
     "execution_count": 32,
     "metadata": {},
     "output_type": "execute_result"
    }
   ],
   "source": [
    "# Y cómo es el Fare de el pasajero que tiene embarked vacío? \n",
    "df.loc[df['Embarked'].isnull(),]"
   ]
  },
  {
   "cell_type": "code",
   "execution_count": 33,
   "id": "31c7ee34",
   "metadata": {},
   "outputs": [],
   "source": [
    "# Imputador propuesto:\n",
    "def imputador_embarked(Embarked, Fare):\n",
    "    if not pd.isnull(Embarked):\n",
    "        return Embarked\n",
    "    elif (pd.isnull(Embarked) and Fare <= 8):\n",
    "        return \"Q\"\n",
    "    elif (pd.isnull(Embarked) and Fare > 30):\n",
    "        return \"C\"\n",
    "    else:\n",
    "        return \"S\"\n"
   ]
  },
  {
   "cell_type": "code",
   "execution_count": 34,
   "id": "7b71fdc3",
   "metadata": {},
   "outputs": [],
   "source": [
    "# Aplico el imputador\n",
    "df['Embarked_Imp'] =  df.apply(lambda row: imputador_embarked(row['Embarked'], row['Fare']), \n",
    "                                 axis = 1)"
   ]
  },
  {
   "cell_type": "code",
   "execution_count": 35,
   "id": "45dc9e6f",
   "metadata": {},
   "outputs": [
    {
     "data": {
      "text/html": [
       "<div>\n",
       "<style scoped>\n",
       "    .dataframe tbody tr th:only-of-type {\n",
       "        vertical-align: middle;\n",
       "    }\n",
       "\n",
       "    .dataframe tbody tr th {\n",
       "        vertical-align: top;\n",
       "    }\n",
       "\n",
       "    .dataframe thead th {\n",
       "        text-align: right;\n",
       "    }\n",
       "</style>\n",
       "<table border=\"1\" class=\"dataframe\">\n",
       "  <thead>\n",
       "    <tr style=\"text-align: right;\">\n",
       "      <th></th>\n",
       "      <th>PassengerId</th>\n",
       "      <th>Fare</th>\n",
       "      <th>Embarked</th>\n",
       "      <th>Embarked_Imp</th>\n",
       "    </tr>\n",
       "  </thead>\n",
       "  <tbody>\n",
       "    <tr>\n",
       "      <th>61</th>\n",
       "      <td>62</td>\n",
       "      <td>80.0</td>\n",
       "      <td>NaN</td>\n",
       "      <td>C</td>\n",
       "    </tr>\n",
       "    <tr>\n",
       "      <th>829</th>\n",
       "      <td>830</td>\n",
       "      <td>80.0</td>\n",
       "      <td>NaN</td>\n",
       "      <td>C</td>\n",
       "    </tr>\n",
       "  </tbody>\n",
       "</table>\n",
       "</div>"
      ],
      "text/plain": [
       "     PassengerId  Fare Embarked Embarked_Imp\n",
       "61            62  80.0      NaN            C\n",
       "829          830  80.0      NaN            C"
      ]
     },
     "execution_count": 35,
     "metadata": {},
     "output_type": "execute_result"
    }
   ],
   "source": [
    "# Verifiquemos qué pasó\n",
    "df.loc[df['Embarked'].isnull(),['PassengerId','Fare','Embarked','Embarked_Imp']]"
   ]
  },
  {
   "cell_type": "code",
   "execution_count": 36,
   "id": "6f401d79",
   "metadata": {},
   "outputs": [
    {
     "data": {
      "text/html": [
       "<div>\n",
       "<style scoped>\n",
       "    .dataframe tbody tr th:only-of-type {\n",
       "        vertical-align: middle;\n",
       "    }\n",
       "\n",
       "    .dataframe tbody tr th {\n",
       "        vertical-align: top;\n",
       "    }\n",
       "\n",
       "    .dataframe thead th {\n",
       "        text-align: right;\n",
       "    }\n",
       "</style>\n",
       "<table border=\"1\" class=\"dataframe\">\n",
       "  <thead>\n",
       "    <tr style=\"text-align: right;\">\n",
       "      <th></th>\n",
       "      <th>PassengerId</th>\n",
       "      <th>Fare</th>\n",
       "      <th>Embarked</th>\n",
       "      <th>Embarked_Imp</th>\n",
       "    </tr>\n",
       "  </thead>\n",
       "  <tbody>\n",
       "    <tr>\n",
       "      <th>0</th>\n",
       "      <td>1</td>\n",
       "      <td>7.2500</td>\n",
       "      <td>S</td>\n",
       "      <td>S</td>\n",
       "    </tr>\n",
       "    <tr>\n",
       "      <th>1</th>\n",
       "      <td>2</td>\n",
       "      <td>71.2833</td>\n",
       "      <td>C</td>\n",
       "      <td>C</td>\n",
       "    </tr>\n",
       "    <tr>\n",
       "      <th>2</th>\n",
       "      <td>3</td>\n",
       "      <td>7.9250</td>\n",
       "      <td>S</td>\n",
       "      <td>S</td>\n",
       "    </tr>\n",
       "    <tr>\n",
       "      <th>3</th>\n",
       "      <td>4</td>\n",
       "      <td>53.1000</td>\n",
       "      <td>S</td>\n",
       "      <td>S</td>\n",
       "    </tr>\n",
       "    <tr>\n",
       "      <th>4</th>\n",
       "      <td>5</td>\n",
       "      <td>8.0500</td>\n",
       "      <td>S</td>\n",
       "      <td>S</td>\n",
       "    </tr>\n",
       "  </tbody>\n",
       "</table>\n",
       "</div>"
      ],
      "text/plain": [
       "   PassengerId     Fare Embarked Embarked_Imp\n",
       "0            1   7.2500        S            S\n",
       "1            2  71.2833        C            C\n",
       "2            3   7.9250        S            S\n",
       "3            4  53.1000        S            S\n",
       "4            5   8.0500        S            S"
      ]
     },
     "execution_count": 36,
     "metadata": {},
     "output_type": "execute_result"
    }
   ],
   "source": [
    "# Y el resto quedó igual?\n",
    "df.loc[df['Embarked'].isnull() == False,['PassengerId','Fare','Embarked','Embarked_Imp']].head()"
   ]
  },
  {
   "cell_type": "markdown",
   "id": "2a8c4405",
   "metadata": {},
   "source": [
    "# Feature Engineering"
   ]
  },
  {
   "cell_type": "code",
   "execution_count": 37,
   "id": "7ef4f9bc",
   "metadata": {},
   "outputs": [
    {
     "data": {
      "text/html": [
       "<div>\n",
       "<style scoped>\n",
       "    .dataframe tbody tr th:only-of-type {\n",
       "        vertical-align: middle;\n",
       "    }\n",
       "\n",
       "    .dataframe tbody tr th {\n",
       "        vertical-align: top;\n",
       "    }\n",
       "\n",
       "    .dataframe thead th {\n",
       "        text-align: right;\n",
       "    }\n",
       "</style>\n",
       "<table border=\"1\" class=\"dataframe\">\n",
       "  <thead>\n",
       "    <tr style=\"text-align: right;\">\n",
       "      <th></th>\n",
       "      <th>PassengerId</th>\n",
       "      <th>Name</th>\n",
       "      <th>Title</th>\n",
       "    </tr>\n",
       "  </thead>\n",
       "  <tbody>\n",
       "    <tr>\n",
       "      <th>0</th>\n",
       "      <td>1</td>\n",
       "      <td>Braund, Mr. Owen Harris</td>\n",
       "      <td>Mr</td>\n",
       "    </tr>\n",
       "    <tr>\n",
       "      <th>1</th>\n",
       "      <td>2</td>\n",
       "      <td>Cumings, Mrs. John Bradley (Florence Briggs Th...</td>\n",
       "      <td>Mrs</td>\n",
       "    </tr>\n",
       "    <tr>\n",
       "      <th>2</th>\n",
       "      <td>3</td>\n",
       "      <td>Heikkinen, Miss. Laina</td>\n",
       "      <td>Miss</td>\n",
       "    </tr>\n",
       "    <tr>\n",
       "      <th>3</th>\n",
       "      <td>4</td>\n",
       "      <td>Futrelle, Mrs. Jacques Heath (Lily May Peel)</td>\n",
       "      <td>Mrs</td>\n",
       "    </tr>\n",
       "    <tr>\n",
       "      <th>4</th>\n",
       "      <td>5</td>\n",
       "      <td>Allen, Mr. William Henry</td>\n",
       "      <td>Mr</td>\n",
       "    </tr>\n",
       "  </tbody>\n",
       "</table>\n",
       "</div>"
      ],
      "text/plain": [
       "   PassengerId                                               Name Title\n",
       "0            1                            Braund, Mr. Owen Harris    Mr\n",
       "1            2  Cumings, Mrs. John Bradley (Florence Briggs Th...   Mrs\n",
       "2            3                             Heikkinen, Miss. Laina  Miss\n",
       "3            4       Futrelle, Mrs. Jacques Heath (Lily May Peel)   Mrs\n",
       "4            5                           Allen, Mr. William Henry    Mr"
      ]
     },
     "execution_count": 37,
     "metadata": {},
     "output_type": "execute_result"
    }
   ],
   "source": [
    "# Exploraremos la columna passenger name y nos interesa la abreviatura de cada uno\n",
    "import re\n",
    "df['Title'] = df['Name'].apply(lambda x : re.sub(\"(.*, )|(\\\\..*)\", \"\", x)) \n",
    "df.loc[:,['PassengerId','Name','Title']].head()"
   ]
  },
  {
   "cell_type": "code",
   "execution_count": 38,
   "id": "9839e69e",
   "metadata": {},
   "outputs": [
    {
     "data": {
      "text/html": [
       "<div>\n",
       "<style scoped>\n",
       "    .dataframe tbody tr th:only-of-type {\n",
       "        vertical-align: middle;\n",
       "    }\n",
       "\n",
       "    .dataframe tbody tr th {\n",
       "        vertical-align: top;\n",
       "    }\n",
       "\n",
       "    .dataframe thead th {\n",
       "        text-align: right;\n",
       "    }\n",
       "</style>\n",
       "<table border=\"1\" class=\"dataframe\">\n",
       "  <thead>\n",
       "    <tr style=\"text-align: right;\">\n",
       "      <th>Title</th>\n",
       "      <th>Capt</th>\n",
       "      <th>Col</th>\n",
       "      <th>Don</th>\n",
       "      <th>Dr</th>\n",
       "      <th>Jonkheer</th>\n",
       "      <th>Lady</th>\n",
       "      <th>Major</th>\n",
       "      <th>Master</th>\n",
       "      <th>Miss</th>\n",
       "      <th>Mlle</th>\n",
       "      <th>Mme</th>\n",
       "      <th>Mr</th>\n",
       "      <th>Mrs</th>\n",
       "      <th>Ms</th>\n",
       "      <th>Rev</th>\n",
       "      <th>Sir</th>\n",
       "      <th>the Countess</th>\n",
       "    </tr>\n",
       "    <tr>\n",
       "      <th>Sex</th>\n",
       "      <th></th>\n",
       "      <th></th>\n",
       "      <th></th>\n",
       "      <th></th>\n",
       "      <th></th>\n",
       "      <th></th>\n",
       "      <th></th>\n",
       "      <th></th>\n",
       "      <th></th>\n",
       "      <th></th>\n",
       "      <th></th>\n",
       "      <th></th>\n",
       "      <th></th>\n",
       "      <th></th>\n",
       "      <th></th>\n",
       "      <th></th>\n",
       "      <th></th>\n",
       "    </tr>\n",
       "  </thead>\n",
       "  <tbody>\n",
       "    <tr>\n",
       "      <th>female</th>\n",
       "      <td>0</td>\n",
       "      <td>0</td>\n",
       "      <td>0</td>\n",
       "      <td>1</td>\n",
       "      <td>0</td>\n",
       "      <td>1</td>\n",
       "      <td>0</td>\n",
       "      <td>0</td>\n",
       "      <td>182</td>\n",
       "      <td>2</td>\n",
       "      <td>1</td>\n",
       "      <td>0</td>\n",
       "      <td>125</td>\n",
       "      <td>1</td>\n",
       "      <td>0</td>\n",
       "      <td>0</td>\n",
       "      <td>1</td>\n",
       "    </tr>\n",
       "    <tr>\n",
       "      <th>male</th>\n",
       "      <td>1</td>\n",
       "      <td>2</td>\n",
       "      <td>1</td>\n",
       "      <td>6</td>\n",
       "      <td>1</td>\n",
       "      <td>0</td>\n",
       "      <td>2</td>\n",
       "      <td>40</td>\n",
       "      <td>0</td>\n",
       "      <td>0</td>\n",
       "      <td>0</td>\n",
       "      <td>517</td>\n",
       "      <td>0</td>\n",
       "      <td>0</td>\n",
       "      <td>6</td>\n",
       "      <td>1</td>\n",
       "      <td>0</td>\n",
       "    </tr>\n",
       "  </tbody>\n",
       "</table>\n",
       "</div>"
      ],
      "text/plain": [
       "Title   Capt  Col  Don  Dr  Jonkheer  Lady  Major  Master  Miss  Mlle  Mme  \\\n",
       "Sex                                                                          \n",
       "female     0    0    0   1         0     1      0       0   182     2    1   \n",
       "male       1    2    1   6         1     0      2      40     0     0    0   \n",
       "\n",
       "Title    Mr  Mrs  Ms  Rev  Sir  the Countess  \n",
       "Sex                                           \n",
       "female    0  125   1    0    0             1  \n",
       "male    517    0   0    6    1             0  "
      ]
     },
     "execution_count": 38,
     "metadata": {},
     "output_type": "execute_result"
    }
   ],
   "source": [
    "pd.crosstab(df['Sex'], df['Title'])"
   ]
  },
  {
   "cell_type": "code",
   "execution_count": 39,
   "id": "1beaa19b",
   "metadata": {},
   "outputs": [
    {
     "data": {
      "text/html": [
       "<div>\n",
       "<style scoped>\n",
       "    .dataframe tbody tr th:only-of-type {\n",
       "        vertical-align: middle;\n",
       "    }\n",
       "\n",
       "    .dataframe tbody tr th {\n",
       "        vertical-align: top;\n",
       "    }\n",
       "\n",
       "    .dataframe thead th {\n",
       "        text-align: right;\n",
       "    }\n",
       "</style>\n",
       "<table border=\"1\" class=\"dataframe\">\n",
       "  <thead>\n",
       "    <tr style=\"text-align: right;\">\n",
       "      <th>Title</th>\n",
       "      <th>Master</th>\n",
       "      <th>Miss</th>\n",
       "      <th>Mr</th>\n",
       "      <th>Mrs</th>\n",
       "      <th>Rare Title</th>\n",
       "    </tr>\n",
       "    <tr>\n",
       "      <th>Sex</th>\n",
       "      <th></th>\n",
       "      <th></th>\n",
       "      <th></th>\n",
       "      <th></th>\n",
       "      <th></th>\n",
       "    </tr>\n",
       "  </thead>\n",
       "  <tbody>\n",
       "    <tr>\n",
       "      <th>female</th>\n",
       "      <td>0</td>\n",
       "      <td>185</td>\n",
       "      <td>0</td>\n",
       "      <td>126</td>\n",
       "      <td>3</td>\n",
       "    </tr>\n",
       "    <tr>\n",
       "      <th>male</th>\n",
       "      <td>40</td>\n",
       "      <td>0</td>\n",
       "      <td>517</td>\n",
       "      <td>0</td>\n",
       "      <td>20</td>\n",
       "    </tr>\n",
       "  </tbody>\n",
       "</table>\n",
       "</div>"
      ],
      "text/plain": [
       "Title   Master  Miss   Mr  Mrs  Rare Title\n",
       "Sex                                       \n",
       "female       0   185    0  126           3\n",
       "male        40     0  517    0          20"
      ]
     },
     "execution_count": 39,
     "metadata": {},
     "output_type": "execute_result"
    }
   ],
   "source": [
    "rare_title = ['Dona', 'Lady', 'the Countess','Capt', 'Col', 'Don', \n",
    "                'Dr', 'Major', 'Rev', 'Sir', 'Jonkheer']\n",
    "df.loc[df.Title == 'Mlle','Title'] ='Miss'\n",
    "df.loc[df.Title == 'Ms','Title'] ='Miss'\n",
    "df.loc[df.Title == 'Mme','Title'] ='Mrs'\n",
    "df.loc[df.Title.isin(rare_title),'Title'] ='Rare Title'\n",
    "pd.crosstab(df.Sex, df.Title)"
   ]
  },
  {
   "cell_type": "code",
   "execution_count": 40,
   "id": "f9cf56dd",
   "metadata": {},
   "outputs": [
    {
     "data": {
      "text/html": [
       "<div>\n",
       "<style scoped>\n",
       "    .dataframe tbody tr th:only-of-type {\n",
       "        vertical-align: middle;\n",
       "    }\n",
       "\n",
       "    .dataframe tbody tr th {\n",
       "        vertical-align: top;\n",
       "    }\n",
       "\n",
       "    .dataframe thead th {\n",
       "        text-align: right;\n",
       "    }\n",
       "</style>\n",
       "<table border=\"1\" class=\"dataframe\">\n",
       "  <thead>\n",
       "    <tr style=\"text-align: right;\">\n",
       "      <th></th>\n",
       "      <th>PassengerId</th>\n",
       "      <th>Name</th>\n",
       "      <th>Surname</th>\n",
       "    </tr>\n",
       "  </thead>\n",
       "  <tbody>\n",
       "    <tr>\n",
       "      <th>0</th>\n",
       "      <td>1</td>\n",
       "      <td>Braund, Mr. Owen Harris</td>\n",
       "      <td>Braund</td>\n",
       "    </tr>\n",
       "    <tr>\n",
       "      <th>1</th>\n",
       "      <td>2</td>\n",
       "      <td>Cumings, Mrs. John Bradley (Florence Briggs Th...</td>\n",
       "      <td>Cumings</td>\n",
       "    </tr>\n",
       "    <tr>\n",
       "      <th>2</th>\n",
       "      <td>3</td>\n",
       "      <td>Heikkinen, Miss. Laina</td>\n",
       "      <td>Heikkinen</td>\n",
       "    </tr>\n",
       "    <tr>\n",
       "      <th>3</th>\n",
       "      <td>4</td>\n",
       "      <td>Futrelle, Mrs. Jacques Heath (Lily May Peel)</td>\n",
       "      <td>Futrelle</td>\n",
       "    </tr>\n",
       "    <tr>\n",
       "      <th>4</th>\n",
       "      <td>5</td>\n",
       "      <td>Allen, Mr. William Henry</td>\n",
       "      <td>Allen</td>\n",
       "    </tr>\n",
       "  </tbody>\n",
       "</table>\n",
       "</div>"
      ],
      "text/plain": [
       "   PassengerId                                               Name    Surname\n",
       "0            1                            Braund, Mr. Owen Harris     Braund\n",
       "1            2  Cumings, Mrs. John Bradley (Florence Briggs Th...    Cumings\n",
       "2            3                             Heikkinen, Miss. Laina  Heikkinen\n",
       "3            4       Futrelle, Mrs. Jacques Heath (Lily May Peel)   Futrelle\n",
       "4            5                           Allen, Mr. William Henry      Allen"
      ]
     },
     "execution_count": 40,
     "metadata": {},
     "output_type": "execute_result"
    }
   ],
   "source": [
    "# Extrayendo el apellido\n",
    "df['Surname'] = df['Name'].apply(lambda x : x[:x.index(',')])\n",
    "df.loc[:,['PassengerId','Name','Surname']].head()"
   ]
  },
  {
   "cell_type": "code",
   "execution_count": 41,
   "id": "049706ee",
   "metadata": {},
   "outputs": [
    {
     "data": {
      "text/html": [
       "<div>\n",
       "<style scoped>\n",
       "    .dataframe tbody tr th:only-of-type {\n",
       "        vertical-align: middle;\n",
       "    }\n",
       "\n",
       "    .dataframe tbody tr th {\n",
       "        vertical-align: top;\n",
       "    }\n",
       "\n",
       "    .dataframe thead th {\n",
       "        text-align: right;\n",
       "    }\n",
       "</style>\n",
       "<table border=\"1\" class=\"dataframe\">\n",
       "  <thead>\n",
       "    <tr style=\"text-align: right;\">\n",
       "      <th></th>\n",
       "      <th>PassengerId</th>\n",
       "      <th>Name</th>\n",
       "      <th>Surname</th>\n",
       "      <th>Fsize</th>\n",
       "      <th>Family</th>\n",
       "    </tr>\n",
       "  </thead>\n",
       "  <tbody>\n",
       "    <tr>\n",
       "      <th>0</th>\n",
       "      <td>1</td>\n",
       "      <td>Braund, Mr. Owen Harris</td>\n",
       "      <td>Braund</td>\n",
       "      <td>2</td>\n",
       "      <td>Braund_2</td>\n",
       "    </tr>\n",
       "    <tr>\n",
       "      <th>1</th>\n",
       "      <td>2</td>\n",
       "      <td>Cumings, Mrs. John Bradley (Florence Briggs Th...</td>\n",
       "      <td>Cumings</td>\n",
       "      <td>2</td>\n",
       "      <td>Cumings_2</td>\n",
       "    </tr>\n",
       "    <tr>\n",
       "      <th>2</th>\n",
       "      <td>3</td>\n",
       "      <td>Heikkinen, Miss. Laina</td>\n",
       "      <td>Heikkinen</td>\n",
       "      <td>1</td>\n",
       "      <td>Heikkinen_1</td>\n",
       "    </tr>\n",
       "    <tr>\n",
       "      <th>3</th>\n",
       "      <td>4</td>\n",
       "      <td>Futrelle, Mrs. Jacques Heath (Lily May Peel)</td>\n",
       "      <td>Futrelle</td>\n",
       "      <td>2</td>\n",
       "      <td>Futrelle_2</td>\n",
       "    </tr>\n",
       "    <tr>\n",
       "      <th>4</th>\n",
       "      <td>5</td>\n",
       "      <td>Allen, Mr. William Henry</td>\n",
       "      <td>Allen</td>\n",
       "      <td>1</td>\n",
       "      <td>Allen_1</td>\n",
       "    </tr>\n",
       "  </tbody>\n",
       "</table>\n",
       "</div>"
      ],
      "text/plain": [
       "   PassengerId                                               Name    Surname  \\\n",
       "0            1                            Braund, Mr. Owen Harris     Braund   \n",
       "1            2  Cumings, Mrs. John Bradley (Florence Briggs Th...    Cumings   \n",
       "2            3                             Heikkinen, Miss. Laina  Heikkinen   \n",
       "3            4       Futrelle, Mrs. Jacques Heath (Lily May Peel)   Futrelle   \n",
       "4            5                           Allen, Mr. William Henry      Allen   \n",
       "\n",
       "  Fsize       Family  \n",
       "0     2     Braund_2  \n",
       "1     2    Cumings_2  \n",
       "2     1  Heikkinen_1  \n",
       "3     2   Futrelle_2  \n",
       "4     1      Allen_1  "
      ]
     },
     "execution_count": 41,
     "metadata": {},
     "output_type": "execute_result"
    }
   ],
   "source": [
    "# Tamaño de la familia \n",
    "df['Fsize'] = df['SibSp'] + df['Parch'] + 1\n",
    "df['Fsize'] = df['Fsize'].astype('str')\n",
    "df['Family'] = df[['Surname', 'Fsize']].agg('_'.join, axis=1)\n",
    "df.loc[:,['PassengerId','Name','Surname','Fsize','Family']].head()"
   ]
  },
  {
   "cell_type": "code",
   "execution_count": 42,
   "id": "ef288a31",
   "metadata": {},
   "outputs": [
    {
     "data": {
      "text/plain": [
       "0    835\n",
       "1     56\n",
       "Name: Mother, dtype: int64"
      ]
     },
     "execution_count": 42,
     "metadata": {},
     "output_type": "execute_result"
    }
   ],
   "source": [
    "# Creando la variable Mother\n",
    "df['Mother'] = np.where((df['Sex'] == 'female') & \n",
    "                        (df['Parch'] > 0) & \n",
    "                        (df['Title'] != 'Miss'),1,0)\n",
    "df['Mother'].value_counts()"
   ]
  },
  {
   "cell_type": "code",
   "execution_count": 43,
   "id": "8d70e5c7",
   "metadata": {},
   "outputs": [
    {
     "data": {
      "text/html": [
       "<div>\n",
       "<style scoped>\n",
       "    .dataframe tbody tr th:only-of-type {\n",
       "        vertical-align: middle;\n",
       "    }\n",
       "\n",
       "    .dataframe tbody tr th {\n",
       "        vertical-align: top;\n",
       "    }\n",
       "\n",
       "    .dataframe thead th {\n",
       "        text-align: right;\n",
       "    }\n",
       "</style>\n",
       "<table border=\"1\" class=\"dataframe\">\n",
       "  <thead>\n",
       "    <tr style=\"text-align: right;\">\n",
       "      <th></th>\n",
       "      <th>PassengerId</th>\n",
       "      <th>Name</th>\n",
       "      <th>Surname</th>\n",
       "      <th>Fsize</th>\n",
       "      <th>Family</th>\n",
       "      <th>FsizeD</th>\n",
       "    </tr>\n",
       "  </thead>\n",
       "  <tbody>\n",
       "    <tr>\n",
       "      <th>0</th>\n",
       "      <td>1</td>\n",
       "      <td>Braund, Mr. Owen Harris</td>\n",
       "      <td>Braund</td>\n",
       "      <td>2</td>\n",
       "      <td>Braund_2</td>\n",
       "      <td>small</td>\n",
       "    </tr>\n",
       "    <tr>\n",
       "      <th>1</th>\n",
       "      <td>2</td>\n",
       "      <td>Cumings, Mrs. John Bradley (Florence Briggs Th...</td>\n",
       "      <td>Cumings</td>\n",
       "      <td>2</td>\n",
       "      <td>Cumings_2</td>\n",
       "      <td>small</td>\n",
       "    </tr>\n",
       "    <tr>\n",
       "      <th>2</th>\n",
       "      <td>3</td>\n",
       "      <td>Heikkinen, Miss. Laina</td>\n",
       "      <td>Heikkinen</td>\n",
       "      <td>1</td>\n",
       "      <td>Heikkinen_1</td>\n",
       "      <td>singleton</td>\n",
       "    </tr>\n",
       "    <tr>\n",
       "      <th>3</th>\n",
       "      <td>4</td>\n",
       "      <td>Futrelle, Mrs. Jacques Heath (Lily May Peel)</td>\n",
       "      <td>Futrelle</td>\n",
       "      <td>2</td>\n",
       "      <td>Futrelle_2</td>\n",
       "      <td>small</td>\n",
       "    </tr>\n",
       "    <tr>\n",
       "      <th>4</th>\n",
       "      <td>5</td>\n",
       "      <td>Allen, Mr. William Henry</td>\n",
       "      <td>Allen</td>\n",
       "      <td>1</td>\n",
       "      <td>Allen_1</td>\n",
       "      <td>singleton</td>\n",
       "    </tr>\n",
       "  </tbody>\n",
       "</table>\n",
       "</div>"
      ],
      "text/plain": [
       "   PassengerId                                               Name    Surname  \\\n",
       "0            1                            Braund, Mr. Owen Harris     Braund   \n",
       "1            2  Cumings, Mrs. John Bradley (Florence Briggs Th...    Cumings   \n",
       "2            3                             Heikkinen, Miss. Laina  Heikkinen   \n",
       "3            4       Futrelle, Mrs. Jacques Heath (Lily May Peel)   Futrelle   \n",
       "4            5                           Allen, Mr. William Henry      Allen   \n",
       "\n",
       "   Fsize       Family     FsizeD  \n",
       "0      2     Braund_2      small  \n",
       "1      2    Cumings_2      small  \n",
       "2      1  Heikkinen_1  singleton  \n",
       "3      2   Futrelle_2      small  \n",
       "4      1      Allen_1  singleton  "
      ]
     },
     "execution_count": 43,
     "metadata": {},
     "output_type": "execute_result"
    }
   ],
   "source": [
    "# Discretizar la variable family size\n",
    "df['Fsize'] = df['Fsize'].astype('int')\n",
    "df['FsizeD'] = np.where(df.Fsize ==1, 'singleton',\n",
    "                        np.where(((df.Fsize <5) & (df.Fsize >1)),'small','large'))\n",
    "df.loc[:,['PassengerId','Name','Surname','Fsize','Family','FsizeD']].head()"
   ]
  },
  {
   "cell_type": "code",
   "execution_count": 44,
   "id": "dd696c1e",
   "metadata": {},
   "outputs": [
    {
     "data": {
      "text/plain": [
       "singleton    537\n",
       "small        292\n",
       "large         62\n",
       "Name: FsizeD, dtype: int64"
      ]
     },
     "execution_count": 44,
     "metadata": {},
     "output_type": "execute_result"
    }
   ],
   "source": [
    "df['FsizeD'].value_counts()"
   ]
  },
  {
   "cell_type": "code",
   "execution_count": 45,
   "id": "93a2ce62",
   "metadata": {},
   "outputs": [],
   "source": [
    "# Encoding\n",
    "df['Es_Q'] = np.where(df['Embarked_Imp'] == \"Q\", 1, 0)\n",
    "df['Es_C'] = np.where(df['Embarked_Imp'] == \"C\", 1, 0)\n",
    "df['Es_S'] = np.where(df['Embarked_Imp'] == \"S\", 1, 0)\n",
    "df['Es_Master'] = np.where(df['Title'] == \"Master\", 1, 0)\n",
    "df['Es_Miss'] = np.where(df['Title'] == \"Miss\", 1, 0)\n",
    "df['Es_Mr'] = np.where(df['Title'] == \"Mr\", 1, 0)\n",
    "df['Es_Mrs'] = np.where(df['Title'] == \"Mrs\", 1, 0)\n",
    "df['Es_singleton'] = np.where(df['FsizeD'] == \"singleton\", 1, 0)\n",
    "df['Es_small'] = np.where(df['FsizeD'] == \"small\", 1, 0)\n",
    "df['Es_Pclass_1'] = np.where(df['Pclass'] == 1, 1, 0)\n",
    "df['Es_Pclass_3'] = np.where(df['Pclass'] == 3, 1, 0)\n",
    "df['Tiene_Parch'] = np.where(df['Parch'] > 0, 1, 0)\n",
    "\n",
    "# Transformations\n",
    "df['Age_log'] = np.log(df['Age_Imp'] + 1)\n",
    "df['Fare_log'] = np.log(np.where(df['Fare'] > df['Fare'].quantile(0.99),\n",
    "                                 df['Fare'].quantile(0.99),\n",
    "                                 df['Fare'])+ 1)"
   ]
  },
  {
   "cell_type": "markdown",
   "id": "d4be3050",
   "metadata": {},
   "source": [
    "# Importancia de las variables"
   ]
  },
  {
   "cell_type": "code",
   "execution_count": 46,
   "id": "bdb6e0dd",
   "metadata": {},
   "outputs": [
    {
     "data": {
      "text/html": [
       "<div>\n",
       "<style scoped>\n",
       "    .dataframe tbody tr th:only-of-type {\n",
       "        vertical-align: middle;\n",
       "    }\n",
       "\n",
       "    .dataframe tbody tr th {\n",
       "        vertical-align: top;\n",
       "    }\n",
       "\n",
       "    .dataframe thead th {\n",
       "        text-align: right;\n",
       "    }\n",
       "</style>\n",
       "<table border=\"1\" class=\"dataframe\">\n",
       "  <thead>\n",
       "    <tr style=\"text-align: right;\">\n",
       "      <th></th>\n",
       "      <th>Feature</th>\n",
       "      <th>Importance</th>\n",
       "    </tr>\n",
       "  </thead>\n",
       "  <tbody>\n",
       "    <tr>\n",
       "      <th>4</th>\n",
       "      <td>Is_Male</td>\n",
       "      <td>0.265093</td>\n",
       "    </tr>\n",
       "    <tr>\n",
       "      <th>13</th>\n",
       "      <td>Es_Mr</td>\n",
       "      <td>0.172502</td>\n",
       "    </tr>\n",
       "    <tr>\n",
       "      <th>2</th>\n",
       "      <td>Fare</td>\n",
       "      <td>0.096863</td>\n",
       "    </tr>\n",
       "    <tr>\n",
       "      <th>5</th>\n",
       "      <td>Fare_log</td>\n",
       "      <td>0.094078</td>\n",
       "    </tr>\n",
       "    <tr>\n",
       "      <th>0</th>\n",
       "      <td>Pclass</td>\n",
       "      <td>0.080303</td>\n",
       "    </tr>\n",
       "    <tr>\n",
       "      <th>20</th>\n",
       "      <td>Es_Pclass_3</td>\n",
       "      <td>0.072047</td>\n",
       "    </tr>\n",
       "    <tr>\n",
       "      <th>12</th>\n",
       "      <td>Es_Miss</td>\n",
       "      <td>0.070461</td>\n",
       "    </tr>\n",
       "    <tr>\n",
       "      <th>16</th>\n",
       "      <td>Es_small</td>\n",
       "      <td>0.043497</td>\n",
       "    </tr>\n",
       "    <tr>\n",
       "      <th>19</th>\n",
       "      <td>Es_Pclass_1</td>\n",
       "      <td>0.033992</td>\n",
       "    </tr>\n",
       "    <tr>\n",
       "      <th>17</th>\n",
       "      <td>Fsize</td>\n",
       "      <td>0.027913</td>\n",
       "    </tr>\n",
       "    <tr>\n",
       "      <th>15</th>\n",
       "      <td>Es_singleton</td>\n",
       "      <td>0.016872</td>\n",
       "    </tr>\n",
       "    <tr>\n",
       "      <th>18</th>\n",
       "      <td>Age_log</td>\n",
       "      <td>0.011016</td>\n",
       "    </tr>\n",
       "    <tr>\n",
       "      <th>3</th>\n",
       "      <td>Age_Imp</td>\n",
       "      <td>0.007216</td>\n",
       "    </tr>\n",
       "    <tr>\n",
       "      <th>21</th>\n",
       "      <td>Tiene_Parch</td>\n",
       "      <td>0.005298</td>\n",
       "    </tr>\n",
       "    <tr>\n",
       "      <th>9</th>\n",
       "      <td>Es_S</td>\n",
       "      <td>0.001099</td>\n",
       "    </tr>\n",
       "    <tr>\n",
       "      <th>8</th>\n",
       "      <td>Es_C</td>\n",
       "      <td>0.000954</td>\n",
       "    </tr>\n",
       "    <tr>\n",
       "      <th>6</th>\n",
       "      <td>SibSp_top</td>\n",
       "      <td>0.000794</td>\n",
       "    </tr>\n",
       "    <tr>\n",
       "      <th>14</th>\n",
       "      <td>Es_Mrs</td>\n",
       "      <td>0.000000</td>\n",
       "    </tr>\n",
       "    <tr>\n",
       "      <th>1</th>\n",
       "      <td>Parch</td>\n",
       "      <td>0.000000</td>\n",
       "    </tr>\n",
       "    <tr>\n",
       "      <th>10</th>\n",
       "      <td>Mother</td>\n",
       "      <td>0.000000</td>\n",
       "    </tr>\n",
       "    <tr>\n",
       "      <th>7</th>\n",
       "      <td>Es_Q</td>\n",
       "      <td>0.000000</td>\n",
       "    </tr>\n",
       "    <tr>\n",
       "      <th>11</th>\n",
       "      <td>Es_Master</td>\n",
       "      <td>0.000000</td>\n",
       "    </tr>\n",
       "  </tbody>\n",
       "</table>\n",
       "</div>"
      ],
      "text/plain": [
       "         Feature  Importance\n",
       "4        Is_Male    0.265093\n",
       "13         Es_Mr    0.172502\n",
       "2           Fare    0.096863\n",
       "5       Fare_log    0.094078\n",
       "0         Pclass    0.080303\n",
       "20   Es_Pclass_3    0.072047\n",
       "12       Es_Miss    0.070461\n",
       "16      Es_small    0.043497\n",
       "19   Es_Pclass_1    0.033992\n",
       "17         Fsize    0.027913\n",
       "15  Es_singleton    0.016872\n",
       "18       Age_log    0.011016\n",
       "3        Age_Imp    0.007216\n",
       "21   Tiene_Parch    0.005298\n",
       "9           Es_S    0.001099\n",
       "8           Es_C    0.000954\n",
       "6      SibSp_top    0.000794\n",
       "14        Es_Mrs    0.000000\n",
       "1          Parch    0.000000\n",
       "10        Mother    0.000000\n",
       "7           Es_Q    0.000000\n",
       "11     Es_Master    0.000000"
      ]
     },
     "execution_count": 46,
     "metadata": {},
     "output_type": "execute_result"
    }
   ],
   "source": [
    "features = ['Pclass','Parch','Fare','Age_Imp','Is_Male','Fare_log',\n",
    "           'SibSp_top','Es_Q', 'Es_C', 'Es_S', 'Mother',\n",
    "       'Es_Master', 'Es_Miss','Es_Mr','Es_Mrs','Es_singleton','Es_small','Fsize','Age_log',\n",
    "           'Es_Pclass_1','Es_Pclass_3','Tiene_Parch']\n",
    "\n",
    "X = df[features].values\n",
    "y = df['Survived'].values\n",
    "\n",
    "# Crear el modelo de Random Forest\n",
    "model = RandomForestClassifier(n_estimators = 150, \n",
    "                               random_state = 123,\n",
    "                               max_depth = 7,\n",
    "                               min_samples_leaf = 100,\n",
    "                               max_features = 4,\n",
    "                               criterion = 'entropy') \n",
    "\n",
    "# Entrenar el modelo\n",
    "model.fit(X, y)\n",
    "\n",
    "# Obtener la importancia de las características\n",
    "feature_importance = model.feature_importances_\n",
    "\n",
    "# Crear un DataFrame para visualizar la importancia de las características\n",
    "importance_df = pd.DataFrame({'Feature': features, 'Importance': feature_importance})\n",
    "importance_df = importance_df.sort_values('Importance', ascending=False)\n",
    "importance_df.sort_values(by = 'Importance', ascending = False)"
   ]
  },
  {
   "cell_type": "code",
   "execution_count": 47,
   "id": "5f98f0b4",
   "metadata": {},
   "outputs": [
    {
     "data": {
      "image/png": "[encoded data removed]",
      "text/plain": [
       "<Figure size 1000x600 with 1 Axes>"
      ]
     },
     "metadata": {},
     "output_type": "display_data"
    }
   ],
   "source": [
    "# Grafico la importancia de cada variable\n",
    "importance_df = importance_df.sort_values(by = 'Importance', ascending = False)\n",
    "importance_df = importance_df.loc[importance_df['Importance'] > 0,]\n",
    "plt.figure(figsize=(10, 6))  # Tamaño de la figura\n",
    "plt.barh(importance_df['Feature'], \n",
    "         importance_df['Importance'],\n",
    "         color = '#A989D6')\n",
    "plt.xlabel('Importancia según RF')\n",
    "plt.gca().invert_yaxis()  # Invertir el eje Y para mostrar la característica más relevante en la parte superior\n",
    "plt.show() "
   ]
  },
  {
   "cell_type": "markdown",
   "id": "93f300c2",
   "metadata": {},
   "source": [
    "# Separo Train y Test"
   ]
  },
  {
   "cell_type": "code",
   "execution_count": 48,
   "id": "79e10941",
   "metadata": {},
   "outputs": [],
   "source": [
    "df_train,df_test = train_test_split(df,\n",
    "                                    test_size = 0.25, #Porcentaje de muestra test \n",
    "                                    random_state = 44) #Semilla"
   ]
  },
  {
   "cell_type": "code",
   "execution_count": 49,
   "id": "e2f84fbc",
   "metadata": {},
   "outputs": [
    {
     "name": "stdout",
     "output_type": "stream",
     "text": [
      "Tasa Supervivencia TRAIN:\n",
      "0.38\n",
      "Tasa Supervivencia TEST:\n",
      "0.38\n"
     ]
    }
   ],
   "source": [
    "# Check tasas similares \n",
    "print('Tasa Supervivencia TRAIN:')\n",
    "print(round(df_train['Survived'].mean(),2))\n",
    "print('Tasa Supervivencia TEST:')\n",
    "print(round(df_test['Survived'].mean(),2))"
   ]
  },
  {
   "cell_type": "markdown",
   "id": "d31fd362",
   "metadata": {},
   "source": [
    "# Modelo 1: Regresión Logística"
   ]
  },
  {
   "cell_type": "code",
   "execution_count": 50,
   "id": "5cc55609",
   "metadata": {},
   "outputs": [],
   "source": [
    "from sklearn.linear_model import LogisticRegression\n",
    "\n",
    "# Selecciono features y genero inputs del modelo\n",
    "features = ['Es_Mr','Is_Male','Fare_log','Es_Pclass_1','Es_Pclass_3','Es_small',\n",
    "           'Es_Miss','Es_singleton','Es_C','Es_S','Tiene_Parch']\n",
    "X_train = df_train[features].values\n",
    "y_train = df_train['Survived'].values\n",
    "X_test = df_test[features].values\n",
    "y_test = df_test['Survived'].values\n",
    "\n",
    "# Genero y entreno\n",
    "reg_log_1 = LogisticRegression()\n",
    "reg_log_1.fit(X_train, y_train)\n",
    "\n",
    "# Predicciones\n",
    "y_pred_train = reg_log_1.predict(X_train)\n",
    "y_pred_test = reg_log_1.predict(X_test)\n",
    "y_pred_prob_train = reg_log_1.predict_proba(X_train)[:,1]\n",
    "y_pred_prob_test = reg_log_1.predict_proba(X_test)[:,1]"
   ]
  },
  {
   "cell_type": "code",
   "execution_count": 51,
   "id": "bdc254b6",
   "metadata": {},
   "outputs": [
    {
     "data": {
      "text/plain": [
       "Text(0.5, 1.0, 'Distribución Estimaciones TEST')"
      ]
     },
     "execution_count": 51,
     "metadata": {},
     "output_type": "execute_result"
    },
    {
     "data": {
      "image/png": "[encoded data removed]",
      "text/plain": [
       "<Figure size 1000x600 with 2 Axes>"
      ]
     },
     "metadata": {},
     "output_type": "display_data"
    }
   ],
   "source": [
    "# Histogramas de predicción \n",
    "plt.figure(figsize=(10,6)) \n",
    "plt.subplot(121)\n",
    "sns.histplot(x = y_pred_prob_train,  \n",
    "             alpha = 0.5,\n",
    "             hue = y_train,\n",
    "             stat = 'probability', \n",
    "             bins = 15,\n",
    "            kde = True)\n",
    "plt.title('Distribución Estimaciones TRAIN')\n",
    "plt.subplot(122)\n",
    "sns.histplot(x = y_pred_prob_test,  \n",
    "             alpha = 0.5,\n",
    "             hue = y_test,\n",
    "             stat = 'probability', \n",
    "             bins = 15,\n",
    "            kde = True)\n",
    "plt.title('Distribución Estimaciones TEST')"
   ]
  },
  {
   "cell_type": "code",
   "execution_count": 53,
   "id": "1ca7560e",
   "metadata": {},
   "outputs": [],
   "source": [
    "# Poder de ordenamiento\n",
    "# Agrego predicción en mi dataframes\n",
    "df_train['Predict_Prob_RegLog'] = y_pred_prob_train\n",
    "df_test['Predict_Prob_RegLog'] = y_pred_prob_test\n",
    "\n",
    "# Defino cortes\n",
    "bin_edges = [0.0, 0.2, 0.4, 0.6, 0.8, 1.0]\n",
    "bin_labels = range(1, 6)\n",
    "\n",
    "# Corto\n",
    "df_train['Predict_RegLog_Bin'] = pd.cut(df_train['Predict_Prob_RegLog'], \n",
    "                                  bins=bin_edges, \n",
    "                                  labels=bin_labels, \n",
    "                                  include_lowest=True)\n",
    "df_test['Predict_RegLog_Bin'] = pd.cut(df_test['Predict_Prob_RegLog'], \n",
    "                                  bins=bin_edges, \n",
    "                                  labels=bin_labels, \n",
    "                                  include_lowest=True)\n",
    "\n",
    "# Genero agrupaciones\n",
    "resultados_nodo_TRAIN = df_train.groupby('Predict_RegLog_Bin').agg(     \n",
    "    Cant = ('Predict_RegLog_Bin', 'count'),              \n",
    "    Cant_Sup = ('Survived', 'sum'),            \n",
    "    Tasa_Sup = ('Survived', 'mean')    \n",
    ").reset_index()\n",
    "\n",
    "resultados_nodo_TEST = df_test.groupby('Predict_RegLog_Bin').agg(     \n",
    "    Cant = ('Predict_RegLog_Bin', 'count'),              \n",
    "    Cant_Sup = ('Survived', 'sum'),            \n",
    "    Tasa_Sup = ('Survived', 'mean')    \n",
    ").reset_index()\n"
   ]
  },
  {
   "cell_type": "code",
   "execution_count": 54,
   "id": "06739d40",
   "metadata": {},
   "outputs": [
    {
     "data": {
      "text/html": [
       "<div>\n",
       "<style scoped>\n",
       "    .dataframe tbody tr th:only-of-type {\n",
       "        vertical-align: middle;\n",
       "    }\n",
       "\n",
       "    .dataframe tbody tr th {\n",
       "        vertical-align: top;\n",
       "    }\n",
       "\n",
       "    .dataframe thead th {\n",
       "        text-align: right;\n",
       "    }\n",
       "</style>\n",
       "<table border=\"1\" class=\"dataframe\">\n",
       "  <thead>\n",
       "    <tr style=\"text-align: right;\">\n",
       "      <th></th>\n",
       "      <th>Predict_RegLog_Bin</th>\n",
       "      <th>Cant</th>\n",
       "      <th>Cant_Sup</th>\n",
       "      <th>Tasa_Sup</th>\n",
       "    </tr>\n",
       "  </thead>\n",
       "  <tbody>\n",
       "    <tr>\n",
       "      <th>0</th>\n",
       "      <td>1</td>\n",
       "      <td>315</td>\n",
       "      <td>26</td>\n",
       "      <td>0.082540</td>\n",
       "    </tr>\n",
       "    <tr>\n",
       "      <th>1</th>\n",
       "      <td>2</td>\n",
       "      <td>76</td>\n",
       "      <td>23</td>\n",
       "      <td>0.302632</td>\n",
       "    </tr>\n",
       "    <tr>\n",
       "      <th>2</th>\n",
       "      <td>3</td>\n",
       "      <td>66</td>\n",
       "      <td>32</td>\n",
       "      <td>0.484848</td>\n",
       "    </tr>\n",
       "    <tr>\n",
       "      <th>3</th>\n",
       "      <td>4</td>\n",
       "      <td>101</td>\n",
       "      <td>70</td>\n",
       "      <td>0.693069</td>\n",
       "    </tr>\n",
       "    <tr>\n",
       "      <th>4</th>\n",
       "      <td>5</td>\n",
       "      <td>110</td>\n",
       "      <td>106</td>\n",
       "      <td>0.963636</td>\n",
       "    </tr>\n",
       "  </tbody>\n",
       "</table>\n",
       "</div>"
      ],
      "text/plain": [
       "  Predict_RegLog_Bin  Cant  Cant_Sup  Tasa_Sup\n",
       "0                  1   315        26  0.082540\n",
       "1                  2    76        23  0.302632\n",
       "2                  3    66        32  0.484848\n",
       "3                  4   101        70  0.693069\n",
       "4                  5   110       106  0.963636"
      ]
     },
     "execution_count": 54,
     "metadata": {},
     "output_type": "execute_result"
    }
   ],
   "source": [
    "resultados_nodo_TRAIN"
   ]
  },
  {
   "cell_type": "code",
   "execution_count": 55,
   "id": "5d2f0b8a",
   "metadata": {},
   "outputs": [
    {
     "data": {
      "text/html": [
       "<div>\n",
       "<style scoped>\n",
       "    .dataframe tbody tr th:only-of-type {\n",
       "        vertical-align: middle;\n",
       "    }\n",
       "\n",
       "    .dataframe tbody tr th {\n",
       "        vertical-align: top;\n",
       "    }\n",
       "\n",
       "    .dataframe thead th {\n",
       "        text-align: right;\n",
       "    }\n",
       "</style>\n",
       "<table border=\"1\" class=\"dataframe\">\n",
       "  <thead>\n",
       "    <tr style=\"text-align: right;\">\n",
       "      <th></th>\n",
       "      <th>Predict_RegLog_Bin</th>\n",
       "      <th>Cant</th>\n",
       "      <th>Cant_Sup</th>\n",
       "      <th>Tasa_Sup</th>\n",
       "    </tr>\n",
       "  </thead>\n",
       "  <tbody>\n",
       "    <tr>\n",
       "      <th>0</th>\n",
       "      <td>1</td>\n",
       "      <td>95</td>\n",
       "      <td>18</td>\n",
       "      <td>0.189474</td>\n",
       "    </tr>\n",
       "    <tr>\n",
       "      <th>1</th>\n",
       "      <td>2</td>\n",
       "      <td>37</td>\n",
       "      <td>7</td>\n",
       "      <td>0.189189</td>\n",
       "    </tr>\n",
       "    <tr>\n",
       "      <th>2</th>\n",
       "      <td>3</td>\n",
       "      <td>21</td>\n",
       "      <td>7</td>\n",
       "      <td>0.333333</td>\n",
       "    </tr>\n",
       "    <tr>\n",
       "      <th>3</th>\n",
       "      <td>4</td>\n",
       "      <td>28</td>\n",
       "      <td>16</td>\n",
       "      <td>0.571429</td>\n",
       "    </tr>\n",
       "    <tr>\n",
       "      <th>4</th>\n",
       "      <td>5</td>\n",
       "      <td>42</td>\n",
       "      <td>37</td>\n",
       "      <td>0.880952</td>\n",
       "    </tr>\n",
       "  </tbody>\n",
       "</table>\n",
       "</div>"
      ],
      "text/plain": [
       "  Predict_RegLog_Bin  Cant  Cant_Sup  Tasa_Sup\n",
       "0                  1    95        18  0.189474\n",
       "1                  2    37         7  0.189189\n",
       "2                  3    21         7  0.333333\n",
       "3                  4    28        16  0.571429\n",
       "4                  5    42        37  0.880952"
      ]
     },
     "execution_count": 55,
     "metadata": {},
     "output_type": "execute_result"
    }
   ],
   "source": [
    "resultados_nodo_TEST"
   ]
  },
  {
   "cell_type": "code",
   "execution_count": 56,
   "id": "8ba6c5fb",
   "metadata": {},
   "outputs": [
    {
     "data": {
      "text/plain": [
       "Text(0.5, 1.0, 'Poder de Ordenamiento - TEST')"
      ]
     },
     "execution_count": 56,
     "metadata": {},
     "output_type": "execute_result"
    },
    {
     "data": {
      "image/png": "[encoded data removed]",
      "text/plain": [
       "<Figure size 1000x600 with 2 Axes>"
      ]
     },
     "metadata": {},
     "output_type": "display_data"
    }
   ],
   "source": [
    "# Barplot por nodo \n",
    "resultados_nodo_TRAIN['Tasa_NoSup'] = (1 - resultados_nodo_TRAIN['Tasa_Sup'])\n",
    "resultados_nodo_TEST['Tasa_NoSup'] = (1 - resultados_nodo_TEST['Tasa_Sup'])\n",
    "plt.figure(figsize=(10,6)) \n",
    "plt.subplot(121)\n",
    "sns.barplot(data = resultados_nodo_TRAIN,\n",
    "            x = 'Predict_RegLog_Bin',\n",
    "            y = 'Tasa_Sup', \n",
    "            label = 'Porcentaje Supervivencia',\n",
    "            color = '#48E074')\n",
    "sns.barplot(data=resultados_nodo_TRAIN, \n",
    "            x = 'Predict_RegLog_Bin', \n",
    "            y = 'Tasa_NoSup', \n",
    "            bottom=resultados_nodo_TRAIN['Tasa_Sup'], \n",
    "            label = 'Porcentaje No Supervivencia',\n",
    "            color = '#E04848')\n",
    "plt.title('Poder de Ordenamiento - TRAIN')\n",
    "plt.subplot(122)\n",
    "sns.barplot(data = resultados_nodo_TEST,\n",
    "            x = 'Predict_RegLog_Bin',\n",
    "            y = 'Tasa_Sup', \n",
    "            label = 'Porcentaje Supervivencia',\n",
    "            color = '#48E074')\n",
    "sns.barplot(data=resultados_nodo_TEST, \n",
    "            x = 'Predict_RegLog_Bin', \n",
    "            y = 'Tasa_NoSup', \n",
    "            bottom=resultados_nodo_TEST['Tasa_Sup'], \n",
    "            label = 'Porcentaje No Supervivencia',\n",
    "            color = '#E04848')\n",
    "plt.title('Poder de Ordenamiento - TEST')"
   ]
  },
  {
   "cell_type": "code",
   "execution_count": 57,
   "id": "cfed0122",
   "metadata": {},
   "outputs": [
    {
     "data": {
      "image/png": "[encoded data removed]",
      "text/plain": [
       "<Figure size 800x600 with 1 Axes>"
      ]
     },
     "metadata": {},
     "output_type": "display_data"
    }
   ],
   "source": [
    "# ROC Y AUC\n",
    "# Calcula las curvas ROC y el área bajo la curva (AUC) para entrenamiento y prueba\n",
    "y_train = y_train\n",
    "y_train_proba = y_pred_prob_train\n",
    "fpr_train, tpr_train, _ = roc_curve(y_train, y_train_proba)\n",
    "roc_auc_train = auc(fpr_train, tpr_train)\n",
    "\n",
    "y_test = y_test\n",
    "y_test_proba = y_pred_prob_test\n",
    "fpr_test, tpr_test, _ = roc_curve(y_test, y_test_proba)\n",
    "roc_auc_test = auc(fpr_test, tpr_test)\n",
    "\n",
    "# Grafica las curvas ROC en el mismo gráfico\n",
    "plt.figure(figsize=(8, 6))\n",
    "plt.plot(fpr_train, tpr_train, color='darkorange', lw=2, label=f'Train ROC curve (AUC = {roc_auc_train:.2f})')\n",
    "plt.plot(fpr_test, tpr_test, color='cornflowerblue', lw=2, label=f'Test ROC curve (AUC = {roc_auc_test:.2f})')\n",
    "plt.plot([0, 1], [0, 1], color='gray', linestyle='--')\n",
    "plt.xlim([0.0, 1.0])\n",
    "plt.ylim([0.0, 1.05])\n",
    "plt.xlabel('Tasa de Falsos Positivos')\n",
    "plt.ylabel('Tasa de Verdaderos Positivos')\n",
    "plt.title('Curva ROC - MODELO 1')\n",
    "plt.legend(loc='lower right')\n",
    "plt.show()"
   ]
  },
  {
   "cell_type": "code",
   "execution_count": 58,
   "id": "295a2062",
   "metadata": {},
   "outputs": [
    {
     "name": "stdout",
     "output_type": "stream",
     "text": [
      "TRAIN\n",
      "Accuracy: 0.831\n",
      "Recall: 0.763\n",
      "F1 Score: 0.776\n",
      "Confusion Matrix:\n",
      "[[359  52]\n",
      " [ 61 196]]\n",
      "-----------------------------------------------\n",
      "-----------------------------------------------\n",
      "TEST\n",
      "Accuracy: 0.767\n",
      "Confusion Matrix:\n",
      "[[113  25]\n",
      " [ 27  58]]\n",
      "Recall: 0.682\n",
      "F1 Score: 0.69\n"
     ]
    }
   ],
   "source": [
    "# Metricas\n",
    "print('TRAIN')\n",
    "accuracy = round(accuracy_score(y_train, y_pred_train),3)\n",
    "conf_matrix = confusion_matrix(y_train, y_pred_train)\n",
    "recall = round(recall_score(y_train, y_pred_train),3)\n",
    "f1 = round(f1_score(y_train, y_pred_train),3)\n",
    "\n",
    "print(f'Accuracy: {accuracy}')\n",
    "print(f'Recall: {recall}')\n",
    "print(f'F1 Score: {f1}')\n",
    "print(f'Confusion Matrix:\\n{conf_matrix}')\n",
    "print('-----------------------------------------------')\n",
    "print('-----------------------------------------------')\n",
    "print('TEST')\n",
    "accuracy = round(accuracy_score(y_test, y_pred_test),3)\n",
    "conf_matrix = confusion_matrix(y_test, y_pred_test)\n",
    "recall = round(recall_score(y_test, y_pred_test),3)\n",
    "f1 = round(f1_score(y_test, y_pred_test),3)\n",
    "\n",
    "print(f'Accuracy: {accuracy}')\n",
    "print(f'Confusion Matrix:\\n{conf_matrix}')\n",
    "print(f'Recall: {recall}')\n",
    "print(f'F1 Score: {f1}')"
   ]
  }
 ],
 "metadata": {
  "kernelspec": {
   "display_name": "Python 3 (ipykernel)",
   "language": "python",
   "name": "python3"
  },
  "language_info": {
   "codemirror_mode": {
    "name": "ipython",
    "version": 3
   },
   "file_extension": ".py",
   "mimetype": "text/x-python",
   "name": "python",
   "nbconvert_exporter": "python",
   "pygments_lexer": "ipython3",
   "version": "3.11.4"
  }
 },
 "nbformat": 4,
 "nbformat_minor": 5
}
