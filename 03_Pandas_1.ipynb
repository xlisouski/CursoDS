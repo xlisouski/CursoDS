{
 "cells": [
  {
   "cell_type": "raw",
   "id": "a3b449ad-0ece-4dd9-bd95-d41857286f87",
   "metadata": {},
   "source": [
    "!pip install numpy\n",
    "!pip install pandas"
   ]
  },
  {
   "cell_type": "code",
   "execution_count": 38,
   "id": "68126c93-717c-4133-9309-289a90dfffd6",
   "metadata": {},
   "outputs": [],
   "source": [
    "np.set_printoptions(precision=15, suppress=True)"
   ]
  },
  {
   "cell_type": "markdown",
   "id": "12ce2b28-062f-4e18-adfe-4a18e00f2c26",
   "metadata": {},
   "source": [
    "Arrancando con Pandas!"
   ]
  },
  {
   "cell_type": "code",
   "execution_count": 1,
   "id": "73c04c05-a0e3-4c68-be03-7a71dd0c548b",
   "metadata": {},
   "outputs": [],
   "source": [
    "import pandas as pd \n",
    "import numpy as np "
   ]
  },
  {
   "cell_type": "markdown",
   "id": "31891c92-2eef-4a58-ac1c-89e10345acdc",
   "metadata": {},
   "source": [
    "Series "
   ]
  },
  {
   "cell_type": "code",
   "execution_count": 2,
   "id": "9711f035-13af-487e-b6e5-8f2b23fdb35c",
   "metadata": {},
   "outputs": [],
   "source": [
    "Numeros = range(50,70,2)"
   ]
  },
  {
   "cell_type": "code",
   "execution_count": 3,
   "id": "7dbe71e4-4e6d-4995-9b22-9aa9585f5fec",
   "metadata": {},
   "outputs": [
    {
     "name": "stdout",
     "output_type": "stream",
     "text": [
      "<class 'range'>\n"
     ]
    }
   ],
   "source": [
    "print(type(Numeros))"
   ]
  },
  {
   "cell_type": "code",
   "execution_count": 5,
   "id": "fae81426-f05e-421a-a0a9-d53327fcc681",
   "metadata": {},
   "outputs": [
    {
     "name": "stdout",
     "output_type": "stream",
     "text": [
      "0    50\n",
      "1    52\n",
      "2    54\n",
      "3    56\n",
      "4    58\n",
      "5    60\n",
      "6    62\n",
      "7    64\n",
      "8    66\n",
      "9    68\n",
      "dtype: int64\n",
      "<class 'pandas.core.series.Series'>\n"
     ]
    }
   ],
   "source": [
    "Numeros_serie = pd.Series(Numeros)\n",
    "print(Numeros_serie)"
   ]
  },
  {
   "cell_type": "code",
   "execution_count": 6,
   "id": "1bebb2fd-68c8-4408-a101-16ca328bc189",
   "metadata": {},
   "outputs": [
    {
     "name": "stdout",
     "output_type": "stream",
     "text": [
      "<class 'pandas.core.series.Series'>\n"
     ]
    }
   ],
   "source": [
    "print(type(Numeros_serie))"
   ]
  },
  {
   "cell_type": "code",
   "execution_count": 7,
   "id": "10193226-b7d2-4b16-b781-33b556e38aff",
   "metadata": {},
   "outputs": [
    {
     "name": "stdout",
     "output_type": "stream",
     "text": [
      "['primero', 'segundo', 'tercero', 'cuarto', 'quinto', 'sexto', 'septimo', 'octavo', 'noveno', 'decimo']\n"
     ]
    }
   ],
   "source": [
    "Numeros_texto = [\"primero\",\"segundo\",\"tercero\",\"cuarto\",\"quinto\",\"sexto\",\"septimo\",\"octavo\",\"noveno\",\"decimo\"]\n",
    "print(Numeros_texto)"
   ]
  },
  {
   "cell_type": "code",
   "execution_count": 8,
   "id": "90f771ae-b692-4988-8081-bfafd9cb9881",
   "metadata": {},
   "outputs": [
    {
     "name": "stdout",
     "output_type": "stream",
     "text": [
      "primero    50\n",
      "segundo    52\n",
      "tercero    54\n",
      "cuarto     56\n",
      "quinto     58\n",
      "sexto      60\n",
      "septimo    62\n",
      "octavo     64\n",
      "noveno     66\n",
      "decimo     68\n",
      "dtype: int64\n"
     ]
    }
   ],
   "source": [
    "Numeros_serie_2 = pd.Series(Numeros,index=Numeros_texto)\n",
    "print(Numeros_serie_2)"
   ]
  },
  {
   "cell_type": "code",
   "execution_count": 9,
   "id": "1971c0ad-80f7-4793-8181-29c23eecbd8d",
   "metadata": {},
   "outputs": [
    {
     "name": "stdout",
     "output_type": "stream",
     "text": [
      "60\n"
     ]
    }
   ],
   "source": [
    "print(Numeros_serie_2['sexto'])"
   ]
  },
  {
   "cell_type": "code",
   "execution_count": 10,
   "id": "6f2daa4d-eb60-47a9-914b-7fff2a74c147",
   "metadata": {},
   "outputs": [
    {
     "name": "stdout",
     "output_type": "stream",
     "text": [
      "50 59.0 68\n"
     ]
    }
   ],
   "source": [
    "# Aplicar distintas funciones que son de utilidad \n",
    "\n",
    "print(Numeros_serie_2.min(),Numeros_serie_2.mean(),Numeros_serie_2.max())\n"
   ]
  },
  {
   "cell_type": "code",
   "execution_count": 11,
   "id": "8e08c3e8-3ebb-4143-945c-9de44bade0f9",
   "metadata": {},
   "outputs": [
    {
     "ename": "AttributeError",
     "evalue": "'list' object has no attribute 'mean'",
     "output_type": "error",
     "traceback": [
      "\u001b[1;31m---------------------------------------------------------------------------\u001b[0m",
      "\u001b[1;31mAttributeError\u001b[0m                            Traceback (most recent call last)",
      "Cell \u001b[1;32mIn[11], line 4\u001b[0m\n\u001b[0;32m      1\u001b[0m \u001b[38;5;66;03m# qué pasa si aplico esto a una lista????? \u001b[39;00m\n\u001b[0;32m      3\u001b[0m lista_numeros \u001b[38;5;241m=\u001b[39m [\u001b[38;5;241m3\u001b[39m,\u001b[38;5;241m4\u001b[39m,\u001b[38;5;241m5\u001b[39m,\u001b[38;5;241m6\u001b[39m]\n\u001b[1;32m----> 4\u001b[0m \u001b[38;5;28mprint\u001b[39m(\u001b[43mlista_numeros\u001b[49m\u001b[38;5;241;43m.\u001b[39;49m\u001b[43mmean\u001b[49m())\n",
      "\u001b[1;31mAttributeError\u001b[0m: 'list' object has no attribute 'mean'"
     ]
    }
   ],
   "source": [
    "# qué pasa si aplico esto a una lista????? \n",
    "\n",
    "#lista_numeros = [3,4,5,6]\n",
    "#print(lista_numeros.mean())\n"
   ]
  },
  {
   "cell_type": "code",
   "execution_count": 12,
   "id": "fe3a0c63-5184-4ce6-9e99-d8efc07b37d0",
   "metadata": {},
   "outputs": [
    {
     "name": "stdout",
     "output_type": "stream",
     "text": [
      "Index(['primero', 'segundo', 'tercero', 'cuarto', 'quinto', 'sexto', 'septimo',\n",
      "       'octavo', 'noveno', 'decimo'],\n",
      "      dtype='object')\n"
     ]
    }
   ],
   "source": [
    "# Algunas propiedades de la serie \n",
    "\n",
    "print(Numeros_serie_2.index)\n"
   ]
  },
  {
   "cell_type": "code",
   "execution_count": 13,
   "id": "bd38edfe-84b3-4ba5-a51d-8a09ff1a0367",
   "metadata": {},
   "outputs": [
    {
     "name": "stdout",
     "output_type": "stream",
     "text": [
      "[50 52 54 56 58 60 62 64 66 68]\n"
     ]
    }
   ],
   "source": [
    "print(Numeros_serie_2.values)"
   ]
  },
  {
   "cell_type": "code",
   "execution_count": 15,
   "id": "bc7da020-6e2b-4baa-9c93-c8063ee3eb2e",
   "metadata": {},
   "outputs": [
    {
     "name": "stdout",
     "output_type": "stream",
     "text": [
      "primero    False\n",
      "segundo    False\n",
      "tercero    False\n",
      "cuarto     False\n",
      "quinto     False\n",
      "sexto      False\n",
      "septimo    False\n",
      "octavo     False\n",
      "noveno     False\n",
      "decimo     False\n",
      "dtype: bool\n",
      "0\n"
     ]
    }
   ],
   "source": [
    "print(Numeros_serie_2.isna())\n"
   ]
  },
  {
   "cell_type": "code",
   "execution_count": 16,
   "id": "40b295a0-6773-426f-8357-a4fc61f765dd",
   "metadata": {},
   "outputs": [
    {
     "name": "stdout",
     "output_type": "stream",
     "text": [
      "0\n"
     ]
    }
   ],
   "source": [
    "print(Numeros_serie_2.isna().sum())"
   ]
  },
  {
   "cell_type": "markdown",
   "id": "e8392cbc-e928-415e-a19e-b98259517245",
   "metadata": {},
   "source": [
    "Data Frames "
   ]
  },
  {
   "cell_type": "code",
   "execution_count": 17,
   "id": "37bcaa4c-1b03-4d5b-9192-e60d6034d467",
   "metadata": {},
   "outputs": [],
   "source": [
    "# Creo tres listas: \n",
    "modelos = ['A1', 'A2', 'A3', 'A4', 'A5']\n",
    "peso = [3500,3600,3800,3900,3200]\n",
    "precios = [10000,11000,15000,12000,8000]\n",
    "\n",
    "# Crear las series que necesito para armar mi data frame \n",
    "\n",
    "peso_series = pd.Series(peso,index=modelos)\n",
    "precios_series = pd.Series(precios,index=modelos)\n"
   ]
  },
  {
   "cell_type": "code",
   "execution_count": 19,
   "id": "c64c7c14-99b0-49e2-bca5-386493c06424",
   "metadata": {},
   "outputs": [
    {
     "name": "stdout",
     "output_type": "stream",
     "text": [
      "    Peso  Precio\n",
      "A1  3500   10000\n",
      "A2  3600   11000\n"
     ]
    }
   ],
   "source": [
    "autos = pd.DataFrame({'Peso':peso_series,'Precio':precios_series})\n",
    "print(autos.head(2))"
   ]
  },
  {
   "cell_type": "code",
   "execution_count": 20,
   "id": "69818e86-9677-4f1c-829b-fe7fcc2fb917",
   "metadata": {},
   "outputs": [
    {
     "name": "stdout",
     "output_type": "stream",
     "text": [
      "    Peso  Precio\n",
      "A1  3500   10000\n",
      "A2  3600   11000\n",
      "A3  3800   15000\n",
      "A4  3900   12000\n",
      "A5  3200    8000\n"
     ]
    }
   ],
   "source": [
    "print(autos)"
   ]
  },
  {
   "cell_type": "code",
   "execution_count": 21,
   "id": "1a0644d6-609d-4287-9a23-e97fc8d331f5",
   "metadata": {},
   "outputs": [
    {
     "name": "stdout",
     "output_type": "stream",
     "text": [
      "A1    3500\n",
      "A2    3600\n",
      "A3    3800\n",
      "A4    3900\n",
      "A5    3200\n",
      "Name: Peso, dtype: int64\n"
     ]
    }
   ],
   "source": [
    "print(autos['Peso'])"
   ]
  },
  {
   "cell_type": "code",
   "execution_count": 22,
   "id": "407e5d52-c270-4404-969e-66b407e54bd5",
   "metadata": {},
   "outputs": [],
   "source": [
    "autos['Precio_PorKg'] = autos['Precio'] / autos['Peso']"
   ]
  },
  {
   "cell_type": "code",
   "execution_count": 23,
   "id": "1e950596-d556-4e83-b4a5-e458c1f369af",
   "metadata": {},
   "outputs": [
    {
     "name": "stdout",
     "output_type": "stream",
     "text": [
      "    Peso  Precio  Precio_PorKg\n",
      "A1  3500   10000      2.857143\n",
      "A2  3600   11000      3.055556\n",
      "A3  3800   15000      3.947368\n",
      "A4  3900   12000      3.076923\n",
      "A5  3200    8000      2.500000\n"
     ]
    }
   ],
   "source": [
    "print(autos)"
   ]
  },
  {
   "cell_type": "code",
   "execution_count": 25,
   "id": "96e3bdd9-515e-44b4-b3ac-ba4ea2ebc360",
   "metadata": {},
   "outputs": [
    {
     "name": "stdout",
     "output_type": "stream",
     "text": [
      "A1    2.86\n",
      "A2    3.06\n",
      "A3    3.95\n",
      "A4    3.08\n",
      "A5    2.50\n",
      "Name: Precio_PorKg, dtype: float64\n"
     ]
    }
   ],
   "source": [
    "print(autos['Precio_PorKg'].round(2))"
   ]
  },
  {
   "cell_type": "code",
   "execution_count": 26,
   "id": "443886b0-7548-4dd9-ac22-f7efd24ac15d",
   "metadata": {},
   "outputs": [],
   "source": [
    "autos['Precio_PorKg'] = autos['Precio_PorKg'].round(2)"
   ]
  },
  {
   "cell_type": "code",
   "execution_count": 27,
   "id": "83e4ec6f-39be-4f6d-895f-52b9cf52ce19",
   "metadata": {},
   "outputs": [
    {
     "name": "stdout",
     "output_type": "stream",
     "text": [
      "    Peso  Precio  Precio_PorKg\n",
      "A1  3500   10000          2.86\n",
      "A2  3600   11000          3.06\n",
      "A3  3800   15000          3.95\n",
      "A4  3900   12000          3.08\n",
      "A5  3200    8000          2.50\n"
     ]
    }
   ],
   "source": [
    "print(autos)"
   ]
  },
  {
   "cell_type": "code",
   "execution_count": 37,
   "id": "b5dae194-ab6b-4018-a4f7-161157c60364",
   "metadata": {},
   "outputs": [
    {
     "name": "stdout",
     "output_type": "stream",
     "text": [
      "[ 3500.   10000.       2.86]\n"
     ]
    }
   ],
   "source": [
    "np.set_printoptions(precision=15, suppress=True)\n",
    "print(autos.values[0])"
   ]
  },
  {
   "cell_type": "code",
   "execution_count": 33,
   "id": "7f557256-a25b-4b83-aac6-208a70ecf8e5",
   "metadata": {},
   "outputs": [
    {
     "name": "stdout",
     "output_type": "stream",
     "text": [
      "    Precio  Precio_PorKg\n",
      "A2   11000          3.06\n",
      "A3   15000          3.95\n",
      "A4   12000          3.08\n"
     ]
    }
   ],
   "source": [
    "# Quiero quedarme con los autos con precio > 100000\n",
    "autos_caros = autos.loc[autos['Precio'] > 10000,['Precio','Precio_PorKg']]\n",
    "print(autos_caros)\n",
    "\n"
   ]
  }
 ],
 "metadata": {
  "kernelspec": {
   "display_name": "Python 3 (ipykernel)",
   "language": "python",
   "name": "python3"
  },
  "language_info": {
   "codemirror_mode": {
    "name": "ipython",
    "version": 3
   },
   "file_extension": ".py",
   "mimetype": "text/x-python",
   "name": "python",
   "nbconvert_exporter": "python",
   "pygments_lexer": "ipython3",
   "version": "3.11.4"
  }
 },
 "nbformat": 4,
 "nbformat_minor": 5
}
