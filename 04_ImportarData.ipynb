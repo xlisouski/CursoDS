{
 "cells": [
  {
   "cell_type": "markdown",
   "id": "02488769",
   "metadata": {},
   "source": [
    "# Importando datos con Pandas"
   ]
  },
  {
   "cell_type": "code",
   "execution_count": 2,
   "id": "22a99b38",
   "metadata": {},
   "outputs": [],
   "source": [
    "import pandas as pd\n",
    "import numpy as np\n",
    "import os"
   ]
  },
  {
   "cell_type": "markdown",
   "id": "b2cad6c5",
   "metadata": {},
   "source": [
    "## 1) CSV"
   ]
  },
  {
   "cell_type": "code",
   "execution_count": 19,
   "id": "3d1958d1",
   "metadata": {},
   "outputs": [
    {
     "name": "stdout",
     "output_type": "stream",
     "text": [
      "   fixed acidity  volatile acidity  citric acid  residual sugar  chlorides  \\\n",
      "0            7.4              0.70          0.0             1.9      0.076   \n",
      "1            7.8              0.88          0.0             2.6      0.098   \n",
      "\n",
      "   free sulfur dioxide  total sulfur dioxide  density    pH  sulphates  \\\n",
      "0                 11.0                  34.0   0.9978  3.51       0.56   \n",
      "1                 25.0                  67.0   0.9968  3.20       0.68   \n",
      "\n",
      "   alcohol  quality  \n",
      "0      9.4        5  \n",
      "1      9.8        5  \n"
     ]
    }
   ],
   "source": [
    "# Define el directorio de trabajo a la ruta deseada\n",
    "nueva_ruta = 'C:\\\\Users\\\\usernosis\\\\OneDrive\\\\Documentos\\\\DataSets'\n",
    "os.chdir(nueva_ruta)\n",
    "\n",
    "# Levanto el archivo \n",
    "df = pd.read_csv(\"winequality-red.csv\",sep = ',')\n",
    "print(df.head(2))\n"
   ]
  },
  {
   "cell_type": "code",
   "execution_count": null,
   "id": "6320ff63",
   "metadata": {},
   "outputs": [],
   "source": []
  },
  {
   "cell_type": "markdown",
   "id": "96617a4a",
   "metadata": {},
   "source": [
    "## 2) TXT"
   ]
  },
  {
   "cell_type": "code",
   "execution_count": 20,
   "id": "f3e7eebe",
   "metadata": {},
   "outputs": [
    {
     "name": "stdout",
     "output_type": "stream",
     "text": [
      "   #                   Name Type 1  Type 2  HP  Attack  Defense  Sp. Atk  \\\n",
      "0  1              Bulbasaur  Grass  Poison  45      49       49       65   \n",
      "1  2                Ivysaur  Grass  Poison  60      62       63       80   \n",
      "2  3               Venusaur  Grass  Poison  80      82       83      100   \n",
      "3  3  VenusaurMega Venusaur  Grass  Poison  80     100      123      122   \n",
      "4  4             Charmander   Fire     NaN  39      52       43       60   \n",
      "\n",
      "   Sp. Def  Speed  Generation  Legendary  \n",
      "0       65     45           1      False  \n",
      "1       80     60           1      False  \n",
      "2      100     80           1      False  \n",
      "3      120     80           1      False  \n",
      "4       50     65           1      False  \n"
     ]
    }
   ],
   "source": [
    "# Define el directorio de trabajo a la ruta deseada\n",
    "nueva_ruta = 'C:\\\\Users\\\\usernosis\\\\OneDrive\\\\Documentos\\\\DataSets'\n",
    "os.chdir(nueva_ruta)\n",
    "\n",
    "# Levanto el archivo \n",
    "df_2 = pd.read_csv(\"pokemon_data.txt\", sep = '\\t')\n",
    "print(df_2.head())"
   ]
  },
  {
   "cell_type": "markdown",
   "id": "c6931dd9",
   "metadata": {},
   "source": [
    "## 3) Excel"
   ]
  },
  {
   "cell_type": "code",
   "execution_count": 21,
   "id": "365806ca",
   "metadata": {},
   "outputs": [
    {
     "name": "stdout",
     "output_type": "stream",
     "text": [
      "   Unnamed: 0  index    ID  Year_Birth   Education Marital_Status   Income  \\\n",
      "0           0      0  5524        1957  Graduation         Single  58138.0   \n",
      "1           1      1  2174        1954  Graduation         Single  46344.0   \n",
      "2           2      2  4141        1965  Graduation       Together  71613.0   \n",
      "3           3      3  6182        1984  Graduation       Together  26646.0   \n",
      "4           4      4  5324        1981         PhD        Married  58293.0   \n",
      "\n",
      "   Kidhome  Teenhome Dt_Customer  ...  AcceptedCmp5  AcceptedCmp1  \\\n",
      "0        0         0  04-09-2012  ...         False         False   \n",
      "1        1         1  08-03-2014  ...         False         False   \n",
      "2        0         0  21-08-2013  ...         False         False   \n",
      "3        1         0  10-02-2014  ...         False         False   \n",
      "4        1         0  19-01-2014  ...         False         False   \n",
      "\n",
      "   AcceptedCmp2  Complain  Z_CostContact  Z_Revenue  Response  MostExpensive  \\\n",
      "0         False     False              3         11      True          Wines   \n",
      "1         False     False              3         11     False          Wines   \n",
      "2         False     False              3         11     False          Wines   \n",
      "3         False     False              3         11     False   MeatProducts   \n",
      "4         False     False              3         11     False          Wines   \n",
      "\n",
      "   Marital_Status_key  Education_key  \n",
      "0                   0              1  \n",
      "1                   0              1  \n",
      "2                   2              1  \n",
      "3                   2              1  \n",
      "4                   1              0  \n",
      "\n",
      "[5 rows x 34 columns]\n"
     ]
    }
   ],
   "source": [
    "# Define el directorio de trabajo a la ruta deseada\n",
    "nueva_ruta = 'C:\\\\Users\\\\usernosis\\\\OneDrive\\\\Documentos\\\\DataSets'\n",
    "os.chdir(nueva_ruta)\n",
    "\n",
    "# Levanto el archivo \n",
    "df_3 = pd.read_excel(\"defaultoutput.xlsx\")\n",
    "print(df_3.head())"
   ]
  },
  {
   "cell_type": "markdown",
   "id": "6430eb99",
   "metadata": {},
   "source": [
    "## 4) Github"
   ]
  },
  {
   "cell_type": "code",
   "execution_count": 3,
   "id": "ba0431d8",
   "metadata": {},
   "outputs": [
    {
     "name": "stdout",
     "output_type": "stream",
     "text": [
      "                 AMZN    MCD  SBUX   GOOG  MSFT\n",
      "formatted_date                                 \n",
      "2016-01-01      587.0  106.3  54.4  743.0  49.9\n",
      "2016-02-01      552.5  100.7  52.1  697.8  46.0\n",
      "2016-03-01      593.6  108.8  53.6  745.0  50.3\n",
      "2016-04-01      659.6  109.5  50.5  693.0  45.5\n",
      "2016-05-01      722.8  105.6  49.3  735.7  48.3\n"
     ]
    }
   ],
   "source": [
    "url = 'https://raw.githubusercontent.com/JJTorresDS/stocks-ds-edu/main/stocks.csv'\n",
    "df_git = pd.read_csv(url, index_col=0)\n",
    "print(df_git[['AMZN','MCD','SBUX','GOOG','MSFT']].head(5).round(1))"
   ]
  },
  {
   "cell_type": "markdown",
   "id": "01694a7c",
   "metadata": {},
   "source": [
    "# Exploro Titanic"
   ]
  },
  {
   "cell_type": "code",
   "execution_count": 22,
   "id": "a2dddbf9",
   "metadata": {},
   "outputs": [
    {
     "name": "stdout",
     "output_type": "stream",
     "text": [
      "   PassengerId  Survived  Pclass  \\\n",
      "0            1         0       3   \n",
      "1            2         1       1   \n",
      "2            3         1       3   \n",
      "3            4         1       1   \n",
      "4            5         0       3   \n",
      "\n",
      "                                                Name     Sex   Age  SibSp  \\\n",
      "0                            Braund, Mr. Owen Harris    male  22.0      1   \n",
      "1  Cumings, Mrs. John Bradley (Florence Briggs Th...  female  38.0      1   \n",
      "2                             Heikkinen, Miss. Laina  female  26.0      0   \n",
      "3       Futrelle, Mrs. Jacques Heath (Lily May Peel)  female  35.0      1   \n",
      "4                           Allen, Mr. William Henry    male  35.0      0   \n",
      "\n",
      "   Parch            Ticket     Fare Cabin Embarked  \n",
      "0      0         A/5 21171   7.2500   NaN        S  \n",
      "1      0          PC 17599  71.2833   C85        C  \n",
      "2      0  STON/O2. 3101282   7.9250   NaN        S  \n",
      "3      0            113803  53.1000  C123        S  \n",
      "4      0            373450   8.0500   NaN        S  \n"
     ]
    }
   ],
   "source": [
    "import pandas as pd\n",
    "\n",
    "nueva_ruta = 'C:\\\\Users\\\\usernosis\\\\OneDrive\\\\Documentos\\\\DataSets'\n",
    "os.chdir(nueva_ruta)\n",
    "\n",
    "# Levanto el archivo Titanic\n",
    "df = pd.read_csv(\"Titanic.csv\")\n",
    "print(df.head())"
   ]
  },
  {
   "cell_type": "code",
   "execution_count": 23,
   "id": "f44df72c",
   "metadata": {},
   "outputs": [
    {
     "name": "stdout",
     "output_type": "stream",
     "text": [
      "0    549\n",
      "1    342\n",
      "Name: Survived, dtype: int64\n"
     ]
    }
   ],
   "source": [
    "# ¿Cuántos sobrevivieron? \n",
    "print(df['Survived'].value_counts())"
   ]
  },
  {
   "cell_type": "code",
   "execution_count": 24,
   "id": "3a70c115",
   "metadata": {},
   "outputs": [
    {
     "name": "stdout",
     "output_type": "stream",
     "text": [
      "0.3838383838383838\n"
     ]
    }
   ],
   "source": [
    "# ¿Cuál es la tasa de supervivencia? \n",
    "print(df['Survived'].mean())"
   ]
  },
  {
   "cell_type": "code",
   "execution_count": 16,
   "id": "60f84db0",
   "metadata": {},
   "outputs": [
    {
     "name": "stdout",
     "output_type": "stream",
     "text": [
      "0.7420382165605095\n",
      "0.18890814558058924\n"
     ]
    }
   ],
   "source": [
    "# ¿Cuál es la tasa de supervivencia? \n",
    "df_femeninos = df.loc[df['Sex']=='female',]\n",
    "df_masc = df.loc[df['Sex']!='female',]\n",
    "print(df_femeninos['Survived'].mean())\n",
    "print(df_masc['Survived'].mean())"
   ]
  },
  {
   "cell_type": "code",
   "execution_count": 26,
   "id": "fa5bd7b5",
   "metadata": {},
   "outputs": [
    {
     "name": "stdout",
     "output_type": "stream",
     "text": [
      "(1460, 81)\n"
     ]
    }
   ],
   "source": [
    "# Levanto el archivo Houses\n",
    "df = pd.read_csv(\"Houses.csv\")\n",
    "print(df.shape)"
   ]
  }
 ],
 "metadata": {
  "kernelspec": {
   "display_name": "Python 3 (ipykernel)",
   "language": "python",
   "name": "python3"
  },
  "language_info": {
   "codemirror_mode": {
    "name": "ipython",
    "version": 3
   },
   "file_extension": ".py",
   "mimetype": "text/x-python",
   "name": "python",
   "nbconvert_exporter": "python",
   "pygments_lexer": "ipython3",
   "version": "3.11.4"
  }
 },
 "nbformat": 4,
 "nbformat_minor": 5
}
