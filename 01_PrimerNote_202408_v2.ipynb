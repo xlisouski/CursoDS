{
 "cells": [
  {
   "cell_type": "code",
   "execution_count": 6,
   "metadata": {},
   "outputs": [],
   "source": [
    "# Estamos explorando datos simples\n",
    "dato_num = 8\n",
    "dato_float = 10.22\n",
    "dato_booleano_1 = True \n",
    "dato_booleano_2 = False \n",
    "dato_string = 'Soy Xime'"
   ]
  },
  {
   "cell_type": "code",
   "execution_count": 7,
   "metadata": {},
   "outputs": [
    {
     "name": "stdout",
     "output_type": "stream",
     "text": [
      "8\n",
      "<class 'int'>\n"
     ]
    }
   ],
   "source": [
    "print(dato_num)\n",
    "print(type(dato_num))"
   ]
  },
  {
   "cell_type": "code",
   "execution_count": 8,
   "metadata": {},
   "outputs": [
    {
     "name": "stdout",
     "output_type": "stream",
     "text": [
      "10.22\n",
      "<class 'float'>\n"
     ]
    }
   ],
   "source": [
    "print(dato_float)\n",
    "print(type(dato_float))"
   ]
  },
  {
   "cell_type": "code",
   "execution_count": 11,
   "metadata": {},
   "outputs": [
    {
     "name": "stdout",
     "output_type": "stream",
     "text": [
      "Los datos son:\n",
      "True False\n",
      "\n",
      "Los tipos de datos son:\n",
      "<class 'bool'> <class 'bool'>\n"
     ]
    }
   ],
   "source": [
    "print('Los datos son:')\n",
    "print(dato_booleano_1,dato_booleano_2)\n",
    "print('')\n",
    "print('Los tipos de datos son:')\n",
    "print(type(dato_booleano_1),type(dato_booleano_2))"
   ]
  },
  {
   "cell_type": "code",
   "execution_count": 12,
   "metadata": {},
   "outputs": [
    {
     "name": "stdout",
     "output_type": "stream",
     "text": [
      "Los datos son:\n",
      "Soy Xime\n",
      "\n",
      "Los tipos de datos son:\n",
      "<class 'str'>\n"
     ]
    }
   ],
   "source": [
    "print('Los datos son:')\n",
    "print(dato_string)\n",
    "print('')\n",
    "print('Los tipos de datos son:')\n",
    "print(type(dato_string))"
   ]
  },
  {
   "cell_type": "code",
   "execution_count": 13,
   "metadata": {},
   "outputs": [],
   "source": [
    "# Vamos a explorar datos estructurados \n",
    "# Diccionario\n",
    "persona = {'nombre': 'Ximena','edad': 18, 'profesion': 'Actuaria'}"
   ]
  },
  {
   "cell_type": "code",
   "execution_count": 15,
   "metadata": {},
   "outputs": [
    {
     "name": "stdout",
     "output_type": "stream",
     "text": [
      "Ximena\n"
     ]
    }
   ],
   "source": [
    "print(persona['nombre'])"
   ]
  },
  {
   "cell_type": "code",
   "execution_count": 31,
   "metadata": {},
   "outputs": [],
   "source": [
    "persona['nombre'] = 'Pepe'"
   ]
  },
  {
   "cell_type": "code",
   "execution_count": 32,
   "metadata": {},
   "outputs": [
    {
     "name": "stdout",
     "output_type": "stream",
     "text": [
      "{'nombre': 'Pepe', 'edad': 18, 'profesion': 'Actuaria'}\n"
     ]
    }
   ],
   "source": [
    "print(persona)"
   ]
  },
  {
   "cell_type": "code",
   "execution_count": 16,
   "metadata": {},
   "outputs": [
    {
     "name": "stdout",
     "output_type": "stream",
     "text": [
      "<class 'dict'>\n"
     ]
    }
   ],
   "source": [
    "print(type(persona))"
   ]
  },
  {
   "cell_type": "code",
   "execution_count": 18,
   "metadata": {},
   "outputs": [
    {
     "name": "stdout",
     "output_type": "stream",
     "text": [
      "[1, 2, 3, 'cuatro', 5.05, 'hola']\n"
     ]
    }
   ],
   "source": [
    "# Listas \n",
    "mi_lista = [1,2,3,'cuatro',5.05,'hola']\n",
    "print(mi_lista)"
   ]
  },
  {
   "cell_type": "code",
   "execution_count": 20,
   "metadata": {},
   "outputs": [
    {
     "name": "stdout",
     "output_type": "stream",
     "text": [
      "cuatro\n"
     ]
    }
   ],
   "source": [
    "print(mi_lista[3])"
   ]
  },
  {
   "cell_type": "code",
   "execution_count": 21,
   "metadata": {},
   "outputs": [
    {
     "name": "stdout",
     "output_type": "stream",
     "text": [
      "hola\n"
     ]
    }
   ],
   "source": [
    "print(mi_lista[-1])"
   ]
  },
  {
   "cell_type": "code",
   "execution_count": 25,
   "metadata": {},
   "outputs": [
    {
     "name": "stdout",
     "output_type": "stream",
     "text": [
      "5.05\n"
     ]
    }
   ],
   "source": [
    "print(mi_lista[-2])"
   ]
  },
  {
   "cell_type": "code",
   "execution_count": 35,
   "metadata": {},
   "outputs": [
    {
     "name": "stdout",
     "output_type": "stream",
     "text": [
      "[2, 3]\n"
     ]
    }
   ],
   "source": [
    "print(mi_lista[1:3])"
   ]
  },
  {
   "cell_type": "code",
   "execution_count": 22,
   "metadata": {},
   "outputs": [
    {
     "name": "stdout",
     "output_type": "stream",
     "text": [
      "6\n"
     ]
    }
   ],
   "source": [
    "# Cantidad de elementos que tiene mi lista \n",
    "print(len(mi_lista))"
   ]
  },
  {
   "cell_type": "code",
   "execution_count": 23,
   "metadata": {},
   "outputs": [],
   "source": [
    "# Modificar un elemento de la lista \n",
    "mi_lista[3] = 'Cambieeeeeeee'"
   ]
  },
  {
   "cell_type": "code",
   "execution_count": 24,
   "metadata": {},
   "outputs": [
    {
     "name": "stdout",
     "output_type": "stream",
     "text": [
      "[1, 2, 3, 'Cambieeeeeeee', 5.05, 'hola']\n"
     ]
    }
   ],
   "source": [
    "print(mi_lista)"
   ]
  },
  {
   "cell_type": "code",
   "execution_count": 28,
   "metadata": {},
   "outputs": [
    {
     "name": "stdout",
     "output_type": "stream",
     "text": [
      "<class 'list'>\n"
     ]
    }
   ],
   "source": [
    "print(type(mi_lista))"
   ]
  },
  {
   "cell_type": "code",
   "execution_count": 26,
   "metadata": {},
   "outputs": [
    {
     "name": "stdout",
     "output_type": "stream",
     "text": [
      "(1, 'dos', 3, 'cuatrooooo')\n"
     ]
    }
   ],
   "source": [
    "# Tupla \n",
    "mi_tupla = (1,'dos',3,'cuatrooooo')\n",
    "print(mi_tupla)"
   ]
  },
  {
   "cell_type": "code",
   "execution_count": 27,
   "metadata": {},
   "outputs": [
    {
     "name": "stdout",
     "output_type": "stream",
     "text": [
      "<class 'tuple'>\n"
     ]
    }
   ],
   "source": [
    "print(type(mi_tupla))"
   ]
  },
  {
   "cell_type": "code",
   "execution_count": 29,
   "metadata": {},
   "outputs": [
    {
     "name": "stdout",
     "output_type": "stream",
     "text": [
      "1\n"
     ]
    }
   ],
   "source": [
    "print(mi_tupla[0])"
   ]
  },
  {
   "cell_type": "code",
   "execution_count": 30,
   "metadata": {},
   "outputs": [
    {
     "ename": "TypeError",
     "evalue": "'tuple' object does not support item assignment",
     "output_type": "error",
     "traceback": [
      "\u001b[1;31m---------------------------------------------------------------------------\u001b[0m",
      "\u001b[1;31mTypeError\u001b[0m                                 Traceback (most recent call last)",
      "Cell \u001b[1;32mIn[30], line 1\u001b[0m\n\u001b[1;32m----> 1\u001b[0m \u001b[43mmi_tupla\u001b[49m\u001b[43m[\u001b[49m\u001b[38;5;241;43m0\u001b[39;49m\u001b[43m]\u001b[49m \u001b[38;5;241m=\u001b[39m \u001b[38;5;124m'\u001b[39m\u001b[38;5;124mcambiarlo\u001b[39m\u001b[38;5;124m'\u001b[39m\n",
      "\u001b[1;31mTypeError\u001b[0m: 'tuple' object does not support item assignment"
     ]
    }
   ],
   "source": [
    "mi_tupla[0] = 'cambiarlo'"
   ]
  },
  {
   "cell_type": "markdown",
   "metadata": {},
   "source": [
    "# Estructuras de Control \n",
    "En este aparatado vamos a aprender cómo es la sintaxis para ejectutar distintas estructuras de control. \n",
    "\n",
    "* **FOR:** Es la estructura para hacer bucles.\n",
    "* **WHILE**\n",
    "* **IF**"
   ]
  },
  {
   "cell_type": "code",
   "execution_count": 36,
   "metadata": {},
   "outputs": [
    {
     "data": {
      "text/plain": [
       "range"
      ]
     },
     "execution_count": 36,
     "metadata": {},
     "output_type": "execute_result"
    }
   ],
   "source": [
    "# FOR \n",
    "rango = range(1,10)\n",
    "type(rango)"
   ]
  },
  {
   "cell_type": "code",
   "execution_count": 37,
   "metadata": {},
   "outputs": [
    {
     "name": "stdout",
     "output_type": "stream",
     "text": [
      "Primer elemento:  1\n",
      "Último elemento:  9\n"
     ]
    }
   ],
   "source": [
    "# Exploremos qué elementos tienen \n",
    "print('Primer elemento: ',rango[0])\n",
    "print('Último elemento: ',rango[-1])"
   ]
  },
  {
   "cell_type": "code",
   "execution_count": 43,
   "metadata": {},
   "outputs": [
    {
     "name": "stdout",
     "output_type": "stream",
     "text": [
      "2 2\n",
      "3 6\n",
      "4 12\n",
      "5 20\n",
      "6 30\n",
      "7 42\n",
      "8 56\n",
      "9 72\n",
      "10 90\n"
     ]
    }
   ],
   "source": [
    "# Programemos el bucle \n",
    "for i in rango: \n",
    "    a = i + 1\n",
    "    b = a * i\n",
    "    print(a, b)"
   ]
  },
  {
   "cell_type": "code",
   "execution_count": 44,
   "metadata": {},
   "outputs": [
    {
     "name": "stdout",
     "output_type": "stream",
     "text": [
      "4\n",
      "4\n",
      "4\n",
      "4\n",
      "4\n",
      "4\n",
      "4\n",
      "4\n",
      "4\n"
     ]
    }
   ],
   "source": [
    "# Programemos un bucle sin sentido\n",
    "for i in rango: \n",
    "    a = 2 + 2\n",
    "    print(a)"
   ]
  },
  {
   "cell_type": "code",
   "execution_count": 45,
   "metadata": {},
   "outputs": [
    {
     "name": "stdout",
     "output_type": "stream",
     "text": [
      "1\n",
      "2\n",
      "3\n",
      "Cambieeeeeeee\n",
      "5.05\n",
      "hola\n"
     ]
    }
   ],
   "source": [
    "# Recorrer una lista \n",
    "for i in mi_lista:\n",
    "    print(i)"
   ]
  },
  {
   "cell_type": "code",
   "execution_count": 47,
   "metadata": {},
   "outputs": [
    {
     "name": "stdout",
     "output_type": "stream",
     "text": [
      "1\n",
      "2\n",
      "3\n",
      "4\n",
      "5\n",
      "6\n",
      "7\n",
      "8\n",
      "9\n",
      "10\n"
     ]
    }
   ],
   "source": [
    "# WHILE \n",
    "s = 1\n",
    "while s <= 10: \n",
    "    print(s)\n",
    "    s = s + 1"
   ]
  },
  {
   "cell_type": "code",
   "execution_count": 48,
   "metadata": {},
   "outputs": [
    {
     "name": "stdout",
     "output_type": "stream",
     "text": [
      "Es mayor o igual a 9\n"
     ]
    }
   ],
   "source": [
    "# IF \n",
    "prueba = 10\n",
    "if prueba < 5:\n",
    "    print('Es menor a 5')\n",
    "elif prueba < 9:\n",
    "    print('Es menor a 9')\n",
    "else: \n",
    "    print('Es mayor o igual a 9')"
   ]
  },
  {
   "cell_type": "code",
   "execution_count": 49,
   "metadata": {},
   "outputs": [
    {
     "name": "stdout",
     "output_type": "stream",
     "text": [
      "Primer grupo 1\n",
      "Primer grupo 2\n",
      "Primer grupo 3\n",
      "Primer grupo 4\n",
      "otra cosa 10\n",
      "otra cosa 12\n",
      "final 49\n",
      "final 64\n",
      "final 81\n"
     ]
    }
   ],
   "source": [
    "# FOR + IF \n",
    "for i in rango: \n",
    "    if i <= 4:\n",
    "        print('Primer grupo', i)\n",
    "    elif i <= 6:\n",
    "        print('otra cosa', i*2)\n",
    "    else: \n",
    "        print('final',i**2)"
   ]
  },
  {
   "cell_type": "markdown",
   "metadata": {},
   "source": [
    "# Funciones\n",
    "Vamos a armar nuestras primeras funciones."
   ]
  },
  {
   "cell_type": "code",
   "execution_count": 50,
   "metadata": {},
   "outputs": [],
   "source": [
    "def mi_funcion(argumento_1,argumento_2):\n",
    "    resultado_1 = argumento_1 * 2\n",
    "    resultado_2 = argumento_2 / 3 \n",
    "    resultado_final = resultado_1 - resultado_2 \n",
    "    return resultado_final"
   ]
  },
  {
   "cell_type": "code",
   "execution_count": 51,
   "metadata": {},
   "outputs": [
    {
     "data": {
      "text/plain": [
       "18.666666666666668"
      ]
     },
     "execution_count": 51,
     "metadata": {},
     "output_type": "execute_result"
    }
   ],
   "source": [
    "mi_funcion(argumento_1=10,argumento_2=4)"
   ]
  },
  {
   "cell_type": "code",
   "execution_count": 56,
   "metadata": {},
   "outputs": [],
   "source": [
    "def funcion_clasificadora(x):\n",
    "    \n",
    "    if x <= 4:\n",
    "        resultado = 'Primer grupo ' + str(x)\n",
    "    elif x <= 6:\n",
    "        resultado = 'otra cosa ' + str(x*2)\n",
    "    else: \n",
    "        resultado = 'final ' + str(x**2)\n",
    "    \n",
    "    return resultado"
   ]
  },
  {
   "cell_type": "code",
   "execution_count": 59,
   "metadata": {},
   "outputs": [
    {
     "data": {
      "text/plain": [
       "'otra cosa 10'"
      ]
     },
     "execution_count": 59,
     "metadata": {},
     "output_type": "execute_result"
    }
   ],
   "source": [
    "funcion_clasificadora(5)"
   ]
  },
  {
   "cell_type": "code",
   "execution_count": 60,
   "metadata": {},
   "outputs": [
    {
     "name": "stdout",
     "output_type": "stream",
     "text": [
      "Primer grupo 1\n",
      "Primer grupo 2\n",
      "Primer grupo 3\n",
      "Primer grupo 4\n",
      "otra cosa 10\n",
      "otra cosa 12\n",
      "final 49\n",
      "final 64\n",
      "final 81\n"
     ]
    }
   ],
   "source": [
    "for i in rango: \n",
    "    print(funcion_clasificadora(i))"
   ]
  }
 ],
 "metadata": {
  "kernelspec": {
   "display_name": "Python 3",
   "language": "python",
   "name": "python3"
  },
  "language_info": {
   "codemirror_mode": {
    "name": "ipython",
    "version": 3
   },
   "file_extension": ".py",
   "mimetype": "text/x-python",
   "name": "python",
   "nbconvert_exporter": "python",
   "pygments_lexer": "ipython3",
   "version": "3.11.9"
  }
 },
 "nbformat": 4,
 "nbformat_minor": 2
}
