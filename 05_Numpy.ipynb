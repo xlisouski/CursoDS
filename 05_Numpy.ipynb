{
 "cells": [
  {
   "cell_type": "code",
   "execution_count": 2,
   "id": "e665b8cc",
   "metadata": {},
   "outputs": [
    {
     "name": "stdout",
     "output_type": "stream",
     "text": [
      "[0 1 2 3 4 5 6 7 8 9]\n",
      "[0, 1, 2, 3, 4, 5, 6, 7, 8, 9]\n"
     ]
    }
   ],
   "source": [
    "import numpy as np \n",
    "\n",
    "primer_array = np.array(range(10))\n",
    "print(primer_array)\n",
    "\n",
    "lista = [0,1,2,3,4,5,6,7,8,9]\n",
    "print(lista)\n"
   ]
  },
  {
   "cell_type": "code",
   "execution_count": 3,
   "id": "80de28e9",
   "metadata": {},
   "outputs": [
    {
     "name": "stdout",
     "output_type": "stream",
     "text": [
      "[100 101 102 103 104 105 106 107 108 109]\n"
     ]
    }
   ],
   "source": [
    "print(primer_array + 100)"
   ]
  },
  {
   "cell_type": "code",
   "execution_count": 5,
   "id": "a217195c",
   "metadata": {},
   "outputs": [],
   "source": [
    "# print(lista + 100)"
   ]
  },
  {
   "cell_type": "code",
   "execution_count": 6,
   "id": "98defede",
   "metadata": {},
   "outputs": [
    {
     "name": "stdout",
     "output_type": "stream",
     "text": [
      "[15 16 17 18 19 20 21 22 23 24]\n"
     ]
    }
   ],
   "source": [
    "segundo_array = np.array(range(15,25))\n",
    "print(segundo_array)"
   ]
  },
  {
   "cell_type": "code",
   "execution_count": 7,
   "id": "39d3265d",
   "metadata": {},
   "outputs": [
    {
     "name": "stdout",
     "output_type": "stream",
     "text": [
      "[15 17 19 21 23 25 27 29 31 33]\n"
     ]
    }
   ],
   "source": [
    "suma_arrays = primer_array + segundo_array\n",
    "print(suma_arrays)"
   ]
  },
  {
   "cell_type": "code",
   "execution_count": 9,
   "id": "04d1712b",
   "metadata": {},
   "outputs": [
    {
     "name": "stdout",
     "output_type": "stream",
     "text": [
      "[100 101 102 103 104 105 106 107 108 109 110 111 112 113 114 115 116 117\n",
      " 118 119 120 121 122 123 124 125 126 127 128 129 130 131 132 133 134 135\n",
      " 136 137 138 139 140 141 142 143 144 145 146 147 148 149 150 151 152 153\n",
      " 154 155 156 157 158 159 160 161 162 163 164 165 166 167 168 169 170 171\n",
      " 172 173 174 175 176 177 178 179 180 181 182 183 184 185 186 187 188 189\n",
      " 190 191 192 193 194 195 196 197 198 199]\n"
     ]
    }
   ],
   "source": [
    "tercer_array = np.array(range(100,200))\n",
    "print(tercer_array)"
   ]
  },
  {
   "cell_type": "code",
   "execution_count": 11,
   "id": "aea182b2",
   "metadata": {},
   "outputs": [],
   "source": [
    "# suma_arrays_dif = primer_array + tercer_array"
   ]
  },
  {
   "cell_type": "code",
   "execution_count": 13,
   "id": "e9fac716",
   "metadata": {},
   "outputs": [
    {
     "name": "stdout",
     "output_type": "stream",
     "text": [
      "[ 0  1  2  3  4  5  6  7  8  9 15 16 17 18 19 20 21 22 23 24]\n"
     ]
    }
   ],
   "source": [
    "# CONCATENACION \n",
    "\n",
    "array_concatenado = np.concatenate((primer_array,segundo_array))\n",
    "print(array_concatenado)\n"
   ]
  },
  {
   "cell_type": "code",
   "execution_count": 15,
   "id": "ab2e709d",
   "metadata": {},
   "outputs": [
    {
     "name": "stdout",
     "output_type": "stream",
     "text": [
      "[[ 0  1  2  3  4  5  6  7  8  9]\n",
      " [15 16 17 18 19 20 21 22 23 24]]\n"
     ]
    }
   ],
   "source": [
    "array_vertical = np.vstack((primer_array,segundo_array))\n",
    "print(array_vertical)"
   ]
  },
  {
   "cell_type": "code",
   "execution_count": 16,
   "id": "0645e6a4",
   "metadata": {},
   "outputs": [
    {
     "data": {
      "text/plain": [
       "0"
      ]
     },
     "execution_count": 16,
     "metadata": {},
     "output_type": "execute_result"
    }
   ],
   "source": [
    "print(array_vertical[0,0])"
   ]
  },
  {
   "cell_type": "code",
   "execution_count": 19,
   "id": "91917d36",
   "metadata": {},
   "outputs": [
    {
     "name": "stdout",
     "output_type": "stream",
     "text": [
      "17\n"
     ]
    }
   ],
   "source": [
    "print(array_vertical[1,2])"
   ]
  },
  {
   "cell_type": "code",
   "execution_count": 20,
   "id": "de00a724",
   "metadata": {},
   "outputs": [
    {
     "name": "stdout",
     "output_type": "stream",
     "text": [
      "4.5 195\n"
     ]
    }
   ],
   "source": [
    "# AGREGACIONES \n",
    "\n",
    "print(primer_array.mean(),segundo_array.sum())\n",
    "\n"
   ]
  },
  {
   "cell_type": "code",
   "execution_count": 21,
   "id": "d79044aa",
   "metadata": {},
   "outputs": [
    {
     "name": "stdout",
     "output_type": "stream",
     "text": [
      "[-4.5 -3.5 -2.5 -1.5 -0.5  0.5  1.5  2.5  3.5  4.5]\n"
     ]
    }
   ],
   "source": [
    "promedio_primer = primer_array.mean()\n",
    "distancia_promedio = primer_array - promedio_primer\n",
    "print(distancia_promedio)"
   ]
  }
 ],
 "metadata": {
  "kernelspec": {
   "display_name": "Python 3 (ipykernel)",
   "language": "python",
   "name": "python3"
  },
  "language_info": {
   "codemirror_mode": {
    "name": "ipython",
    "version": 3
   },
   "file_extension": ".py",
   "mimetype": "text/x-python",
   "name": "python",
   "nbconvert_exporter": "python",
   "pygments_lexer": "ipython3",
   "version": "3.11.4"
  }
 },
 "nbformat": 4,
 "nbformat_minor": 5
}
