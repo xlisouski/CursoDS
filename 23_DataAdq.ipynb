{
 "cells": [
  {
   "cell_type": "code",
   "execution_count": 1,
   "id": "b7eebaba",
   "metadata": {},
   "outputs": [],
   "source": [
    "import pandas as pd"
   ]
  },
  {
   "cell_type": "markdown",
   "id": "15b58fa7",
   "metadata": {},
   "source": [
    "# JSON"
   ]
  },
  {
   "cell_type": "code",
   "execution_count": 3,
   "id": "13565b26",
   "metadata": {},
   "outputs": [
    {
     "data": {
      "text/html": [
       "<div>\n",
       "<style scoped>\n",
       "    .dataframe tbody tr th:only-of-type {\n",
       "        vertical-align: middle;\n",
       "    }\n",
       "\n",
       "    .dataframe tbody tr th {\n",
       "        vertical-align: top;\n",
       "    }\n",
       "\n",
       "    .dataframe thead th {\n",
       "        text-align: right;\n",
       "    }\n",
       "</style>\n",
       "<table border=\"1\" class=\"dataframe\">\n",
       "  <thead>\n",
       "    <tr style=\"text-align: right;\">\n",
       "      <th></th>\n",
       "      <th>id</th>\n",
       "      <th>name</th>\n",
       "      <th>math</th>\n",
       "      <th>physics</th>\n",
       "      <th>chemistry</th>\n",
       "    </tr>\n",
       "  </thead>\n",
       "  <tbody>\n",
       "    <tr>\n",
       "      <th>0</th>\n",
       "      <td>A001</td>\n",
       "      <td>Tom</td>\n",
       "      <td>60</td>\n",
       "      <td>66</td>\n",
       "      <td>61</td>\n",
       "    </tr>\n",
       "    <tr>\n",
       "      <th>1</th>\n",
       "      <td>A002</td>\n",
       "      <td>James</td>\n",
       "      <td>89</td>\n",
       "      <td>76</td>\n",
       "      <td>51</td>\n",
       "    </tr>\n",
       "    <tr>\n",
       "      <th>2</th>\n",
       "      <td>A003</td>\n",
       "      <td>Jenny</td>\n",
       "      <td>79</td>\n",
       "      <td>90</td>\n",
       "      <td>78</td>\n",
       "    </tr>\n",
       "  </tbody>\n",
       "</table>\n",
       "</div>"
      ],
      "text/plain": [
       "     id   name  math  physics  chemistry\n",
       "0  A001    Tom    60       66         61\n",
       "1  A002  James    89       76         51\n",
       "2  A003  Jenny    79       90         78"
      ]
     },
     "execution_count": 3,
     "metadata": {},
     "output_type": "execute_result"
    }
   ],
   "source": [
    "# De una URL\n",
    "URL = 'https://raw.githubusercontent.com/BindiChen/machine-learning/master/data-analysis/027-pandas-convert-json/data/simple.json'\n",
    "df = pd.read_json(URL)\n",
    "df.head(10)"
   ]
  },
  {
   "cell_type": "markdown",
   "id": "4b6717b4",
   "metadata": {},
   "source": [
    "# Nested JSON\n",
    "Un \"nested JSON\" se refiere a un objeto JSON que contiene otros objetos JSON anidados dentro de sí mismo. JSON (JavaScript Object Notation) es un formato de intercambio de datos que se utiliza comúnmente para representar datos estructurados en forma de objetos y matrices. La anidación en JSON se refiere a la inclusión de objetos JSON o matrices dentro de otros objetos JSON o matrices."
   ]
  },
  {
   "cell_type": "code",
   "execution_count": 5,
   "id": "430f0e2a",
   "metadata": {},
   "outputs": [],
   "source": [
    "# Ejemplo\n",
    "data = {\n",
    "    \"estudiantes\": [\n",
    "        {\n",
    "            \"nombre\": \"Juan\",\n",
    "            \"edad\": 20,\n",
    "            \"cursos\": [\n",
    "                {\"nombre_curso\": \"Matemáticas\", \"nota\": 90},\n",
    "                {\"nombre_curso\": \"Historia\", \"nota\": 85}\n",
    "            ]\n",
    "        },\n",
    "        {\n",
    "            \"nombre\": \"María\",\n",
    "            \"edad\": 22,\n",
    "            \"cursos\": [\n",
    "                {\"nombre_curso\": \"Matemáticas\", \"nota\": 88},\n",
    "                {\"nombre_curso\": \"Ciencias\", \"nota\": 92}\n",
    "            ]\n",
    "        }\n",
    "    ]\n",
    "}"
   ]
  },
  {
   "cell_type": "code",
   "execution_count": 6,
   "id": "85dccbc9",
   "metadata": {},
   "outputs": [
    {
     "data": {
      "text/plain": [
       "[{'nombre': 'Juan',\n",
       "  'edad': 20,\n",
       "  'cursos': [{'nombre_curso': 'Matemáticas', 'nota': 90},\n",
       "   {'nombre_curso': 'Historia', 'nota': 85}]},\n",
       " {'nombre': 'María',\n",
       "  'edad': 22,\n",
       "  'cursos': [{'nombre_curso': 'Matemáticas', 'nota': 88},\n",
       "   {'nombre_curso': 'Ciencias', 'nota': 92}]}]"
      ]
     },
     "execution_count": 6,
     "metadata": {},
     "output_type": "execute_result"
    }
   ],
   "source": [
    "data['estudiantes']"
   ]
  },
  {
   "cell_type": "code",
   "execution_count": 7,
   "id": "cc56388b",
   "metadata": {},
   "outputs": [
    {
     "data": {
      "text/html": [
       "<div>\n",
       "<style scoped>\n",
       "    .dataframe tbody tr th:only-of-type {\n",
       "        vertical-align: middle;\n",
       "    }\n",
       "\n",
       "    .dataframe tbody tr th {\n",
       "        vertical-align: top;\n",
       "    }\n",
       "\n",
       "    .dataframe thead th {\n",
       "        text-align: right;\n",
       "    }\n",
       "</style>\n",
       "<table border=\"1\" class=\"dataframe\">\n",
       "  <thead>\n",
       "    <tr style=\"text-align: right;\">\n",
       "      <th></th>\n",
       "      <th>nombre</th>\n",
       "      <th>edad</th>\n",
       "      <th>cursos</th>\n",
       "    </tr>\n",
       "  </thead>\n",
       "  <tbody>\n",
       "    <tr>\n",
       "      <th>0</th>\n",
       "      <td>Juan</td>\n",
       "      <td>20</td>\n",
       "      <td>[{'nombre_curso': 'Matemáticas', 'nota': 90}, ...</td>\n",
       "    </tr>\n",
       "    <tr>\n",
       "      <th>1</th>\n",
       "      <td>María</td>\n",
       "      <td>22</td>\n",
       "      <td>[{'nombre_curso': 'Matemáticas', 'nota': 88}, ...</td>\n",
       "    </tr>\n",
       "  </tbody>\n",
       "</table>\n",
       "</div>"
      ],
      "text/plain": [
       "  nombre  edad                                             cursos\n",
       "0   Juan    20  [{'nombre_curso': 'Matemáticas', 'nota': 90}, ...\n",
       "1  María    22  [{'nombre_curso': 'Matemáticas', 'nota': 88}, ..."
      ]
     },
     "execution_count": 7,
     "metadata": {},
     "output_type": "execute_result"
    }
   ],
   "source": [
    "# Crear un DataFrame desde el JSON anidado\n",
    "df_estudiantes = pd.json_normalize(data = data['estudiantes'])\n",
    "df_estudiantes"
   ]
  },
  {
   "cell_type": "code",
   "execution_count": 8,
   "id": "9f164194",
   "metadata": {},
   "outputs": [
    {
     "data": {
      "text/html": [
       "<div>\n",
       "<style scoped>\n",
       "    .dataframe tbody tr th:only-of-type {\n",
       "        vertical-align: middle;\n",
       "    }\n",
       "\n",
       "    .dataframe tbody tr th {\n",
       "        vertical-align: top;\n",
       "    }\n",
       "\n",
       "    .dataframe thead th {\n",
       "        text-align: right;\n",
       "    }\n",
       "</style>\n",
       "<table border=\"1\" class=\"dataframe\">\n",
       "  <thead>\n",
       "    <tr style=\"text-align: right;\">\n",
       "      <th></th>\n",
       "      <th>nombre_curso</th>\n",
       "      <th>nota</th>\n",
       "      <th>nombre</th>\n",
       "      <th>edad</th>\n",
       "    </tr>\n",
       "  </thead>\n",
       "  <tbody>\n",
       "    <tr>\n",
       "      <th>0</th>\n",
       "      <td>Matemáticas</td>\n",
       "      <td>90</td>\n",
       "      <td>Juan</td>\n",
       "      <td>20</td>\n",
       "    </tr>\n",
       "    <tr>\n",
       "      <th>1</th>\n",
       "      <td>Historia</td>\n",
       "      <td>85</td>\n",
       "      <td>Juan</td>\n",
       "      <td>20</td>\n",
       "    </tr>\n",
       "    <tr>\n",
       "      <th>2</th>\n",
       "      <td>Matemáticas</td>\n",
       "      <td>88</td>\n",
       "      <td>María</td>\n",
       "      <td>22</td>\n",
       "    </tr>\n",
       "    <tr>\n",
       "      <th>3</th>\n",
       "      <td>Ciencias</td>\n",
       "      <td>92</td>\n",
       "      <td>María</td>\n",
       "      <td>22</td>\n",
       "    </tr>\n",
       "  </tbody>\n",
       "</table>\n",
       "</div>"
      ],
      "text/plain": [
       "  nombre_curso  nota nombre edad\n",
       "0  Matemáticas    90   Juan   20\n",
       "1     Historia    85   Juan   20\n",
       "2  Matemáticas    88  María   22\n",
       "3     Ciencias    92  María   22"
      ]
     },
     "execution_count": 8,
     "metadata": {},
     "output_type": "execute_result"
    }
   ],
   "source": [
    "# Normalizar la lista de cursos\n",
    "df_cursos = pd.json_normalize(data = data['estudiantes'], # Primera clave\n",
    "                              record_path = 'cursos', # Siguiente clave\n",
    "                              meta = ['nombre', 'edad']) # metadatos\n",
    "df_cursos"
   ]
  }
 ],
 "metadata": {
  "kernelspec": {
   "display_name": "Python 3 (ipykernel)",
   "language": "python",
   "name": "python3"
  },
  "language_info": {
   "codemirror_mode": {
    "name": "ipython",
    "version": 3
   },
   "file_extension": ".py",
   "mimetype": "text/x-python",
   "name": "python",
   "nbconvert_exporter": "python",
   "pygments_lexer": "ipython3",
   "version": "3.11.4"
  }
 },
 "nbformat": 4,
 "nbformat_minor": 5
}
