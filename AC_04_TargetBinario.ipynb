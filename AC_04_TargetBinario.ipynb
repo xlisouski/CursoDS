{
 "cells": [
  {
   "cell_type": "code",
   "execution_count": 1,
   "id": "e66b719a",
   "metadata": {},
   "outputs": [],
   "source": [
    "import pandas as pd\n",
    "import numpy as np\n",
    "import matplotlib as mpl\n",
    "import matplotlib.pyplot as plt\n",
    "import seaborn as sns"
   ]
  },
  {
   "cell_type": "code",
   "execution_count": 2,
   "id": "d865e737",
   "metadata": {},
   "outputs": [],
   "source": [
    "# Levanto la data  \n",
    "url = 'https://raw.githubusercontent.com/xlisouski/DataCoder/main/Titanic.csv'\n",
    "df = pd.read_csv(url, sep = ',')"
   ]
  },
  {
   "cell_type": "markdown",
   "id": "49c43358",
   "metadata": {},
   "source": [
    "## Variable target\n",
    "Vamos a trabajar con el dataset de Titanic, por lo que nuestra variable target indica un 1 si el pasajero sobrevivió, y un 0 si no sobrevivió. \n",
    "<br>\n",
    "\n",
    "El objetivo del análisis es determinar cuáles son los mejores patrones para diferenciar a los pasajeros que sobrevivieron de quienes no. "
   ]
  },
  {
   "cell_type": "code",
   "execution_count": 3,
   "id": "7d8551f2",
   "metadata": {},
   "outputs": [
    {
     "data": {
      "image/png": "[encoded data removed]",
      "text/plain": [
       "<Figure size 640x480 with 1 Axes>"
      ]
     },
     "metadata": {},
     "output_type": "display_data"
    }
   ],
   "source": [
    "# Analicemos la distribución de nuestra variable target\n",
    "cantidad = len(df['Survived'])\n",
    "\n",
    "sns.countplot(data = df,\n",
    "              x = \"Survived\")\n",
    "plt.xlabel('Sobrevivió')\n",
    "plt.ylabel('Cantidad de pasajeros')\n",
    "plt.title('Distribución de la variable Target')\n",
    "ax = plt.gca()\n",
    "for p in ax.patches:\n",
    "    x_text = p.get_x() + p.get_width() / 2.0  # Calcula la posición x del texto\n",
    "    y_text = p.get_height()  # Toma la altura de la columna\n",
    "    ax.text(x_text, y_text, f'{str(round(int(y_text)/cantidad,2) * 100)}%', # Indica posición x e y, y texto a mostrar \n",
    "            ha = 'center', # Alineación horizontal \n",
    "            va = 'bottom',  # Alineación vertical\n",
    "            fontsize = 10, color = 'black', fontweight = 'bold')\n",
    "plt.show()\n"
   ]
  },
  {
   "cell_type": "markdown",
   "id": "7423932c",
   "metadata": {},
   "source": [
    "Se puede observar que un 38% de los pasajeros han sobrevivido. "
   ]
  },
  {
   "cell_type": "markdown",
   "id": "ce657475",
   "metadata": {},
   "source": [
    "## Information Value: ¿Qué es? \n",
    "Es una métrica que nos ayuda a responder la siguiente pregunta: \n",
    "<br>\n",
    "**¿Cuánta información útil aporta esta variable para predecir el resultado deseado?**\n",
    "<br>\n",
    "<br>\n",
    "**Pasos para el cálculo:**\n",
    "1. Se debe genrar una categorización de la variable (si es numérica, \"binnearla\" de alguna manera, estableciendo rangos para el análisis)\n",
    "2. Se genera una tabla agrupada de la variable categorizada vs la variable target binaria. El objetivo es saber para cada categoría, qué cantidad de 1 y qué cantidad de 0 se observaron, para calcular \"Tasa_Exito\" (porcentajes de 1) y \"Tasa_No_Exito\" (porcentajes de 0). \n",
    "3. Se calcula el logaritmo natural del cociente entre la tasa de exito y no exito para cada categoría. \n",
    "4. Se calcula el porcentaje de éxitos que representa cada categoría. Lo mismo para los no éxitos. Se restan ambas columnas.  \n",
    "5. Se multiplican 3 y 4\n",
    "6. Se suma 5"
   ]
  },
  {
   "cell_type": "markdown",
   "id": "980da30e",
   "metadata": {},
   "source": [
    "## Manos a la obra!\n",
    "Calculemos el IV de la variable sexo y del tipo de clase del ticket. Ya son variables categóricas, por lo que no es necesario categorizarlas. \n"
   ]
  },
  {
   "cell_type": "code",
   "execution_count": 5,
   "id": "e09d4dca",
   "metadata": {},
   "outputs": [
    {
     "data": {
      "text/html": [
       "<div>\n",
       "<style scoped>\n",
       "    .dataframe tbody tr th:only-of-type {\n",
       "        vertical-align: middle;\n",
       "    }\n",
       "\n",
       "    .dataframe tbody tr th {\n",
       "        vertical-align: top;\n",
       "    }\n",
       "\n",
       "    .dataframe thead th {\n",
       "        text-align: right;\n",
       "    }\n",
       "</style>\n",
       "<table border=\"1\" class=\"dataframe\">\n",
       "  <thead>\n",
       "    <tr style=\"text-align: right;\">\n",
       "      <th></th>\n",
       "      <th>Variable</th>\n",
       "      <th>IV</th>\n",
       "    </tr>\n",
       "  </thead>\n",
       "  <tbody>\n",
       "  </tbody>\n",
       "</table>\n",
       "</div>"
      ],
      "text/plain": [
       "Empty DataFrame\n",
       "Columns: [Variable, IV]\n",
       "Index: []"
      ]
     },
     "execution_count": 5,
     "metadata": {},
     "output_type": "execute_result"
    }
   ],
   "source": [
    "# Genero un dataframe que voy a ir completando con cada IV\n",
    "IV_df = pd.DataFrame(columns=['Variable', 'IV'])\n",
    "IV_df.head()"
   ]
  },
  {
   "cell_type": "code",
   "execution_count": 6,
   "id": "cac3a60a",
   "metadata": {},
   "outputs": [
    {
     "data": {
      "text/html": [
       "<div>\n",
       "<style scoped>\n",
       "    .dataframe tbody tr th:only-of-type {\n",
       "        vertical-align: middle;\n",
       "    }\n",
       "\n",
       "    .dataframe tbody tr th {\n",
       "        vertical-align: top;\n",
       "    }\n",
       "\n",
       "    .dataframe thead th {\n",
       "        text-align: right;\n",
       "    }\n",
       "</style>\n",
       "<table border=\"1\" class=\"dataframe\">\n",
       "  <thead>\n",
       "    <tr style=\"text-align: right;\">\n",
       "      <th></th>\n",
       "      <th>Sex</th>\n",
       "      <th>Cant</th>\n",
       "      <th>Cant_Exito</th>\n",
       "      <th>Tasa_Exito</th>\n",
       "      <th>Tasa_No_Exito</th>\n",
       "      <th>Cant_No_Exito</th>\n",
       "      <th>LN</th>\n",
       "      <th>Pct_Exitos</th>\n",
       "      <th>Pct_NoExitos</th>\n",
       "      <th>Resta</th>\n",
       "      <th>IV</th>\n",
       "    </tr>\n",
       "  </thead>\n",
       "  <tbody>\n",
       "    <tr>\n",
       "      <th>0</th>\n",
       "      <td>female</td>\n",
       "      <td>314</td>\n",
       "      <td>233</td>\n",
       "      <td>0.742038</td>\n",
       "      <td>0.257962</td>\n",
       "      <td>81</td>\n",
       "      <td>1.056589</td>\n",
       "      <td>0.681287</td>\n",
       "      <td>0.147541</td>\n",
       "      <td>0.533746</td>\n",
       "      <td>0.563950</td>\n",
       "    </tr>\n",
       "    <tr>\n",
       "      <th>1</th>\n",
       "      <td>male</td>\n",
       "      <td>577</td>\n",
       "      <td>109</td>\n",
       "      <td>0.188908</td>\n",
       "      <td>0.811092</td>\n",
       "      <td>468</td>\n",
       "      <td>-1.457120</td>\n",
       "      <td>0.318713</td>\n",
       "      <td>0.852459</td>\n",
       "      <td>-0.533746</td>\n",
       "      <td>0.777732</td>\n",
       "    </tr>\n",
       "  </tbody>\n",
       "</table>\n",
       "</div>"
      ],
      "text/plain": [
       "      Sex  Cant  Cant_Exito  Tasa_Exito  Tasa_No_Exito  Cant_No_Exito  \\\n",
       "0  female   314         233    0.742038       0.257962             81   \n",
       "1    male   577         109    0.188908       0.811092            468   \n",
       "\n",
       "         LN  Pct_Exitos  Pct_NoExitos     Resta        IV  \n",
       "0  1.056589    0.681287      0.147541  0.533746  0.563950  \n",
       "1 -1.457120    0.318713      0.852459 -0.533746  0.777732  "
      ]
     },
     "execution_count": 6,
     "metadata": {},
     "output_type": "execute_result"
    }
   ],
   "source": [
    "# Information value para Sex\n",
    "tabla_IV = df.groupby('Sex').agg(      \n",
    "    Cant = ('Survived', 'count'),\n",
    "    Cant_Exito = ('Survived', 'sum'),    \n",
    "    Tasa_Exito = ('Survived', 'mean')\n",
    ").reset_index()\n",
    "tabla_IV['Tasa_No_Exito'] = 1 - tabla_IV['Tasa_Exito']\n",
    "tabla_IV['Cant_No_Exito'] = tabla_IV['Cant'] - tabla_IV['Cant_Exito']\n",
    "tabla_IV['LN'] = np.log(tabla_IV['Tasa_Exito'] / tabla_IV['Tasa_No_Exito'])\n",
    "tabla_IV['Pct_Exitos'] = tabla_IV['Cant_Exito'] / sum(tabla_IV['Cant_Exito'])\n",
    "tabla_IV['Pct_NoExitos'] = tabla_IV['Cant_No_Exito'] / sum(tabla_IV['Cant_No_Exito'])\n",
    "tabla_IV['Resta'] = tabla_IV['Pct_Exitos'] - tabla_IV['Pct_NoExitos']\n",
    "tabla_IV['IV'] = tabla_IV['Resta'] * tabla_IV['LN'] \n",
    "tabla_IV"
   ]
  },
  {
   "cell_type": "code",
   "execution_count": 7,
   "id": "c279fc40",
   "metadata": {},
   "outputs": [
    {
     "name": "stderr",
     "output_type": "stream",
     "text": [
      "C:\\Users\\usernosis\\AppData\\Local\\Temp\\ipykernel_18196\\2681855043.py:3: FutureWarning: The frame.append method is deprecated and will be removed from pandas in a future version. Use pandas.concat instead.\n",
      "  IV_df = IV_df.append(nuevo_dato, ignore_index=True)\n"
     ]
    }
   ],
   "source": [
    "# Relleno mi tabla de referencias \n",
    "nuevo_dato = {'Variable': 'Sex', 'IV': sum(tabla_IV['IV'])}\n",
    "IV_df = IV_df.append(nuevo_dato, ignore_index=True)"
   ]
  },
  {
   "cell_type": "code",
   "execution_count": 8,
   "id": "51c7192c",
   "metadata": {},
   "outputs": [
    {
     "data": {
      "text/html": [
       "<div>\n",
       "<style scoped>\n",
       "    .dataframe tbody tr th:only-of-type {\n",
       "        vertical-align: middle;\n",
       "    }\n",
       "\n",
       "    .dataframe tbody tr th {\n",
       "        vertical-align: top;\n",
       "    }\n",
       "\n",
       "    .dataframe thead th {\n",
       "        text-align: right;\n",
       "    }\n",
       "</style>\n",
       "<table border=\"1\" class=\"dataframe\">\n",
       "  <thead>\n",
       "    <tr style=\"text-align: right;\">\n",
       "      <th></th>\n",
       "      <th>Variable</th>\n",
       "      <th>IV</th>\n",
       "    </tr>\n",
       "  </thead>\n",
       "  <tbody>\n",
       "    <tr>\n",
       "      <th>0</th>\n",
       "      <td>Sex</td>\n",
       "      <td>1.341681</td>\n",
       "    </tr>\n",
       "  </tbody>\n",
       "</table>\n",
       "</div>"
      ],
      "text/plain": [
       "  Variable        IV\n",
       "0      Sex  1.341681"
      ]
     },
     "execution_count": 8,
     "metadata": {},
     "output_type": "execute_result"
    }
   ],
   "source": [
    "IV_df.head()"
   ]
  },
  {
   "cell_type": "code",
   "execution_count": 9,
   "id": "b26ecb13",
   "metadata": {},
   "outputs": [
    {
     "data": {
      "text/html": [
       "<div>\n",
       "<style scoped>\n",
       "    .dataframe tbody tr th:only-of-type {\n",
       "        vertical-align: middle;\n",
       "    }\n",
       "\n",
       "    .dataframe tbody tr th {\n",
       "        vertical-align: top;\n",
       "    }\n",
       "\n",
       "    .dataframe thead th {\n",
       "        text-align: right;\n",
       "    }\n",
       "</style>\n",
       "<table border=\"1\" class=\"dataframe\">\n",
       "  <thead>\n",
       "    <tr style=\"text-align: right;\">\n",
       "      <th></th>\n",
       "      <th>Pclass</th>\n",
       "      <th>Cant</th>\n",
       "      <th>Cant_Exito</th>\n",
       "      <th>Tasa_Exito</th>\n",
       "      <th>Tasa_No_Exito</th>\n",
       "      <th>Cant_No_Exito</th>\n",
       "      <th>LN</th>\n",
       "      <th>Pct_Exitos</th>\n",
       "      <th>Pct_NoExitos</th>\n",
       "      <th>Resta</th>\n",
       "      <th>IV</th>\n",
       "    </tr>\n",
       "  </thead>\n",
       "  <tbody>\n",
       "    <tr>\n",
       "      <th>0</th>\n",
       "      <td>1</td>\n",
       "      <td>216</td>\n",
       "      <td>136</td>\n",
       "      <td>0.629630</td>\n",
       "      <td>0.370370</td>\n",
       "      <td>80</td>\n",
       "      <td>0.530628</td>\n",
       "      <td>0.397661</td>\n",
       "      <td>0.145719</td>\n",
       "      <td>0.251941</td>\n",
       "      <td>0.133687</td>\n",
       "    </tr>\n",
       "    <tr>\n",
       "      <th>1</th>\n",
       "      <td>2</td>\n",
       "      <td>184</td>\n",
       "      <td>87</td>\n",
       "      <td>0.472826</td>\n",
       "      <td>0.527174</td>\n",
       "      <td>97</td>\n",
       "      <td>-0.108803</td>\n",
       "      <td>0.254386</td>\n",
       "      <td>0.176685</td>\n",
       "      <td>0.077701</td>\n",
       "      <td>-0.008454</td>\n",
       "    </tr>\n",
       "    <tr>\n",
       "      <th>2</th>\n",
       "      <td>3</td>\n",
       "      <td>491</td>\n",
       "      <td>119</td>\n",
       "      <td>0.242363</td>\n",
       "      <td>0.757637</td>\n",
       "      <td>372</td>\n",
       "      <td>-1.139770</td>\n",
       "      <td>0.347953</td>\n",
       "      <td>0.677596</td>\n",
       "      <td>-0.329642</td>\n",
       "      <td>0.375717</td>\n",
       "    </tr>\n",
       "  </tbody>\n",
       "</table>\n",
       "</div>"
      ],
      "text/plain": [
       "   Pclass  Cant  Cant_Exito  Tasa_Exito  Tasa_No_Exito  Cant_No_Exito  \\\n",
       "0       1   216         136    0.629630       0.370370             80   \n",
       "1       2   184          87    0.472826       0.527174             97   \n",
       "2       3   491         119    0.242363       0.757637            372   \n",
       "\n",
       "         LN  Pct_Exitos  Pct_NoExitos     Resta        IV  \n",
       "0  0.530628    0.397661      0.145719  0.251941  0.133687  \n",
       "1 -0.108803    0.254386      0.176685  0.077701 -0.008454  \n",
       "2 -1.139770    0.347953      0.677596 -0.329642  0.375717  "
      ]
     },
     "execution_count": 9,
     "metadata": {},
     "output_type": "execute_result"
    }
   ],
   "source": [
    "# Information value para Pclass\n",
    "tabla_IV = df.groupby('Pclass').agg(      \n",
    "    Cant = ('Survived', 'count'),\n",
    "    Cant_Exito = ('Survived', 'sum'),    \n",
    "    Tasa_Exito = ('Survived', 'mean')\n",
    ").reset_index()\n",
    "tabla_IV['Tasa_No_Exito'] = 1 - tabla_IV['Tasa_Exito']\n",
    "tabla_IV['Cant_No_Exito'] = tabla_IV['Cant'] - tabla_IV['Cant_Exito']\n",
    "tabla_IV['LN'] = np.log(tabla_IV['Tasa_Exito'] / tabla_IV['Tasa_No_Exito'])\n",
    "tabla_IV['Pct_Exitos'] = tabla_IV['Cant_Exito'] / sum(tabla_IV['Cant_Exito'])\n",
    "tabla_IV['Pct_NoExitos'] = tabla_IV['Cant_No_Exito'] / sum(tabla_IV['Cant_No_Exito'])\n",
    "tabla_IV['Resta'] = tabla_IV['Pct_Exitos'] - tabla_IV['Pct_NoExitos']\n",
    "tabla_IV['IV'] = tabla_IV['Resta'] * tabla_IV['LN'] \n",
    "tabla_IV"
   ]
  },
  {
   "cell_type": "code",
   "execution_count": 10,
   "id": "1d418d33",
   "metadata": {},
   "outputs": [
    {
     "name": "stderr",
     "output_type": "stream",
     "text": [
      "C:\\Users\\usernosis\\AppData\\Local\\Temp\\ipykernel_18196\\1223318887.py:3: FutureWarning: The frame.append method is deprecated and will be removed from pandas in a future version. Use pandas.concat instead.\n",
      "  IV_df = IV_df.append(nuevo_dato, ignore_index=True)\n"
     ]
    },
    {
     "data": {
      "text/html": [
       "<div>\n",
       "<style scoped>\n",
       "    .dataframe tbody tr th:only-of-type {\n",
       "        vertical-align: middle;\n",
       "    }\n",
       "\n",
       "    .dataframe tbody tr th {\n",
       "        vertical-align: top;\n",
       "    }\n",
       "\n",
       "    .dataframe thead th {\n",
       "        text-align: right;\n",
       "    }\n",
       "</style>\n",
       "<table border=\"1\" class=\"dataframe\">\n",
       "  <thead>\n",
       "    <tr style=\"text-align: right;\">\n",
       "      <th></th>\n",
       "      <th>Variable</th>\n",
       "      <th>IV</th>\n",
       "    </tr>\n",
       "  </thead>\n",
       "  <tbody>\n",
       "    <tr>\n",
       "      <th>0</th>\n",
       "      <td>Sex</td>\n",
       "      <td>1.341681</td>\n",
       "    </tr>\n",
       "    <tr>\n",
       "      <th>1</th>\n",
       "      <td>PClass</td>\n",
       "      <td>0.500950</td>\n",
       "    </tr>\n",
       "  </tbody>\n",
       "</table>\n",
       "</div>"
      ],
      "text/plain": [
       "  Variable        IV\n",
       "0      Sex  1.341681\n",
       "1   PClass  0.500950"
      ]
     },
     "execution_count": 10,
     "metadata": {},
     "output_type": "execute_result"
    }
   ],
   "source": [
    "# Relleno mi tabla de referencias \n",
    "nuevo_dato = {'Variable': 'PClass', 'IV': sum(tabla_IV['IV'])}\n",
    "IV_df = IV_df.append(nuevo_dato, ignore_index=True)\n",
    "IV_df.head()"
   ]
  },
  {
   "cell_type": "markdown",
   "id": "5411a1cd",
   "metadata": {},
   "source": [
    "## Vamos a agregar la variable edad \n",
    "Para ello, primero hay que categorizarla. \n",
    "Definamos los siguientes cortes: \n",
    "- Bebes: Entre 0 y 3 años\n",
    "- Niños: Entre 4 y 10 años \n",
    "- Adolescentes: Entre 10 y 18 años \n",
    "- Jóvenes: Entre 18 y 25 años \n",
    "- Adultos Medios: Entre 25 y 40 años\n",
    "- Adultos Mayores: Entre 40 y 55 años \n",
    "- Ancianos: Más de 55 años. \n"
   ]
  },
  {
   "cell_type": "code",
   "execution_count": 11,
   "id": "5d4a7673",
   "metadata": {},
   "outputs": [
    {
     "data": {
      "text/html": [
       "<div>\n",
       "<style scoped>\n",
       "    .dataframe tbody tr th:only-of-type {\n",
       "        vertical-align: middle;\n",
       "    }\n",
       "\n",
       "    .dataframe tbody tr th {\n",
       "        vertical-align: top;\n",
       "    }\n",
       "\n",
       "    .dataframe thead th {\n",
       "        text-align: right;\n",
       "    }\n",
       "</style>\n",
       "<table border=\"1\" class=\"dataframe\">\n",
       "  <thead>\n",
       "    <tr style=\"text-align: right;\">\n",
       "      <th></th>\n",
       "      <th>Age_Bin</th>\n",
       "      <th>MINIMO</th>\n",
       "      <th>MAXIMO</th>\n",
       "      <th>Cantidad</th>\n",
       "    </tr>\n",
       "  </thead>\n",
       "  <tbody>\n",
       "    <tr>\n",
       "      <th>0</th>\n",
       "      <td>Bebes</td>\n",
       "      <td>0.42</td>\n",
       "      <td>3.0</td>\n",
       "      <td>30</td>\n",
       "    </tr>\n",
       "    <tr>\n",
       "      <th>1</th>\n",
       "      <td>Niños</td>\n",
       "      <td>4.00</td>\n",
       "      <td>10.0</td>\n",
       "      <td>34</td>\n",
       "    </tr>\n",
       "    <tr>\n",
       "      <th>2</th>\n",
       "      <td>Adolescentes</td>\n",
       "      <td>11.00</td>\n",
       "      <td>18.0</td>\n",
       "      <td>75</td>\n",
       "    </tr>\n",
       "    <tr>\n",
       "      <th>3</th>\n",
       "      <td>Jovenes</td>\n",
       "      <td>19.00</td>\n",
       "      <td>25.0</td>\n",
       "      <td>162</td>\n",
       "    </tr>\n",
       "    <tr>\n",
       "      <th>4</th>\n",
       "      <td>Adultos Medios</td>\n",
       "      <td>26.00</td>\n",
       "      <td>40.0</td>\n",
       "      <td>263</td>\n",
       "    </tr>\n",
       "    <tr>\n",
       "      <th>5</th>\n",
       "      <td>Adultos Mayores</td>\n",
       "      <td>40.50</td>\n",
       "      <td>55.0</td>\n",
       "      <td>110</td>\n",
       "    </tr>\n",
       "    <tr>\n",
       "      <th>6</th>\n",
       "      <td>Ancianos</td>\n",
       "      <td>55.50</td>\n",
       "      <td>80.0</td>\n",
       "      <td>40</td>\n",
       "    </tr>\n",
       "  </tbody>\n",
       "</table>\n",
       "</div>"
      ],
      "text/plain": [
       "           Age_Bin  MINIMO  MAXIMO  Cantidad\n",
       "0            Bebes    0.42     3.0        30\n",
       "1            Niños    4.00    10.0        34\n",
       "2     Adolescentes   11.00    18.0        75\n",
       "3          Jovenes   19.00    25.0       162\n",
       "4   Adultos Medios   26.00    40.0       263\n",
       "5  Adultos Mayores   40.50    55.0       110\n",
       "6         Ancianos   55.50    80.0        40"
      ]
     },
     "execution_count": 11,
     "metadata": {},
     "output_type": "execute_result"
    }
   ],
   "source": [
    "# Defino cortes\n",
    "bin_edges = [-1, 3,10, 18, 25,40, 55, 99999]\n",
    "bin_labels = ['Bebes','Niños','Adolescentes','Jovenes', 'Adultos Medios','Adultos Mayores', 'Ancianos']\n",
    "\n",
    "# Las categorizo\n",
    "df['Age_Bin'] = pd.cut(df['Age'], \n",
    "                                  bins = bin_edges, \n",
    "                                  labels = bin_labels, \n",
    "                                  include_lowest = True)\n",
    "\n",
    "# A ver, qué construí? \n",
    "df.groupby('Age_Bin').agg(      \n",
    "    MINIMO = ('Age', 'min'),\n",
    "    MAXIMO = ('Age', 'max'),\n",
    "    Cantidad = ('Age','count')\n",
    ").reset_index()\n"
   ]
  },
  {
   "cell_type": "code",
   "execution_count": 12,
   "id": "7751f9bf",
   "metadata": {},
   "outputs": [
    {
     "data": {
      "text/html": [
       "<div>\n",
       "<style scoped>\n",
       "    .dataframe tbody tr th:only-of-type {\n",
       "        vertical-align: middle;\n",
       "    }\n",
       "\n",
       "    .dataframe tbody tr th {\n",
       "        vertical-align: top;\n",
       "    }\n",
       "\n",
       "    .dataframe thead th {\n",
       "        text-align: right;\n",
       "    }\n",
       "</style>\n",
       "<table border=\"1\" class=\"dataframe\">\n",
       "  <thead>\n",
       "    <tr style=\"text-align: right;\">\n",
       "      <th></th>\n",
       "      <th>Age_Bin</th>\n",
       "      <th>Cant</th>\n",
       "      <th>Cant_Exito</th>\n",
       "      <th>Tasa_Exito</th>\n",
       "      <th>Tasa_No_Exito</th>\n",
       "      <th>Cant_No_Exito</th>\n",
       "      <th>LN</th>\n",
       "      <th>Pct_Exitos</th>\n",
       "      <th>Pct_NoExitos</th>\n",
       "      <th>Resta</th>\n",
       "      <th>IV</th>\n",
       "    </tr>\n",
       "  </thead>\n",
       "  <tbody>\n",
       "    <tr>\n",
       "      <th>0</th>\n",
       "      <td>Bebes</td>\n",
       "      <td>30</td>\n",
       "      <td>20</td>\n",
       "      <td>0.666667</td>\n",
       "      <td>0.333333</td>\n",
       "      <td>10</td>\n",
       "      <td>0.693147</td>\n",
       "      <td>0.068966</td>\n",
       "      <td>0.023585</td>\n",
       "      <td>0.045381</td>\n",
       "      <td>0.031455</td>\n",
       "    </tr>\n",
       "    <tr>\n",
       "      <th>1</th>\n",
       "      <td>Niños</td>\n",
       "      <td>34</td>\n",
       "      <td>18</td>\n",
       "      <td>0.529412</td>\n",
       "      <td>0.470588</td>\n",
       "      <td>16</td>\n",
       "      <td>0.117783</td>\n",
       "      <td>0.062069</td>\n",
       "      <td>0.037736</td>\n",
       "      <td>0.024333</td>\n",
       "      <td>0.002866</td>\n",
       "    </tr>\n",
       "    <tr>\n",
       "      <th>2</th>\n",
       "      <td>Adolescentes</td>\n",
       "      <td>75</td>\n",
       "      <td>32</td>\n",
       "      <td>0.426667</td>\n",
       "      <td>0.573333</td>\n",
       "      <td>43</td>\n",
       "      <td>-0.295464</td>\n",
       "      <td>0.110345</td>\n",
       "      <td>0.101415</td>\n",
       "      <td>0.008930</td>\n",
       "      <td>-0.002638</td>\n",
       "    </tr>\n",
       "    <tr>\n",
       "      <th>3</th>\n",
       "      <td>Jovenes</td>\n",
       "      <td>162</td>\n",
       "      <td>54</td>\n",
       "      <td>0.333333</td>\n",
       "      <td>0.666667</td>\n",
       "      <td>108</td>\n",
       "      <td>-0.693147</td>\n",
       "      <td>0.186207</td>\n",
       "      <td>0.254717</td>\n",
       "      <td>-0.068510</td>\n",
       "      <td>0.047488</td>\n",
       "    </tr>\n",
       "    <tr>\n",
       "      <th>4</th>\n",
       "      <td>Adultos Medios</td>\n",
       "      <td>263</td>\n",
       "      <td>111</td>\n",
       "      <td>0.422053</td>\n",
       "      <td>0.577947</td>\n",
       "      <td>152</td>\n",
       "      <td>-0.314350</td>\n",
       "      <td>0.382759</td>\n",
       "      <td>0.358491</td>\n",
       "      <td>0.024268</td>\n",
       "      <td>-0.007629</td>\n",
       "    </tr>\n",
       "    <tr>\n",
       "      <th>5</th>\n",
       "      <td>Adultos Mayores</td>\n",
       "      <td>110</td>\n",
       "      <td>43</td>\n",
       "      <td>0.390909</td>\n",
       "      <td>0.609091</td>\n",
       "      <td>67</td>\n",
       "      <td>-0.443493</td>\n",
       "      <td>0.148276</td>\n",
       "      <td>0.158019</td>\n",
       "      <td>-0.009743</td>\n",
       "      <td>0.004321</td>\n",
       "    </tr>\n",
       "    <tr>\n",
       "      <th>6</th>\n",
       "      <td>Ancianos</td>\n",
       "      <td>40</td>\n",
       "      <td>12</td>\n",
       "      <td>0.300000</td>\n",
       "      <td>0.700000</td>\n",
       "      <td>28</td>\n",
       "      <td>-0.847298</td>\n",
       "      <td>0.041379</td>\n",
       "      <td>0.066038</td>\n",
       "      <td>-0.024658</td>\n",
       "      <td>0.020893</td>\n",
       "    </tr>\n",
       "  </tbody>\n",
       "</table>\n",
       "</div>"
      ],
      "text/plain": [
       "           Age_Bin  Cant  Cant_Exito  Tasa_Exito  Tasa_No_Exito  \\\n",
       "0            Bebes    30          20    0.666667       0.333333   \n",
       "1            Niños    34          18    0.529412       0.470588   \n",
       "2     Adolescentes    75          32    0.426667       0.573333   \n",
       "3          Jovenes   162          54    0.333333       0.666667   \n",
       "4   Adultos Medios   263         111    0.422053       0.577947   \n",
       "5  Adultos Mayores   110          43    0.390909       0.609091   \n",
       "6         Ancianos    40          12    0.300000       0.700000   \n",
       "\n",
       "   Cant_No_Exito        LN  Pct_Exitos  Pct_NoExitos     Resta        IV  \n",
       "0             10  0.693147    0.068966      0.023585  0.045381  0.031455  \n",
       "1             16  0.117783    0.062069      0.037736  0.024333  0.002866  \n",
       "2             43 -0.295464    0.110345      0.101415  0.008930 -0.002638  \n",
       "3            108 -0.693147    0.186207      0.254717 -0.068510  0.047488  \n",
       "4            152 -0.314350    0.382759      0.358491  0.024268 -0.007629  \n",
       "5             67 -0.443493    0.148276      0.158019 -0.009743  0.004321  \n",
       "6             28 -0.847298    0.041379      0.066038 -0.024658  0.020893  "
      ]
     },
     "execution_count": 12,
     "metadata": {},
     "output_type": "execute_result"
    }
   ],
   "source": [
    "# Information value para Age_Bin\n",
    "tabla_IV = df.groupby('Age_Bin').agg(      \n",
    "    Cant = ('Survived', 'count'),\n",
    "    Cant_Exito = ('Survived', 'sum'),    \n",
    "    Tasa_Exito = ('Survived', 'mean')\n",
    ").reset_index()\n",
    "tabla_IV['Tasa_No_Exito'] = 1 - tabla_IV['Tasa_Exito']\n",
    "tabla_IV['Cant_No_Exito'] = tabla_IV['Cant'] - tabla_IV['Cant_Exito']\n",
    "tabla_IV['LN'] = np.log(tabla_IV['Tasa_Exito'] / tabla_IV['Tasa_No_Exito'])\n",
    "tabla_IV['Pct_Exitos'] = tabla_IV['Cant_Exito'] / sum(tabla_IV['Cant_Exito'])\n",
    "tabla_IV['Pct_NoExitos'] = tabla_IV['Cant_No_Exito'] / sum(tabla_IV['Cant_No_Exito'])\n",
    "tabla_IV['Resta'] = tabla_IV['Pct_Exitos'] - tabla_IV['Pct_NoExitos']\n",
    "tabla_IV['IV'] = tabla_IV['Resta'] * tabla_IV['LN'] \n",
    "tabla_IV"
   ]
  },
  {
   "cell_type": "code",
   "execution_count": 13,
   "id": "01baa380",
   "metadata": {},
   "outputs": [
    {
     "name": "stderr",
     "output_type": "stream",
     "text": [
      "C:\\Users\\usernosis\\AppData\\Local\\Temp\\ipykernel_18196\\1544303949.py:3: FutureWarning: The frame.append method is deprecated and will be removed from pandas in a future version. Use pandas.concat instead.\n",
      "  IV_df = IV_df.append(nuevo_dato, ignore_index=True)\n"
     ]
    },
    {
     "data": {
      "text/html": [
       "<div>\n",
       "<style scoped>\n",
       "    .dataframe tbody tr th:only-of-type {\n",
       "        vertical-align: middle;\n",
       "    }\n",
       "\n",
       "    .dataframe tbody tr th {\n",
       "        vertical-align: top;\n",
       "    }\n",
       "\n",
       "    .dataframe thead th {\n",
       "        text-align: right;\n",
       "    }\n",
       "</style>\n",
       "<table border=\"1\" class=\"dataframe\">\n",
       "  <thead>\n",
       "    <tr style=\"text-align: right;\">\n",
       "      <th></th>\n",
       "      <th>Variable</th>\n",
       "      <th>IV</th>\n",
       "    </tr>\n",
       "  </thead>\n",
       "  <tbody>\n",
       "    <tr>\n",
       "      <th>0</th>\n",
       "      <td>Sex</td>\n",
       "      <td>1.341681</td>\n",
       "    </tr>\n",
       "    <tr>\n",
       "      <th>1</th>\n",
       "      <td>PClass</td>\n",
       "      <td>0.500950</td>\n",
       "    </tr>\n",
       "    <tr>\n",
       "      <th>2</th>\n",
       "      <td>Age_Bin</td>\n",
       "      <td>0.096756</td>\n",
       "    </tr>\n",
       "  </tbody>\n",
       "</table>\n",
       "</div>"
      ],
      "text/plain": [
       "  Variable        IV\n",
       "0      Sex  1.341681\n",
       "1   PClass  0.500950\n",
       "2  Age_Bin  0.096756"
      ]
     },
     "execution_count": 13,
     "metadata": {},
     "output_type": "execute_result"
    }
   ],
   "source": [
    "# Relleno mi tabla de referencias \n",
    "nuevo_dato = {'Variable': 'Age_Bin', 'IV': sum(tabla_IV['IV'])}\n",
    "IV_df = IV_df.append(nuevo_dato, ignore_index=True)\n",
    "IV_df.head()"
   ]
  },
  {
   "cell_type": "code",
   "execution_count": 14,
   "id": "4b829279",
   "metadata": {},
   "outputs": [
    {
     "data": {
      "image/png": "[encoded data removed]",
      "text/plain": [
       "<Figure size 1000x600 with 1 Axes>"
      ]
     },
     "metadata": {},
     "output_type": "display_data"
    }
   ],
   "source": [
    "# Grafico el information value de cada variable\n",
    "IV_df = IV_df.sort_values(by = 'IV', ascending = False)\n",
    "plt.figure(figsize=(10, 6))  # Tamaño de la figura\n",
    "plt.barh(IV_df['Variable'], \n",
    "         IV_df['IV'],\n",
    "         color = '#A989D6')\n",
    "plt.xlabel('Information Value')\n",
    "plt.gca().invert_yaxis()  # Invertir el eje Y para mostrar la característica más relevante en la parte superior\n",
    "plt.show()"
   ]
  },
  {
   "cell_type": "markdown",
   "id": "edbae02c",
   "metadata": {},
   "source": [
    "# Por qué 'Sex' es la variable con mayor IV? \n",
    "Veamos cómo se encuentra distribuida la variable dependiendo del target. "
   ]
  },
  {
   "cell_type": "code",
   "execution_count": 15,
   "id": "8b56a012",
   "metadata": {},
   "outputs": [
    {
     "data": {
      "text/plain": [
       "<Axes: xlabel='Sex', ylabel='Survived'>"
      ]
     },
     "execution_count": 15,
     "metadata": {},
     "output_type": "execute_result"
    },
    {
     "data": {
      "image/png": "[encoded data removed]",
      "text/plain": [
       "<Figure size 640x480 with 1 Axes>"
      ]
     },
     "metadata": {},
     "output_type": "display_data"
    }
   ],
   "source": [
    "# Tasas de éxito \n",
    "sns.barplot(data = df,\n",
    "                x = 'Sex',\n",
    "                y = 'Survived')"
   ]
  },
  {
   "cell_type": "markdown",
   "id": "3978fbf9",
   "metadata": {},
   "source": [
    "## Entonces: \n",
    "Se puede observar que sobrevivieron un 74% de las mujeres, y un 19% de los hombres. \n",
    "<br/><br>\n",
    "Si tenemos en cuenta la tasa promedio de supervivencia de todos los pasajeros (es decir, un 38% de los pasajeros sobrevivieron, indistintamente de si son hombres o mujeres), podemos ver amplias diferencias en las tasas de diferencia de cada subsegmento de la población teninedo en cuenta esta característica. \n",
    "<br/><br> \n",
    "**Es decir:**\n",
    "<br>\n",
    "* Si sos mujer, tenes un 74% de probabilidad de sobrevivir al Titanic. Esto es un 95% más respecto del promedio (74% es un 95% superior a 38%). \n",
    "<br>\n",
    "* Si sos hombre, tenes un 19% de probabilidad de sobrevivir al Titanic. Esto es un 50% menos respecto del promedio (19% es un 50% inferior a 38%). \n",
    "<br/><br>\n",
    "\n",
    "**Conclusión:**\n",
    "<br> \n",
    "El hecho de ser hombre o mujer denota una característica que evidencia extremas diferencias en la probabilidad de sobrevivir al accidente de Titanic, por lo que tiene sentido que esta variable sea una de las más relevantes al momento de intentar pronosticar qué pasajero tiene más chances de sobrevivir al accidente. "
   ]
  },
  {
   "cell_type": "markdown",
   "id": "e69166b0",
   "metadata": {},
   "source": [
    "# Por qué 'Age_Bin' es la variable con menor IV? \n",
    "Veamos cómo se encuentra distribuida la variable dependiendo del target. "
   ]
  },
  {
   "cell_type": "code",
   "execution_count": 17,
   "id": "5f4ffa40",
   "metadata": {},
   "outputs": [
    {
     "data": {
      "text/plain": [
       "(array([0, 1, 2, 3, 4, 5, 6]),\n",
       " [Text(0, 0, 'Bebes'),\n",
       "  Text(1, 0, 'Niños'),\n",
       "  Text(2, 0, 'Adolescentes'),\n",
       "  Text(3, 0, 'Jovenes'),\n",
       "  Text(4, 0, 'Adultos Medios'),\n",
       "  Text(5, 0, 'Adultos Mayores'),\n",
       "  Text(6, 0, 'Ancianos')])"
      ]
     },
     "execution_count": 17,
     "metadata": {},
     "output_type": "execute_result"
    },
    {
     "data": {
      "image/png": "[encoded data removed]",
      "text/plain": [
       "<Figure size 640x480 with 1 Axes>"
      ]
     },
     "metadata": {},
     "output_type": "display_data"
    }
   ],
   "source": [
    "# Tasas de éxito \n",
    "sns.barplot(data = df,\n",
    "                x = 'Age_Bin',\n",
    "                y = 'Survived')\n",
    "plt.xticks(rotation=90)"
   ]
  },
  {
   "cell_type": "code",
   "execution_count": 18,
   "id": "e645b1d2",
   "metadata": {},
   "outputs": [
    {
     "data": {
      "text/plain": [
       "Text(0.5, 1.0, 'Distribución de Edad según supervivencia')"
      ]
     },
     "execution_count": 18,
     "metadata": {},
     "output_type": "execute_result"
    },
    {
     "data": {
      "image/png": "[encoded data removed]",
      "text/plain": [
       "<Figure size 640x480 with 1 Axes>"
      ]
     },
     "metadata": {},
     "output_type": "display_data"
    }
   ],
   "source": [
    "# Y la distribución de la edad cambia en los supervivientes respecto de los que no? \n",
    "plt.figure()\n",
    "# Histograma\n",
    "sns.histplot(data = df,\n",
    "             x = 'Age',\n",
    "             bins = 30,            \n",
    "             alpha = 0.25,\n",
    "             kde = True,\n",
    "             stat = 'probability',\n",
    "             hue = 'Survived')\n",
    "plt.title('Distribución de Edad según supervivencia')"
   ]
  },
  {
   "cell_type": "markdown",
   "id": "1ca50360",
   "metadata": {},
   "source": [
    "## Qué vemos? \n",
    "Se aprecia una ligera concentración en edades más bajas cuando estamos en el segmento de supervivientes, lo que indicaría que los más pequeños tienen más chances de sobrevivir. "
   ]
  },
  {
   "cell_type": "markdown",
   "id": "f6a5ac59",
   "metadata": {},
   "source": [
    "## Tiene alguna influencia el tipo de ticket que han comprado? \n",
    "Veamos ahora cómo se comporta la edad en conjunto con el tipo de ticket que ha comprado cada pasajero. "
   ]
  },
  {
   "cell_type": "code",
   "execution_count": 20,
   "id": "137c5000",
   "metadata": {},
   "outputs": [
    {
     "data": {
      "text/plain": [
       "(array([0, 1, 2, 3, 4, 5, 6]),\n",
       " [Text(0, 0, 'Bebes'),\n",
       "  Text(1, 0, 'Niños'),\n",
       "  Text(2, 0, 'Adolescentes'),\n",
       "  Text(3, 0, 'Jovenes'),\n",
       "  Text(4, 0, 'Adultos Medios'),\n",
       "  Text(5, 0, 'Adultos Mayores'),\n",
       "  Text(6, 0, 'Ancianos')])"
      ]
     },
     "execution_count": 20,
     "metadata": {},
     "output_type": "execute_result"
    },
    {
     "data": {
      "image/png": "[encoded data removed]",
      "text/plain": [
       "<Figure size 640x480 with 1 Axes>"
      ]
     },
     "metadata": {},
     "output_type": "display_data"
    }
   ],
   "source": [
    "# Tasas de éxito \n",
    "sns.barplot(data = df,\n",
    "                x = 'Age_Bin',\n",
    "                y = 'Survived',\n",
    "           hue = 'Pclass')\n",
    "plt.xticks(rotation=90)"
   ]
  },
  {
   "cell_type": "markdown",
   "id": "a76ad8f5",
   "metadata": {},
   "source": [
    "## Intentemos explicar lo que vemos... \n",
    "Si bien en principio la variable por si misma pareciera no contar con tanto poder predictivo, cuando la combinamos con el tipo de ticket que ha comprado cada uno se puede ver la gran diferencia de tasas, fundamentalmente a partir de ser adolescente, dependiendo del tipo de ticket comprado. \n",
    "<br>\n",
    "Entonces, para medir este efecto, construyamos una nueva variable que combine la edad y el tipo de ticket. \n",
    "Armaremos las siguientes categorías: \n",
    "- Bebes: Entre 0 y 3 años\n",
    "- Niños: Entre 4 y 10 años \n",
    "- Adolescentes Clase Alta (AD_Clase1): Entre 10 y 18 años con ticket 1 \n",
    "- Adolescentes Clase Media (AD_Clase2): Entre 10 y 18 años con ticket 2\n",
    "- Adolescentes Clase Baja (AD_Clase3): Entre 10 y 18 años con ticket 3 \n",
    "- Jóvenes Clase Alta (Jov_Clase1): Entre 18 y 25 años con ticket 1 \n",
    "- Jóvenes Clase Media (Jov_Clase2): Entre 18 y 25 años con ticket 2 \n",
    "- Jóvenes Clase Baja (Jov_Clase3): Entre 18 y 25 años con ticket 3\n",
    "- Adultos Medios Clase Alta (AdultMed_Clase1): Entre 25 y 40 años con ticket 1 \n",
    "- Adultos Medios Clase Media (AdultMed_Clase2): Entre 25 y 40 años con ticket 2 \n",
    "- Adultos Medios Clase Baja (AdultMed_Clase3): Entre 25 y 40 años con ticket 3 \n",
    "- Adultos Mayores Clase Alta (AdultMay_Clase1): Entre 40 y 55 años con ticket 1\n",
    "- Adultos Mayores Clase Media (AdultMay_Clase2): Entre 40 y 55 años con ticket 2\n",
    "- Adultos Mayores Clase Baja (AdultMay_Clase3): Entre 40 y 55 años con ticket 3\n",
    "- Ancianos: Más de 55 años. "
   ]
  },
  {
   "cell_type": "code",
   "execution_count": 21,
   "id": "a076151f",
   "metadata": {},
   "outputs": [],
   "source": [
    "# Entonces, vamos a construirla: \n",
    "\n",
    "# Primero: Defino la función clasificadora: \n",
    "def clasifica_age_pclass(age, Pclass):\n",
    "    if (age <= 3):\n",
    "        return \"01_Bebes\"\n",
    "    elif (age <= 10):\n",
    "        return \"02_Niños\"\n",
    "    elif (age <= 18) and (Pclass == 1):\n",
    "        return \"03_AD_Clase1\"\n",
    "    elif (age <= 18) and (Pclass == 2):\n",
    "        return \"04_AD_Clase2\"\n",
    "    elif (age <= 18) and (Pclass == 3):\n",
    "        return \"05_AD_Clase3\"\n",
    "    elif (age <= 25) and (Pclass == 1):\n",
    "        return \"06_Jov_Clase1\"\n",
    "    elif (age <= 25) and (Pclass == 2):\n",
    "        return \"07_Jov_Clase2\"\n",
    "    elif (age <= 25) and (Pclass == 3):\n",
    "        return \"08_Jov_Clase3\"\n",
    "    elif (age <= 40) and (Pclass == 1):\n",
    "        return \"09_AdultMed_Clase1\"\n",
    "    elif (age <= 40) and (Pclass == 2):\n",
    "        return \"10_AdultMed_Clase2\"\n",
    "    elif (age <= 40) and (Pclass == 3):\n",
    "        return \"11_AdultMed_Clase3\"\n",
    "    elif (age <= 55) and (Pclass == 1):\n",
    "        return \"12_AdultMay_Clase1\"\n",
    "    elif (age <= 55) and (Pclass == 2):\n",
    "        return \"13_AdultMay_Clase2\"\n",
    "    elif (age <= 55) and (Pclass == 3):\n",
    "        return \"14_AdultMay_Clase3\"\n",
    "    elif (age > 55):\n",
    "        return \"15_Ancianos\"\n",
    "    else:\n",
    "        return \"16_Sin_Dato\"\n"
   ]
  },
  {
   "cell_type": "code",
   "execution_count": 22,
   "id": "9c01a700",
   "metadata": {},
   "outputs": [],
   "source": [
    "# Aplico el clasificador\n",
    "df['Age_Bin_PClass'] =  df.apply(lambda row: clasifica_age_pclass(row['Age'], row['Pclass']), \n",
    "                                 axis = 1)"
   ]
  },
  {
   "cell_type": "code",
   "execution_count": 23,
   "id": "a35893fd",
   "metadata": {},
   "outputs": [
    {
     "data": {
      "image/png": "[encoded data removed]",
      "text/plain": [
       "<Figure size 640x480 with 1 Axes>"
      ]
     },
     "metadata": {},
     "output_type": "display_data"
    }
   ],
   "source": [
    "# Visualmente: \n",
    "sns.barplot(data = df.sort_values(by='Age_Bin_PClass'),\n",
    "                x = 'Age_Bin_PClass',\n",
    "                y = 'Survived') \n",
    "plt.xticks(rotation=90)\n",
    "plt.show()"
   ]
  },
  {
   "cell_type": "code",
   "execution_count": 24,
   "id": "f5e28fa3",
   "metadata": {},
   "outputs": [
    {
     "data": {
      "text/html": [
       "<div>\n",
       "<style scoped>\n",
       "    .dataframe tbody tr th:only-of-type {\n",
       "        vertical-align: middle;\n",
       "    }\n",
       "\n",
       "    .dataframe tbody tr th {\n",
       "        vertical-align: top;\n",
       "    }\n",
       "\n",
       "    .dataframe thead th {\n",
       "        text-align: right;\n",
       "    }\n",
       "</style>\n",
       "<table border=\"1\" class=\"dataframe\">\n",
       "  <thead>\n",
       "    <tr style=\"text-align: right;\">\n",
       "      <th></th>\n",
       "      <th>Age_Bin_PClass</th>\n",
       "      <th>Cant</th>\n",
       "      <th>Cant_Exito</th>\n",
       "      <th>Tasa_Exito</th>\n",
       "      <th>Tasa_No_Exito</th>\n",
       "      <th>Cant_No_Exito</th>\n",
       "      <th>LN</th>\n",
       "      <th>Pct_Exitos</th>\n",
       "      <th>Pct_NoExitos</th>\n",
       "      <th>Resta</th>\n",
       "      <th>IV</th>\n",
       "    </tr>\n",
       "  </thead>\n",
       "  <tbody>\n",
       "    <tr>\n",
       "      <th>0</th>\n",
       "      <td>01_Bebes</td>\n",
       "      <td>30</td>\n",
       "      <td>20</td>\n",
       "      <td>0.666667</td>\n",
       "      <td>0.333333</td>\n",
       "      <td>10</td>\n",
       "      <td>0.693147</td>\n",
       "      <td>0.058480</td>\n",
       "      <td>0.018215</td>\n",
       "      <td>0.040265</td>\n",
       "      <td>0.027909</td>\n",
       "    </tr>\n",
       "    <tr>\n",
       "      <th>1</th>\n",
       "      <td>02_Niños</td>\n",
       "      <td>34</td>\n",
       "      <td>18</td>\n",
       "      <td>0.529412</td>\n",
       "      <td>0.470588</td>\n",
       "      <td>16</td>\n",
       "      <td>0.117783</td>\n",
       "      <td>0.052632</td>\n",
       "      <td>0.029144</td>\n",
       "      <td>0.023488</td>\n",
       "      <td>0.002766</td>\n",
       "    </tr>\n",
       "    <tr>\n",
       "      <th>2</th>\n",
       "      <td>03_AD_Clase1</td>\n",
       "      <td>13</td>\n",
       "      <td>12</td>\n",
       "      <td>0.923077</td>\n",
       "      <td>0.076923</td>\n",
       "      <td>1</td>\n",
       "      <td>2.484907</td>\n",
       "      <td>0.035088</td>\n",
       "      <td>0.001821</td>\n",
       "      <td>0.033266</td>\n",
       "      <td>0.082663</td>\n",
       "    </tr>\n",
       "    <tr>\n",
       "      <th>3</th>\n",
       "      <td>04_AD_Clase2</td>\n",
       "      <td>12</td>\n",
       "      <td>6</td>\n",
       "      <td>0.500000</td>\n",
       "      <td>0.500000</td>\n",
       "      <td>6</td>\n",
       "      <td>0.000000</td>\n",
       "      <td>0.017544</td>\n",
       "      <td>0.010929</td>\n",
       "      <td>0.006615</td>\n",
       "      <td>0.000000</td>\n",
       "    </tr>\n",
       "    <tr>\n",
       "      <th>4</th>\n",
       "      <td>05_AD_Clase3</td>\n",
       "      <td>50</td>\n",
       "      <td>14</td>\n",
       "      <td>0.280000</td>\n",
       "      <td>0.720000</td>\n",
       "      <td>36</td>\n",
       "      <td>-0.944462</td>\n",
       "      <td>0.040936</td>\n",
       "      <td>0.065574</td>\n",
       "      <td>-0.024638</td>\n",
       "      <td>0.023270</td>\n",
       "    </tr>\n",
       "    <tr>\n",
       "      <th>5</th>\n",
       "      <td>06_Jov_Clase1</td>\n",
       "      <td>26</td>\n",
       "      <td>19</td>\n",
       "      <td>0.730769</td>\n",
       "      <td>0.269231</td>\n",
       "      <td>7</td>\n",
       "      <td>0.998529</td>\n",
       "      <td>0.055556</td>\n",
       "      <td>0.012750</td>\n",
       "      <td>0.042805</td>\n",
       "      <td>0.042742</td>\n",
       "    </tr>\n",
       "    <tr>\n",
       "      <th>6</th>\n",
       "      <td>07_Jov_Clase2</td>\n",
       "      <td>36</td>\n",
       "      <td>15</td>\n",
       "      <td>0.416667</td>\n",
       "      <td>0.583333</td>\n",
       "      <td>21</td>\n",
       "      <td>-0.336472</td>\n",
       "      <td>0.043860</td>\n",
       "      <td>0.038251</td>\n",
       "      <td>0.005608</td>\n",
       "      <td>-0.001887</td>\n",
       "    </tr>\n",
       "    <tr>\n",
       "      <th>7</th>\n",
       "      <td>08_Jov_Clase3</td>\n",
       "      <td>100</td>\n",
       "      <td>20</td>\n",
       "      <td>0.200000</td>\n",
       "      <td>0.800000</td>\n",
       "      <td>80</td>\n",
       "      <td>-1.386294</td>\n",
       "      <td>0.058480</td>\n",
       "      <td>0.145719</td>\n",
       "      <td>-0.087240</td>\n",
       "      <td>0.120940</td>\n",
       "    </tr>\n",
       "    <tr>\n",
       "      <th>8</th>\n",
       "      <td>09_AdultMed_Clase1</td>\n",
       "      <td>68</td>\n",
       "      <td>50</td>\n",
       "      <td>0.735294</td>\n",
       "      <td>0.264706</td>\n",
       "      <td>18</td>\n",
       "      <td>1.021651</td>\n",
       "      <td>0.146199</td>\n",
       "      <td>0.032787</td>\n",
       "      <td>0.113412</td>\n",
       "      <td>0.115867</td>\n",
       "    </tr>\n",
       "    <tr>\n",
       "      <th>9</th>\n",
       "      <td>10_AdultMed_Clase2</td>\n",
       "      <td>74</td>\n",
       "      <td>32</td>\n",
       "      <td>0.432432</td>\n",
       "      <td>0.567568</td>\n",
       "      <td>42</td>\n",
       "      <td>-0.271934</td>\n",
       "      <td>0.093567</td>\n",
       "      <td>0.076503</td>\n",
       "      <td>0.017065</td>\n",
       "      <td>-0.004640</td>\n",
       "    </tr>\n",
       "    <tr>\n",
       "      <th>10</th>\n",
       "      <td>11_AdultMed_Clase3</td>\n",
       "      <td>121</td>\n",
       "      <td>29</td>\n",
       "      <td>0.239669</td>\n",
       "      <td>0.760331</td>\n",
       "      <td>92</td>\n",
       "      <td>-1.154493</td>\n",
       "      <td>0.084795</td>\n",
       "      <td>0.167577</td>\n",
       "      <td>-0.082782</td>\n",
       "      <td>0.095571</td>\n",
       "    </tr>\n",
       "    <tr>\n",
       "      <th>11</th>\n",
       "      <td>12_AdultMay_Clase1</td>\n",
       "      <td>50</td>\n",
       "      <td>29</td>\n",
       "      <td>0.580000</td>\n",
       "      <td>0.420000</td>\n",
       "      <td>21</td>\n",
       "      <td>0.322773</td>\n",
       "      <td>0.084795</td>\n",
       "      <td>0.038251</td>\n",
       "      <td>0.046544</td>\n",
       "      <td>0.015023</td>\n",
       "    </tr>\n",
       "    <tr>\n",
       "      <th>12</th>\n",
       "      <td>13_AdultMay_Clase2</td>\n",
       "      <td>27</td>\n",
       "      <td>12</td>\n",
       "      <td>0.444444</td>\n",
       "      <td>0.555556</td>\n",
       "      <td>15</td>\n",
       "      <td>-0.223144</td>\n",
       "      <td>0.035088</td>\n",
       "      <td>0.027322</td>\n",
       "      <td>0.007765</td>\n",
       "      <td>-0.001733</td>\n",
       "    </tr>\n",
       "    <tr>\n",
       "      <th>13</th>\n",
       "      <td>14_AdultMay_Clase3</td>\n",
       "      <td>33</td>\n",
       "      <td>2</td>\n",
       "      <td>0.060606</td>\n",
       "      <td>0.939394</td>\n",
       "      <td>31</td>\n",
       "      <td>-2.740840</td>\n",
       "      <td>0.005848</td>\n",
       "      <td>0.056466</td>\n",
       "      <td>-0.050618</td>\n",
       "      <td>0.138737</td>\n",
       "    </tr>\n",
       "    <tr>\n",
       "      <th>14</th>\n",
       "      <td>15_Ancianos</td>\n",
       "      <td>40</td>\n",
       "      <td>12</td>\n",
       "      <td>0.300000</td>\n",
       "      <td>0.700000</td>\n",
       "      <td>28</td>\n",
       "      <td>-0.847298</td>\n",
       "      <td>0.035088</td>\n",
       "      <td>0.051002</td>\n",
       "      <td>-0.015914</td>\n",
       "      <td>0.013484</td>\n",
       "    </tr>\n",
       "    <tr>\n",
       "      <th>15</th>\n",
       "      <td>16_Sin_Dato</td>\n",
       "      <td>177</td>\n",
       "      <td>52</td>\n",
       "      <td>0.293785</td>\n",
       "      <td>0.706215</td>\n",
       "      <td>125</td>\n",
       "      <td>-0.877070</td>\n",
       "      <td>0.152047</td>\n",
       "      <td>0.227687</td>\n",
       "      <td>-0.075640</td>\n",
       "      <td>0.066342</td>\n",
       "    </tr>\n",
       "  </tbody>\n",
       "</table>\n",
       "</div>"
      ],
      "text/plain": [
       "        Age_Bin_PClass  Cant  Cant_Exito  Tasa_Exito  Tasa_No_Exito  \\\n",
       "0             01_Bebes    30          20    0.666667       0.333333   \n",
       "1             02_Niños    34          18    0.529412       0.470588   \n",
       "2         03_AD_Clase1    13          12    0.923077       0.076923   \n",
       "3         04_AD_Clase2    12           6    0.500000       0.500000   \n",
       "4         05_AD_Clase3    50          14    0.280000       0.720000   \n",
       "5        06_Jov_Clase1    26          19    0.730769       0.269231   \n",
       "6        07_Jov_Clase2    36          15    0.416667       0.583333   \n",
       "7        08_Jov_Clase3   100          20    0.200000       0.800000   \n",
       "8   09_AdultMed_Clase1    68          50    0.735294       0.264706   \n",
       "9   10_AdultMed_Clase2    74          32    0.432432       0.567568   \n",
       "10  11_AdultMed_Clase3   121          29    0.239669       0.760331   \n",
       "11  12_AdultMay_Clase1    50          29    0.580000       0.420000   \n",
       "12  13_AdultMay_Clase2    27          12    0.444444       0.555556   \n",
       "13  14_AdultMay_Clase3    33           2    0.060606       0.939394   \n",
       "14         15_Ancianos    40          12    0.300000       0.700000   \n",
       "15         16_Sin_Dato   177          52    0.293785       0.706215   \n",
       "\n",
       "    Cant_No_Exito        LN  Pct_Exitos  Pct_NoExitos     Resta        IV  \n",
       "0              10  0.693147    0.058480      0.018215  0.040265  0.027909  \n",
       "1              16  0.117783    0.052632      0.029144  0.023488  0.002766  \n",
       "2               1  2.484907    0.035088      0.001821  0.033266  0.082663  \n",
       "3               6  0.000000    0.017544      0.010929  0.006615  0.000000  \n",
       "4              36 -0.944462    0.040936      0.065574 -0.024638  0.023270  \n",
       "5               7  0.998529    0.055556      0.012750  0.042805  0.042742  \n",
       "6              21 -0.336472    0.043860      0.038251  0.005608 -0.001887  \n",
       "7              80 -1.386294    0.058480      0.145719 -0.087240  0.120940  \n",
       "8              18  1.021651    0.146199      0.032787  0.113412  0.115867  \n",
       "9              42 -0.271934    0.093567      0.076503  0.017065 -0.004640  \n",
       "10             92 -1.154493    0.084795      0.167577 -0.082782  0.095571  \n",
       "11             21  0.322773    0.084795      0.038251  0.046544  0.015023  \n",
       "12             15 -0.223144    0.035088      0.027322  0.007765 -0.001733  \n",
       "13             31 -2.740840    0.005848      0.056466 -0.050618  0.138737  \n",
       "14             28 -0.847298    0.035088      0.051002 -0.015914  0.013484  \n",
       "15            125 -0.877070    0.152047      0.227687 -0.075640  0.066342  "
      ]
     },
     "execution_count": 24,
     "metadata": {},
     "output_type": "execute_result"
    }
   ],
   "source": [
    "# Information value para Age_Bin\n",
    "tabla_IV = df.groupby('Age_Bin_PClass').agg(      \n",
    "    Cant = ('Survived', 'count'),\n",
    "    Cant_Exito = ('Survived', 'sum'),    \n",
    "    Tasa_Exito = ('Survived', 'mean')\n",
    ").reset_index()\n",
    "tabla_IV['Tasa_No_Exito'] = 1 - tabla_IV['Tasa_Exito']\n",
    "tabla_IV['Cant_No_Exito'] = tabla_IV['Cant'] - tabla_IV['Cant_Exito']\n",
    "tabla_IV['LN'] = np.log(tabla_IV['Tasa_Exito'] / tabla_IV['Tasa_No_Exito'])\n",
    "tabla_IV['Pct_Exitos'] = tabla_IV['Cant_Exito'] / sum(tabla_IV['Cant_Exito'])\n",
    "tabla_IV['Pct_NoExitos'] = tabla_IV['Cant_No_Exito'] / sum(tabla_IV['Cant_No_Exito'])\n",
    "tabla_IV['Resta'] = tabla_IV['Pct_Exitos'] - tabla_IV['Pct_NoExitos']\n",
    "tabla_IV['IV'] = tabla_IV['Resta'] * tabla_IV['LN'] \n",
    "tabla_IV"
   ]
  },
  {
   "cell_type": "code",
   "execution_count": 25,
   "id": "f4c1e8e9",
   "metadata": {},
   "outputs": [
    {
     "name": "stderr",
     "output_type": "stream",
     "text": [
      "C:\\Users\\usernosis\\AppData\\Local\\Temp\\ipykernel_18196\\2608191002.py:3: FutureWarning: The frame.append method is deprecated and will be removed from pandas in a future version. Use pandas.concat instead.\n",
      "  IV_df = IV_df.append(nuevo_dato, ignore_index=True)\n"
     ]
    },
    {
     "data": {
      "text/html": [
       "<div>\n",
       "<style scoped>\n",
       "    .dataframe tbody tr th:only-of-type {\n",
       "        vertical-align: middle;\n",
       "    }\n",
       "\n",
       "    .dataframe tbody tr th {\n",
       "        vertical-align: top;\n",
       "    }\n",
       "\n",
       "    .dataframe thead th {\n",
       "        text-align: right;\n",
       "    }\n",
       "</style>\n",
       "<table border=\"1\" class=\"dataframe\">\n",
       "  <thead>\n",
       "    <tr style=\"text-align: right;\">\n",
       "      <th></th>\n",
       "      <th>Variable</th>\n",
       "      <th>IV</th>\n",
       "    </tr>\n",
       "  </thead>\n",
       "  <tbody>\n",
       "    <tr>\n",
       "      <th>0</th>\n",
       "      <td>Sex</td>\n",
       "      <td>1.341681</td>\n",
       "    </tr>\n",
       "    <tr>\n",
       "      <th>1</th>\n",
       "      <td>PClass</td>\n",
       "      <td>0.500950</td>\n",
       "    </tr>\n",
       "    <tr>\n",
       "      <th>2</th>\n",
       "      <td>Age_Bin</td>\n",
       "      <td>0.096756</td>\n",
       "    </tr>\n",
       "    <tr>\n",
       "      <th>3</th>\n",
       "      <td>Age_Bin_Pclass</td>\n",
       "      <td>0.737055</td>\n",
       "    </tr>\n",
       "  </tbody>\n",
       "</table>\n",
       "</div>"
      ],
      "text/plain": [
       "         Variable        IV\n",
       "0             Sex  1.341681\n",
       "1          PClass  0.500950\n",
       "2         Age_Bin  0.096756\n",
       "3  Age_Bin_Pclass  0.737055"
      ]
     },
     "execution_count": 25,
     "metadata": {},
     "output_type": "execute_result"
    }
   ],
   "source": [
    "# Relleno mi tabla de referencias \n",
    "nuevo_dato = {'Variable': 'Age_Bin_Pclass', 'IV': sum(tabla_IV['IV'])}\n",
    "IV_df = IV_df.append(nuevo_dato, ignore_index=True)\n",
    "IV_df.head()"
   ]
  },
  {
   "cell_type": "code",
   "execution_count": 26,
   "id": "246a0379",
   "metadata": {},
   "outputs": [
    {
     "data": {
      "image/png": "[encoded data removed]",
      "text/plain": [
       "<Figure size 1000x600 with 1 Axes>"
      ]
     },
     "metadata": {},
     "output_type": "display_data"
    }
   ],
   "source": [
    "# Grafico el information value de cada variable\n",
    "IV_df = IV_df.sort_values(by = 'IV', ascending = False)\n",
    "plt.figure(figsize=(10, 6))  # Tamaño de la figura\n",
    "plt.barh(IV_df['Variable'], \n",
    "         IV_df['IV'],\n",
    "         color = '#A989D6')\n",
    "plt.xlabel('Information Value')\n",
    "plt.gca().invert_yaxis()  # Invertir el eje Y para mostrar la característica más relevante en la parte superior\n",
    "plt.show()"
   ]
  },
  {
   "cell_type": "markdown",
   "id": "dbf4787d",
   "metadata": {},
   "source": [
    "# Conclusión:\n",
    "Una variable por si misma no necesariamente es poco predictiva, sino que quizás es necesario combinarla con otro dato para potenciar su poder predictivo. "
   ]
  },
  {
   "cell_type": "markdown",
   "id": "0a5b41d7",
   "metadata": {},
   "source": [
    "# Generando una función para calcular IV a muchas columnas\n",
    "Vamos a armar una función que nos permita indicarle el dataframe, el nombre de las columnas, el nombre del target y nos devuelva la tablita de IV. "
   ]
  },
  {
   "cell_type": "code",
   "execution_count": 27,
   "id": "f4e277bc",
   "metadata": {},
   "outputs": [],
   "source": [
    "# Primer paso: definir el nombre de la función y sus parámetros\n",
    "def calculadora_IV(lista_variables,target):\n",
    "    \"\"\"\n",
    "    Esta función calcula el IV de una lista de variables categóricas vs un flag binario.\n",
    "\n",
    "    Args:\n",
    "        lista_variables: Lista que incluya el nombre de cada variable a la que se le quiere calcular el IV.\n",
    "        target: Nombre de la columna que contiene a la variable target.\n",
    "\n",
    "    Returns:\n",
    "        Dataframe con dos columnas: Variable (nombre de la variable) e IV (Information Value).\n",
    "    \"\"\"\n",
    "    \n",
    "    # Calculo la cantidad de variables que se van a recorrer\n",
    "    cantidad_variables = len(lista_variables)\n",
    "    \n",
    "    # Genero el dataframe que se entregará al final, vacío\n",
    "    IV_df = pd.DataFrame(columns=['Variable', 'IV'])        \n",
    "    \n",
    "    # Genero un loop que recorre cada elemento de la lista de nombres de variables que se quiere generar el cálculo\n",
    "    for i in range(cantidad_variables):\n",
    "    \n",
    "        # Calculo tablita agrupada por cada variable\n",
    "        tabla_IV = df.groupby(lista_variables[i]).agg(      \n",
    "            Cant = (target, 'count'),\n",
    "            Cant_Exito = (target, 'sum'),    \n",
    "            Tasa_Exito = (target, 'mean')\n",
    "        ).reset_index()\n",
    "        \n",
    "        # Agrego la \"Tasa de No Exito\"\n",
    "        tabla_IV['Tasa_No_Exito'] = 1 - tabla_IV['Tasa_Exito']\n",
    "        \n",
    "        # Agrego la \"Cantidad de casos de No Exito\"\n",
    "        tabla_IV['Cant_No_Exito'] = tabla_IV['Cant'] - tabla_IV['Cant_Exito']\n",
    "        \n",
    "        # Hago cálculos necesarios para llegar al IV\n",
    "        tabla_IV['LN'] = np.log(tabla_IV['Tasa_Exito'] / tabla_IV['Tasa_No_Exito'])\n",
    "        tabla_IV['Pct_Exitos'] = tabla_IV['Cant_Exito'] / sum(tabla_IV['Cant_Exito'])\n",
    "        tabla_IV['Pct_NoExitos'] = tabla_IV['Cant_No_Exito'] / sum(tabla_IV['Cant_No_Exito'])\n",
    "        tabla_IV['Resta'] = tabla_IV['Pct_Exitos'] - tabla_IV['Pct_NoExitos']\n",
    "        tabla_IV['IV'] = tabla_IV['Resta'] * tabla_IV['LN'] \n",
    "        \n",
    "        # Agrego el IV como un registro más en la tabla que generé\n",
    "        nuevo_dato = {'Variable': lista_variables[i], 'IV': sum(tabla_IV['IV'])}\n",
    "        IV_df = IV_df.append(nuevo_dato, ignore_index=True)\n",
    "\n",
    "    return IV_df"
   ]
  },
  {
   "cell_type": "code",
   "execution_count": 45,
   "id": "be4139ae",
   "metadata": {},
   "outputs": [
    {
     "name": "stdout",
     "output_type": "stream",
     "text": [
      "Help on function calculadora_IV in module __main__:\n",
      "\n",
      "calculadora_IV(lista_variables, target)\n",
      "    Esta función calcula el IV de una lista de variables categóricas vs un flag binario.\n",
      "    \n",
      "    Args:\n",
      "        lista_variables: Lista que incluya el nombre de cada variable a la que se le quiere calcular el IV.\n",
      "        target: Nombre de la columna que contiene a la variable target.\n",
      "    \n",
      "    Returns:\n",
      "        Dataframe con dos columnas: Variable (nombre de la variable) e IV (Information Value).\n",
      "\n"
     ]
    }
   ],
   "source": [
    "help(calculadora_IV)"
   ]
  },
  {
   "cell_type": "code",
   "execution_count": 28,
   "id": "00eb292c",
   "metadata": {},
   "outputs": [
    {
     "name": "stderr",
     "output_type": "stream",
     "text": [
      "C:\\Users\\usernosis\\AppData\\Local\\Temp\\ipykernel_18196\\362610380.py:45: FutureWarning: The frame.append method is deprecated and will be removed from pandas in a future version. Use pandas.concat instead.\n",
      "  IV_df = IV_df.append(nuevo_dato, ignore_index=True)\n",
      "C:\\Users\\usernosis\\AppData\\Local\\Temp\\ipykernel_18196\\362610380.py:45: FutureWarning: The frame.append method is deprecated and will be removed from pandas in a future version. Use pandas.concat instead.\n",
      "  IV_df = IV_df.append(nuevo_dato, ignore_index=True)\n",
      "C:\\Users\\usernosis\\AppData\\Local\\Temp\\ipykernel_18196\\362610380.py:45: FutureWarning: The frame.append method is deprecated and will be removed from pandas in a future version. Use pandas.concat instead.\n",
      "  IV_df = IV_df.append(nuevo_dato, ignore_index=True)\n",
      "C:\\Users\\usernosis\\AppData\\Local\\Temp\\ipykernel_18196\\362610380.py:45: FutureWarning: The frame.append method is deprecated and will be removed from pandas in a future version. Use pandas.concat instead.\n",
      "  IV_df = IV_df.append(nuevo_dato, ignore_index=True)\n"
     ]
    },
    {
     "data": {
      "text/html": [
       "<div>\n",
       "<style scoped>\n",
       "    .dataframe tbody tr th:only-of-type {\n",
       "        vertical-align: middle;\n",
       "    }\n",
       "\n",
       "    .dataframe tbody tr th {\n",
       "        vertical-align: top;\n",
       "    }\n",
       "\n",
       "    .dataframe thead th {\n",
       "        text-align: right;\n",
       "    }\n",
       "</style>\n",
       "<table border=\"1\" class=\"dataframe\">\n",
       "  <thead>\n",
       "    <tr style=\"text-align: right;\">\n",
       "      <th></th>\n",
       "      <th>Variable</th>\n",
       "      <th>IV</th>\n",
       "    </tr>\n",
       "  </thead>\n",
       "  <tbody>\n",
       "    <tr>\n",
       "      <th>0</th>\n",
       "      <td>Sex</td>\n",
       "      <td>1.341681</td>\n",
       "    </tr>\n",
       "    <tr>\n",
       "      <th>3</th>\n",
       "      <td>Age_Bin_PClass</td>\n",
       "      <td>0.737055</td>\n",
       "    </tr>\n",
       "    <tr>\n",
       "      <th>1</th>\n",
       "      <td>Pclass</td>\n",
       "      <td>0.500950</td>\n",
       "    </tr>\n",
       "    <tr>\n",
       "      <th>2</th>\n",
       "      <td>Age_Bin</td>\n",
       "      <td>0.096756</td>\n",
       "    </tr>\n",
       "  </tbody>\n",
       "</table>\n",
       "</div>"
      ],
      "text/plain": [
       "         Variable        IV\n",
       "0             Sex  1.341681\n",
       "3  Age_Bin_PClass  0.737055\n",
       "1          Pclass  0.500950\n",
       "2         Age_Bin  0.096756"
      ]
     },
     "execution_count": 28,
     "metadata": {},
     "output_type": "execute_result"
    }
   ],
   "source": [
    "# Vamos a probarla: \n",
    "variables_calcular = ['Sex','Pclass','Age_Bin','Age_Bin_PClass']\n",
    "\n",
    "tabla_iv = calculadora_IV(variables_calcular,'Survived')\n",
    "tabla_iv.sort_values(by = 'IV', ascending = False)"
   ]
  }
 ],
 "metadata": {
  "kernelspec": {
   "display_name": "Python 3 (ipykernel)",
   "language": "python",
   "name": "python3"
  },
  "language_info": {
   "codemirror_mode": {
    "name": "ipython",
    "version": 3
   },
   "file_extension": ".py",
   "mimetype": "text/x-python",
   "name": "python",
   "nbconvert_exporter": "python",
   "pygments_lexer": "ipython3",
   "version": "3.11.4"
  }
 },
 "nbformat": 4,
 "nbformat_minor": 5
}
