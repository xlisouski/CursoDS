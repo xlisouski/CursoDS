{
 "cells": [
  {
   "cell_type": "code",
   "execution_count": 115,
   "id": "c6c103e8",
   "metadata": {},
   "outputs": [],
   "source": [
    "import pandas as pd\n",
    "import numpy as np\n",
    "import matplotlib as mpl\n",
    "import matplotlib.pyplot as plt\n",
    "import seaborn as sns\n",
    "# Libreria para estimar regresión\n",
    "import statsmodels.api as sm\n",
    "\n",
    "# Para forwad selection\n",
    "import sys\n",
    "import joblib\n",
    "sys.modules['sklearn.externals.joblib'] = joblib\n",
    "from mlxtend.feature_selection import SequentialFeatureSelector as SFS\n",
    "from sklearn.linear_model import LinearRegression"
   ]
  },
  {
   "cell_type": "code",
   "execution_count": 116,
   "id": "4d0c1299",
   "metadata": {},
   "outputs": [],
   "source": [
    "url = 'https://raw.githubusercontent.com/xlisouski/DataCoder/main/train.csv'\n",
    "df = pd.read_csv(url, sep = ',')"
   ]
  },
  {
   "cell_type": "code",
   "execution_count": 117,
   "id": "0633c3a7",
   "metadata": {},
   "outputs": [
    {
     "data": {
      "text/html": [
       "<div>\n",
       "<style scoped>\n",
       "    .dataframe tbody tr th:only-of-type {\n",
       "        vertical-align: middle;\n",
       "    }\n",
       "\n",
       "    .dataframe tbody tr th {\n",
       "        vertical-align: top;\n",
       "    }\n",
       "\n",
       "    .dataframe thead th {\n",
       "        text-align: right;\n",
       "    }\n",
       "</style>\n",
       "<table border=\"1\" class=\"dataframe\">\n",
       "  <thead>\n",
       "    <tr style=\"text-align: right;\">\n",
       "      <th></th>\n",
       "      <th>Id</th>\n",
       "      <th>MSSubClass</th>\n",
       "      <th>MSZoning</th>\n",
       "      <th>LotFrontage</th>\n",
       "      <th>LotArea</th>\n",
       "      <th>Street</th>\n",
       "      <th>Alley</th>\n",
       "      <th>LotShape</th>\n",
       "      <th>LandContour</th>\n",
       "      <th>Utilities</th>\n",
       "      <th>...</th>\n",
       "      <th>PoolArea</th>\n",
       "      <th>PoolQC</th>\n",
       "      <th>Fence</th>\n",
       "      <th>MiscFeature</th>\n",
       "      <th>MiscVal</th>\n",
       "      <th>MoSold</th>\n",
       "      <th>YrSold</th>\n",
       "      <th>SaleType</th>\n",
       "      <th>SaleCondition</th>\n",
       "      <th>SalePrice</th>\n",
       "    </tr>\n",
       "  </thead>\n",
       "  <tbody>\n",
       "    <tr>\n",
       "      <th>0</th>\n",
       "      <td>1</td>\n",
       "      <td>60</td>\n",
       "      <td>RL</td>\n",
       "      <td>65.0</td>\n",
       "      <td>8450</td>\n",
       "      <td>Pave</td>\n",
       "      <td>NaN</td>\n",
       "      <td>Reg</td>\n",
       "      <td>Lvl</td>\n",
       "      <td>AllPub</td>\n",
       "      <td>...</td>\n",
       "      <td>0</td>\n",
       "      <td>NaN</td>\n",
       "      <td>NaN</td>\n",
       "      <td>NaN</td>\n",
       "      <td>0</td>\n",
       "      <td>2</td>\n",
       "      <td>2008</td>\n",
       "      <td>WD</td>\n",
       "      <td>Normal</td>\n",
       "      <td>208500</td>\n",
       "    </tr>\n",
       "    <tr>\n",
       "      <th>1</th>\n",
       "      <td>2</td>\n",
       "      <td>20</td>\n",
       "      <td>RL</td>\n",
       "      <td>80.0</td>\n",
       "      <td>9600</td>\n",
       "      <td>Pave</td>\n",
       "      <td>NaN</td>\n",
       "      <td>Reg</td>\n",
       "      <td>Lvl</td>\n",
       "      <td>AllPub</td>\n",
       "      <td>...</td>\n",
       "      <td>0</td>\n",
       "      <td>NaN</td>\n",
       "      <td>NaN</td>\n",
       "      <td>NaN</td>\n",
       "      <td>0</td>\n",
       "      <td>5</td>\n",
       "      <td>2007</td>\n",
       "      <td>WD</td>\n",
       "      <td>Normal</td>\n",
       "      <td>181500</td>\n",
       "    </tr>\n",
       "    <tr>\n",
       "      <th>2</th>\n",
       "      <td>3</td>\n",
       "      <td>60</td>\n",
       "      <td>RL</td>\n",
       "      <td>68.0</td>\n",
       "      <td>11250</td>\n",
       "      <td>Pave</td>\n",
       "      <td>NaN</td>\n",
       "      <td>IR1</td>\n",
       "      <td>Lvl</td>\n",
       "      <td>AllPub</td>\n",
       "      <td>...</td>\n",
       "      <td>0</td>\n",
       "      <td>NaN</td>\n",
       "      <td>NaN</td>\n",
       "      <td>NaN</td>\n",
       "      <td>0</td>\n",
       "      <td>9</td>\n",
       "      <td>2008</td>\n",
       "      <td>WD</td>\n",
       "      <td>Normal</td>\n",
       "      <td>223500</td>\n",
       "    </tr>\n",
       "    <tr>\n",
       "      <th>3</th>\n",
       "      <td>4</td>\n",
       "      <td>70</td>\n",
       "      <td>RL</td>\n",
       "      <td>60.0</td>\n",
       "      <td>9550</td>\n",
       "      <td>Pave</td>\n",
       "      <td>NaN</td>\n",
       "      <td>IR1</td>\n",
       "      <td>Lvl</td>\n",
       "      <td>AllPub</td>\n",
       "      <td>...</td>\n",
       "      <td>0</td>\n",
       "      <td>NaN</td>\n",
       "      <td>NaN</td>\n",
       "      <td>NaN</td>\n",
       "      <td>0</td>\n",
       "      <td>2</td>\n",
       "      <td>2006</td>\n",
       "      <td>WD</td>\n",
       "      <td>Abnorml</td>\n",
       "      <td>140000</td>\n",
       "    </tr>\n",
       "    <tr>\n",
       "      <th>4</th>\n",
       "      <td>5</td>\n",
       "      <td>60</td>\n",
       "      <td>RL</td>\n",
       "      <td>84.0</td>\n",
       "      <td>14260</td>\n",
       "      <td>Pave</td>\n",
       "      <td>NaN</td>\n",
       "      <td>IR1</td>\n",
       "      <td>Lvl</td>\n",
       "      <td>AllPub</td>\n",
       "      <td>...</td>\n",
       "      <td>0</td>\n",
       "      <td>NaN</td>\n",
       "      <td>NaN</td>\n",
       "      <td>NaN</td>\n",
       "      <td>0</td>\n",
       "      <td>12</td>\n",
       "      <td>2008</td>\n",
       "      <td>WD</td>\n",
       "      <td>Normal</td>\n",
       "      <td>250000</td>\n",
       "    </tr>\n",
       "  </tbody>\n",
       "</table>\n",
       "<p>5 rows × 81 columns</p>\n",
       "</div>"
      ],
      "text/plain": [
       "   Id  MSSubClass MSZoning  LotFrontage  LotArea Street Alley LotShape  \\\n",
       "0   1          60       RL         65.0     8450   Pave   NaN      Reg   \n",
       "1   2          20       RL         80.0     9600   Pave   NaN      Reg   \n",
       "2   3          60       RL         68.0    11250   Pave   NaN      IR1   \n",
       "3   4          70       RL         60.0     9550   Pave   NaN      IR1   \n",
       "4   5          60       RL         84.0    14260   Pave   NaN      IR1   \n",
       "\n",
       "  LandContour Utilities  ... PoolArea PoolQC Fence MiscFeature MiscVal MoSold  \\\n",
       "0         Lvl    AllPub  ...        0    NaN   NaN         NaN       0      2   \n",
       "1         Lvl    AllPub  ...        0    NaN   NaN         NaN       0      5   \n",
       "2         Lvl    AllPub  ...        0    NaN   NaN         NaN       0      9   \n",
       "3         Lvl    AllPub  ...        0    NaN   NaN         NaN       0      2   \n",
       "4         Lvl    AllPub  ...        0    NaN   NaN         NaN       0     12   \n",
       "\n",
       "  YrSold  SaleType  SaleCondition  SalePrice  \n",
       "0   2008        WD         Normal     208500  \n",
       "1   2007        WD         Normal     181500  \n",
       "2   2008        WD         Normal     223500  \n",
       "3   2006        WD        Abnorml     140000  \n",
       "4   2008        WD         Normal     250000  \n",
       "\n",
       "[5 rows x 81 columns]"
      ]
     },
     "execution_count": 117,
     "metadata": {},
     "output_type": "execute_result"
    }
   ],
   "source": [
    "df.head()"
   ]
  },
  {
   "cell_type": "markdown",
   "id": "fae61add",
   "metadata": {},
   "source": [
    "# Filter Feature Selection \n",
    "## Correlación con el Target\n",
    "Se calcula el coeficiente de correlación de los Features con el target y se ordena de mayor a menor valor absoluto. \n",
    "<br>\n",
    "**Aclaración:** Sólo sirve para features numéricas, así que en caso de ser categóricas combiene realizar alguna transformación. "
   ]
  },
  {
   "cell_type": "code",
   "execution_count": 118,
   "id": "41895fb4",
   "metadata": {},
   "outputs": [
    {
     "name": "stderr",
     "output_type": "stream",
     "text": [
      "C:\\Users\\usernosis\\AppData\\Local\\Temp\\ipykernel_9212\\2489381718.py:2: FutureWarning: The default value of numeric_only in DataFrame.corr is deprecated. In a future version, it will default to False. Select only valid columns or specify the value of numeric_only to silence this warning.\n",
      "  matriz_correlacion = df.corr(method='pearson')\n"
     ]
    }
   ],
   "source": [
    "# Calculo matriz de correlación \n",
    "matriz_correlacion = df.corr(method='pearson')\n",
    "# Selecciono a la variable target para estudiar únicamente correlación con ella \n",
    "matriz_correlacion_target = matriz_correlacion['SalePrice']\n",
    "# Calculo valor absoluto, para extraer correlaciones más fuertes independientemente de su sentido \n",
    "matriz_correlacion_target = abs(matriz_correlacion_target)\n",
    "# Menciono columnas que quiero excluir del análisis de correlación \n",
    "columnas_a_excluir = ['SalePrice', 'SalePrice']\n",
    "# Las excluyo del análisis\n",
    "matriz_correlacion_target = matriz_correlacion_target.drop(columns=columnas_a_excluir, index=columnas_a_excluir)\n",
    "# Ordeno de mayor a menor correlacion \n",
    "matriz_correlacion_target = matriz_correlacion_target.sort_values(ascending=False)"
   ]
  },
  {
   "cell_type": "code",
   "execution_count": 119,
   "id": "354a17fd",
   "metadata": {},
   "outputs": [
    {
     "data": {
      "image/png": "[encoded data removed]",
      "text/plain": [
       "<Figure size 1000x600 with 1 Axes>"
      ]
     },
     "metadata": {},
     "output_type": "display_data"
    }
   ],
   "source": [
    "# Grafico el top 20 de variables más correlacionadas\n",
    "matriz_correlacion_target_graficar = matriz_correlacion_target[0:20]\n",
    "plt.figure(figsize=(10, 6))  # Tamaño de la figura\n",
    "plt.barh(matriz_correlacion_target_graficar.index, \n",
    "         matriz_correlacion_target_graficar.values,\n",
    "         color = '#A989D6')\n",
    "plt.xlabel('Correlación')\n",
    "plt.title('Correlación con SalePrice')\n",
    "plt.gca().invert_yaxis()  # Invertir el eje Y para mostrar la característica más relevante en la parte superior\n",
    "plt.show()"
   ]
  },
  {
   "cell_type": "markdown",
   "id": "0da71466",
   "metadata": {},
   "source": [
    "# Wrapper Feature Selection\n",
    "\n",
    "## 1) Forward selection\n",
    "En la selección hacia adelante, comenzamos con un modelo nulo y luego comenzamos a ajustar el modelo con cada característica individual una a la vez y seleccionamos la característica con el valor p mínimo. Ahora ajuste un modelo con dos características probando combinaciones de la característica seleccionada anteriormente con todas las demás características restantes. Vuelva a seleccionar la función con el valor p mínimo. Ahora ajuste un modelo con tres características probando combinaciones de dos características previamente seleccionadas con otras características restantes. Repita este proceso hasta que tengamos un conjunto de características seleccionadas con un valor p de características individuales menor que el nivel de significancia.\n",
    "\n",
    "### Paso 1: Inicio\n",
    "Comienza con un conjunto vacío de características seleccionadas y un modelo vacío.\n",
    "\n",
    "### Paso 2: Evaluación inicial\n",
    "Entrena un modelo inicial utilizando cada característica por separado y evalúa su rendimiento. Esto te dará una idea de cuán útiles son las características individualmente.\n",
    "\n",
    "### Paso 3: Selección de la mejor característica\n",
    "Selecciona la característica que proporciona el mejor rendimiento en el modelo. Puede ser la que tenga el mayor aumento en la métrica de evaluación, como precisión, AUC, etc.\n",
    "\n",
    "### Paso 4: Agregar la mejor característica\n",
    "Agrega la característica seleccionada al conjunto de características seleccionadas y actualiza el modelo.\n",
    "\n",
    "### Paso 5: Evaluación del modelo actualizado\n",
    "Evalúa el rendimiento del modelo actualizado con la característica agregada.\n",
    "\n",
    "### Paso 6: Iteración\n",
    "Repite los pasos 3 a 5 varias veces hasta que se cumpla una condición de detención. Esta condición de detención puede ser que no haya mejoras significativas en la métrica de evaluación, un número máximo de características seleccionadas, o cualquier otro criterio que determines.\n",
    "\n",
    "### Paso 7: Modelo final\n",
    "Cuando se alcanza la condición de detención, el conjunto de características seleccionadas se considera el modelo final.\n",
    "<br>\n",
    "<br>\n",
    "\n",
    "La selección hacia adelante es un enfoque heurístico que busca iterativamente las características más importantes y las agrega al modelo. Puede ser especialmente útil en problemas con un gran número de características, ya que reduce la dimensionalidad al seleccionar solo las características más relevantes.\n",
    "\n",
    "Es importante tener en cuenta que la selección hacia adelante no garantiza siempre el mejor modelo, ya que podría quedar atrapado en un mínimo local. Por lo tanto, es aconsejable combinar este enfoque con otros métodos y técnicas de validación cruzada para garantizar un buen rendimiento del modelo."
   ]
  },
  {
   "cell_type": "code",
   "execution_count": 53,
   "id": "9eb28c3f",
   "metadata": {},
   "outputs": [
    {
     "data": {
      "text/plain": [
       "Id               0\n",
       "MSSubClass       0\n",
       "MSZoning         0\n",
       "LotArea          0\n",
       "Street           0\n",
       "                ..\n",
       "MoSold           0\n",
       "YrSold           0\n",
       "SaleType         0\n",
       "SaleCondition    0\n",
       "SalePrice        0\n",
       "Length: 62, dtype: int64"
      ]
     },
     "execution_count": 53,
     "metadata": {},
     "output_type": "execute_result"
    }
   ],
   "source": [
    "valores_nulos  = df.isnull().sum()\n",
    "columnas_con_nulos = valores_nulos[valores_nulos == 0]\n",
    "columnas_con_nulos"
   ]
  },
  {
   "cell_type": "code",
   "execution_count": 120,
   "id": "829f1d5e",
   "metadata": {},
   "outputs": [],
   "source": [
    "# Defino función para hacer la selección de varaibles\n",
    "def forward_selection(data, target, significance_level):\n",
    "    initial_features = data.columns.tolist()\n",
    "    best_features = []\n",
    "    while (len(initial_features)>0):\n",
    "        remaining_features = list(set(initial_features)-set(best_features))\n",
    "        new_pval = pd.Series(dtype = 'float64',\n",
    "                             index = remaining_features)\n",
    "        for new_column in remaining_features:\n",
    "            model = sm.OLS(target, sm.add_constant(data[best_features+[new_column]])).fit()\n",
    "            new_pval[new_column] = model.pvalues[new_column]\n",
    "        min_p_value = new_pval.min()\n",
    "        if(min_p_value<significance_level):\n",
    "            best_features.append(new_pval.idxmin())\n",
    "        else:\n",
    "            break\n",
    "    return best_features"
   ]
  },
  {
   "cell_type": "code",
   "execution_count": 121,
   "id": "e5bcbbd5",
   "metadata": {},
   "outputs": [],
   "source": [
    "# Matriz de Features\n",
    "X = df[['LotArea','GrLivArea','OverallQual','Fireplaces','1stFlrSF','2ndFlrSF','LowQualFinSF',\n",
    "       'TotRmsAbvGrd','BsmtFullBath','FullBath','OverallCond','BsmtFinSF1','BsmtFinSF2']]    \n",
    "\n",
    "# Target\n",
    "y = df['SalePrice']"
   ]
  },
  {
   "cell_type": "code",
   "execution_count": 122,
   "id": "4a9c7792",
   "metadata": {},
   "outputs": [
    {
     "data": {
      "text/html": [
       "<div>\n",
       "<style scoped>\n",
       "    .dataframe tbody tr th:only-of-type {\n",
       "        vertical-align: middle;\n",
       "    }\n",
       "\n",
       "    .dataframe tbody tr th {\n",
       "        vertical-align: top;\n",
       "    }\n",
       "\n",
       "    .dataframe thead th {\n",
       "        text-align: right;\n",
       "    }\n",
       "</style>\n",
       "<table border=\"1\" class=\"dataframe\">\n",
       "  <thead>\n",
       "    <tr style=\"text-align: right;\">\n",
       "      <th></th>\n",
       "      <th>LotArea</th>\n",
       "      <th>GrLivArea</th>\n",
       "      <th>OverallQual</th>\n",
       "      <th>Fireplaces</th>\n",
       "      <th>1stFlrSF</th>\n",
       "      <th>2ndFlrSF</th>\n",
       "      <th>LowQualFinSF</th>\n",
       "      <th>TotRmsAbvGrd</th>\n",
       "      <th>BsmtFullBath</th>\n",
       "      <th>FullBath</th>\n",
       "      <th>OverallCond</th>\n",
       "      <th>BsmtFinSF1</th>\n",
       "      <th>BsmtFinSF2</th>\n",
       "    </tr>\n",
       "  </thead>\n",
       "  <tbody>\n",
       "    <tr>\n",
       "      <th>0</th>\n",
       "      <td>8450</td>\n",
       "      <td>1710</td>\n",
       "      <td>7</td>\n",
       "      <td>0</td>\n",
       "      <td>856</td>\n",
       "      <td>854</td>\n",
       "      <td>0</td>\n",
       "      <td>8</td>\n",
       "      <td>1</td>\n",
       "      <td>2</td>\n",
       "      <td>5</td>\n",
       "      <td>706</td>\n",
       "      <td>0</td>\n",
       "    </tr>\n",
       "    <tr>\n",
       "      <th>1</th>\n",
       "      <td>9600</td>\n",
       "      <td>1262</td>\n",
       "      <td>6</td>\n",
       "      <td>1</td>\n",
       "      <td>1262</td>\n",
       "      <td>0</td>\n",
       "      <td>0</td>\n",
       "      <td>6</td>\n",
       "      <td>0</td>\n",
       "      <td>2</td>\n",
       "      <td>8</td>\n",
       "      <td>978</td>\n",
       "      <td>0</td>\n",
       "    </tr>\n",
       "    <tr>\n",
       "      <th>2</th>\n",
       "      <td>11250</td>\n",
       "      <td>1786</td>\n",
       "      <td>7</td>\n",
       "      <td>1</td>\n",
       "      <td>920</td>\n",
       "      <td>866</td>\n",
       "      <td>0</td>\n",
       "      <td>6</td>\n",
       "      <td>1</td>\n",
       "      <td>2</td>\n",
       "      <td>5</td>\n",
       "      <td>486</td>\n",
       "      <td>0</td>\n",
       "    </tr>\n",
       "    <tr>\n",
       "      <th>3</th>\n",
       "      <td>9550</td>\n",
       "      <td>1717</td>\n",
       "      <td>7</td>\n",
       "      <td>1</td>\n",
       "      <td>961</td>\n",
       "      <td>756</td>\n",
       "      <td>0</td>\n",
       "      <td>7</td>\n",
       "      <td>1</td>\n",
       "      <td>1</td>\n",
       "      <td>5</td>\n",
       "      <td>216</td>\n",
       "      <td>0</td>\n",
       "    </tr>\n",
       "    <tr>\n",
       "      <th>4</th>\n",
       "      <td>14260</td>\n",
       "      <td>2198</td>\n",
       "      <td>8</td>\n",
       "      <td>1</td>\n",
       "      <td>1145</td>\n",
       "      <td>1053</td>\n",
       "      <td>0</td>\n",
       "      <td>9</td>\n",
       "      <td>1</td>\n",
       "      <td>2</td>\n",
       "      <td>5</td>\n",
       "      <td>655</td>\n",
       "      <td>0</td>\n",
       "    </tr>\n",
       "    <tr>\n",
       "      <th>...</th>\n",
       "      <td>...</td>\n",
       "      <td>...</td>\n",
       "      <td>...</td>\n",
       "      <td>...</td>\n",
       "      <td>...</td>\n",
       "      <td>...</td>\n",
       "      <td>...</td>\n",
       "      <td>...</td>\n",
       "      <td>...</td>\n",
       "      <td>...</td>\n",
       "      <td>...</td>\n",
       "      <td>...</td>\n",
       "      <td>...</td>\n",
       "    </tr>\n",
       "    <tr>\n",
       "      <th>1455</th>\n",
       "      <td>7917</td>\n",
       "      <td>1647</td>\n",
       "      <td>6</td>\n",
       "      <td>1</td>\n",
       "      <td>953</td>\n",
       "      <td>694</td>\n",
       "      <td>0</td>\n",
       "      <td>7</td>\n",
       "      <td>0</td>\n",
       "      <td>2</td>\n",
       "      <td>5</td>\n",
       "      <td>0</td>\n",
       "      <td>0</td>\n",
       "    </tr>\n",
       "    <tr>\n",
       "      <th>1456</th>\n",
       "      <td>13175</td>\n",
       "      <td>2073</td>\n",
       "      <td>6</td>\n",
       "      <td>2</td>\n",
       "      <td>2073</td>\n",
       "      <td>0</td>\n",
       "      <td>0</td>\n",
       "      <td>7</td>\n",
       "      <td>1</td>\n",
       "      <td>2</td>\n",
       "      <td>6</td>\n",
       "      <td>790</td>\n",
       "      <td>163</td>\n",
       "    </tr>\n",
       "    <tr>\n",
       "      <th>1457</th>\n",
       "      <td>9042</td>\n",
       "      <td>2340</td>\n",
       "      <td>7</td>\n",
       "      <td>2</td>\n",
       "      <td>1188</td>\n",
       "      <td>1152</td>\n",
       "      <td>0</td>\n",
       "      <td>9</td>\n",
       "      <td>0</td>\n",
       "      <td>2</td>\n",
       "      <td>9</td>\n",
       "      <td>275</td>\n",
       "      <td>0</td>\n",
       "    </tr>\n",
       "    <tr>\n",
       "      <th>1458</th>\n",
       "      <td>9717</td>\n",
       "      <td>1078</td>\n",
       "      <td>5</td>\n",
       "      <td>0</td>\n",
       "      <td>1078</td>\n",
       "      <td>0</td>\n",
       "      <td>0</td>\n",
       "      <td>5</td>\n",
       "      <td>1</td>\n",
       "      <td>1</td>\n",
       "      <td>6</td>\n",
       "      <td>49</td>\n",
       "      <td>1029</td>\n",
       "    </tr>\n",
       "    <tr>\n",
       "      <th>1459</th>\n",
       "      <td>9937</td>\n",
       "      <td>1256</td>\n",
       "      <td>5</td>\n",
       "      <td>0</td>\n",
       "      <td>1256</td>\n",
       "      <td>0</td>\n",
       "      <td>0</td>\n",
       "      <td>6</td>\n",
       "      <td>1</td>\n",
       "      <td>1</td>\n",
       "      <td>6</td>\n",
       "      <td>830</td>\n",
       "      <td>290</td>\n",
       "    </tr>\n",
       "  </tbody>\n",
       "</table>\n",
       "<p>1460 rows × 13 columns</p>\n",
       "</div>"
      ],
      "text/plain": [
       "      LotArea  GrLivArea  OverallQual  Fireplaces  1stFlrSF  2ndFlrSF  \\\n",
       "0        8450       1710            7           0       856       854   \n",
       "1        9600       1262            6           1      1262         0   \n",
       "2       11250       1786            7           1       920       866   \n",
       "3        9550       1717            7           1       961       756   \n",
       "4       14260       2198            8           1      1145      1053   \n",
       "...       ...        ...          ...         ...       ...       ...   \n",
       "1455     7917       1647            6           1       953       694   \n",
       "1456    13175       2073            6           2      2073         0   \n",
       "1457     9042       2340            7           2      1188      1152   \n",
       "1458     9717       1078            5           0      1078         0   \n",
       "1459     9937       1256            5           0      1256         0   \n",
       "\n",
       "      LowQualFinSF  TotRmsAbvGrd  BsmtFullBath  FullBath  OverallCond  \\\n",
       "0                0             8             1         2            5   \n",
       "1                0             6             0         2            8   \n",
       "2                0             6             1         2            5   \n",
       "3                0             7             1         1            5   \n",
       "4                0             9             1         2            5   \n",
       "...            ...           ...           ...       ...          ...   \n",
       "1455             0             7             0         2            5   \n",
       "1456             0             7             1         2            6   \n",
       "1457             0             9             0         2            9   \n",
       "1458             0             5             1         1            6   \n",
       "1459             0             6             1         1            6   \n",
       "\n",
       "      BsmtFinSF1  BsmtFinSF2  \n",
       "0            706           0  \n",
       "1            978           0  \n",
       "2            486           0  \n",
       "3            216           0  \n",
       "4            655           0  \n",
       "...          ...         ...  \n",
       "1455           0           0  \n",
       "1456         790         163  \n",
       "1457         275           0  \n",
       "1458          49        1029  \n",
       "1459         830         290  \n",
       "\n",
       "[1460 rows x 13 columns]"
      ]
     },
     "execution_count": 122,
     "metadata": {},
     "output_type": "execute_result"
    }
   ],
   "source": [
    "X"
   ]
  },
  {
   "cell_type": "code",
   "execution_count": 123,
   "id": "cc3d2f22",
   "metadata": {},
   "outputs": [
    {
     "data": {
      "text/plain": [
       "0       208500\n",
       "1       181500\n",
       "2       223500\n",
       "3       140000\n",
       "4       250000\n",
       "         ...  \n",
       "1455    175000\n",
       "1456    210000\n",
       "1457    266500\n",
       "1458    142125\n",
       "1459    147500\n",
       "Name: SalePrice, Length: 1460, dtype: int64"
      ]
     },
     "execution_count": 123,
     "metadata": {},
     "output_type": "execute_result"
    }
   ],
   "source": [
    "y"
   ]
  },
  {
   "cell_type": "code",
   "execution_count": 124,
   "id": "2f5c454f",
   "metadata": {},
   "outputs": [
    {
     "name": "stdout",
     "output_type": "stream",
     "text": [
      "Quedaron seleccionadas:\n"
     ]
    },
    {
     "data": {
      "text/plain": [
       "['OverallQual',\n",
       " 'GrLivArea',\n",
       " 'BsmtFinSF1',\n",
       " '1stFlrSF',\n",
       " 'LotArea',\n",
       " 'BsmtFullBath',\n",
       " 'FullBath',\n",
       " '2ndFlrSF']"
      ]
     },
     "execution_count": 124,
     "metadata": {},
     "output_type": "execute_result"
    }
   ],
   "source": [
    "VARIABLES_ELEGIDAS = forward_selection(data = X,\n",
    "                                       target = y,\n",
    "                                       significance_level = 0.01)\n",
    "print(\"Quedaron seleccionadas:\")\n",
    "VARIABLES_ELEGIDAS"
   ]
  },
  {
   "cell_type": "code",
   "execution_count": 125,
   "id": "f714b41a",
   "metadata": {},
   "outputs": [
    {
     "name": "stdout",
     "output_type": "stream",
     "text": [
      "De 13 features, se seleccionaron 8\n"
     ]
    }
   ],
   "source": [
    "print('De ' + str(X.shape[1]) + ' features, se seleccionaron ' + str(len(VARIABLES_ELEGIDAS))) "
   ]
  },
  {
   "cell_type": "code",
   "execution_count": 126,
   "id": "80d7404a",
   "metadata": {},
   "outputs": [
    {
     "name": "stdout",
     "output_type": "stream",
     "text": [
      "Quedaron afuera:\n"
     ]
    },
    {
     "data": {
      "text/plain": [
       "['Fireplaces', 'LowQualFinSF', 'TotRmsAbvGrd', 'OverallCond', 'BsmtFinSF2']"
      ]
     },
     "execution_count": 126,
     "metadata": {},
     "output_type": "execute_result"
    }
   ],
   "source": [
    "print(\"Quedaron afuera:\")\n",
    "elementos_no_en_lista = [x for x in X.columns if x not in VARIABLES_ELEGIDAS]\n",
    "elementos_no_en_lista"
   ]
  },
  {
   "cell_type": "markdown",
   "id": "2092efef",
   "metadata": {},
   "source": [
    "# Estudiemos el paso a paso:"
   ]
  },
  {
   "cell_type": "code",
   "execution_count": 19,
   "id": "3c1825bf",
   "metadata": {},
   "outputs": [],
   "source": [
    "initial_features = X.columns.tolist()\n",
    "best_features = []"
   ]
  },
  {
   "cell_type": "code",
   "execution_count": 20,
   "id": "a686b701",
   "metadata": {},
   "outputs": [
    {
     "data": {
      "text/plain": [
       "['LotArea', 'GrLivArea', 'OverallQual', 'Fireplaces']"
      ]
     },
     "execution_count": 20,
     "metadata": {},
     "output_type": "execute_result"
    }
   ],
   "source": [
    "initial_features"
   ]
  },
  {
   "cell_type": "code",
   "execution_count": 21,
   "id": "9db828b3",
   "metadata": {},
   "outputs": [
    {
     "data": {
      "text/plain": [
       "[]"
      ]
     },
     "execution_count": 21,
     "metadata": {},
     "output_type": "execute_result"
    }
   ],
   "source": [
    "best_features"
   ]
  },
  {
   "cell_type": "code",
   "execution_count": 22,
   "id": "942c444c",
   "metadata": {},
   "outputs": [
    {
     "data": {
      "text/plain": [
       "4"
      ]
     },
     "execution_count": 22,
     "metadata": {},
     "output_type": "execute_result"
    }
   ],
   "source": [
    "len(initial_features)"
   ]
  },
  {
   "cell_type": "code",
   "execution_count": 24,
   "id": "22a24fb9",
   "metadata": {},
   "outputs": [
    {
     "data": {
      "text/plain": [
       "['LotArea', 'GrLivArea', 'Fireplaces', 'OverallQual']"
      ]
     },
     "execution_count": 24,
     "metadata": {},
     "output_type": "execute_result"
    }
   ],
   "source": [
    "remaining_features = list(set(initial_features)-set(best_features))\n",
    "remaining_features"
   ]
  },
  {
   "cell_type": "code",
   "execution_count": 31,
   "id": "c573820a",
   "metadata": {},
   "outputs": [
    {
     "data": {
      "text/plain": [
       "LotArea       NaN\n",
       "GrLivArea     NaN\n",
       "Fireplaces    NaN\n",
       "OverallQual   NaN\n",
       "dtype: float64"
      ]
     },
     "execution_count": 31,
     "metadata": {},
     "output_type": "execute_result"
    }
   ],
   "source": [
    "new_pval = pd.Series(dtype='float64',\n",
    "                     index = remaining_features)\n",
    "new_pval"
   ]
  },
  {
   "cell_type": "code",
   "execution_count": 36,
   "id": "7987912c",
   "metadata": {},
   "outputs": [],
   "source": [
    "for new_column in remaining_features:\n",
    "            model = sm.OLS(y, sm.add_constant(X[best_features+[new_column]])).fit()\n",
    "            new_pval[new_column] = model.pvalues[new_column]\n"
   ]
  },
  {
   "cell_type": "code",
   "execution_count": 37,
   "id": "56707237",
   "metadata": {},
   "outputs": [
    {
     "data": {
      "text/plain": [
       "LotArea         1.123139e-24\n",
       "GrLivArea      4.518034e-223\n",
       "Fireplaces      6.141487e-80\n",
       "OverallQual    2.185675e-313\n",
       "dtype: float64"
      ]
     },
     "execution_count": 37,
     "metadata": {},
     "output_type": "execute_result"
    }
   ],
   "source": [
    "new_pval"
   ]
  },
  {
   "cell_type": "code",
   "execution_count": 39,
   "id": "5f4569a2",
   "metadata": {},
   "outputs": [
    {
     "data": {
      "text/plain": [
       "2.185675268e-313"
      ]
     },
     "execution_count": 39,
     "metadata": {},
     "output_type": "execute_result"
    }
   ],
   "source": [
    "min_p_value = new_pval.min()\n",
    "min_p_value"
   ]
  },
  {
   "cell_type": "code",
   "execution_count": 42,
   "id": "ad937cc2",
   "metadata": {},
   "outputs": [],
   "source": [
    "if(min_p_value<0.01):\n",
    "            best_features.append(new_pval.idxmin())"
   ]
  },
  {
   "cell_type": "code",
   "execution_count": 43,
   "id": "04bf4e92",
   "metadata": {},
   "outputs": [
    {
     "data": {
      "text/plain": [
       "['OverallQual']"
      ]
     },
     "execution_count": 43,
     "metadata": {},
     "output_type": "execute_result"
    }
   ],
   "source": [
    "best_features"
   ]
  },
  {
   "cell_type": "markdown",
   "id": "56c61432",
   "metadata": {},
   "source": [
    "# Con librerías de Python: "
   ]
  },
  {
   "cell_type": "raw",
   "id": "4de956c5",
   "metadata": {},
   "source": [
    "# Con librerías de Python: \n",
    "!pip install mlxtend "
   ]
  },
  {
   "cell_type": "markdown",
   "id": "a837f65c",
   "metadata": {},
   "source": [
    "La función SequentialFeatureSelector() acepta los siguientes argumentos principales:\n",
    "\n",
    "* LinearRegression() es un estimador de todo el proceso. Del mismo modo, puede ser cualquier algoritmo basado en clasificación.\n",
    "\n",
    "* k_features indica el número de características que se seleccionarán. Puede ser cualquier valor aleatorio, pero el valor óptimo se puede encontrar analizando y visualizando las puntuaciones para diferentes números de características.\n",
    "\n",
    "* argumentos hacia adelante y flotantes forward = Verdadero y floating = Falso son para la técnica de selección hacia adelante.\n",
    "\n",
    "* El argumento de puntuación especifica el criterio de evaluación que se utilizará. Para problemas de regresión, solo hay una puntuación  r2  en la implementación predeterminada. De manera similar, para la clasificación, puede ser exactitud, precisión, recuperación, puntaje f1, etc.\n",
    "\n",
    "* El argumento cv es para la validación cruzada usando k-fold."
   ]
  },
  {
   "cell_type": "code",
   "execution_count": 112,
   "id": "22f00422",
   "metadata": {},
   "outputs": [],
   "source": [
    "sfs = SFS(LinearRegression(),\n",
    "          k_features = 9,\n",
    "          forward = True,\n",
    "          floating = False,\n",
    "          scoring = 'r2',\n",
    "          cv = 0)"
   ]
  },
  {
   "cell_type": "code",
   "execution_count": 113,
   "id": "42f56a6b",
   "metadata": {},
   "outputs": [
    {
     "data": {
      "text/plain": [
       "('LotArea',\n",
       " 'GrLivArea',\n",
       " 'OverallQual',\n",
       " 'Fireplaces',\n",
       " '1stFlrSF',\n",
       " '2ndFlrSF',\n",
       " 'BsmtFullBath',\n",
       " 'FullBath',\n",
       " 'BsmtFinSF1')"
      ]
     },
     "execution_count": 113,
     "metadata": {},
     "output_type": "execute_result"
    }
   ],
   "source": [
    "sfs.fit(X, y)\n",
    "sfs.k_feature_names_"
   ]
  },
  {
   "cell_type": "code",
   "execution_count": 114,
   "id": "5086f7d7",
   "metadata": {},
   "outputs": [
    {
     "name": "stdout",
     "output_type": "stream",
     "text": [
      "Distintas:\n",
      "En proceso anterior pero NO en este:\n",
      "[]\n",
      "En este proceso pero NO en anterior:\n",
      "['Fireplaces']\n"
     ]
    }
   ],
   "source": [
    "print(\"Distintas:\")\n",
    "print(\"En proceso anterior pero NO en este:\")\n",
    "distintas = [x for x in VARIABLES_ELEGIDAS if x not in sfs.k_feature_names_]\n",
    "print(distintas)\n",
    "print(\"En este proceso pero NO en anterior:\")\n",
    "distintas = [x for x in sfs.k_feature_names_ if x not in VARIABLES_ELEGIDAS]\n",
    "print(distintas)"
   ]
  }
 ],
 "metadata": {
  "kernelspec": {
   "display_name": "Python 3 (ipykernel)",
   "language": "python",
   "name": "python3"
  },
  "language_info": {
   "codemirror_mode": {
    "name": "ipython",
    "version": 3
   },
   "file_extension": ".py",
   "mimetype": "text/x-python",
   "name": "python",
   "nbconvert_exporter": "python",
   "pygments_lexer": "ipython3",
   "version": "3.11.4"
  }
 },
 "nbformat": 4,
 "nbformat_minor": 5
}
