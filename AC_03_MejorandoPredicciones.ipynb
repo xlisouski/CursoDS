{
 "cells": [
  {
   "cell_type": "code",
   "execution_count": 1,
   "id": "281c88e4",
   "metadata": {},
   "outputs": [],
   "source": [
    "import pandas as pd\n",
    "import numpy as np\n",
    "import matplotlib as mpl\n",
    "import matplotlib.pyplot as plt\n",
    "import seaborn as sns\n",
    "# Librerías para arboles de decision \n",
    "from sklearn.tree import DecisionTreeClassifier\n",
    "from sklearn import tree\n",
    "from sklearn.tree import DecisionTreeClassifier, plot_tree\n",
    "# Librerias para regresión logística\n",
    "import statsmodels.api as sm\n",
    "import statsmodels.formula.api as smf\n",
    "# Libreria para trabajar cadenas de texto\n",
    "import re"
   ]
  },
  {
   "cell_type": "code",
   "execution_count": 2,
   "id": "6fea89ba",
   "metadata": {},
   "outputs": [],
   "source": [
    "url = 'https://raw.githubusercontent.com/xlisouski/DataCoder/main/Titanic.csv'\n",
    "df = pd.read_csv(url, sep = ',')"
   ]
  },
  {
   "cell_type": "code",
   "execution_count": 3,
   "id": "65672735",
   "metadata": {},
   "outputs": [
    {
     "data": {
      "text/html": [
       "<div>\n",
       "<style scoped>\n",
       "    .dataframe tbody tr th:only-of-type {\n",
       "        vertical-align: middle;\n",
       "    }\n",
       "\n",
       "    .dataframe tbody tr th {\n",
       "        vertical-align: top;\n",
       "    }\n",
       "\n",
       "    .dataframe thead th {\n",
       "        text-align: right;\n",
       "    }\n",
       "</style>\n",
       "<table border=\"1\" class=\"dataframe\">\n",
       "  <thead>\n",
       "    <tr style=\"text-align: right;\">\n",
       "      <th></th>\n",
       "      <th>PassengerId</th>\n",
       "      <th>Survived</th>\n",
       "      <th>Pclass</th>\n",
       "      <th>Name</th>\n",
       "      <th>Sex</th>\n",
       "      <th>Age</th>\n",
       "      <th>SibSp</th>\n",
       "      <th>Parch</th>\n",
       "      <th>Ticket</th>\n",
       "      <th>Fare</th>\n",
       "      <th>Cabin</th>\n",
       "      <th>Embarked</th>\n",
       "    </tr>\n",
       "  </thead>\n",
       "  <tbody>\n",
       "    <tr>\n",
       "      <th>0</th>\n",
       "      <td>1</td>\n",
       "      <td>0</td>\n",
       "      <td>3</td>\n",
       "      <td>Braund, Mr. Owen Harris</td>\n",
       "      <td>male</td>\n",
       "      <td>22.0</td>\n",
       "      <td>1</td>\n",
       "      <td>0</td>\n",
       "      <td>A/5 21171</td>\n",
       "      <td>7.2500</td>\n",
       "      <td>NaN</td>\n",
       "      <td>S</td>\n",
       "    </tr>\n",
       "    <tr>\n",
       "      <th>1</th>\n",
       "      <td>2</td>\n",
       "      <td>1</td>\n",
       "      <td>1</td>\n",
       "      <td>Cumings, Mrs. John Bradley (Florence Briggs Th...</td>\n",
       "      <td>female</td>\n",
       "      <td>38.0</td>\n",
       "      <td>1</td>\n",
       "      <td>0</td>\n",
       "      <td>PC 17599</td>\n",
       "      <td>71.2833</td>\n",
       "      <td>C85</td>\n",
       "      <td>C</td>\n",
       "    </tr>\n",
       "    <tr>\n",
       "      <th>2</th>\n",
       "      <td>3</td>\n",
       "      <td>1</td>\n",
       "      <td>3</td>\n",
       "      <td>Heikkinen, Miss. Laina</td>\n",
       "      <td>female</td>\n",
       "      <td>26.0</td>\n",
       "      <td>0</td>\n",
       "      <td>0</td>\n",
       "      <td>STON/O2. 3101282</td>\n",
       "      <td>7.9250</td>\n",
       "      <td>NaN</td>\n",
       "      <td>S</td>\n",
       "    </tr>\n",
       "    <tr>\n",
       "      <th>3</th>\n",
       "      <td>4</td>\n",
       "      <td>1</td>\n",
       "      <td>1</td>\n",
       "      <td>Futrelle, Mrs. Jacques Heath (Lily May Peel)</td>\n",
       "      <td>female</td>\n",
       "      <td>35.0</td>\n",
       "      <td>1</td>\n",
       "      <td>0</td>\n",
       "      <td>113803</td>\n",
       "      <td>53.1000</td>\n",
       "      <td>C123</td>\n",
       "      <td>S</td>\n",
       "    </tr>\n",
       "    <tr>\n",
       "      <th>4</th>\n",
       "      <td>5</td>\n",
       "      <td>0</td>\n",
       "      <td>3</td>\n",
       "      <td>Allen, Mr. William Henry</td>\n",
       "      <td>male</td>\n",
       "      <td>35.0</td>\n",
       "      <td>0</td>\n",
       "      <td>0</td>\n",
       "      <td>373450</td>\n",
       "      <td>8.0500</td>\n",
       "      <td>NaN</td>\n",
       "      <td>S</td>\n",
       "    </tr>\n",
       "  </tbody>\n",
       "</table>\n",
       "</div>"
      ],
      "text/plain": [
       "   PassengerId  Survived  Pclass  \\\n",
       "0            1         0       3   \n",
       "1            2         1       1   \n",
       "2            3         1       3   \n",
       "3            4         1       1   \n",
       "4            5         0       3   \n",
       "\n",
       "                                                Name     Sex   Age  SibSp  \\\n",
       "0                            Braund, Mr. Owen Harris    male  22.0      1   \n",
       "1  Cumings, Mrs. John Bradley (Florence Briggs Th...  female  38.0      1   \n",
       "2                             Heikkinen, Miss. Laina  female  26.0      0   \n",
       "3       Futrelle, Mrs. Jacques Heath (Lily May Peel)  female  35.0      1   \n",
       "4                           Allen, Mr. William Henry    male  35.0      0   \n",
       "\n",
       "   Parch            Ticket     Fare Cabin Embarked  \n",
       "0      0         A/5 21171   7.2500   NaN        S  \n",
       "1      0          PC 17599  71.2833   C85        C  \n",
       "2      0  STON/O2. 3101282   7.9250   NaN        S  \n",
       "3      0            113803  53.1000  C123        S  \n",
       "4      0            373450   8.0500   NaN        S  "
      ]
     },
     "execution_count": 3,
     "metadata": {},
     "output_type": "execute_result"
    }
   ],
   "source": [
    "df.head()"
   ]
  },
  {
   "cell_type": "code",
   "execution_count": 4,
   "id": "33c53fb2",
   "metadata": {},
   "outputs": [
    {
     "data": {
      "text/plain": [
       "False    891\n",
       "Name: Age_Completa, dtype: int64"
      ]
     },
     "execution_count": 4,
     "metadata": {},
     "output_type": "execute_result"
    }
   ],
   "source": [
    "# Antes de entrenar, completo valores vacíos de la variable edad: \n",
    "edad_mediana = df['Age'].median()\n",
    "df['Age_Completa'] = df['Age'].fillna(edad_mediana,\n",
    "                                      inplace = False)\n",
    "df['Age_Completa'].isnull().value_counts()"
   ]
  },
  {
   "cell_type": "code",
   "execution_count": 5,
   "id": "34d2352e",
   "metadata": {},
   "outputs": [],
   "source": [
    "# Genero predictores: SEX\n",
    "sexo_sup = df[['Survived','Sex']].groupby(by=['Sex']).mean().reset_index()\n",
    "sexo_sup.rename(columns={'Survived': 'Sex_Surv'}, inplace=True)\n",
    "df = df.merge(sexo_sup,\n",
    "              left_on = 'Sex',\n",
    "              right_on = 'Sex',\n",
    "              how = 'left')"
   ]
  },
  {
   "cell_type": "code",
   "execution_count": 6,
   "id": "14d94059",
   "metadata": {},
   "outputs": [],
   "source": [
    "pclass_sup = df[['Survived','Pclass']].groupby(by=['Pclass']).mean().reset_index()\n",
    "pclass_sup.rename(columns={'Survived': 'Pclass_Surv'}, inplace=True)\n",
    "df = df.merge(pclass_sup,\n",
    "              left_on = 'Pclass',\n",
    "              right_on = 'Pclass',\n",
    "              how = 'left')"
   ]
  },
  {
   "cell_type": "markdown",
   "id": "3266c8de",
   "metadata": {},
   "source": [
    "# Modelo Base"
   ]
  },
  {
   "cell_type": "code",
   "execution_count": 7,
   "id": "d738eb79",
   "metadata": {},
   "outputs": [
    {
     "name": "stdout",
     "output_type": "stream",
     "text": [
      "Optimization terminated successfully.\n",
      "         Current function value: 0.452392\n",
      "         Iterations 6\n",
      "\n",
      "Coeficientes:\n",
      "Intercept      -3.7744\n",
      "Sex_Surv        4.7150\n",
      "Pclass_Surv     5.9027\n",
      "Age_Completa   -0.0325\n",
      "dtype: float64\n",
      "\n",
      "P-Values:\n",
      "Intercept       0.000000\n",
      "Sex_Surv        0.000000\n",
      "Pclass_Surv     0.000000\n",
      "Age_Completa    0.000009\n",
      "dtype: float64\n"
     ]
    }
   ],
   "source": [
    "# Genero el modelo\n",
    "formula = \"Survived ~ Sex_Surv + Pclass_Surv + Age_Completa\"\n",
    "reg_log = smf.logit(formula, data = df).fit()\n",
    "\n",
    "# Ver coeficientes y p valores\n",
    "coeficientes = reg_log.params\n",
    "pvalores = reg_log.pvalues\n",
    "print(\"\")\n",
    "print(\"Coeficientes:\")\n",
    "print(coeficientes.round(4))\n",
    "print(\"\")\n",
    "print(\"P-Values:\")\n",
    "print(pvalores.round(6))"
   ]
  },
  {
   "cell_type": "code",
   "execution_count": 9,
   "id": "a26658cf",
   "metadata": {},
   "outputs": [],
   "source": [
    "# Predicciones \n",
    "df['Predict_Prob_RegLog_1'] = reg_log.predict(df)"
   ]
  },
  {
   "cell_type": "code",
   "execution_count": 10,
   "id": "b79eed91",
   "metadata": {},
   "outputs": [],
   "source": [
    "# Groupby por prediccion de decil: \n",
    "bin_edges = [0.0, 0.1, 0.2, 0.3, 0.4, 0.5, 0.6, 0.7, 0.8, 0.9, 1.0]\n",
    "bin_labels = range(1, 11)\n",
    "df['Predict_RegLog_Bin_1'] = pd.cut(df['Predict_Prob_RegLog_1'], \n",
    "                                  bins=bin_edges, \n",
    "                                  labels=bin_labels, \n",
    "                                  include_lowest=True)"
   ]
  },
  {
   "cell_type": "code",
   "execution_count": 11,
   "id": "eec93b8f",
   "metadata": {},
   "outputs": [
    {
     "data": {
      "text/html": [
       "<div>\n",
       "<style scoped>\n",
       "    .dataframe tbody tr th:only-of-type {\n",
       "        vertical-align: middle;\n",
       "    }\n",
       "\n",
       "    .dataframe tbody tr th {\n",
       "        vertical-align: top;\n",
       "    }\n",
       "\n",
       "    .dataframe thead th {\n",
       "        text-align: right;\n",
       "    }\n",
       "</style>\n",
       "<table border=\"1\" class=\"dataframe\">\n",
       "  <thead>\n",
       "    <tr style=\"text-align: right;\">\n",
       "      <th></th>\n",
       "      <th>Predict_RegLog_Bin_1</th>\n",
       "      <th>Cant</th>\n",
       "      <th>Cant_Sup</th>\n",
       "      <th>Tasa_Sup</th>\n",
       "    </tr>\n",
       "  </thead>\n",
       "  <tbody>\n",
       "    <tr>\n",
       "      <th>0</th>\n",
       "      <td>1</td>\n",
       "      <td>245</td>\n",
       "      <td>30</td>\n",
       "      <td>0.122449</td>\n",
       "    </tr>\n",
       "    <tr>\n",
       "      <th>1</th>\n",
       "      <td>2</td>\n",
       "      <td>127</td>\n",
       "      <td>20</td>\n",
       "      <td>0.157480</td>\n",
       "    </tr>\n",
       "    <tr>\n",
       "      <th>2</th>\n",
       "      <td>3</td>\n",
       "      <td>80</td>\n",
       "      <td>9</td>\n",
       "      <td>0.112500</td>\n",
       "    </tr>\n",
       "    <tr>\n",
       "      <th>3</th>\n",
       "      <td>4</td>\n",
       "      <td>50</td>\n",
       "      <td>12</td>\n",
       "      <td>0.240000</td>\n",
       "    </tr>\n",
       "    <tr>\n",
       "      <th>4</th>\n",
       "      <td>5</td>\n",
       "      <td>76</td>\n",
       "      <td>34</td>\n",
       "      <td>0.447368</td>\n",
       "    </tr>\n",
       "    <tr>\n",
       "      <th>5</th>\n",
       "      <td>6</td>\n",
       "      <td>81</td>\n",
       "      <td>43</td>\n",
       "      <td>0.530864</td>\n",
       "    </tr>\n",
       "    <tr>\n",
       "      <th>6</th>\n",
       "      <td>7</td>\n",
       "      <td>44</td>\n",
       "      <td>24</td>\n",
       "      <td>0.545455</td>\n",
       "    </tr>\n",
       "    <tr>\n",
       "      <th>7</th>\n",
       "      <td>8</td>\n",
       "      <td>39</td>\n",
       "      <td>27</td>\n",
       "      <td>0.692308</td>\n",
       "    </tr>\n",
       "    <tr>\n",
       "      <th>8</th>\n",
       "      <td>9</td>\n",
       "      <td>79</td>\n",
       "      <td>75</td>\n",
       "      <td>0.949367</td>\n",
       "    </tr>\n",
       "    <tr>\n",
       "      <th>9</th>\n",
       "      <td>10</td>\n",
       "      <td>70</td>\n",
       "      <td>68</td>\n",
       "      <td>0.971429</td>\n",
       "    </tr>\n",
       "  </tbody>\n",
       "</table>\n",
       "</div>"
      ],
      "text/plain": [
       "  Predict_RegLog_Bin_1  Cant  Cant_Sup  Tasa_Sup\n",
       "0                    1   245        30  0.122449\n",
       "1                    2   127        20  0.157480\n",
       "2                    3    80         9  0.112500\n",
       "3                    4    50        12  0.240000\n",
       "4                    5    76        34  0.447368\n",
       "5                    6    81        43  0.530864\n",
       "6                    7    44        24  0.545455\n",
       "7                    8    39        27  0.692308\n",
       "8                    9    79        75  0.949367\n",
       "9                   10    70        68  0.971429"
      ]
     },
     "execution_count": 11,
     "metadata": {},
     "output_type": "execute_result"
    }
   ],
   "source": [
    "resultados_nodo = df.groupby('Predict_RegLog_Bin_1').agg(     \n",
    "    Cant = ('Predict_RegLog_Bin_1', 'count'),              \n",
    "    Cant_Sup = ('Survived', 'sum'),            \n",
    "    Tasa_Sup = ('Survived', 'mean')    \n",
    ").reset_index()\n",
    "resultados_nodo"
   ]
  },
  {
   "cell_type": "code",
   "execution_count": 12,
   "id": "399d855b",
   "metadata": {},
   "outputs": [
    {
     "data": {
      "text/plain": [
       "Text(0.5, 1.0, 'Tasa de supervivencia según Estimación 1')"
      ]
     },
     "execution_count": 12,
     "metadata": {},
     "output_type": "execute_result"
    },
    {
     "data": {
      "image/png": "[encoded data removed]",
      "text/plain": [
       "<Figure size 640x480 with 1 Axes>"
      ]
     },
     "metadata": {},
     "output_type": "display_data"
    }
   ],
   "source": [
    "# Barplot por nodo \n",
    "resultados_nodo['Tasa_NoSup'] = (1 - resultados_nodo['Tasa_Sup'])\n",
    "sns.barplot(data = resultados_nodo,\n",
    "            x = 'Predict_RegLog_Bin_1',\n",
    "            y = 'Tasa_Sup', \n",
    "            label = 'Porcentaje Supervivencia',\n",
    "            color = '#48E074')\n",
    "sns.barplot(data=resultados_nodo, \n",
    "            x = 'Predict_RegLog_Bin_1', \n",
    "            y = 'Tasa_NoSup', \n",
    "            bottom=resultados_nodo['Tasa_Sup'], \n",
    "            label = 'Porcentaje No Supervivencia',\n",
    "            color = '#E04848')\n",
    "plt.title('Tasa de supervivencia según Estimación 1')"
   ]
  },
  {
   "cell_type": "code",
   "execution_count": 13,
   "id": "99475669",
   "metadata": {},
   "outputs": [
    {
     "data": {
      "text/plain": [
       "Text(0.5, 1.0, 'Distribución de personas según Estimación')"
      ]
     },
     "execution_count": 13,
     "metadata": {},
     "output_type": "execute_result"
    },
    {
     "data": {
      "image/png": "[encoded data removed]",
      "text/plain": [
       "<Figure size 640x480 with 1 Axes>"
      ]
     },
     "metadata": {},
     "output_type": "display_data"
    }
   ],
   "source": [
    "# Distribución\n",
    "sns.barplot(data = resultados_nodo,\n",
    "            x = 'Predict_RegLog_Bin_1',\n",
    "            y = 'Cant',\n",
    "           color = '#48ABE0')\n",
    "plt.title('Distribución de personas según Estimación')"
   ]
  },
  {
   "cell_type": "markdown",
   "id": "d7358300",
   "metadata": {},
   "source": [
    "# Modelo 2\n",
    "Vamos a intentar incorporar más variables. "
   ]
  },
  {
   "cell_type": "code",
   "execution_count": 14,
   "id": "f1e95740",
   "metadata": {},
   "outputs": [
    {
     "data": {
      "text/html": [
       "<div>\n",
       "<style scoped>\n",
       "    .dataframe tbody tr th:only-of-type {\n",
       "        vertical-align: middle;\n",
       "    }\n",
       "\n",
       "    .dataframe tbody tr th {\n",
       "        vertical-align: top;\n",
       "    }\n",
       "\n",
       "    .dataframe thead th {\n",
       "        text-align: right;\n",
       "    }\n",
       "</style>\n",
       "<table border=\"1\" class=\"dataframe\">\n",
       "  <thead>\n",
       "    <tr style=\"text-align: right;\">\n",
       "      <th></th>\n",
       "      <th>Contiene_Master</th>\n",
       "      <th>Cant</th>\n",
       "      <th>Cant_Sup</th>\n",
       "      <th>Tasa_Sup</th>\n",
       "    </tr>\n",
       "  </thead>\n",
       "  <tbody>\n",
       "    <tr>\n",
       "      <th>0</th>\n",
       "      <td>0</td>\n",
       "      <td>851</td>\n",
       "      <td>319</td>\n",
       "      <td>0.374853</td>\n",
       "    </tr>\n",
       "    <tr>\n",
       "      <th>1</th>\n",
       "      <td>1</td>\n",
       "      <td>40</td>\n",
       "      <td>23</td>\n",
       "      <td>0.575000</td>\n",
       "    </tr>\n",
       "  </tbody>\n",
       "</table>\n",
       "</div>"
      ],
      "text/plain": [
       "   Contiene_Master  Cant  Cant_Sup  Tasa_Sup\n",
       "0                0   851       319  0.374853\n",
       "1                1    40        23  0.575000"
      ]
     },
     "execution_count": 14,
     "metadata": {},
     "output_type": "execute_result"
    }
   ],
   "source": [
    "# Genero variable Contiene_Master\n",
    "df['Contiene_Master'] = np.where(df['Name'].str.contains(pat = 'Master.',regex = True) == True,1,0)\n",
    "resultados_var = df.groupby('Contiene_Master').agg(     \n",
    "    Cant = ('Contiene_Master', 'count'),              \n",
    "    Cant_Sup = ('Survived', 'sum'),            \n",
    "    Tasa_Sup = ('Survived', 'mean')    \n",
    ").reset_index()\n",
    "resultados_var"
   ]
  },
  {
   "cell_type": "code",
   "execution_count": 15,
   "id": "f04229a8",
   "metadata": {},
   "outputs": [
    {
     "data": {
      "text/plain": [
       "False    891\n",
       "Name: Fare_Completa, dtype: int64"
      ]
     },
     "execution_count": 15,
     "metadata": {},
     "output_type": "execute_result"
    }
   ],
   "source": [
    "# Relleno la variable fare\n",
    "fare_mediana = df['Fare'].median()\n",
    "df['Fare_Completa'] = df['Fare'].fillna(fare_mediana,\n",
    "                                      inplace = False)\n",
    "df['Fare_Completa'].isnull().value_counts()"
   ]
  },
  {
   "cell_type": "code",
   "execution_count": 22,
   "id": "9ff89b43",
   "metadata": {},
   "outputs": [
    {
     "data": {
      "text/plain": [
       "<Axes: xlabel='PassengerId', ylabel='Fare'>"
      ]
     },
     "execution_count": 22,
     "metadata": {},
     "output_type": "execute_result"
    },
    {
     "data": {
      "image/png": "[encoded data removed]",
      "text/plain": [
       "<Figure size 640x480 with 1 Axes>"
      ]
     },
     "metadata": {},
     "output_type": "display_data"
    }
   ],
   "source": [
    "# Grafico para visualizar outliers\n",
    "plt.figure()\n",
    "sns.scatterplot(data = df,\n",
    "                x = 'PassengerId',\n",
    "                y = 'Fare')"
   ]
  },
  {
   "cell_type": "code",
   "execution_count": 24,
   "id": "35c7c5fc",
   "metadata": {},
   "outputs": [
    {
     "data": {
      "text/plain": [
       "<Axes: xlabel='PassengerId', ylabel='Fare_Topeada'>"
      ]
     },
     "execution_count": 24,
     "metadata": {},
     "output_type": "execute_result"
    },
    {
     "data": {
      "image/png": "[encoded data removed]",
      "text/plain": [
       "<Figure size 640x480 with 1 Axes>"
      ]
     },
     "metadata": {},
     "output_type": "display_data"
    }
   ],
   "source": [
    "# Tratamiento de outlier\n",
    "df['Fare_Topeada'] = np.where(df['Fare_Completa'] > 100,100,df['Fare_Completa'])\n",
    "# Con tratamiento y todo, no me convencen los resultados así que la descarto igual. \n",
    "# Grafico para visualizar outliers\n",
    "plt.figure()\n",
    "sns.scatterplot(data = df,\n",
    "                x = 'PassengerId',\n",
    "                y = 'Fare_Topeada')"
   ]
  },
  {
   "cell_type": "code",
   "execution_count": 34,
   "id": "af7f77e3",
   "metadata": {},
   "outputs": [],
   "source": [
    "# Transformo la edad en logaritmo \n",
    "df['Age_LOG'] = np.log((df['Age_Completa'] + 1))\n",
    "# mmmm no me convence"
   ]
  },
  {
   "cell_type": "code",
   "execution_count": 43,
   "id": "6e95ff1d",
   "metadata": {},
   "outputs": [],
   "source": [
    "# Genero predictores por grupos de edad\n",
    "bin_edges = [0, 5, 15, 60, 200]\n",
    "bin_labels = range(1, 5)\n",
    "df['Age_BIN'] = pd.cut(df['Age_Completa'], \n",
    "                                  bins=bin_edges, \n",
    "                                  labels=bin_labels, \n",
    "                                  include_lowest=True)\n"
   ]
  },
  {
   "cell_type": "code",
   "execution_count": 44,
   "id": "fcd42e7b",
   "metadata": {},
   "outputs": [
    {
     "data": {
      "text/html": [
       "<div>\n",
       "<style scoped>\n",
       "    .dataframe tbody tr th:only-of-type {\n",
       "        vertical-align: middle;\n",
       "    }\n",
       "\n",
       "    .dataframe tbody tr th {\n",
       "        vertical-align: top;\n",
       "    }\n",
       "\n",
       "    .dataframe thead th {\n",
       "        text-align: right;\n",
       "    }\n",
       "</style>\n",
       "<table border=\"1\" class=\"dataframe\">\n",
       "  <thead>\n",
       "    <tr style=\"text-align: right;\">\n",
       "      <th></th>\n",
       "      <th>Age_BIN</th>\n",
       "      <th>Survived</th>\n",
       "    </tr>\n",
       "  </thead>\n",
       "  <tbody>\n",
       "    <tr>\n",
       "      <th>0</th>\n",
       "      <td>1</td>\n",
       "      <td>0.704545</td>\n",
       "    </tr>\n",
       "    <tr>\n",
       "      <th>1</th>\n",
       "      <td>2</td>\n",
       "      <td>0.461538</td>\n",
       "    </tr>\n",
       "    <tr>\n",
       "      <th>2</th>\n",
       "      <td>3</td>\n",
       "      <td>0.366412</td>\n",
       "    </tr>\n",
       "    <tr>\n",
       "      <th>3</th>\n",
       "      <td>4</td>\n",
       "      <td>0.227273</td>\n",
       "    </tr>\n",
       "  </tbody>\n",
       "</table>\n",
       "</div>"
      ],
      "text/plain": [
       "  Age_BIN  Survived\n",
       "0       1  0.704545\n",
       "1       2  0.461538\n",
       "2       3  0.366412\n",
       "3       4  0.227273"
      ]
     },
     "execution_count": 44,
     "metadata": {},
     "output_type": "execute_result"
    }
   ],
   "source": [
    "EDAD_SUP = df[['Survived','Age_BIN']].groupby(by=['Age_BIN']).mean().reset_index()\n",
    "EDAD_SUP"
   ]
  },
  {
   "cell_type": "code",
   "execution_count": 46,
   "id": "be2f5247",
   "metadata": {},
   "outputs": [],
   "source": [
    "EDAD_SUP.rename(columns={'Survived': 'Age_Surv'}, inplace=True)\n",
    "df = df.merge(EDAD_SUP,\n",
    "              left_on = 'Age_BIN',\n",
    "              right_on = 'Age_BIN',\n",
    "              how = 'left')"
   ]
  },
  {
   "cell_type": "code",
   "execution_count": 47,
   "id": "d456c952",
   "metadata": {},
   "outputs": [
    {
     "data": {
      "text/html": [
       "<div>\n",
       "<style scoped>\n",
       "    .dataframe tbody tr th:only-of-type {\n",
       "        vertical-align: middle;\n",
       "    }\n",
       "\n",
       "    .dataframe tbody tr th {\n",
       "        vertical-align: top;\n",
       "    }\n",
       "\n",
       "    .dataframe thead th {\n",
       "        text-align: right;\n",
       "    }\n",
       "</style>\n",
       "<table border=\"1\" class=\"dataframe\">\n",
       "  <thead>\n",
       "    <tr style=\"text-align: right;\">\n",
       "      <th></th>\n",
       "      <th>PassengerId</th>\n",
       "      <th>Survived</th>\n",
       "      <th>Pclass</th>\n",
       "      <th>Name</th>\n",
       "      <th>Sex</th>\n",
       "      <th>Age</th>\n",
       "      <th>SibSp</th>\n",
       "      <th>Parch</th>\n",
       "      <th>Ticket</th>\n",
       "      <th>Fare</th>\n",
       "      <th>...</th>\n",
       "      <th>Predict_Prob_RegLog_1</th>\n",
       "      <th>Predict_RegLog_Bin_1</th>\n",
       "      <th>Contiene_Master</th>\n",
       "      <th>Fare_Completa</th>\n",
       "      <th>Predict_Prob_RegLog_2</th>\n",
       "      <th>Predict_RegLog_Bin_2</th>\n",
       "      <th>Fare_Topeada</th>\n",
       "      <th>Age_LOG</th>\n",
       "      <th>Age_BIN</th>\n",
       "      <th>Age_Surv</th>\n",
       "    </tr>\n",
       "  </thead>\n",
       "  <tbody>\n",
       "    <tr>\n",
       "      <th>0</th>\n",
       "      <td>1</td>\n",
       "      <td>0</td>\n",
       "      <td>3</td>\n",
       "      <td>Braund, Mr. Owen Harris</td>\n",
       "      <td>male</td>\n",
       "      <td>22.0</td>\n",
       "      <td>1</td>\n",
       "      <td>0</td>\n",
       "      <td>A/5 21171</td>\n",
       "      <td>7.2500</td>\n",
       "      <td>...</td>\n",
       "      <td>0.102615</td>\n",
       "      <td>2</td>\n",
       "      <td>0</td>\n",
       "      <td>7.2500</td>\n",
       "      <td>0.068722</td>\n",
       "      <td>1</td>\n",
       "      <td>7.2500</td>\n",
       "      <td>3.135494</td>\n",
       "      <td>3</td>\n",
       "      <td>0.366412</td>\n",
       "    </tr>\n",
       "    <tr>\n",
       "      <th>1</th>\n",
       "      <td>2</td>\n",
       "      <td>1</td>\n",
       "      <td>1</td>\n",
       "      <td>Cumings, Mrs. John Bradley (Florence Briggs Th...</td>\n",
       "      <td>female</td>\n",
       "      <td>38.0</td>\n",
       "      <td>1</td>\n",
       "      <td>0</td>\n",
       "      <td>PC 17599</td>\n",
       "      <td>71.2833</td>\n",
       "      <td>...</td>\n",
       "      <td>0.900712</td>\n",
       "      <td>10</td>\n",
       "      <td>0</td>\n",
       "      <td>71.2833</td>\n",
       "      <td>0.916696</td>\n",
       "      <td>10</td>\n",
       "      <td>71.2833</td>\n",
       "      <td>3.663562</td>\n",
       "      <td>3</td>\n",
       "      <td>0.366412</td>\n",
       "    </tr>\n",
       "    <tr>\n",
       "      <th>2</th>\n",
       "      <td>3</td>\n",
       "      <td>1</td>\n",
       "      <td>3</td>\n",
       "      <td>Heikkinen, Miss. Laina</td>\n",
       "      <td>female</td>\n",
       "      <td>26.0</td>\n",
       "      <td>0</td>\n",
       "      <td>0</td>\n",
       "      <td>STON/O2. 3101282</td>\n",
       "      <td>7.9250</td>\n",
       "      <td>...</td>\n",
       "      <td>0.576751</td>\n",
       "      <td>6</td>\n",
       "      <td>0</td>\n",
       "      <td>7.9250</td>\n",
       "      <td>0.565452</td>\n",
       "      <td>6</td>\n",
       "      <td>7.9250</td>\n",
       "      <td>3.295837</td>\n",
       "      <td>3</td>\n",
       "      <td>0.366412</td>\n",
       "    </tr>\n",
       "    <tr>\n",
       "      <th>3</th>\n",
       "      <td>4</td>\n",
       "      <td>1</td>\n",
       "      <td>1</td>\n",
       "      <td>Futrelle, Mrs. Jacques Heath (Lily May Peel)</td>\n",
       "      <td>female</td>\n",
       "      <td>35.0</td>\n",
       "      <td>1</td>\n",
       "      <td>0</td>\n",
       "      <td>113803</td>\n",
       "      <td>53.1000</td>\n",
       "      <td>...</td>\n",
       "      <td>0.909101</td>\n",
       "      <td>10</td>\n",
       "      <td>0</td>\n",
       "      <td>53.1000</td>\n",
       "      <td>0.918058</td>\n",
       "      <td>10</td>\n",
       "      <td>53.1000</td>\n",
       "      <td>3.583519</td>\n",
       "      <td>3</td>\n",
       "      <td>0.366412</td>\n",
       "    </tr>\n",
       "    <tr>\n",
       "      <th>4</th>\n",
       "      <td>5</td>\n",
       "      <td>0</td>\n",
       "      <td>3</td>\n",
       "      <td>Allen, Mr. William Henry</td>\n",
       "      <td>male</td>\n",
       "      <td>35.0</td>\n",
       "      <td>0</td>\n",
       "      <td>0</td>\n",
       "      <td>373450</td>\n",
       "      <td>8.0500</td>\n",
       "      <td>...</td>\n",
       "      <td>0.069705</td>\n",
       "      <td>1</td>\n",
       "      <td>0</td>\n",
       "      <td>8.0500</td>\n",
       "      <td>0.062554</td>\n",
       "      <td>1</td>\n",
       "      <td>8.0500</td>\n",
       "      <td>3.583519</td>\n",
       "      <td>3</td>\n",
       "      <td>0.366412</td>\n",
       "    </tr>\n",
       "  </tbody>\n",
       "</table>\n",
       "<p>5 rows × 25 columns</p>\n",
       "</div>"
      ],
      "text/plain": [
       "   PassengerId  Survived  Pclass  \\\n",
       "0            1         0       3   \n",
       "1            2         1       1   \n",
       "2            3         1       3   \n",
       "3            4         1       1   \n",
       "4            5         0       3   \n",
       "\n",
       "                                                Name     Sex   Age  SibSp  \\\n",
       "0                            Braund, Mr. Owen Harris    male  22.0      1   \n",
       "1  Cumings, Mrs. John Bradley (Florence Briggs Th...  female  38.0      1   \n",
       "2                             Heikkinen, Miss. Laina  female  26.0      0   \n",
       "3       Futrelle, Mrs. Jacques Heath (Lily May Peel)  female  35.0      1   \n",
       "4                           Allen, Mr. William Henry    male  35.0      0   \n",
       "\n",
       "   Parch            Ticket     Fare  ... Predict_Prob_RegLog_1  \\\n",
       "0      0         A/5 21171   7.2500  ...              0.102615   \n",
       "1      0          PC 17599  71.2833  ...              0.900712   \n",
       "2      0  STON/O2. 3101282   7.9250  ...              0.576751   \n",
       "3      0            113803  53.1000  ...              0.909101   \n",
       "4      0            373450   8.0500  ...              0.069705   \n",
       "\n",
       "  Predict_RegLog_Bin_1  Contiene_Master  Fare_Completa  Predict_Prob_RegLog_2  \\\n",
       "0                    2                0         7.2500               0.068722   \n",
       "1                   10                0        71.2833               0.916696   \n",
       "2                    6                0         7.9250               0.565452   \n",
       "3                   10                0        53.1000               0.918058   \n",
       "4                    1                0         8.0500               0.062554   \n",
       "\n",
       "   Predict_RegLog_Bin_2 Fare_Topeada   Age_LOG  Age_BIN  Age_Surv  \n",
       "0                     1       7.2500  3.135494        3  0.366412  \n",
       "1                    10      71.2833  3.663562        3  0.366412  \n",
       "2                     6       7.9250  3.295837        3  0.366412  \n",
       "3                    10      53.1000  3.583519        3  0.366412  \n",
       "4                     1       8.0500  3.583519        3  0.366412  \n",
       "\n",
       "[5 rows x 25 columns]"
      ]
     },
     "execution_count": 47,
     "metadata": {},
     "output_type": "execute_result"
    }
   ],
   "source": [
    "df.head()"
   ]
  },
  {
   "cell_type": "code",
   "execution_count": 48,
   "id": "c69cbbd3",
   "metadata": {},
   "outputs": [
    {
     "name": "stdout",
     "output_type": "stream",
     "text": [
      "Optimization terminated successfully.\n",
      "         Current function value: 0.436945\n",
      "         Iterations 6\n",
      "\n",
      "Coeficientes:\n",
      "Intercept         -5.5846\n",
      "Sex_Surv           5.2583\n",
      "Pclass_Surv        5.6133\n",
      "Age_Surv           1.5760\n",
      "Contiene_Master    2.2262\n",
      "dtype: float64\n",
      "\n",
      "P-Values:\n",
      "Intercept          0.000000\n",
      "Sex_Surv           0.000000\n",
      "Pclass_Surv        0.000000\n",
      "Age_Surv           0.206224\n",
      "Contiene_Master    0.000001\n",
      "dtype: float64\n"
     ]
    }
   ],
   "source": [
    "# Genero el modelo\n",
    "formula = \"Survived ~ Sex_Surv + Pclass_Surv + Age_Surv + Contiene_Master\"\n",
    "reg_log_2 = smf.logit(formula, data = df).fit()\n",
    "\n",
    "# Ver coeficientes y p valores\n",
    "coeficientes = reg_log_2.params\n",
    "pvalores = reg_log_2.pvalues\n",
    "print(\"\")\n",
    "print(\"Coeficientes:\")\n",
    "print(coeficientes.round(4))\n",
    "print(\"\")\n",
    "print(\"P-Values:\")\n",
    "print(pvalores.round(6))"
   ]
  },
  {
   "cell_type": "code",
   "execution_count": 49,
   "id": "5615155e",
   "metadata": {},
   "outputs": [],
   "source": [
    "# Predicciones \n",
    "df['Predict_Prob_RegLog_2'] = reg_log_2.predict(df)"
   ]
  },
  {
   "cell_type": "code",
   "execution_count": 50,
   "id": "47bd64a7",
   "metadata": {},
   "outputs": [],
   "source": [
    "# Groupby por prediccion de decil: \n",
    "bin_edges = [0.0, 0.1, 0.2, 0.3, 0.4, 0.5, 0.6, 0.7, 0.8, 0.9, 1.0]\n",
    "bin_labels = range(1, 11)\n",
    "df['Predict_RegLog_Bin_2'] = pd.cut(df['Predict_Prob_RegLog_2'], \n",
    "                                  bins=bin_edges, \n",
    "                                  labels=bin_labels, \n",
    "                                  include_lowest=True)"
   ]
  },
  {
   "cell_type": "code",
   "execution_count": 51,
   "id": "426f61b3",
   "metadata": {},
   "outputs": [
    {
     "data": {
      "text/html": [
       "<div>\n",
       "<style scoped>\n",
       "    .dataframe tbody tr th:only-of-type {\n",
       "        vertical-align: middle;\n",
       "    }\n",
       "\n",
       "    .dataframe tbody tr th {\n",
       "        vertical-align: top;\n",
       "    }\n",
       "\n",
       "    .dataframe thead th {\n",
       "        text-align: right;\n",
       "    }\n",
       "</style>\n",
       "<table border=\"1\" class=\"dataframe\">\n",
       "  <thead>\n",
       "    <tr style=\"text-align: right;\">\n",
       "      <th></th>\n",
       "      <th>Predict_RegLog_Bin_2</th>\n",
       "      <th>Cant</th>\n",
       "      <th>Cant_Sup</th>\n",
       "      <th>Tasa_Sup</th>\n",
       "    </tr>\n",
       "  </thead>\n",
       "  <tbody>\n",
       "    <tr>\n",
       "      <th>0</th>\n",
       "      <td>1</td>\n",
       "      <td>319</td>\n",
       "      <td>36</td>\n",
       "      <td>0.112853</td>\n",
       "    </tr>\n",
       "    <tr>\n",
       "      <th>1</th>\n",
       "      <td>2</td>\n",
       "      <td>3</td>\n",
       "      <td>1</td>\n",
       "      <td>0.333333</td>\n",
       "    </tr>\n",
       "    <tr>\n",
       "      <th>2</th>\n",
       "      <td>3</td>\n",
       "      <td>96</td>\n",
       "      <td>7</td>\n",
       "      <td>0.072917</td>\n",
       "    </tr>\n",
       "    <tr>\n",
       "      <th>3</th>\n",
       "      <td>4</td>\n",
       "      <td>123</td>\n",
       "      <td>44</td>\n",
       "      <td>0.357724</td>\n",
       "    </tr>\n",
       "    <tr>\n",
       "      <th>4</th>\n",
       "      <td>5</td>\n",
       "      <td>11</td>\n",
       "      <td>4</td>\n",
       "      <td>0.363636</td>\n",
       "    </tr>\n",
       "    <tr>\n",
       "      <th>5</th>\n",
       "      <td>6</td>\n",
       "      <td>142</td>\n",
       "      <td>66</td>\n",
       "      <td>0.464789</td>\n",
       "    </tr>\n",
       "    <tr>\n",
       "      <th>6</th>\n",
       "      <td>7</td>\n",
       "      <td>15</td>\n",
       "      <td>11</td>\n",
       "      <td>0.733333</td>\n",
       "    </tr>\n",
       "    <tr>\n",
       "      <th>7</th>\n",
       "      <td>8</td>\n",
       "      <td>1</td>\n",
       "      <td>1</td>\n",
       "      <td>1.000000</td>\n",
       "    </tr>\n",
       "    <tr>\n",
       "      <th>8</th>\n",
       "      <td>9</td>\n",
       "      <td>85</td>\n",
       "      <td>79</td>\n",
       "      <td>0.929412</td>\n",
       "    </tr>\n",
       "    <tr>\n",
       "      <th>9</th>\n",
       "      <td>10</td>\n",
       "      <td>96</td>\n",
       "      <td>93</td>\n",
       "      <td>0.968750</td>\n",
       "    </tr>\n",
       "  </tbody>\n",
       "</table>\n",
       "</div>"
      ],
      "text/plain": [
       "  Predict_RegLog_Bin_2  Cant  Cant_Sup  Tasa_Sup\n",
       "0                    1   319        36  0.112853\n",
       "1                    2     3         1  0.333333\n",
       "2                    3    96         7  0.072917\n",
       "3                    4   123        44  0.357724\n",
       "4                    5    11         4  0.363636\n",
       "5                    6   142        66  0.464789\n",
       "6                    7    15        11  0.733333\n",
       "7                    8     1         1  1.000000\n",
       "8                    9    85        79  0.929412\n",
       "9                   10    96        93  0.968750"
      ]
     },
     "execution_count": 51,
     "metadata": {},
     "output_type": "execute_result"
    }
   ],
   "source": [
    "resultados_nodo = df.groupby('Predict_RegLog_Bin_2').agg(     \n",
    "    Cant = ('Survived', 'count'),              \n",
    "    Cant_Sup = ('Survived', 'sum'),            \n",
    "    Tasa_Sup = ('Survived', 'mean')    \n",
    ").reset_index()\n",
    "resultados_nodo"
   ]
  },
  {
   "cell_type": "code",
   "execution_count": 52,
   "id": "439098cb",
   "metadata": {},
   "outputs": [
    {
     "data": {
      "text/plain": [
       "Text(0.5, 1.0, 'Tasa de supervivencia según Estimación 2')"
      ]
     },
     "execution_count": 52,
     "metadata": {},
     "output_type": "execute_result"
    },
    {
     "data": {
      "image/png": "[encoded data removed]",
      "text/plain": [
       "<Figure size 640x480 with 1 Axes>"
      ]
     },
     "metadata": {},
     "output_type": "display_data"
    }
   ],
   "source": [
    "# Barplot por nodo \n",
    "resultados_nodo['Tasa_NoSup'] = (1 - resultados_nodo['Tasa_Sup'])\n",
    "sns.barplot(data = resultados_nodo,\n",
    "            x = 'Predict_RegLog_Bin_2',\n",
    "            y = 'Tasa_Sup', \n",
    "            label = 'Porcentaje Supervivencia',\n",
    "            color = '#48E074')\n",
    "sns.barplot(data=resultados_nodo, \n",
    "            x = 'Predict_RegLog_Bin_2', \n",
    "            y = 'Tasa_NoSup', \n",
    "            bottom=resultados_nodo['Tasa_Sup'], \n",
    "            label = 'Porcentaje No Supervivencia',\n",
    "            color = '#E04848')\n",
    "plt.title('Tasa de supervivencia según Estimación 2')"
   ]
  },
  {
   "cell_type": "code",
   "execution_count": 53,
   "id": "b06ebfc9",
   "metadata": {},
   "outputs": [
    {
     "data": {
      "text/plain": [
       "Text(0.5, 1.0, 'Distribución de personas según Estimación 2')"
      ]
     },
     "execution_count": 53,
     "metadata": {},
     "output_type": "execute_result"
    },
    {
     "data": {
      "image/png": "[encoded data removed]",
      "text/plain": [
       "<Figure size 640x480 with 1 Axes>"
      ]
     },
     "metadata": {},
     "output_type": "display_data"
    }
   ],
   "source": [
    "# Distribución\n",
    "sns.barplot(data = resultados_nodo,\n",
    "            x = 'Predict_RegLog_Bin_2',\n",
    "            y = 'Cant',\n",
    "           color = '#48ABE0')\n",
    "plt.title('Distribución de personas según Estimación 2')"
   ]
  }
 ],
 "metadata": {
  "kernelspec": {
   "display_name": "Python 3 (ipykernel)",
   "language": "python",
   "name": "python3"
  },
  "language_info": {
   "codemirror_mode": {
    "name": "ipython",
    "version": 3
   },
   "file_extension": ".py",
   "mimetype": "text/x-python",
   "name": "python",
   "nbconvert_exporter": "python",
   "pygments_lexer": "ipython3",
   "version": "3.11.4"
  }
 },
 "nbformat": 4,
 "nbformat_minor": 5
}
