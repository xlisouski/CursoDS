{
 "cells": [
  {
   "cell_type": "markdown",
   "id": "e02ee073",
   "metadata": {},
   "source": [
    "# Pandas II"
   ]
  },
  {
   "cell_type": "markdown",
   "id": "d3f0ba1a",
   "metadata": {},
   "source": [
    "## Primera exploración\n",
    "\n",
    "Lo primero que uno tiene que hacer cuando recibe un dataset es explorar qué contiene: ser curiosos! \n",
    "\n",
    "Algunas preguntas que pueden resultar interesantes: \n",
    "1. ¿Cómo son las primeras filas de este data set? \n",
    "2. ¿Cómo son los nombres de columnas? \n",
    "3. ¿Qué tipos de datos contiene cada columna? ¿Están todos bien? \n",
    "4. ¿Hay valores nulos? ¿Los completo? \n",
    "5. ¿Los datos son coherentes? Por ejemplo, si estoy trabajando con una variable que la edad de un individuo, los valores son siempre positivos? Tienen un límite máximo? \n",
    "6. ¿Hay coherencia entre grupos de datos? Por ejemplo, si estoy trabajando con un datasets que contiene niños en edad escolar diferenciados según si están estudiando primerio o secundario, la edad promedio de primario es menor a la edad promedio de secundario? "
   ]
  },
  {
   "cell_type": "markdown",
   "id": "e949f9cd",
   "metadata": {},
   "source": [
    "## Ejemplo: explorando un dataset"
   ]
  },
  {
   "cell_type": "code",
   "execution_count": 3,
   "id": "6cf8a48e",
   "metadata": {},
   "outputs": [
    {
     "name": "stdout",
     "output_type": "stream",
     "text": [
      "   0    1   2   3    4     5      6   7  8\n",
      "0  6  148  72  35    0  33.6  0.627  50  1\n",
      "1  1   85  66  29    0  26.6  0.351  31  0\n",
      "2  8  183  64   0    0  23.3  0.672  32  1\n",
      "3  1   89  66  23   94  28.1  0.167  21  0\n",
      "4  0  137  40  35  168  43.1  2.288  33  1\n"
     ]
    }
   ],
   "source": [
    "import pandas as pd\n",
    "import numpy as np\n",
    "url='https://raw.githubusercontent.com/jbrownlee/Datasets/master/pima-indians-diabetes.csv'\n",
    "df= pd.read_csv(url,sep=',', header=None)\n",
    "print(df.head())"
   ]
  },
  {
   "cell_type": "code",
   "execution_count": null,
   "id": "cc8b9781",
   "metadata": {},
   "outputs": [],
   "source": [
    "print(df.shape)"
   ]
  },
  {
   "cell_type": "markdown",
   "id": "7cce5200",
   "metadata": {},
   "source": [
    "## Qué significan las variables? \n",
    "\n",
    "### Variables incorporadas\n",
    "\n",
    "0. Numero de veces embarazada (NEMB).\n",
    "1. Concentracion de plasma de glucosa (GLU) \n",
    "2. Presion arterial diastolica en mm Hg (PART).\n",
    "3. Grosor de piel en triceps en mm (GROS).\n",
    "4. 2-Hour serum insulin en mu U/ml (HUR).\n",
    "5. BMI (peso kg/(altura en m)^2 en (BMI).\n",
    "6. Funcion de prediccion de Diabetes (FPRED)\n",
    "7. Edad (años)  (AGE).\n",
    "8. Variable de clase (0 or 1)  (CLASS)."
   ]
  },
  {
   "cell_type": "code",
   "execution_count": 4,
   "id": "8f04949d",
   "metadata": {},
   "outputs": [],
   "source": [
    "# Renombramos las columnas\n",
    "nombres_columnas = {0: \"NEMB\", \n",
    "                    1: \"GLU\", \n",
    "                    2: \"PART\",\n",
    "                    3:\"GROS\",\n",
    "                    4:\"HUR\",\n",
    "                    5:\"BMI\",\n",
    "                    6:\"FPRED\",\n",
    "                    7:\"AGE\",\n",
    "                    8:\"CLASS\"}"
   ]
  },
  {
   "cell_type": "code",
   "execution_count": 5,
   "id": "9110ab72",
   "metadata": {},
   "outputs": [
    {
     "name": "stdout",
     "output_type": "stream",
     "text": [
      "   NEMB  GLU  PART  GROS  HUR   BMI  FPRED  AGE  CLASS\n",
      "0     6  148    72    35    0  33.6  0.627   50      1\n",
      "1     1   85    66    29    0  26.6  0.351   31      0\n",
      "2     8  183    64     0    0  23.3  0.672   32      1\n",
      "3     1   89    66    23   94  28.1  0.167   21      0\n",
      "4     0  137    40    35  168  43.1  2.288   33      1\n"
     ]
    }
   ],
   "source": [
    "df = df.rename(columns = nombres_columnas)\n",
    "print(df.head())"
   ]
  },
  {
   "cell_type": "markdown",
   "id": "606fc31a",
   "metadata": {},
   "source": [
    "## Un poco de manipulación de datos"
   ]
  },
  {
   "cell_type": "code",
   "execution_count": null,
   "id": "9783dc17",
   "metadata": {},
   "outputs": [],
   "source": [
    "# Cómo hago si solo quiero analizar las personas mayores a 25 años? \n",
    "filtro_aplicar = df['AGE'] > 25\n",
    "print(filtro_aplicar)"
   ]
  },
  {
   "cell_type": "code",
   "execution_count": null,
   "id": "be4bf2b8",
   "metadata": {},
   "outputs": [],
   "source": [
    "df_mas25 = df.loc[filtro_aplicar,:]\n",
    "print(df_mas25)"
   ]
  },
  {
   "cell_type": "code",
   "execution_count": null,
   "id": "86062e6e",
   "metadata": {},
   "outputs": [],
   "source": [
    "# Directo en la misma sentencia: \n",
    "df_mas25 = df.loc[df['AGE'] > 25,:]\n",
    "print(df_mas25)"
   ]
  },
  {
   "cell_type": "code",
   "execution_count": null,
   "id": "077eae7a",
   "metadata": {},
   "outputs": [],
   "source": [
    "# Y si quiero elegir algunas columnas? \n",
    "print(df.loc[:,['AGE','HUR']])"
   ]
  },
  {
   "cell_type": "code",
   "execution_count": null,
   "id": "cb1b78d4",
   "metadata": {},
   "outputs": [],
   "source": [
    "# Y si quiero aplicar filtro y elegir columnas a la vez? \n",
    "filtro = df['AGE'] > 25\n",
    "print(df.loc[filtro,['AGE','HUR']])"
   ]
  },
  {
   "cell_type": "code",
   "execution_count": null,
   "id": "40f4c7ca",
   "metadata": {},
   "outputs": [],
   "source": [
    "# Y si quiero aplicar varios filtros a la vez? \n",
    "filtro_1 = df['AGE'] > 25\n",
    "filtro_2 = df['HUR'] < 150\n",
    "print(df.loc[(filtro_1) & (filtro_2),['AGE','HUR']])\n"
   ]
  },
  {
   "cell_type": "code",
   "execution_count": null,
   "id": "81ba5bcd",
   "metadata": {},
   "outputs": [],
   "source": [
    "# Y si quiero aplicar varios que ocurra una cosa o la otra? \n",
    "filtro_1 = df['AGE'] > 25\n",
    "filtro_2 = df['HUR'] < 150\n",
    "print(df.loc[(filtro_1) | (filtro_2),['AGE','HUR']])"
   ]
  },
  {
   "cell_type": "markdown",
   "id": "735e9800",
   "metadata": {},
   "source": [
    "## Arrancando a explorar nulos"
   ]
  },
  {
   "cell_type": "code",
   "execution_count": null,
   "id": "ba520a09",
   "metadata": {},
   "outputs": [],
   "source": [
    "# Usando el método info() para resumir el dataset\n",
    "print(df.info())"
   ]
  },
  {
   "cell_type": "code",
   "execution_count": null,
   "id": "db195612",
   "metadata": {},
   "outputs": [],
   "source": [
    "# Aparentemente no hay nulos, verifiquemos: \n",
    "print(df.isnull().sum())"
   ]
  },
  {
   "cell_type": "code",
   "execution_count": null,
   "id": "cc680a60",
   "metadata": {},
   "outputs": [],
   "source": [
    "# Usando el método describe() para explorar el dataset:\n",
    "print(df.describe())"
   ]
  },
  {
   "cell_type": "code",
   "execution_count": null,
   "id": "b3d2f4f2",
   "metadata": {},
   "outputs": [],
   "source": [
    "# Vemos muchos ceros en variables que no tiene sentido\n",
    "nun_missing = (df[['GLU','PART','GROS','HUR','BMI']] == 0).sum()\n",
    "print(nun_missing)"
   ]
  },
  {
   "cell_type": "code",
   "execution_count": null,
   "id": "152c6cd4",
   "metadata": {},
   "outputs": [],
   "source": [
    "# Para darle tratamiento como nulo, reemplazamos los '0' con 'nan'\n",
    "df[['GLU','PART','GROS','HUR','BMI']] = df[['GLU','PART','GROS','HUR','BMI']].replace(0, np.nan)\n",
    "# Cuántos nulos me quedaron en cada variable?\n",
    "print(df.isnull().sum())"
   ]
  },
  {
   "cell_type": "markdown",
   "id": "ca8892ba",
   "metadata": {},
   "source": [
    "## Tratamiento de nulos\n",
    "Al momento de trabajar con datos nulos, hay varias opciones: \n",
    "1. Eliminar del dataset todas las filas que contienen algún nulo (no suele ser lo mejor, pero en algún caso puede ser conveniente)\n",
    "2. Imputar los nulos con algún valor (puede ser valor aleatorio, métrica, o resultado de algún modelo para nulos):\n",
    "    * Forma manual: calculando la métrica que me interese para el reemplazo, e indicando que cada vez que aparezca un nulo inserte ese valor (por ejemplo, reemplazar con la media de la variable)\n",
    "    * SimpleImputer: es una clase de preprocesamiento de la librería Scikit-learn que se usa para el manejo de datos faltantes. "
   ]
  },
  {
   "cell_type": "markdown",
   "id": "8fc0b4a9",
   "metadata": {},
   "source": [
    "### Caso 1: Eliminar registros con datos nulos "
   ]
  },
  {
   "cell_type": "code",
   "execution_count": null,
   "id": "426e7855",
   "metadata": {},
   "outputs": [],
   "source": [
    "# Usar el método dropna: \n",
    "# El parámetro inplace se utiliza para especificar si deseas que la operación de eliminación \n",
    "# de valores faltantes se realice directamente en el DataFrame original \n",
    "# o si deseas que se cree un nuevo DataFrame con los valores faltantes eliminados.\n",
    "df_eliminado = df.dropna(inplace = False)\n",
    "# ¿Cómo quedó el dataframe?\n",
    "print(df_eliminado.shape)\n",
    "print(df.shape)"
   ]
  },
  {
   "cell_type": "markdown",
   "id": "9a5715de",
   "metadata": {},
   "source": [
    "### Caso 2: Reemplazar de forma manual"
   ]
  },
  {
   "cell_type": "code",
   "execution_count": null,
   "id": "68a5ff68",
   "metadata": {},
   "outputs": [],
   "source": [
    "# Vamos a elegir el promedio de cada columna para reemplazar \n",
    "promedios = df.mean()\n",
    "print(promedios)"
   ]
  },
  {
   "cell_type": "code",
   "execution_count": null,
   "id": "371beaa1",
   "metadata": {},
   "outputs": [],
   "source": [
    "# Uso el método fillna para reemplazar: \n",
    "df_reempl = df.fillna(promedios,\n",
    "                      inplace = False)"
   ]
  },
  {
   "cell_type": "code",
   "execution_count": null,
   "id": "7b518046",
   "metadata": {},
   "outputs": [],
   "source": [
    "print(df_reempl.head())\n",
    "print(df.head())"
   ]
  },
  {
   "cell_type": "markdown",
   "id": "7c38bd3d",
   "metadata": {},
   "source": [
    "### Caso 3: Reemplazar usando SimpleImputer"
   ]
  },
  {
   "cell_type": "code",
   "execution_count": null,
   "id": "c53bfaf4",
   "metadata": {},
   "outputs": [],
   "source": [
    "# Antes que nada, abro las librerías:\n",
    "from sklearn.impute import SimpleImputer\n",
    "import numpy as np "
   ]
  },
  {
   "cell_type": "code",
   "execution_count": null,
   "id": "c2c54eaf",
   "metadata": {},
   "outputs": [],
   "source": [
    "# Pasos a seguir:\n",
    "# 1) Crear un numpy array con los valores\n",
    "valores = df.values\n",
    "# 2) Definir el imputador\n",
    "imputador = SimpleImputer(missing_values = np.nan, \n",
    "                          strategy='mean')\n",
    "\n",
    "# Algunas estrategias: \n",
    "# median, \n",
    "# most_frequent, \n",
    "# constant (indicando con el parámetro 'fill_value' el valor a asignar)\n",
    "\n",
    "# 3) Transformar el dataset\n",
    "transformados = imputador.fit_transform(valores)\n",
    "print(type(transformados))"
   ]
  },
  {
   "cell_type": "code",
   "execution_count": null,
   "id": "9f511dbf",
   "metadata": {},
   "outputs": [],
   "source": [
    "# Transformo el ndarray en dataframe \n",
    "transformados = pd.DataFrame(transformados)\n",
    "print(transformados.head().round(2))"
   ]
  },
  {
   "cell_type": "code",
   "execution_count": null,
   "id": "63d90013",
   "metadata": {},
   "outputs": [],
   "source": [
    "# Renombro las columnas \n",
    "transformados = transformados.rename(columns = nombres_columnas)\n",
    "print(transformados)"
   ]
  },
  {
   "cell_type": "markdown",
   "id": "c58d43d7",
   "metadata": {},
   "source": [
    "## Agrupaciones"
   ]
  },
  {
   "cell_type": "code",
   "execution_count": null,
   "id": "236eca3f",
   "metadata": {},
   "outputs": [],
   "source": [
    "print(df.sum())"
   ]
  },
  {
   "cell_type": "code",
   "execution_count": null,
   "id": "04da58f7",
   "metadata": {},
   "outputs": [],
   "source": [
    "print(df[['NEMB','GLU']].mean())"
   ]
  },
  {
   "cell_type": "code",
   "execution_count": null,
   "id": "5f9d859e",
   "metadata": {},
   "outputs": [],
   "source": [
    "print(df[['NEMB','AGE']].median())"
   ]
  },
  {
   "cell_type": "code",
   "execution_count": null,
   "id": "ac2437e2",
   "metadata": {},
   "outputs": [],
   "source": [
    "# Usemos la variable \"CLASS\" para presentar algunas agrupaciones\n",
    "print(df.groupby('CLASS').size())"
   ]
  },
  {
   "cell_type": "code",
   "execution_count": null,
   "id": "6a62e615",
   "metadata": {},
   "outputs": [],
   "source": [
    "# Medidas de agregación que dependen de otras variables\n",
    "print(df.groupby('CLASS')['BMI','AGE','NEMB'].mean())"
   ]
  },
  {
   "cell_type": "code",
   "execution_count": null,
   "id": "bbb510d7",
   "metadata": {},
   "outputs": [],
   "source": [
    "# Varias medidas de agregación \n",
    "agrupaciones = df.groupby('CLASS').agg(\n",
    "    \n",
    "    min_AGE = ('AGE', 'min'),\n",
    "    mean_AGE = ('AGE', 'mean'),\n",
    "    max_AGE = ('AGE', 'max')\n",
    "     \n",
    "     )\n",
    "\n",
    "print(agrupaciones.round())"
   ]
  },
  {
   "cell_type": "code",
   "execution_count": 8,
   "id": "e772acdd",
   "metadata": {},
   "outputs": [
    {
     "name": "stdout",
     "output_type": "stream",
     "text": [
      "  Edad_Agrupada  AGE\n",
      "0         Mayor   50\n",
      "1       Mediana   31\n",
      "2       Mediana   32\n",
      "3         Joven   21\n",
      "4       Mediana   33\n"
     ]
    }
   ],
   "source": [
    "# Generar una nueva variable para agrupar \n",
    "bins = [0,25,45,float('inf')]\n",
    "labels = ['Joven','Mediana','Mayor']\n",
    "df['Edad_Agrupada'] = pd.cut(df['AGE'], \n",
    "                             bins = bins, \n",
    "                             labels = labels, \n",
    "                             right = False)\n",
    "print(df[['Edad_Agrupada','AGE']].head())"
   ]
  },
  {
   "cell_type": "code",
   "execution_count": 9,
   "id": "bc413027",
   "metadata": {},
   "outputs": [
    {
     "name": "stdout",
     "output_type": "stream",
     "text": [
      "                   NEMB        BMI\n",
      "Edad_Agrupada                     \n",
      "Joven          1.493151  30.011416\n",
      "Mediana        4.240385  33.197837\n",
      "Mayor          6.481203  31.484962\n"
     ]
    },
    {
     "name": "stderr",
     "output_type": "stream",
     "text": [
      "C:\\Users\\usernosis\\AppData\\Local\\Temp\\ipykernel_12588\\2134625610.py:4: FutureWarning: Indexing with multiple keys (implicitly converted to a tuple of keys) will be deprecated, use a list instead.\n",
      "  print(df.groupby('Edad_Agrupada')['NEMB','BMI'].mean())\n"
     ]
    }
   ],
   "source": [
    "# Calcular NEMB y BMI promedio por grupo de edad \n",
    "\n",
    "print(df.groupby('Edad_Agrupada')['NEMB','BMI'].mean())\n"
   ]
  },
  {
   "cell_type": "code",
   "execution_count": 13,
   "id": "646ecb0c",
   "metadata": {},
   "outputs": [
    {
     "data": {
      "text/plain": [
       "Edad_Agrupada\n",
       "Joven      0.141553\n",
       "Mediana    0.411058\n",
       "Mayor      0.496241\n",
       "Name: CLASS, dtype: float64"
      ]
     },
     "execution_count": 13,
     "metadata": {},
     "output_type": "execute_result"
    }
   ],
   "source": [
    "# Calcular porcentaje de \"CLASS\" por grupo de edad \n",
    "cantidad = df.groupby('Edad_Agrupada')['CLASS'].count()\n",
    "cantidad_1 = df.groupby('Edad_Agrupada')['CLASS'].sum()\n",
    "cantidad_1 / cantidad"
   ]
  },
  {
   "cell_type": "code",
   "execution_count": 10,
   "id": "70186dfb",
   "metadata": {},
   "outputs": [
    {
     "name": "stdout",
     "output_type": "stream",
     "text": [
      "Edad_Agrupada\n",
      "Joven      0.141553\n",
      "Mediana    0.411058\n",
      "Mayor      0.496241\n",
      "Name: CLASS, dtype: float64\n"
     ]
    }
   ],
   "source": [
    "# Pero más simple: \n",
    "print(df.groupby('Edad_Agrupada')['CLASS'].mean())"
   ]
  }
 ],
 "metadata": {
  "kernelspec": {
   "display_name": "Python 3 (ipykernel)",
   "language": "python",
   "name": "python3"
  },
  "language_info": {
   "codemirror_mode": {
    "name": "ipython",
    "version": 3
   },
   "file_extension": ".py",
   "mimetype": "text/x-python",
   "name": "python",
   "nbconvert_exporter": "python",
   "pygments_lexer": "ipython3",
   "version": "3.11.4"
  }
 },
 "nbformat": 4,
 "nbformat_minor": 5
}
