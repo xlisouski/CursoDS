{
 "cells": [
  {
   "cell_type": "markdown",
   "id": "e02ee073",
   "metadata": {},
   "source": [
    "# Pandas II"
   ]
  },
  {
   "cell_type": "markdown",
   "id": "d3f0ba1a",
   "metadata": {},
   "source": [
    "## Primera exploración\n",
    "\n",
    "Lo primero que uno tiene que hacer cuando recibe un dataset es explorar qué contiene: ser curiosos! \n",
    "\n",
    "Algunas preguntas que pueden resultar interesantes: \n",
    "1. ¿Cómo son las primeras filas de este data set? \n",
    "2. ¿Cómo son los nombres de columnas? \n",
    "3. ¿Qué tipos de datos contiene cada columna? ¿Están todos bien? \n",
    "4. ¿Hay valores nulos? ¿Los completo? \n",
    "5. ¿Los datos son coherentes? Por ejemplo, si estoy trabajando con una variable que la edad de un individuo, los valores son siempre positivos? Tienen un límite máximo? \n",
    "6. ¿Hay coherencia entre grupos de datos? Por ejemplo, si estoy trabajando con un datasets que contiene niños en edad escolar diferenciados según si están estudiando primerio o secundario, la edad promedio de primario es menor a la edad promedio de secundario? "
   ]
  },
  {
   "cell_type": "markdown",
   "id": "e949f9cd",
   "metadata": {},
   "source": [
    "## Ejemplo: explorando un dataset"
   ]
  },
  {
   "cell_type": "code",
   "execution_count": 63,
   "id": "6cf8a48e",
   "metadata": {},
   "outputs": [
    {
     "name": "stdout",
     "output_type": "stream",
     "text": [
      "Inspección de primeras 5 filas: \n",
      "   0    1   2   3    4     5      6   7  8\n",
      "0  6  148  72  35    0  33.6  0.627  50  1\n",
      "1  1   85  66  29    0  26.6  0.351  31  0\n",
      "2  8  183  64   0    0  23.3  0.672  32  1\n",
      "3  1   89  66  23   94  28.1  0.167  21  0\n",
      "4  0  137  40  35  168  43.1  2.288  33  1\n"
     ]
    }
   ],
   "source": [
    "import pandas as pd\n",
    "import numpy as np\n",
    "url='https://raw.githubusercontent.com/jbrownlee/Datasets/master/pima-indians-diabetes.csv'\n",
    "df= pd.read_csv(url,sep=',', header=None)\n",
    "print('Inspección de primeras 5 filas: ')\n",
    "print(df.head())"
   ]
  },
  {
   "cell_type": "code",
   "execution_count": 47,
   "id": "cc8b9781",
   "metadata": {},
   "outputs": [
    {
     "name": "stdout",
     "output_type": "stream",
     "text": [
      "Inspección cantidad de filas y columnas:\n",
      "Cantidad de filas:  768\n",
      "Cantidad de columnas:  9\n"
     ]
    }
   ],
   "source": [
    "print('Inspección cantidad de filas y columnas:')\n",
    "print('Cantidad de filas: ',df.shape[0])\n",
    "print('Cantidad de columnas: ',df.shape[1])"
   ]
  },
  {
   "cell_type": "code",
   "execution_count": 50,
   "id": "d669da1a",
   "metadata": {},
   "outputs": [
    {
     "data": {
      "text/plain": [
       "tuple"
      ]
     },
     "execution_count": 50,
     "metadata": {},
     "output_type": "execute_result"
    }
   ],
   "source": [
    "forma = df.shape\n",
    "type(forma)"
   ]
  },
  {
   "cell_type": "code",
   "execution_count": 54,
   "id": "e0c0f77c",
   "metadata": {},
   "outputs": [
    {
     "data": {
      "text/plain": [
       "(768, 9)"
      ]
     },
     "execution_count": 54,
     "metadata": {},
     "output_type": "execute_result"
    }
   ],
   "source": [
    "forma"
   ]
  },
  {
   "cell_type": "markdown",
   "id": "7cce5200",
   "metadata": {},
   "source": [
    "## Qué significan las variables? \n",
    "\n",
    "### Variables incorporadas\n",
    "\n",
    "0. Numero de veces embarazada (NEMB).\n",
    "1. Concentracion de plasma de glucosa (GLU) \n",
    "2. Presion arterial diastolica en mm Hg (PART).\n",
    "3. Grosor de piel en triceps en mm (GROS).\n",
    "4. 2-Hour serum insulin en mu U/ml (HUR).\n",
    "5. BMI (peso kg/(altura en m)^2 en (BMI).\n",
    "6. Funcion de prediccion de Diabetes (FPRED)\n",
    "7. Edad (años)  (AGE).\n",
    "8. Variable de clase (0 or 1)  (CLASS)."
   ]
  },
  {
   "cell_type": "code",
   "execution_count": 59,
   "id": "8f04949d",
   "metadata": {},
   "outputs": [],
   "source": [
    "# Renombramos las columnas\n",
    "nombres_columnas = {0: \"NEMB\", \n",
    "                    1: \"GLU\", \n",
    "                    2: \"PART\",\n",
    "                    3:\"GROS\",\n",
    "                    4:\"HUR\",\n",
    "                    5:\"BMI\",\n",
    "                    6:\"FPRED\",\n",
    "                    7:\"AGE\",\n",
    "                    8:\"CLASS\"}"
   ]
  },
  {
   "cell_type": "code",
   "execution_count": 60,
   "id": "ad5c2317",
   "metadata": {},
   "outputs": [
    {
     "data": {
      "text/plain": [
       "{0: 'NEMB',\n",
       " 1: 'GLU',\n",
       " 2: 'PART',\n",
       " 3: 'GROS',\n",
       " 4: 'HUR',\n",
       " 5: 'BMI',\n",
       " 6: 'FPRED',\n",
       " 7: 'AGE',\n",
       " 8: 'CLASS'}"
      ]
     },
     "execution_count": 60,
     "metadata": {},
     "output_type": "execute_result"
    }
   ],
   "source": [
    "nombres_columnas"
   ]
  },
  {
   "cell_type": "code",
   "execution_count": 66,
   "id": "9110ab72",
   "metadata": {},
   "outputs": [
    {
     "data": {
      "text/html": [
       "<div>\n",
       "<style scoped>\n",
       "    .dataframe tbody tr th:only-of-type {\n",
       "        vertical-align: middle;\n",
       "    }\n",
       "\n",
       "    .dataframe tbody tr th {\n",
       "        vertical-align: top;\n",
       "    }\n",
       "\n",
       "    .dataframe thead th {\n",
       "        text-align: right;\n",
       "    }\n",
       "</style>\n",
       "<table border=\"1\" class=\"dataframe\">\n",
       "  <thead>\n",
       "    <tr style=\"text-align: right;\">\n",
       "      <th></th>\n",
       "      <th>NEMB</th>\n",
       "      <th>GLU</th>\n",
       "      <th>PART</th>\n",
       "      <th>GROS</th>\n",
       "      <th>HUR</th>\n",
       "      <th>BMI</th>\n",
       "      <th>FPRED</th>\n",
       "      <th>AGE</th>\n",
       "      <th>CLASS</th>\n",
       "    </tr>\n",
       "  </thead>\n",
       "  <tbody>\n",
       "    <tr>\n",
       "      <th>0</th>\n",
       "      <td>6</td>\n",
       "      <td>148</td>\n",
       "      <td>72</td>\n",
       "      <td>35</td>\n",
       "      <td>0</td>\n",
       "      <td>33.6</td>\n",
       "      <td>0.627</td>\n",
       "      <td>50</td>\n",
       "      <td>1</td>\n",
       "    </tr>\n",
       "    <tr>\n",
       "      <th>1</th>\n",
       "      <td>1</td>\n",
       "      <td>85</td>\n",
       "      <td>66</td>\n",
       "      <td>29</td>\n",
       "      <td>0</td>\n",
       "      <td>26.6</td>\n",
       "      <td>0.351</td>\n",
       "      <td>31</td>\n",
       "      <td>0</td>\n",
       "    </tr>\n",
       "    <tr>\n",
       "      <th>2</th>\n",
       "      <td>8</td>\n",
       "      <td>183</td>\n",
       "      <td>64</td>\n",
       "      <td>0</td>\n",
       "      <td>0</td>\n",
       "      <td>23.3</td>\n",
       "      <td>0.672</td>\n",
       "      <td>32</td>\n",
       "      <td>1</td>\n",
       "    </tr>\n",
       "    <tr>\n",
       "      <th>3</th>\n",
       "      <td>1</td>\n",
       "      <td>89</td>\n",
       "      <td>66</td>\n",
       "      <td>23</td>\n",
       "      <td>94</td>\n",
       "      <td>28.1</td>\n",
       "      <td>0.167</td>\n",
       "      <td>21</td>\n",
       "      <td>0</td>\n",
       "    </tr>\n",
       "    <tr>\n",
       "      <th>4</th>\n",
       "      <td>0</td>\n",
       "      <td>137</td>\n",
       "      <td>40</td>\n",
       "      <td>35</td>\n",
       "      <td>168</td>\n",
       "      <td>43.1</td>\n",
       "      <td>2.288</td>\n",
       "      <td>33</td>\n",
       "      <td>1</td>\n",
       "    </tr>\n",
       "  </tbody>\n",
       "</table>\n",
       "</div>"
      ],
      "text/plain": [
       "   NEMB  GLU  PART  GROS  HUR   BMI  FPRED  AGE  CLASS\n",
       "0     6  148    72    35    0  33.6  0.627   50      1\n",
       "1     1   85    66    29    0  26.6  0.351   31      0\n",
       "2     8  183    64     0    0  23.3  0.672   32      1\n",
       "3     1   89    66    23   94  28.1  0.167   21      0\n",
       "4     0  137    40    35  168  43.1  2.288   33      1"
      ]
     },
     "execution_count": 66,
     "metadata": {},
     "output_type": "execute_result"
    }
   ],
   "source": [
    "df = df.rename(columns = nombres_columnas)\n",
    "df.head()"
   ]
  },
  {
   "cell_type": "markdown",
   "id": "606fc31a",
   "metadata": {},
   "source": [
    "## Un poco de manipulación de datos"
   ]
  },
  {
   "cell_type": "code",
   "execution_count": 70,
   "id": "9783dc17",
   "metadata": {},
   "outputs": [
    {
     "name": "stdout",
     "output_type": "stream",
     "text": [
      "0       True\n",
      "1       True\n",
      "2       True\n",
      "3      False\n",
      "4       True\n",
      "       ...  \n",
      "763     True\n",
      "764     True\n",
      "765     True\n",
      "766     True\n",
      "767    False\n",
      "Name: AGE, Length: 768, dtype: bool\n"
     ]
    },
    {
     "data": {
      "text/plain": [
       "pandas.core.series.Series"
      ]
     },
     "execution_count": 70,
     "metadata": {},
     "output_type": "execute_result"
    }
   ],
   "source": [
    "# Cómo hago si solo quiero analizar las personas mayores a 25 años? \n",
    "filtro_aplicar = df['AGE'] > 25\n",
    "print(filtro_aplicar)\n",
    "type(filtro_aplicar)"
   ]
  },
  {
   "cell_type": "code",
   "execution_count": 71,
   "id": "be4bf2b8",
   "metadata": {},
   "outputs": [
    {
     "data": {
      "text/html": [
       "<div>\n",
       "<style scoped>\n",
       "    .dataframe tbody tr th:only-of-type {\n",
       "        vertical-align: middle;\n",
       "    }\n",
       "\n",
       "    .dataframe tbody tr th {\n",
       "        vertical-align: top;\n",
       "    }\n",
       "\n",
       "    .dataframe thead th {\n",
       "        text-align: right;\n",
       "    }\n",
       "</style>\n",
       "<table border=\"1\" class=\"dataframe\">\n",
       "  <thead>\n",
       "    <tr style=\"text-align: right;\">\n",
       "      <th></th>\n",
       "      <th>NEMB</th>\n",
       "      <th>GLU</th>\n",
       "      <th>PART</th>\n",
       "      <th>GROS</th>\n",
       "      <th>HUR</th>\n",
       "      <th>BMI</th>\n",
       "      <th>FPRED</th>\n",
       "      <th>AGE</th>\n",
       "      <th>CLASS</th>\n",
       "    </tr>\n",
       "  </thead>\n",
       "  <tbody>\n",
       "    <tr>\n",
       "      <th>0</th>\n",
       "      <td>6</td>\n",
       "      <td>148</td>\n",
       "      <td>72</td>\n",
       "      <td>35</td>\n",
       "      <td>0</td>\n",
       "      <td>33.6</td>\n",
       "      <td>0.627</td>\n",
       "      <td>50</td>\n",
       "      <td>1</td>\n",
       "    </tr>\n",
       "    <tr>\n",
       "      <th>1</th>\n",
       "      <td>1</td>\n",
       "      <td>85</td>\n",
       "      <td>66</td>\n",
       "      <td>29</td>\n",
       "      <td>0</td>\n",
       "      <td>26.6</td>\n",
       "      <td>0.351</td>\n",
       "      <td>31</td>\n",
       "      <td>0</td>\n",
       "    </tr>\n",
       "    <tr>\n",
       "      <th>2</th>\n",
       "      <td>8</td>\n",
       "      <td>183</td>\n",
       "      <td>64</td>\n",
       "      <td>0</td>\n",
       "      <td>0</td>\n",
       "      <td>23.3</td>\n",
       "      <td>0.672</td>\n",
       "      <td>32</td>\n",
       "      <td>1</td>\n",
       "    </tr>\n",
       "    <tr>\n",
       "      <th>4</th>\n",
       "      <td>0</td>\n",
       "      <td>137</td>\n",
       "      <td>40</td>\n",
       "      <td>35</td>\n",
       "      <td>168</td>\n",
       "      <td>43.1</td>\n",
       "      <td>2.288</td>\n",
       "      <td>33</td>\n",
       "      <td>1</td>\n",
       "    </tr>\n",
       "    <tr>\n",
       "      <th>5</th>\n",
       "      <td>5</td>\n",
       "      <td>116</td>\n",
       "      <td>74</td>\n",
       "      <td>0</td>\n",
       "      <td>0</td>\n",
       "      <td>25.6</td>\n",
       "      <td>0.201</td>\n",
       "      <td>30</td>\n",
       "      <td>0</td>\n",
       "    </tr>\n",
       "    <tr>\n",
       "      <th>...</th>\n",
       "      <td>...</td>\n",
       "      <td>...</td>\n",
       "      <td>...</td>\n",
       "      <td>...</td>\n",
       "      <td>...</td>\n",
       "      <td>...</td>\n",
       "      <td>...</td>\n",
       "      <td>...</td>\n",
       "      <td>...</td>\n",
       "    </tr>\n",
       "    <tr>\n",
       "      <th>762</th>\n",
       "      <td>9</td>\n",
       "      <td>89</td>\n",
       "      <td>62</td>\n",
       "      <td>0</td>\n",
       "      <td>0</td>\n",
       "      <td>22.5</td>\n",
       "      <td>0.142</td>\n",
       "      <td>33</td>\n",
       "      <td>0</td>\n",
       "    </tr>\n",
       "    <tr>\n",
       "      <th>763</th>\n",
       "      <td>10</td>\n",
       "      <td>101</td>\n",
       "      <td>76</td>\n",
       "      <td>48</td>\n",
       "      <td>180</td>\n",
       "      <td>32.9</td>\n",
       "      <td>0.171</td>\n",
       "      <td>63</td>\n",
       "      <td>0</td>\n",
       "    </tr>\n",
       "    <tr>\n",
       "      <th>764</th>\n",
       "      <td>2</td>\n",
       "      <td>122</td>\n",
       "      <td>70</td>\n",
       "      <td>27</td>\n",
       "      <td>0</td>\n",
       "      <td>36.8</td>\n",
       "      <td>0.340</td>\n",
       "      <td>27</td>\n",
       "      <td>0</td>\n",
       "    </tr>\n",
       "    <tr>\n",
       "      <th>765</th>\n",
       "      <td>5</td>\n",
       "      <td>121</td>\n",
       "      <td>72</td>\n",
       "      <td>23</td>\n",
       "      <td>112</td>\n",
       "      <td>26.2</td>\n",
       "      <td>0.245</td>\n",
       "      <td>30</td>\n",
       "      <td>0</td>\n",
       "    </tr>\n",
       "    <tr>\n",
       "      <th>766</th>\n",
       "      <td>1</td>\n",
       "      <td>126</td>\n",
       "      <td>60</td>\n",
       "      <td>0</td>\n",
       "      <td>0</td>\n",
       "      <td>30.1</td>\n",
       "      <td>0.349</td>\n",
       "      <td>47</td>\n",
       "      <td>1</td>\n",
       "    </tr>\n",
       "  </tbody>\n",
       "</table>\n",
       "<p>501 rows × 9 columns</p>\n",
       "</div>"
      ],
      "text/plain": [
       "     NEMB  GLU  PART  GROS  HUR   BMI  FPRED  AGE  CLASS\n",
       "0       6  148    72    35    0  33.6  0.627   50      1\n",
       "1       1   85    66    29    0  26.6  0.351   31      0\n",
       "2       8  183    64     0    0  23.3  0.672   32      1\n",
       "4       0  137    40    35  168  43.1  2.288   33      1\n",
       "5       5  116    74     0    0  25.6  0.201   30      0\n",
       "..    ...  ...   ...   ...  ...   ...    ...  ...    ...\n",
       "762     9   89    62     0    0  22.5  0.142   33      0\n",
       "763    10  101    76    48  180  32.9  0.171   63      0\n",
       "764     2  122    70    27    0  36.8  0.340   27      0\n",
       "765     5  121    72    23  112  26.2  0.245   30      0\n",
       "766     1  126    60     0    0  30.1  0.349   47      1\n",
       "\n",
       "[501 rows x 9 columns]"
      ]
     },
     "execution_count": 71,
     "metadata": {},
     "output_type": "execute_result"
    }
   ],
   "source": [
    "df_mas25 = df.loc[filtro_aplicar,:]\n",
    "df_mas25"
   ]
  },
  {
   "cell_type": "code",
   "execution_count": 72,
   "id": "317913c3",
   "metadata": {},
   "outputs": [
    {
     "data": {
      "text/plain": [
       "(501, 9)"
      ]
     },
     "execution_count": 72,
     "metadata": {},
     "output_type": "execute_result"
    }
   ],
   "source": [
    "df_mas25.shape"
   ]
  },
  {
   "cell_type": "code",
   "execution_count": 73,
   "id": "86062e6e",
   "metadata": {},
   "outputs": [
    {
     "data": {
      "text/html": [
       "<div>\n",
       "<style scoped>\n",
       "    .dataframe tbody tr th:only-of-type {\n",
       "        vertical-align: middle;\n",
       "    }\n",
       "\n",
       "    .dataframe tbody tr th {\n",
       "        vertical-align: top;\n",
       "    }\n",
       "\n",
       "    .dataframe thead th {\n",
       "        text-align: right;\n",
       "    }\n",
       "</style>\n",
       "<table border=\"1\" class=\"dataframe\">\n",
       "  <thead>\n",
       "    <tr style=\"text-align: right;\">\n",
       "      <th></th>\n",
       "      <th>NEMB</th>\n",
       "      <th>GLU</th>\n",
       "      <th>PART</th>\n",
       "      <th>GROS</th>\n",
       "      <th>HUR</th>\n",
       "      <th>BMI</th>\n",
       "      <th>FPRED</th>\n",
       "      <th>AGE</th>\n",
       "      <th>CLASS</th>\n",
       "    </tr>\n",
       "  </thead>\n",
       "  <tbody>\n",
       "    <tr>\n",
       "      <th>0</th>\n",
       "      <td>6</td>\n",
       "      <td>148</td>\n",
       "      <td>72</td>\n",
       "      <td>35</td>\n",
       "      <td>0</td>\n",
       "      <td>33.6</td>\n",
       "      <td>0.627</td>\n",
       "      <td>50</td>\n",
       "      <td>1</td>\n",
       "    </tr>\n",
       "    <tr>\n",
       "      <th>1</th>\n",
       "      <td>1</td>\n",
       "      <td>85</td>\n",
       "      <td>66</td>\n",
       "      <td>29</td>\n",
       "      <td>0</td>\n",
       "      <td>26.6</td>\n",
       "      <td>0.351</td>\n",
       "      <td>31</td>\n",
       "      <td>0</td>\n",
       "    </tr>\n",
       "    <tr>\n",
       "      <th>2</th>\n",
       "      <td>8</td>\n",
       "      <td>183</td>\n",
       "      <td>64</td>\n",
       "      <td>0</td>\n",
       "      <td>0</td>\n",
       "      <td>23.3</td>\n",
       "      <td>0.672</td>\n",
       "      <td>32</td>\n",
       "      <td>1</td>\n",
       "    </tr>\n",
       "    <tr>\n",
       "      <th>4</th>\n",
       "      <td>0</td>\n",
       "      <td>137</td>\n",
       "      <td>40</td>\n",
       "      <td>35</td>\n",
       "      <td>168</td>\n",
       "      <td>43.1</td>\n",
       "      <td>2.288</td>\n",
       "      <td>33</td>\n",
       "      <td>1</td>\n",
       "    </tr>\n",
       "    <tr>\n",
       "      <th>5</th>\n",
       "      <td>5</td>\n",
       "      <td>116</td>\n",
       "      <td>74</td>\n",
       "      <td>0</td>\n",
       "      <td>0</td>\n",
       "      <td>25.6</td>\n",
       "      <td>0.201</td>\n",
       "      <td>30</td>\n",
       "      <td>0</td>\n",
       "    </tr>\n",
       "    <tr>\n",
       "      <th>...</th>\n",
       "      <td>...</td>\n",
       "      <td>...</td>\n",
       "      <td>...</td>\n",
       "      <td>...</td>\n",
       "      <td>...</td>\n",
       "      <td>...</td>\n",
       "      <td>...</td>\n",
       "      <td>...</td>\n",
       "      <td>...</td>\n",
       "    </tr>\n",
       "    <tr>\n",
       "      <th>762</th>\n",
       "      <td>9</td>\n",
       "      <td>89</td>\n",
       "      <td>62</td>\n",
       "      <td>0</td>\n",
       "      <td>0</td>\n",
       "      <td>22.5</td>\n",
       "      <td>0.142</td>\n",
       "      <td>33</td>\n",
       "      <td>0</td>\n",
       "    </tr>\n",
       "    <tr>\n",
       "      <th>763</th>\n",
       "      <td>10</td>\n",
       "      <td>101</td>\n",
       "      <td>76</td>\n",
       "      <td>48</td>\n",
       "      <td>180</td>\n",
       "      <td>32.9</td>\n",
       "      <td>0.171</td>\n",
       "      <td>63</td>\n",
       "      <td>0</td>\n",
       "    </tr>\n",
       "    <tr>\n",
       "      <th>764</th>\n",
       "      <td>2</td>\n",
       "      <td>122</td>\n",
       "      <td>70</td>\n",
       "      <td>27</td>\n",
       "      <td>0</td>\n",
       "      <td>36.8</td>\n",
       "      <td>0.340</td>\n",
       "      <td>27</td>\n",
       "      <td>0</td>\n",
       "    </tr>\n",
       "    <tr>\n",
       "      <th>765</th>\n",
       "      <td>5</td>\n",
       "      <td>121</td>\n",
       "      <td>72</td>\n",
       "      <td>23</td>\n",
       "      <td>112</td>\n",
       "      <td>26.2</td>\n",
       "      <td>0.245</td>\n",
       "      <td>30</td>\n",
       "      <td>0</td>\n",
       "    </tr>\n",
       "    <tr>\n",
       "      <th>766</th>\n",
       "      <td>1</td>\n",
       "      <td>126</td>\n",
       "      <td>60</td>\n",
       "      <td>0</td>\n",
       "      <td>0</td>\n",
       "      <td>30.1</td>\n",
       "      <td>0.349</td>\n",
       "      <td>47</td>\n",
       "      <td>1</td>\n",
       "    </tr>\n",
       "  </tbody>\n",
       "</table>\n",
       "<p>501 rows × 9 columns</p>\n",
       "</div>"
      ],
      "text/plain": [
       "     NEMB  GLU  PART  GROS  HUR   BMI  FPRED  AGE  CLASS\n",
       "0       6  148    72    35    0  33.6  0.627   50      1\n",
       "1       1   85    66    29    0  26.6  0.351   31      0\n",
       "2       8  183    64     0    0  23.3  0.672   32      1\n",
       "4       0  137    40    35  168  43.1  2.288   33      1\n",
       "5       5  116    74     0    0  25.6  0.201   30      0\n",
       "..    ...  ...   ...   ...  ...   ...    ...  ...    ...\n",
       "762     9   89    62     0    0  22.5  0.142   33      0\n",
       "763    10  101    76    48  180  32.9  0.171   63      0\n",
       "764     2  122    70    27    0  36.8  0.340   27      0\n",
       "765     5  121    72    23  112  26.2  0.245   30      0\n",
       "766     1  126    60     0    0  30.1  0.349   47      1\n",
       "\n",
       "[501 rows x 9 columns]"
      ]
     },
     "execution_count": 73,
     "metadata": {},
     "output_type": "execute_result"
    }
   ],
   "source": [
    "# Directo en la misma sentencia: \n",
    "df_mas25 = df.loc[df['AGE'] > 25,:]\n",
    "df_mas25"
   ]
  },
  {
   "cell_type": "code",
   "execution_count": 77,
   "id": "077eae7a",
   "metadata": {},
   "outputs": [],
   "source": [
    "# Y si quiero elegir algunas columnas? \n",
    "df_2col = df.loc[filtro_aplicar,['AGE','HUR']]"
   ]
  },
  {
   "cell_type": "code",
   "execution_count": 78,
   "id": "2ee00ea2",
   "metadata": {},
   "outputs": [
    {
     "data": {
      "text/html": [
       "<div>\n",
       "<style scoped>\n",
       "    .dataframe tbody tr th:only-of-type {\n",
       "        vertical-align: middle;\n",
       "    }\n",
       "\n",
       "    .dataframe tbody tr th {\n",
       "        vertical-align: top;\n",
       "    }\n",
       "\n",
       "    .dataframe thead th {\n",
       "        text-align: right;\n",
       "    }\n",
       "</style>\n",
       "<table border=\"1\" class=\"dataframe\">\n",
       "  <thead>\n",
       "    <tr style=\"text-align: right;\">\n",
       "      <th></th>\n",
       "      <th>AGE</th>\n",
       "      <th>HUR</th>\n",
       "    </tr>\n",
       "  </thead>\n",
       "  <tbody>\n",
       "    <tr>\n",
       "      <th>0</th>\n",
       "      <td>50</td>\n",
       "      <td>0</td>\n",
       "    </tr>\n",
       "    <tr>\n",
       "      <th>1</th>\n",
       "      <td>31</td>\n",
       "      <td>0</td>\n",
       "    </tr>\n",
       "    <tr>\n",
       "      <th>2</th>\n",
       "      <td>32</td>\n",
       "      <td>0</td>\n",
       "    </tr>\n",
       "    <tr>\n",
       "      <th>4</th>\n",
       "      <td>33</td>\n",
       "      <td>168</td>\n",
       "    </tr>\n",
       "    <tr>\n",
       "      <th>5</th>\n",
       "      <td>30</td>\n",
       "      <td>0</td>\n",
       "    </tr>\n",
       "    <tr>\n",
       "      <th>...</th>\n",
       "      <td>...</td>\n",
       "      <td>...</td>\n",
       "    </tr>\n",
       "    <tr>\n",
       "      <th>762</th>\n",
       "      <td>33</td>\n",
       "      <td>0</td>\n",
       "    </tr>\n",
       "    <tr>\n",
       "      <th>763</th>\n",
       "      <td>63</td>\n",
       "      <td>180</td>\n",
       "    </tr>\n",
       "    <tr>\n",
       "      <th>764</th>\n",
       "      <td>27</td>\n",
       "      <td>0</td>\n",
       "    </tr>\n",
       "    <tr>\n",
       "      <th>765</th>\n",
       "      <td>30</td>\n",
       "      <td>112</td>\n",
       "    </tr>\n",
       "    <tr>\n",
       "      <th>766</th>\n",
       "      <td>47</td>\n",
       "      <td>0</td>\n",
       "    </tr>\n",
       "  </tbody>\n",
       "</table>\n",
       "<p>501 rows × 2 columns</p>\n",
       "</div>"
      ],
      "text/plain": [
       "     AGE  HUR\n",
       "0     50    0\n",
       "1     31    0\n",
       "2     32    0\n",
       "4     33  168\n",
       "5     30    0\n",
       "..   ...  ...\n",
       "762   33    0\n",
       "763   63  180\n",
       "764   27    0\n",
       "765   30  112\n",
       "766   47    0\n",
       "\n",
       "[501 rows x 2 columns]"
      ]
     },
     "execution_count": 78,
     "metadata": {},
     "output_type": "execute_result"
    }
   ],
   "source": [
    "df_2col"
   ]
  },
  {
   "cell_type": "code",
   "execution_count": 79,
   "id": "cb1b78d4",
   "metadata": {},
   "outputs": [
    {
     "name": "stdout",
     "output_type": "stream",
     "text": [
      "     AGE  HUR\n",
      "0     50    0\n",
      "1     31    0\n",
      "2     32    0\n",
      "4     33  168\n",
      "5     30    0\n",
      "..   ...  ...\n",
      "762   33    0\n",
      "763   63  180\n",
      "764   27    0\n",
      "765   30  112\n",
      "766   47    0\n",
      "\n",
      "[501 rows x 2 columns]\n"
     ]
    }
   ],
   "source": [
    "# Y si quiero aplicar filtro y elegir columnas a la vez? \n",
    "filtro = df['AGE'] > 25\n",
    "print(df.loc[filtro,['AGE','HUR']])"
   ]
  },
  {
   "cell_type": "code",
   "execution_count": 87,
   "id": "40f4c7ca",
   "metadata": {},
   "outputs": [
    {
     "data": {
      "text/html": [
       "<div>\n",
       "<style scoped>\n",
       "    .dataframe tbody tr th:only-of-type {\n",
       "        vertical-align: middle;\n",
       "    }\n",
       "\n",
       "    .dataframe tbody tr th {\n",
       "        vertical-align: top;\n",
       "    }\n",
       "\n",
       "    .dataframe thead th {\n",
       "        text-align: right;\n",
       "    }\n",
       "</style>\n",
       "<table border=\"1\" class=\"dataframe\">\n",
       "  <thead>\n",
       "    <tr style=\"text-align: right;\">\n",
       "      <th></th>\n",
       "      <th>NEMB</th>\n",
       "      <th>GLU</th>\n",
       "      <th>PART</th>\n",
       "      <th>GROS</th>\n",
       "      <th>HUR</th>\n",
       "      <th>BMI</th>\n",
       "      <th>FPRED</th>\n",
       "      <th>AGE</th>\n",
       "      <th>CLASS</th>\n",
       "    </tr>\n",
       "  </thead>\n",
       "  <tbody>\n",
       "    <tr>\n",
       "      <th>0</th>\n",
       "      <td>6</td>\n",
       "      <td>148</td>\n",
       "      <td>72</td>\n",
       "      <td>35</td>\n",
       "      <td>0</td>\n",
       "      <td>33.6</td>\n",
       "      <td>0.627</td>\n",
       "      <td>50</td>\n",
       "      <td>1</td>\n",
       "    </tr>\n",
       "    <tr>\n",
       "      <th>1</th>\n",
       "      <td>1</td>\n",
       "      <td>85</td>\n",
       "      <td>66</td>\n",
       "      <td>29</td>\n",
       "      <td>0</td>\n",
       "      <td>26.6</td>\n",
       "      <td>0.351</td>\n",
       "      <td>31</td>\n",
       "      <td>0</td>\n",
       "    </tr>\n",
       "    <tr>\n",
       "      <th>2</th>\n",
       "      <td>8</td>\n",
       "      <td>183</td>\n",
       "      <td>64</td>\n",
       "      <td>0</td>\n",
       "      <td>0</td>\n",
       "      <td>23.3</td>\n",
       "      <td>0.672</td>\n",
       "      <td>32</td>\n",
       "      <td>1</td>\n",
       "    </tr>\n",
       "    <tr>\n",
       "      <th>5</th>\n",
       "      <td>5</td>\n",
       "      <td>116</td>\n",
       "      <td>74</td>\n",
       "      <td>0</td>\n",
       "      <td>0</td>\n",
       "      <td>25.6</td>\n",
       "      <td>0.201</td>\n",
       "      <td>30</td>\n",
       "      <td>0</td>\n",
       "    </tr>\n",
       "    <tr>\n",
       "      <th>6</th>\n",
       "      <td>3</td>\n",
       "      <td>78</td>\n",
       "      <td>50</td>\n",
       "      <td>32</td>\n",
       "      <td>88</td>\n",
       "      <td>31.0</td>\n",
       "      <td>0.248</td>\n",
       "      <td>26</td>\n",
       "      <td>1</td>\n",
       "    </tr>\n",
       "    <tr>\n",
       "      <th>...</th>\n",
       "      <td>...</td>\n",
       "      <td>...</td>\n",
       "      <td>...</td>\n",
       "      <td>...</td>\n",
       "      <td>...</td>\n",
       "      <td>...</td>\n",
       "      <td>...</td>\n",
       "      <td>...</td>\n",
       "      <td>...</td>\n",
       "    </tr>\n",
       "    <tr>\n",
       "      <th>761</th>\n",
       "      <td>9</td>\n",
       "      <td>170</td>\n",
       "      <td>74</td>\n",
       "      <td>31</td>\n",
       "      <td>0</td>\n",
       "      <td>44.0</td>\n",
       "      <td>0.403</td>\n",
       "      <td>43</td>\n",
       "      <td>1</td>\n",
       "    </tr>\n",
       "    <tr>\n",
       "      <th>762</th>\n",
       "      <td>9</td>\n",
       "      <td>89</td>\n",
       "      <td>62</td>\n",
       "      <td>0</td>\n",
       "      <td>0</td>\n",
       "      <td>22.5</td>\n",
       "      <td>0.142</td>\n",
       "      <td>33</td>\n",
       "      <td>0</td>\n",
       "    </tr>\n",
       "    <tr>\n",
       "      <th>764</th>\n",
       "      <td>2</td>\n",
       "      <td>122</td>\n",
       "      <td>70</td>\n",
       "      <td>27</td>\n",
       "      <td>0</td>\n",
       "      <td>36.8</td>\n",
       "      <td>0.340</td>\n",
       "      <td>27</td>\n",
       "      <td>0</td>\n",
       "    </tr>\n",
       "    <tr>\n",
       "      <th>765</th>\n",
       "      <td>5</td>\n",
       "      <td>121</td>\n",
       "      <td>72</td>\n",
       "      <td>23</td>\n",
       "      <td>112</td>\n",
       "      <td>26.2</td>\n",
       "      <td>0.245</td>\n",
       "      <td>30</td>\n",
       "      <td>0</td>\n",
       "    </tr>\n",
       "    <tr>\n",
       "      <th>766</th>\n",
       "      <td>1</td>\n",
       "      <td>126</td>\n",
       "      <td>60</td>\n",
       "      <td>0</td>\n",
       "      <td>0</td>\n",
       "      <td>30.1</td>\n",
       "      <td>0.349</td>\n",
       "      <td>47</td>\n",
       "      <td>1</td>\n",
       "    </tr>\n",
       "  </tbody>\n",
       "</table>\n",
       "<p>396 rows × 9 columns</p>\n",
       "</div>"
      ],
      "text/plain": [
       "     NEMB  GLU  PART  GROS  HUR   BMI  FPRED  AGE  CLASS\n",
       "0       6  148    72    35    0  33.6  0.627   50      1\n",
       "1       1   85    66    29    0  26.6  0.351   31      0\n",
       "2       8  183    64     0    0  23.3  0.672   32      1\n",
       "5       5  116    74     0    0  25.6  0.201   30      0\n",
       "6       3   78    50    32   88  31.0  0.248   26      1\n",
       "..    ...  ...   ...   ...  ...   ...    ...  ...    ...\n",
       "761     9  170    74    31    0  44.0  0.403   43      1\n",
       "762     9   89    62     0    0  22.5  0.142   33      0\n",
       "764     2  122    70    27    0  36.8  0.340   27      0\n",
       "765     5  121    72    23  112  26.2  0.245   30      0\n",
       "766     1  126    60     0    0  30.1  0.349   47      1\n",
       "\n",
       "[396 rows x 9 columns]"
      ]
     },
     "execution_count": 87,
     "metadata": {},
     "output_type": "execute_result"
    }
   ],
   "source": [
    "# Y si quiero aplicar varios filtros a la vez? \n",
    "filtro_1 = df['AGE'] > 25\n",
    "filtro_2 = df['HUR'] < 150\n",
    "df_filtro_complejo = df.loc[(filtro_1) & (filtro_2),:]\n",
    "df_filtro_complejo"
   ]
  },
  {
   "cell_type": "code",
   "execution_count": 88,
   "id": "3d6c16b8",
   "metadata": {},
   "outputs": [
    {
     "data": {
      "text/plain": [
       "(396, 9)"
      ]
     },
     "execution_count": 88,
     "metadata": {},
     "output_type": "execute_result"
    }
   ],
   "source": [
    "df_filtro_complejo.shape"
   ]
  },
  {
   "cell_type": "code",
   "execution_count": 89,
   "id": "81ba5bcd",
   "metadata": {},
   "outputs": [
    {
     "name": "stdout",
     "output_type": "stream",
     "text": [
      "     AGE  HUR\n",
      "0     50    0\n",
      "1     31    0\n",
      "2     32    0\n",
      "3     21   94\n",
      "4     33  168\n",
      "..   ...  ...\n",
      "763   63  180\n",
      "764   27    0\n",
      "765   30  112\n",
      "766   47    0\n",
      "767   23    0\n",
      "\n",
      "[718 rows x 2 columns]\n"
     ]
    }
   ],
   "source": [
    "# Y si quiero aplicar varios que ocurra una cosa o la otra? \n",
    "filtro_1 = df['AGE'] > 25\n",
    "filtro_2 = df['HUR'] < 150\n",
    "print(df.loc[(filtro_1) | (filtro_2),['AGE','HUR']])"
   ]
  },
  {
   "cell_type": "markdown",
   "id": "735e9800",
   "metadata": {},
   "source": [
    "## Arrancando a explorar nulos"
   ]
  },
  {
   "cell_type": "code",
   "execution_count": 90,
   "id": "ba520a09",
   "metadata": {},
   "outputs": [
    {
     "name": "stdout",
     "output_type": "stream",
     "text": [
      "<class 'pandas.core.frame.DataFrame'>\n",
      "RangeIndex: 768 entries, 0 to 767\n",
      "Data columns (total 9 columns):\n",
      " #   Column  Non-Null Count  Dtype  \n",
      "---  ------  --------------  -----  \n",
      " 0   NEMB    768 non-null    int64  \n",
      " 1   GLU     768 non-null    int64  \n",
      " 2   PART    768 non-null    int64  \n",
      " 3   GROS    768 non-null    int64  \n",
      " 4   HUR     768 non-null    int64  \n",
      " 5   BMI     768 non-null    float64\n",
      " 6   FPRED   768 non-null    float64\n",
      " 7   AGE     768 non-null    int64  \n",
      " 8   CLASS   768 non-null    int64  \n",
      "dtypes: float64(2), int64(7)\n",
      "memory usage: 54.1 KB\n",
      "None\n"
     ]
    }
   ],
   "source": [
    "# Usando el método info() para resumir el dataset\n",
    "print(df.info())"
   ]
  },
  {
   "cell_type": "code",
   "execution_count": 92,
   "id": "db195612",
   "metadata": {},
   "outputs": [
    {
     "name": "stdout",
     "output_type": "stream",
     "text": [
      "Detalle de Nulos:\n",
      "NEMB     0\n",
      "GLU      0\n",
      "PART     0\n",
      "GROS     0\n",
      "HUR      0\n",
      "BMI      0\n",
      "FPRED    0\n",
      "AGE      0\n",
      "CLASS    0\n",
      "dtype: int64\n"
     ]
    }
   ],
   "source": [
    "# Aparentemente no hay nulos, verifiquemos: \n",
    "print('Detalle de Nulos:')\n",
    "print(df.isnull().sum())"
   ]
  },
  {
   "cell_type": "code",
   "execution_count": 93,
   "id": "cc680a60",
   "metadata": {},
   "outputs": [
    {
     "name": "stdout",
     "output_type": "stream",
     "text": [
      "             NEMB         GLU        PART        GROS         HUR         BMI  \\\n",
      "count  768.000000  768.000000  768.000000  768.000000  768.000000  768.000000   \n",
      "mean     3.845052  120.894531   69.105469   20.536458   79.799479   31.992578   \n",
      "std      3.369578   31.972618   19.355807   15.952218  115.244002    7.884160   \n",
      "min      0.000000    0.000000    0.000000    0.000000    0.000000    0.000000   \n",
      "25%      1.000000   99.000000   62.000000    0.000000    0.000000   27.300000   \n",
      "50%      3.000000  117.000000   72.000000   23.000000   30.500000   32.000000   \n",
      "75%      6.000000  140.250000   80.000000   32.000000  127.250000   36.600000   \n",
      "max     17.000000  199.000000  122.000000   99.000000  846.000000   67.100000   \n",
      "\n",
      "            FPRED         AGE       CLASS  \n",
      "count  768.000000  768.000000  768.000000  \n",
      "mean     0.471876   33.240885    0.348958  \n",
      "std      0.331329   11.760232    0.476951  \n",
      "min      0.078000   21.000000    0.000000  \n",
      "25%      0.243750   24.000000    0.000000  \n",
      "50%      0.372500   29.000000    0.000000  \n",
      "75%      0.626250   41.000000    1.000000  \n",
      "max      2.420000   81.000000    1.000000  \n"
     ]
    }
   ],
   "source": [
    "# Usando el método describe() para explorar el dataset:\n",
    "print(df.describe())"
   ]
  },
  {
   "cell_type": "code",
   "execution_count": 94,
   "id": "b3d2f4f2",
   "metadata": {},
   "outputs": [
    {
     "name": "stdout",
     "output_type": "stream",
     "text": [
      "GLU       5\n",
      "PART     35\n",
      "GROS    227\n",
      "HUR     374\n",
      "BMI      11\n",
      "dtype: int64\n"
     ]
    }
   ],
   "source": [
    "# Vemos muchos ceros en variables que no tiene sentido\n",
    "nun_missing = (df[['GLU','PART','GROS','HUR','BMI']] == 0).sum()\n",
    "print(nun_missing)"
   ]
  },
  {
   "cell_type": "code",
   "execution_count": 95,
   "id": "152c6cd4",
   "metadata": {},
   "outputs": [
    {
     "name": "stdout",
     "output_type": "stream",
     "text": [
      "Cantidad de nulos:\n",
      "NEMB       0\n",
      "GLU        5\n",
      "PART      35\n",
      "GROS     227\n",
      "HUR      374\n",
      "BMI       11\n",
      "FPRED      0\n",
      "AGE        0\n",
      "CLASS      0\n",
      "dtype: int64\n"
     ]
    }
   ],
   "source": [
    "# Para darle tratamiento como nulo, reemplazamos los '0' con 'nan'\n",
    "df[['GLU','PART','GROS','HUR','BMI']] = df[['GLU','PART','GROS','HUR','BMI']].replace(0, np.nan)\n",
    "# Cuántos nulos me quedaron en cada variable?\n",
    "print('Cantidad de nulos:')\n",
    "print(df.isnull().sum())"
   ]
  },
  {
   "cell_type": "code",
   "execution_count": 96,
   "id": "d1fbdd35",
   "metadata": {},
   "outputs": [
    {
     "data": {
      "text/html": [
       "<div>\n",
       "<style scoped>\n",
       "    .dataframe tbody tr th:only-of-type {\n",
       "        vertical-align: middle;\n",
       "    }\n",
       "\n",
       "    .dataframe tbody tr th {\n",
       "        vertical-align: top;\n",
       "    }\n",
       "\n",
       "    .dataframe thead th {\n",
       "        text-align: right;\n",
       "    }\n",
       "</style>\n",
       "<table border=\"1\" class=\"dataframe\">\n",
       "  <thead>\n",
       "    <tr style=\"text-align: right;\">\n",
       "      <th></th>\n",
       "      <th>NEMB</th>\n",
       "      <th>GLU</th>\n",
       "      <th>PART</th>\n",
       "      <th>GROS</th>\n",
       "      <th>HUR</th>\n",
       "      <th>BMI</th>\n",
       "      <th>FPRED</th>\n",
       "      <th>AGE</th>\n",
       "      <th>CLASS</th>\n",
       "    </tr>\n",
       "  </thead>\n",
       "  <tbody>\n",
       "    <tr>\n",
       "      <th>0</th>\n",
       "      <td>6</td>\n",
       "      <td>148.0</td>\n",
       "      <td>72.0</td>\n",
       "      <td>35.0</td>\n",
       "      <td>NaN</td>\n",
       "      <td>33.6</td>\n",
       "      <td>0.627</td>\n",
       "      <td>50</td>\n",
       "      <td>1</td>\n",
       "    </tr>\n",
       "    <tr>\n",
       "      <th>1</th>\n",
       "      <td>1</td>\n",
       "      <td>85.0</td>\n",
       "      <td>66.0</td>\n",
       "      <td>29.0</td>\n",
       "      <td>NaN</td>\n",
       "      <td>26.6</td>\n",
       "      <td>0.351</td>\n",
       "      <td>31</td>\n",
       "      <td>0</td>\n",
       "    </tr>\n",
       "    <tr>\n",
       "      <th>2</th>\n",
       "      <td>8</td>\n",
       "      <td>183.0</td>\n",
       "      <td>64.0</td>\n",
       "      <td>NaN</td>\n",
       "      <td>NaN</td>\n",
       "      <td>23.3</td>\n",
       "      <td>0.672</td>\n",
       "      <td>32</td>\n",
       "      <td>1</td>\n",
       "    </tr>\n",
       "    <tr>\n",
       "      <th>3</th>\n",
       "      <td>1</td>\n",
       "      <td>89.0</td>\n",
       "      <td>66.0</td>\n",
       "      <td>23.0</td>\n",
       "      <td>94.0</td>\n",
       "      <td>28.1</td>\n",
       "      <td>0.167</td>\n",
       "      <td>21</td>\n",
       "      <td>0</td>\n",
       "    </tr>\n",
       "    <tr>\n",
       "      <th>4</th>\n",
       "      <td>0</td>\n",
       "      <td>137.0</td>\n",
       "      <td>40.0</td>\n",
       "      <td>35.0</td>\n",
       "      <td>168.0</td>\n",
       "      <td>43.1</td>\n",
       "      <td>2.288</td>\n",
       "      <td>33</td>\n",
       "      <td>1</td>\n",
       "    </tr>\n",
       "  </tbody>\n",
       "</table>\n",
       "</div>"
      ],
      "text/plain": [
       "   NEMB    GLU  PART  GROS    HUR   BMI  FPRED  AGE  CLASS\n",
       "0     6  148.0  72.0  35.0    NaN  33.6  0.627   50      1\n",
       "1     1   85.0  66.0  29.0    NaN  26.6  0.351   31      0\n",
       "2     8  183.0  64.0   NaN    NaN  23.3  0.672   32      1\n",
       "3     1   89.0  66.0  23.0   94.0  28.1  0.167   21      0\n",
       "4     0  137.0  40.0  35.0  168.0  43.1  2.288   33      1"
      ]
     },
     "execution_count": 96,
     "metadata": {},
     "output_type": "execute_result"
    }
   ],
   "source": [
    "df.head()"
   ]
  },
  {
   "cell_type": "markdown",
   "id": "ca8892ba",
   "metadata": {},
   "source": [
    "## Tratamiento de nulos\n",
    "Al momento de trabajar con datos nulos, hay varias opciones: \n",
    "1. Eliminar del dataset todas las filas que contienen algún nulo (no suele ser lo mejor, pero en algún caso puede ser conveniente)\n",
    "2. Imputar los nulos con algún valor (puede ser valor aleatorio, métrica, o resultado de algún modelo para nulos):\n",
    "    * Forma manual: calculando la métrica que me interese para el reemplazo, e indicando que cada vez que aparezca un nulo inserte ese valor (por ejemplo, reemplazar con la media de la variable)\n",
    "    * SimpleImputer: es una clase de preprocesamiento de la librería Scikit-learn que se usa para el manejo de datos faltantes. "
   ]
  },
  {
   "cell_type": "markdown",
   "id": "8fc0b4a9",
   "metadata": {},
   "source": [
    "### Caso 1: Eliminar registros con datos nulos "
   ]
  },
  {
   "cell_type": "code",
   "execution_count": 97,
   "id": "426e7855",
   "metadata": {},
   "outputs": [
    {
     "name": "stdout",
     "output_type": "stream",
     "text": [
      "(392, 9)\n",
      "(768, 9)\n"
     ]
    }
   ],
   "source": [
    "# Usar el método dropna: \n",
    "# El parámetro inplace se utiliza para especificar si deseas que la operación de eliminación \n",
    "# de valores faltantes se realice directamente en el DataFrame original \n",
    "# o si deseas que se cree un nuevo DataFrame con los valores faltantes eliminados.\n",
    "df_eliminado = df.dropna(inplace = False)\n",
    "# ¿Cómo quedó el dataframe?\n",
    "print(df_eliminado.shape)\n",
    "print(df.shape)"
   ]
  },
  {
   "cell_type": "markdown",
   "id": "9a5715de",
   "metadata": {},
   "source": [
    "### Caso 2: Reemplazar de forma manual"
   ]
  },
  {
   "cell_type": "code",
   "execution_count": 98,
   "id": "68a5ff68",
   "metadata": {},
   "outputs": [
    {
     "name": "stdout",
     "output_type": "stream",
     "text": [
      "NEMB       3.845052\n",
      "GLU      121.686763\n",
      "PART      72.405184\n",
      "GROS      29.153420\n",
      "HUR      155.548223\n",
      "BMI       32.457464\n",
      "FPRED      0.471876\n",
      "AGE       33.240885\n",
      "CLASS      0.348958\n",
      "dtype: float64\n"
     ]
    }
   ],
   "source": [
    "# Vamos a elegir el promedio de cada columna para reemplazar \n",
    "promedios = df.mean()\n",
    "print(promedios)"
   ]
  },
  {
   "cell_type": "code",
   "execution_count": 99,
   "id": "371beaa1",
   "metadata": {},
   "outputs": [],
   "source": [
    "# Uso el método fillna para reemplazar: \n",
    "df_reempl = df.fillna(promedios,\n",
    "                      inplace = False)"
   ]
  },
  {
   "cell_type": "code",
   "execution_count": 101,
   "id": "7b518046",
   "metadata": {},
   "outputs": [
    {
     "name": "stdout",
     "output_type": "stream",
     "text": [
      "Data Frame Reemplazado: \n",
      "   NEMB    GLU  PART      GROS         HUR   BMI  FPRED  AGE  CLASS\n",
      "0     6  148.0  72.0  35.00000  155.548223  33.6  0.627   50      1\n",
      "1     1   85.0  66.0  29.00000  155.548223  26.6  0.351   31      0\n",
      "2     8  183.0  64.0  29.15342  155.548223  23.3  0.672   32      1\n",
      "3     1   89.0  66.0  23.00000   94.000000  28.1  0.167   21      0\n",
      "4     0  137.0  40.0  35.00000  168.000000  43.1  2.288   33      1\n",
      "\n",
      "Data Frame Original: \n",
      "   NEMB    GLU  PART  GROS    HUR   BMI  FPRED  AGE  CLASS\n",
      "0     6  148.0  72.0  35.0    NaN  33.6  0.627   50      1\n",
      "1     1   85.0  66.0  29.0    NaN  26.6  0.351   31      0\n",
      "2     8  183.0  64.0   NaN    NaN  23.3  0.672   32      1\n",
      "3     1   89.0  66.0  23.0   94.0  28.1  0.167   21      0\n",
      "4     0  137.0  40.0  35.0  168.0  43.1  2.288   33      1\n"
     ]
    }
   ],
   "source": [
    "print('Data Frame Reemplazado: ')\n",
    "print(df_reempl.head())\n",
    "print('')\n",
    "print('Data Frame Original: ')\n",
    "print(df.head())"
   ]
  },
  {
   "cell_type": "code",
   "execution_count": 102,
   "id": "a4e5701e",
   "metadata": {},
   "outputs": [
    {
     "data": {
      "text/plain": [
       "(768, 9)"
      ]
     },
     "execution_count": 102,
     "metadata": {},
     "output_type": "execute_result"
    }
   ],
   "source": [
    "df_reempl.shape"
   ]
  },
  {
   "cell_type": "markdown",
   "id": "7c38bd3d",
   "metadata": {},
   "source": [
    "### Caso 3: Reemplazar usando SimpleImputer"
   ]
  },
  {
   "cell_type": "code",
   "execution_count": 103,
   "id": "c53bfaf4",
   "metadata": {},
   "outputs": [],
   "source": [
    "# Antes que nada, abro las librerías:\n",
    "from sklearn.impute import SimpleImputer\n",
    "import numpy as np "
   ]
  },
  {
   "cell_type": "code",
   "execution_count": 104,
   "id": "c2c54eaf",
   "metadata": {},
   "outputs": [
    {
     "name": "stdout",
     "output_type": "stream",
     "text": [
      "<class 'numpy.ndarray'>\n"
     ]
    }
   ],
   "source": [
    "# Pasos a seguir:\n",
    "# 1) Crear un numpy array con los valores\n",
    "valores = df.values\n",
    "# 2) Definir el imputador\n",
    "imputador = SimpleImputer(missing_values = np.nan, \n",
    "                          strategy='mean')\n",
    "\n",
    "# Algunas estrategias: \n",
    "# median, \n",
    "# most_frequent, \n",
    "# constant (indicando con el parámetro 'fill_value' el valor a asignar)\n",
    "\n",
    "# 3) Transformar el dataset\n",
    "transformados = imputador.fit_transform(valores)\n",
    "print(type(transformados))"
   ]
  },
  {
   "cell_type": "code",
   "execution_count": 105,
   "id": "cf527035",
   "metadata": {},
   "outputs": [
    {
     "data": {
      "text/plain": [
       "array([[  6.   , 148.   ,  72.   , ...,   0.627,  50.   ,   1.   ],\n",
       "       [  1.   ,  85.   ,  66.   , ...,   0.351,  31.   ,   0.   ],\n",
       "       [  8.   , 183.   ,  64.   , ...,   0.672,  32.   ,   1.   ],\n",
       "       ...,\n",
       "       [  5.   , 121.   ,  72.   , ...,   0.245,  30.   ,   0.   ],\n",
       "       [  1.   , 126.   ,  60.   , ...,   0.349,  47.   ,   1.   ],\n",
       "       [  1.   ,  93.   ,  70.   , ...,   0.315,  23.   ,   0.   ]])"
      ]
     },
     "execution_count": 105,
     "metadata": {},
     "output_type": "execute_result"
    }
   ],
   "source": [
    "transformados"
   ]
  },
  {
   "cell_type": "code",
   "execution_count": 106,
   "id": "9f511dbf",
   "metadata": {},
   "outputs": [
    {
     "name": "stdout",
     "output_type": "stream",
     "text": [
      "     0      1     2      3       4     5     6     7    8\n",
      "0  6.0  148.0  72.0  35.00  155.55  33.6  0.63  50.0  1.0\n",
      "1  1.0   85.0  66.0  29.00  155.55  26.6  0.35  31.0  0.0\n",
      "2  8.0  183.0  64.0  29.15  155.55  23.3  0.67  32.0  1.0\n",
      "3  1.0   89.0  66.0  23.00   94.00  28.1  0.17  21.0  0.0\n",
      "4  0.0  137.0  40.0  35.00  168.00  43.1  2.29  33.0  1.0\n"
     ]
    }
   ],
   "source": [
    "# Transformo el ndarray en dataframe \n",
    "transformados = pd.DataFrame(transformados)\n",
    "print(transformados.head().round(2))"
   ]
  },
  {
   "cell_type": "code",
   "execution_count": 107,
   "id": "63d90013",
   "metadata": {},
   "outputs": [
    {
     "name": "stdout",
     "output_type": "stream",
     "text": [
      "     NEMB    GLU  PART      GROS         HUR   BMI  FPRED   AGE  CLASS\n",
      "0     6.0  148.0  72.0  35.00000  155.548223  33.6  0.627  50.0    1.0\n",
      "1     1.0   85.0  66.0  29.00000  155.548223  26.6  0.351  31.0    0.0\n",
      "2     8.0  183.0  64.0  29.15342  155.548223  23.3  0.672  32.0    1.0\n",
      "3     1.0   89.0  66.0  23.00000   94.000000  28.1  0.167  21.0    0.0\n",
      "4     0.0  137.0  40.0  35.00000  168.000000  43.1  2.288  33.0    1.0\n",
      "..    ...    ...   ...       ...         ...   ...    ...   ...    ...\n",
      "763  10.0  101.0  76.0  48.00000  180.000000  32.9  0.171  63.0    0.0\n",
      "764   2.0  122.0  70.0  27.00000  155.548223  36.8  0.340  27.0    0.0\n",
      "765   5.0  121.0  72.0  23.00000  112.000000  26.2  0.245  30.0    0.0\n",
      "766   1.0  126.0  60.0  29.15342  155.548223  30.1  0.349  47.0    1.0\n",
      "767   1.0   93.0  70.0  31.00000  155.548223  30.4  0.315  23.0    0.0\n",
      "\n",
      "[768 rows x 9 columns]\n"
     ]
    }
   ],
   "source": [
    "# Renombro las columnas \n",
    "transformados = transformados.rename(columns = nombres_columnas)\n",
    "print(transformados)"
   ]
  },
  {
   "cell_type": "markdown",
   "id": "c58d43d7",
   "metadata": {},
   "source": [
    "## Agrupaciones"
   ]
  },
  {
   "cell_type": "code",
   "execution_count": 113,
   "id": "236eca3f",
   "metadata": {},
   "outputs": [
    {
     "name": "stdout",
     "output_type": "stream",
     "text": [
      "NEMB      2953.000\n",
      "GLU      92847.000\n",
      "PART     53073.000\n",
      "GROS     15772.000\n",
      "HUR      61286.000\n",
      "BMI      24570.300\n",
      "FPRED      362.401\n",
      "AGE      25529.000\n",
      "CLASS      268.000\n",
      "dtype: float64\n"
     ]
    }
   ],
   "source": [
    "print(df.sum())"
   ]
  },
  {
   "cell_type": "code",
   "execution_count": 114,
   "id": "04da58f7",
   "metadata": {},
   "outputs": [
    {
     "name": "stdout",
     "output_type": "stream",
     "text": [
      "NEMB      3.845052\n",
      "GLU     121.686763\n",
      "dtype: float64\n"
     ]
    }
   ],
   "source": [
    "print(df[['NEMB','GLU']].mean())"
   ]
  },
  {
   "cell_type": "code",
   "execution_count": 115,
   "id": "5f9d859e",
   "metadata": {},
   "outputs": [
    {
     "name": "stdout",
     "output_type": "stream",
     "text": [
      "NEMB     3.0\n",
      "AGE     29.0\n",
      "dtype: float64\n"
     ]
    }
   ],
   "source": [
    "print(df[['NEMB','AGE']].median())"
   ]
  },
  {
   "cell_type": "code",
   "execution_count": 116,
   "id": "ac2437e2",
   "metadata": {},
   "outputs": [
    {
     "name": "stdout",
     "output_type": "stream",
     "text": [
      "CLASS\n",
      "0    500\n",
      "1    268\n",
      "dtype: int64\n"
     ]
    }
   ],
   "source": [
    "# Usemos la variable \"CLASS\" para presentar algunas agrupaciones\n",
    "print(df.groupby('CLASS').size())"
   ]
  },
  {
   "cell_type": "code",
   "execution_count": 117,
   "id": "6a62e615",
   "metadata": {},
   "outputs": [
    {
     "name": "stdout",
     "output_type": "stream",
     "text": [
      "             BMI        AGE      NEMB\n",
      "CLASS                                \n",
      "0      30.859674  31.190000  3.298000\n",
      "1      35.406767  37.067164  4.865672\n"
     ]
    }
   ],
   "source": [
    "# Medidas de agregación que dependen de otras variables\n",
    "print(df.groupby('CLASS')[['BMI','AGE','NEMB']].mean())"
   ]
  },
  {
   "cell_type": "code",
   "execution_count": 118,
   "id": "bbb510d7",
   "metadata": {},
   "outputs": [
    {
     "name": "stdout",
     "output_type": "stream",
     "text": [
      "       min_AGE  mean_AGE  max_AGE  mean_BMI\n",
      "CLASS                                      \n",
      "0           21      31.0       81      31.0\n",
      "1           21      37.0       70      35.0\n"
     ]
    }
   ],
   "source": [
    "# Varias medidas de agregación \n",
    "agrupaciones = df.groupby('CLASS').agg(\n",
    "    \n",
    "    min_AGE = ('AGE', 'min'),\n",
    "    mean_AGE = ('AGE', 'mean'),\n",
    "    max_AGE = ('AGE', 'max'),\n",
    "    mean_BMI = ('BMI', 'mean')\n",
    "    \n",
    "    )\n",
    "\n",
    "print(agrupaciones.round())"
   ]
  },
  {
   "cell_type": "code",
   "execution_count": 122,
   "id": "e772acdd",
   "metadata": {},
   "outputs": [],
   "source": [
    "# Generar una nueva variable para agrupar \n",
    "bins = [0,25,45,float('inf')]\n",
    "labels = ['Joven','Mediana','Mayor']\n",
    "df['Edad_Agrupada'] = pd.cut(df['AGE'], \n",
    "                             bins = bins, \n",
    "                             labels = labels, \n",
    "                             right = False)"
   ]
  },
  {
   "cell_type": "code",
   "execution_count": 123,
   "id": "2065bef6",
   "metadata": {},
   "outputs": [
    {
     "data": {
      "text/html": [
       "<div>\n",
       "<style scoped>\n",
       "    .dataframe tbody tr th:only-of-type {\n",
       "        vertical-align: middle;\n",
       "    }\n",
       "\n",
       "    .dataframe tbody tr th {\n",
       "        vertical-align: top;\n",
       "    }\n",
       "\n",
       "    .dataframe thead th {\n",
       "        text-align: right;\n",
       "    }\n",
       "</style>\n",
       "<table border=\"1\" class=\"dataframe\">\n",
       "  <thead>\n",
       "    <tr style=\"text-align: right;\">\n",
       "      <th></th>\n",
       "      <th>NEMB</th>\n",
       "      <th>GLU</th>\n",
       "      <th>PART</th>\n",
       "      <th>GROS</th>\n",
       "      <th>HUR</th>\n",
       "      <th>BMI</th>\n",
       "      <th>FPRED</th>\n",
       "      <th>AGE</th>\n",
       "      <th>CLASS</th>\n",
       "      <th>Edad_Agrupada</th>\n",
       "    </tr>\n",
       "  </thead>\n",
       "  <tbody>\n",
       "    <tr>\n",
       "      <th>0</th>\n",
       "      <td>6</td>\n",
       "      <td>148.0</td>\n",
       "      <td>72.0</td>\n",
       "      <td>35.0</td>\n",
       "      <td>NaN</td>\n",
       "      <td>33.6</td>\n",
       "      <td>0.627</td>\n",
       "      <td>50</td>\n",
       "      <td>1</td>\n",
       "      <td>Mayor</td>\n",
       "    </tr>\n",
       "    <tr>\n",
       "      <th>1</th>\n",
       "      <td>1</td>\n",
       "      <td>85.0</td>\n",
       "      <td>66.0</td>\n",
       "      <td>29.0</td>\n",
       "      <td>NaN</td>\n",
       "      <td>26.6</td>\n",
       "      <td>0.351</td>\n",
       "      <td>31</td>\n",
       "      <td>0</td>\n",
       "      <td>Mediana</td>\n",
       "    </tr>\n",
       "    <tr>\n",
       "      <th>2</th>\n",
       "      <td>8</td>\n",
       "      <td>183.0</td>\n",
       "      <td>64.0</td>\n",
       "      <td>NaN</td>\n",
       "      <td>NaN</td>\n",
       "      <td>23.3</td>\n",
       "      <td>0.672</td>\n",
       "      <td>32</td>\n",
       "      <td>1</td>\n",
       "      <td>Mediana</td>\n",
       "    </tr>\n",
       "    <tr>\n",
       "      <th>3</th>\n",
       "      <td>1</td>\n",
       "      <td>89.0</td>\n",
       "      <td>66.0</td>\n",
       "      <td>23.0</td>\n",
       "      <td>94.0</td>\n",
       "      <td>28.1</td>\n",
       "      <td>0.167</td>\n",
       "      <td>21</td>\n",
       "      <td>0</td>\n",
       "      <td>Joven</td>\n",
       "    </tr>\n",
       "    <tr>\n",
       "      <th>4</th>\n",
       "      <td>0</td>\n",
       "      <td>137.0</td>\n",
       "      <td>40.0</td>\n",
       "      <td>35.0</td>\n",
       "      <td>168.0</td>\n",
       "      <td>43.1</td>\n",
       "      <td>2.288</td>\n",
       "      <td>33</td>\n",
       "      <td>1</td>\n",
       "      <td>Mediana</td>\n",
       "    </tr>\n",
       "  </tbody>\n",
       "</table>\n",
       "</div>"
      ],
      "text/plain": [
       "   NEMB    GLU  PART  GROS    HUR   BMI  FPRED  AGE  CLASS Edad_Agrupada\n",
       "0     6  148.0  72.0  35.0    NaN  33.6  0.627   50      1         Mayor\n",
       "1     1   85.0  66.0  29.0    NaN  26.6  0.351   31      0       Mediana\n",
       "2     8  183.0  64.0   NaN    NaN  23.3  0.672   32      1       Mediana\n",
       "3     1   89.0  66.0  23.0   94.0  28.1  0.167   21      0         Joven\n",
       "4     0  137.0  40.0  35.0  168.0  43.1  2.288   33      1       Mediana"
      ]
     },
     "execution_count": 123,
     "metadata": {},
     "output_type": "execute_result"
    }
   ],
   "source": [
    "df.head()"
   ]
  },
  {
   "cell_type": "code",
   "execution_count": 124,
   "id": "68eb8348",
   "metadata": {},
   "outputs": [
    {
     "data": {
      "text/plain": [
       "Edad_Agrupada\n",
       "Mediana    416\n",
       "Joven      219\n",
       "Mayor      133\n",
       "Name: count, dtype: int64"
      ]
     },
     "execution_count": 124,
     "metadata": {},
     "output_type": "execute_result"
    }
   ],
   "source": [
    "df['Edad_Agrupada'].value_counts()"
   ]
  },
  {
   "cell_type": "code",
   "execution_count": 125,
   "id": "bc413027",
   "metadata": {},
   "outputs": [
    {
     "name": "stdout",
     "output_type": "stream",
     "text": [
      "                   NEMB        BMI\n",
      "Edad_Agrupada                     \n",
      "Joven          1.493151  30.856808\n",
      "Mediana        4.240385  33.438983\n",
      "Mayor          6.481203  31.965649\n"
     ]
    },
    {
     "name": "stderr",
     "output_type": "stream",
     "text": [
      "C:\\Users\\u634093\\AppData\\Local\\Temp\\ipykernel_28276\\2400299143.py:3: FutureWarning: The default of observed=False is deprecated and will be changed to True in a future version of pandas. Pass observed=False to retain current behavior or observed=True to adopt the future default and silence this warning.\n",
      "  print(df.groupby('Edad_Agrupada')[['NEMB','BMI']].mean())\n"
     ]
    }
   ],
   "source": [
    "# Calcular NEMB y BMI promedio por grupo de edad \n",
    "\n",
    "print(df.groupby('Edad_Agrupada')[['NEMB','BMI']].mean())\n"
   ]
  },
  {
   "cell_type": "code",
   "execution_count": 126,
   "id": "62e0fe8e",
   "metadata": {},
   "outputs": [
    {
     "name": "stderr",
     "output_type": "stream",
     "text": [
      "C:\\Users\\u634093\\AppData\\Local\\Temp\\ipykernel_28276\\1045499761.py:1: FutureWarning: The default of observed=False is deprecated and will be changed to True in a future version of pandas. Pass observed=False to retain current behavior or observed=True to adopt the future default and silence this warning.\n",
      "  cantidad = df.groupby('Edad_Agrupada')['CLASS'].count()\n"
     ]
    },
    {
     "data": {
      "text/plain": [
       "Edad_Agrupada\n",
       "Joven      219\n",
       "Mediana    416\n",
       "Mayor      133\n",
       "Name: CLASS, dtype: int64"
      ]
     },
     "execution_count": 126,
     "metadata": {},
     "output_type": "execute_result"
    }
   ],
   "source": [
    "cantidad = df.groupby('Edad_Agrupada')['CLASS'].count()\n",
    "cantidad"
   ]
  },
  {
   "cell_type": "code",
   "execution_count": 127,
   "id": "ec9f78fc",
   "metadata": {},
   "outputs": [
    {
     "name": "stderr",
     "output_type": "stream",
     "text": [
      "C:\\Users\\u634093\\AppData\\Local\\Temp\\ipykernel_28276\\852739053.py:1: FutureWarning: The default of observed=False is deprecated and will be changed to True in a future version of pandas. Pass observed=False to retain current behavior or observed=True to adopt the future default and silence this warning.\n",
      "  cantidad_1 = df.groupby('Edad_Agrupada')['CLASS'].sum()\n"
     ]
    },
    {
     "data": {
      "text/plain": [
       "Edad_Agrupada\n",
       "Joven       31\n",
       "Mediana    171\n",
       "Mayor       66\n",
       "Name: CLASS, dtype: int64"
      ]
     },
     "execution_count": 127,
     "metadata": {},
     "output_type": "execute_result"
    }
   ],
   "source": [
    "cantidad_1 = df.groupby('Edad_Agrupada')['CLASS'].sum()\n",
    "cantidad_1"
   ]
  },
  {
   "cell_type": "code",
   "execution_count": 128,
   "id": "646ecb0c",
   "metadata": {},
   "outputs": [
    {
     "name": "stderr",
     "output_type": "stream",
     "text": [
      "C:\\Users\\u634093\\AppData\\Local\\Temp\\ipykernel_28276\\3571262087.py:2: FutureWarning: The default of observed=False is deprecated and will be changed to True in a future version of pandas. Pass observed=False to retain current behavior or observed=True to adopt the future default and silence this warning.\n",
      "  cantidad = df.groupby('Edad_Agrupada')['CLASS'].count()\n",
      "C:\\Users\\u634093\\AppData\\Local\\Temp\\ipykernel_28276\\3571262087.py:3: FutureWarning: The default of observed=False is deprecated and will be changed to True in a future version of pandas. Pass observed=False to retain current behavior or observed=True to adopt the future default and silence this warning.\n",
      "  cantidad_1 = df.groupby('Edad_Agrupada')['CLASS'].sum()\n"
     ]
    },
    {
     "data": {
      "text/plain": [
       "Edad_Agrupada\n",
       "Joven      0.141553\n",
       "Mediana    0.411058\n",
       "Mayor      0.496241\n",
       "Name: CLASS, dtype: float64"
      ]
     },
     "execution_count": 128,
     "metadata": {},
     "output_type": "execute_result"
    }
   ],
   "source": [
    "# Calcular porcentaje de \"CLASS\" por grupo de edad \n",
    "cantidad = df.groupby('Edad_Agrupada')['CLASS'].count()\n",
    "cantidad_1 = df.groupby('Edad_Agrupada')['CLASS'].sum()\n",
    "cantidad_1 / cantidad"
   ]
  },
  {
   "cell_type": "code",
   "execution_count": 129,
   "id": "70186dfb",
   "metadata": {},
   "outputs": [
    {
     "name": "stdout",
     "output_type": "stream",
     "text": [
      "Edad_Agrupada\n",
      "Joven      0.141553\n",
      "Mediana    0.411058\n",
      "Mayor      0.496241\n",
      "Name: CLASS, dtype: float64\n"
     ]
    },
    {
     "name": "stderr",
     "output_type": "stream",
     "text": [
      "C:\\Users\\u634093\\AppData\\Local\\Temp\\ipykernel_28276\\3932878302.py:2: FutureWarning: The default of observed=False is deprecated and will be changed to True in a future version of pandas. Pass observed=False to retain current behavior or observed=True to adopt the future default and silence this warning.\n",
      "  print(df.groupby('Edad_Agrupada')['CLASS'].mean())\n"
     ]
    }
   ],
   "source": [
    "# Pero más simple: \n",
    "print(df.groupby('Edad_Agrupada')['CLASS'].mean())"
   ]
  }
 ],
 "metadata": {
  "kernelspec": {
   "display_name": "Python 3 (ipykernel)",
   "language": "python",
   "name": "python3"
  },
  "language_info": {
   "codemirror_mode": {
    "name": "ipython",
    "version": 3
   },
   "file_extension": ".py",
   "mimetype": "text/x-python",
   "name": "python",
   "nbconvert_exporter": "python",
   "pygments_lexer": "ipython3",
   "version": "3.11.9"
  }
 },
 "nbformat": 4,
 "nbformat_minor": 5
}
