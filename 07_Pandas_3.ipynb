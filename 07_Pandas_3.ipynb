{
 "cells": [
  {
   "cell_type": "markdown",
   "id": "bd3c0c8d",
   "metadata": {},
   "source": [
    "# Operaciones con Strings"
   ]
  },
  {
   "cell_type": "code",
   "execution_count": 5,
   "id": "87c0e029",
   "metadata": {},
   "outputs": [],
   "source": [
    "import pandas as pd\n",
    "import numpy as np\n",
    "import os"
   ]
  },
  {
   "cell_type": "code",
   "execution_count": 6,
   "id": "a46de57d",
   "metadata": {},
   "outputs": [
    {
     "name": "stdout",
     "output_type": "stream",
     "text": [
      "   Unnamed: 0  S.No.           start            end          president  \\\n",
      "0           0      1  April 30, 1789  March 4, 1797  George Washington   \n",
      "1           1      2   March 4, 1797  March 4, 1801         John Adams   \n",
      "2           2      3   March 4, 1801  March 4, 1809   Thomas Jefferson   \n",
      "3           3      4   March 4, 1809  March 4, 1817      James Madison   \n",
      "4           4      5   March 4, 1817  March 4, 1825       James Monroe   \n",
      "\n",
      "                                               prior                    party  \\\n",
      "0  Commander-in-Chief  of the  Continental Army  ...       Nonpartisan   [13]   \n",
      "1           1st  Vice President of the United States               Federalist   \n",
      "2           2nd  Vice President of the United States  Democratic-  Republican   \n",
      "3  5th  United States Secretary of State   (1801–...  Democratic-  Republican   \n",
      "4  7th  United States Secretary of State   (1811–...  Democratic-  Republican   \n",
      "\n",
      "                 vice  \n",
      "0          John Adams  \n",
      "1    Thomas Jefferson  \n",
      "2          Aaron Burr  \n",
      "3      George Clinton  \n",
      "4  Daniel D. Tompkins  \n"
     ]
    }
   ],
   "source": [
    "# Defino el directorio\n",
    "url = 'https://raw.githubusercontent.com/xlisouski/DataCoder/main/us_presidents%202.csv'\n",
    "\n",
    "# Levanto el archivo\n",
    "Presidentes_archivo = pd.read_csv(url, sep = ',')\n",
    "\n",
    "print(Presidentes_archivo.head())\n"
   ]
  },
  {
   "cell_type": "code",
   "execution_count": 7,
   "id": "c8dc6a22",
   "metadata": {},
   "outputs": [
    {
     "name": "stdout",
     "output_type": "stream",
     "text": [
      "0    George Washington\n",
      "1           John Adams\n",
      "2     Thomas Jefferson\n",
      "3        James Madison\n",
      "4         James Monroe\n",
      "Name: president, dtype: object\n"
     ]
    }
   ],
   "source": [
    "# Genero una variable llamada Presidentes_nombres\n",
    "Presidentes_nombres = pd.Series(Presidentes_archivo['president'])\n",
    "print(Presidentes_nombres.head())"
   ]
  },
  {
   "cell_type": "code",
   "execution_count": 8,
   "id": "068195f6",
   "metadata": {},
   "outputs": [
    {
     "name": "stdout",
     "output_type": "stream",
     "text": [
      "0    GEORGE WASHINGTON\n",
      "1           JOHN ADAMS\n",
      "2     THOMAS JEFFERSON\n",
      "3        JAMES MADISON\n",
      "4         JAMES MONROE\n",
      "Name: president, dtype: object\n"
     ]
    }
   ],
   "source": [
    "# Convierto todo a mayusculas\n",
    "Presidentes_nombres_mayus = Presidentes_nombres.str.upper()\n",
    "print(Presidentes_nombres_mayus.head())"
   ]
  },
  {
   "cell_type": "code",
   "execution_count": 9,
   "id": "ea436509",
   "metadata": {},
   "outputs": [
    {
     "name": "stdout",
     "output_type": "stream",
     "text": [
      "0    george washington\n",
      "1           john adams\n",
      "2     thomas jefferson\n",
      "3        james madison\n",
      "4         james monroe\n",
      "Name: president, dtype: object\n"
     ]
    }
   ],
   "source": [
    "# Convierto todo a minusculas\n",
    "Presidentes_nombres_min = Presidentes_nombres.str.lower()\n",
    "print(Presidentes_nombres_min.head())"
   ]
  },
  {
   "cell_type": "code",
   "execution_count": 10,
   "id": "29704002",
   "metadata": {},
   "outputs": [
    {
     "name": "stdout",
     "output_type": "stream",
     "text": [
      "0    17\n",
      "1    10\n",
      "2    16\n",
      "3    13\n",
      "4    12\n",
      "Name: president, dtype: int64\n"
     ]
    }
   ],
   "source": [
    "# ¿Cuántos caracteres tiene cada nombre? \n",
    "cant_caracteres = Presidentes_nombres.str.len()\n",
    "print(cant_caracteres.head())"
   ]
  },
  {
   "cell_type": "code",
   "execution_count": 11,
   "id": "bbf25052",
   "metadata": {},
   "outputs": [
    {
     "name": "stdout",
     "output_type": "stream",
     "text": [
      "0    False\n",
      "1     True\n",
      "2    False\n",
      "3     True\n",
      "4     True\n",
      "Name: president, dtype: bool\n",
      "1           John Adams\n",
      "3        James Madison\n",
      "4         James Monroe\n",
      "5    John Quincy Adams\n",
      "9           John Tyler\n",
      "Name: president, dtype: object\n"
     ]
    }
   ],
   "source": [
    "# Quiénes comienzan con determinada letra? \n",
    "con_j = Presidentes_nombres.str.startswith('J')\n",
    "print(con_j.head())\n",
    "print(Presidentes_nombres[con_j].head())"
   ]
  },
  {
   "cell_type": "code",
   "execution_count": 12,
   "id": "82d1e992",
   "metadata": {},
   "outputs": [
    {
     "name": "stdout",
     "output_type": "stream",
     "text": [
      "0    [George, Washington]\n",
      "1           [John, Adams]\n",
      "2     [Thomas, Jefferson]\n",
      "3        [James, Madison]\n",
      "4         [James, Monroe]\n",
      "Name: president, dtype: object\n"
     ]
    }
   ],
   "source": [
    "# Cómo separo el nombre en varias listas? \n",
    "dividido = Presidentes_nombres.str.split()\n",
    "print(dividido.head())\n"
   ]
  },
  {
   "cell_type": "code",
   "execution_count": 13,
   "id": "a9ec442b",
   "metadata": {},
   "outputs": [
    {
     "name": "stdout",
     "output_type": "stream",
     "text": [
      "George\n",
      "Washington\n"
     ]
    }
   ],
   "source": [
    "print(dividido[0][0])\n",
    "print(dividido[0][1])"
   ]
  },
  {
   "cell_type": "code",
   "execution_count": 14,
   "id": "a9c171b4",
   "metadata": {},
   "outputs": [
    {
     "name": "stdout",
     "output_type": "stream",
     "text": [
      "0    [G, org,  Washington]\n",
      "1             [John Adams]\n",
      "2     [Thomas J, ff, rson]\n",
      "3         [Jam, s Madison]\n",
      "4         [Jam, s Monro, ]\n",
      "Name: president, dtype: object\n"
     ]
    }
   ],
   "source": [
    "dividido_2 = Presidentes_nombres.str.split('e')\n",
    "print(dividido_2.head())"
   ]
  },
  {
   "cell_type": "code",
   "execution_count": 15,
   "id": "ce5d153d",
   "metadata": {},
   "outputs": [
    {
     "name": "stdout",
     "output_type": "stream",
     "text": [
      "0    False\n",
      "1    False\n",
      "2    False\n",
      "3    False\n",
      "4    False\n",
      "Name: president, dtype: bool\n",
      "29    Calvin Coolidge\n",
      "41       Bill Clinton\n",
      "Name: president, dtype: object\n"
     ]
    }
   ],
   "source": [
    "# Expresiones regulares \n",
    "import re\n",
    "cumple = Presidentes_nombres.str.contains(pat = 'Bill|Calvin', \n",
    "                                         regex = True)\n",
    "print(cumple.head())\n",
    "print(Presidentes_nombres[cumple].head())"
   ]
  },
  {
   "cell_type": "code",
   "execution_count": 16,
   "id": "b3e620cf",
   "metadata": {},
   "outputs": [
    {
     "name": "stdout",
     "output_type": "stream",
     "text": [
      "41    Bill Clinton\n",
      "Name: president, dtype: object\n"
     ]
    }
   ],
   "source": [
    "cumple_2 = Presidentes_nombres.str.contains(pat = 'Bill', \n",
    "                                            regex = True)\n",
    "print(Presidentes_nombres[cumple_2].head())"
   ]
  },
  {
   "cell_type": "code",
   "execution_count": 17,
   "id": "b39cf29a",
   "metadata": {},
   "outputs": [
    {
     "name": "stdout",
     "output_type": "stream",
     "text": [
      "0    George Washington\n",
      "2     Thomas Jefferson\n",
      "3        James Madison\n",
      "6       Andrew Jackson\n",
      "7     Martin Van Buren\n",
      "Name: president, dtype: object\n"
     ]
    }
   ],
   "source": [
    "# Los que terminan en n?\n",
    "cumple_3 = Presidentes_nombres.str.contains(pat = 'n$', \n",
    "                                            regex = True)\n",
    "print(Presidentes_nombres[cumple_3].head())"
   ]
  },
  {
   "cell_type": "code",
   "execution_count": 18,
   "id": "f4e09a24",
   "metadata": {},
   "outputs": [
    {
     "name": "stdout",
     "output_type": "stream",
     "text": [
      "18    Rutherford B. Hayes\n",
      "36          Richard Nixon\n",
      "39          Ronald Reagan\n",
      "Name: president, dtype: object\n"
     ]
    }
   ],
   "source": [
    "# Los que empiezan en R?\n",
    "cumple_4 = Presidentes_nombres.str.contains(pat = '^R', \n",
    "                                            regex = True)\n",
    "print(Presidentes_nombres[cumple_4].head())"
   ]
  },
  {
   "cell_type": "code",
   "execution_count": 19,
   "id": "309a2b9d",
   "metadata": {},
   "outputs": [
    {
     "name": "stdout",
     "output_type": "stream",
     "text": [
      "10          James K. Polk\n",
      "17       Ulysses S. Grant\n",
      "18    Rutherford B. Hayes\n",
      "19      James A. Garfield\n",
      "20      Chester A. Arthur\n",
      "Name: president, dtype: object\n"
     ]
    }
   ],
   "source": [
    "# Los que tienen un . en el nombre?\n",
    "cumple_5 = Presidentes_nombres.str.contains(pat = '\\.', \n",
    "                                            regex = True)\n",
    "print(Presidentes_nombres[cumple_5].head())"
   ]
  },
  {
   "cell_type": "markdown",
   "id": "58335f6f",
   "metadata": {},
   "source": [
    "# SERIES DE TIEMPO"
   ]
  },
  {
   "cell_type": "code",
   "execution_count": 20,
   "id": "926ec92b",
   "metadata": {},
   "outputs": [
    {
     "data": {
      "text/plain": [
       "Timestamp('2020-01-03 00:00:00')"
      ]
     },
     "execution_count": 20,
     "metadata": {},
     "output_type": "execute_result"
    }
   ],
   "source": [
    "fecha = pd.to_datetime('03/01/2020',dayfirst=True)\n",
    "fecha"
   ]
  },
  {
   "cell_type": "code",
   "execution_count": 21,
   "id": "28c632e9",
   "metadata": {},
   "outputs": [
    {
     "data": {
      "text/plain": [
       "Timestamp('2020-01-10 00:00:00')"
      ]
     },
     "execution_count": 21,
     "metadata": {},
     "output_type": "execute_result"
    }
   ],
   "source": [
    "fin = pd.to_datetime('10/01/2020',dayfirst=True)\n",
    "fin"
   ]
  },
  {
   "cell_type": "code",
   "execution_count": 22,
   "id": "a21555e0",
   "metadata": {},
   "outputs": [
    {
     "data": {
      "text/plain": [
       "DatetimeIndex(['2020-01-03', '2020-01-04', '2020-01-05', '2020-01-06',\n",
       "               '2020-01-07', '2020-01-08', '2020-01-09', '2020-01-10'],\n",
       "              dtype='datetime64[ns]', freq='D')"
      ]
     },
     "execution_count": 22,
     "metadata": {},
     "output_type": "execute_result"
    }
   ],
   "source": [
    "fechas_1 = pd.date_range(start=fecha, end=fin)\n",
    "fechas_1"
   ]
  },
  {
   "cell_type": "code",
   "execution_count": 23,
   "id": "5870b029",
   "metadata": {},
   "outputs": [
    {
     "data": {
      "text/plain": [
       "DatetimeIndex(['2020-01-03', '2020-01-04', '2020-01-05', '2020-01-06',\n",
       "               '2020-01-07', '2020-01-08', '2020-01-09', '2020-01-10'],\n",
       "              dtype='datetime64[ns]', freq='D')"
      ]
     },
     "execution_count": 23,
     "metadata": {},
     "output_type": "execute_result"
    }
   ],
   "source": [
    "fechas_2 = pd.date_range(start=fecha, periods=8)\n",
    "fechas_2"
   ]
  }
 ],
 "metadata": {
  "kernelspec": {
   "display_name": "Python 3 (ipykernel)",
   "language": "python",
   "name": "python3"
  },
  "language_info": {
   "codemirror_mode": {
    "name": "ipython",
    "version": 3
   },
   "file_extension": ".py",
   "mimetype": "text/x-python",
   "name": "python",
   "nbconvert_exporter": "python",
   "pygments_lexer": "ipython3",
   "version": "3.11.9"
  }
 },
 "nbformat": 4,
 "nbformat_minor": 5
}
