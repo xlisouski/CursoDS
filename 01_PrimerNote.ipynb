{
 "cells": [
  {
   "cell_type": "markdown",
   "id": "ddfe639c-b09b-4893-b7ef-a1887dd0c306",
   "metadata": {},
   "source": [
    "Hola! Este es mi primer Notebook"
   ]
  },
  {
   "cell_type": "code",
   "execution_count": 3,
   "id": "96dffe5b-87fd-48e5-a7fe-f773308d0bab",
   "metadata": {},
   "outputs": [
    {
     "name": "stdout",
     "output_type": "stream",
     "text": [
      "Hola!\n"
     ]
    }
   ],
   "source": [
    "print(\"Hola!\")\n"
   ]
  },
  {
   "cell_type": "raw",
   "id": "aeaa3422-25b9-4e12-9376-607444285352",
   "metadata": {},
   "source": [
    "print(\"Hola!\")"
   ]
  },
  {
   "cell_type": "markdown",
   "id": "fea75c25-2daa-484e-95d1-0c85771d39c4",
   "metadata": {},
   "source": [
    "Datos Simples"
   ]
  },
  {
   "cell_type": "code",
   "execution_count": 4,
   "id": "23459502-d0c7-475e-8554-26d017d22e24",
   "metadata": {},
   "outputs": [
    {
     "name": "stdout",
     "output_type": "stream",
     "text": [
      "8\n",
      "<class 'int'>\n"
     ]
    }
   ],
   "source": [
    "numericos_1 = 8\n",
    "print(numericos_1)\n",
    "print(type(numericos_1))"
   ]
  },
  {
   "cell_type": "code",
   "execution_count": 5,
   "id": "15bde4c2-f5d9-41c1-bea1-2e54a02daf2e",
   "metadata": {},
   "outputs": [
    {
     "name": "stdout",
     "output_type": "stream",
     "text": [
      "8.77\n",
      "<class 'float'>\n"
     ]
    }
   ],
   "source": [
    "numericos_2 = 8.77\n",
    "print(numericos_2)\n",
    "print(type(numericos_2))"
   ]
  },
  {
   "cell_type": "code",
   "execution_count": 6,
   "id": "1c348541-a916-4339-9b13-71b17e1178bb",
   "metadata": {},
   "outputs": [
    {
     "name": "stdout",
     "output_type": "stream",
     "text": [
      "True False\n",
      "<class 'bool'> <class 'bool'>\n"
     ]
    }
   ],
   "source": [
    "booleano_1 = True\n",
    "booleano_2 = False \n",
    "print(booleano_1,booleano_2)\n",
    "print(type(booleano_1),type(booleano_2))"
   ]
  },
  {
   "cell_type": "code",
   "execution_count": 7,
   "id": "cf58b58f-116e-40af-ac43-0e7f57abe776",
   "metadata": {},
   "outputs": [
    {
     "name": "stdout",
     "output_type": "stream",
     "text": [
      "Holaaaaaaaaaa\n",
      "<class 'str'>\n"
     ]
    }
   ],
   "source": [
    "string_1 = \"Holaaaaaaaaaa\"\n",
    "print(string_1)\n",
    "print(type(string_1))"
   ]
  },
  {
   "cell_type": "markdown",
   "id": "15d3aaf4-2ee8-4ef6-91e5-853a66fa65cf",
   "metadata": {},
   "source": [
    "Datos Estructurados"
   ]
  },
  {
   "cell_type": "markdown",
   "id": "ee87027f-ef51-457a-9775-0503bcaa252d",
   "metadata": {},
   "source": [
    "1) Conjuntos"
   ]
  },
  {
   "cell_type": "code",
   "execution_count": 8,
   "id": "373477b4-fc26-4904-a882-6edacda398ea",
   "metadata": {},
   "outputs": [
    {
     "name": "stdout",
     "output_type": "stream",
     "text": [
      "{'manzana', 'naranja', 'frutilla'}\n",
      "<class 'set'>\n"
     ]
    }
   ],
   "source": [
    "frutas = {\"manzana\",\"naranja\",\"frutilla\"}\n",
    "print(frutas)\n",
    "print(type(frutas))"
   ]
  },
  {
   "cell_type": "code",
   "execution_count": 9,
   "id": "eca11cb1-06cf-4a71-853f-56b620aff9bb",
   "metadata": {},
   "outputs": [
    {
     "name": "stdout",
     "output_type": "stream",
     "text": [
      "{'manzana', 'naranja', 'frutilla', 'uva'}\n"
     ]
    }
   ],
   "source": [
    "frutas.add(\"uva\")\n",
    "print(frutas)"
   ]
  },
  {
   "cell_type": "code",
   "execution_count": 10,
   "id": "d22db3d6-0ea4-42e9-b22f-b429a0e1eaec",
   "metadata": {},
   "outputs": [
    {
     "name": "stdout",
     "output_type": "stream",
     "text": [
      "{'manzana', 'naranja', 'frutilla', 'uva'}\n"
     ]
    }
   ],
   "source": [
    "frutas.add(\"naranja\")\n",
    "print(frutas)"
   ]
  },
  {
   "cell_type": "code",
   "execution_count": 12,
   "id": "4e09dd3b-fc46-4927-8faa-c46f675b40ea",
   "metadata": {},
   "outputs": [
    {
     "name": "stdout",
     "output_type": "stream",
     "text": [
      "{'uva', 'frutilla', 'Naranja', 'manzana', 'naranja'}\n"
     ]
    }
   ],
   "source": [
    "frutas.add(\"Naranja\")\n",
    "print(frutas)"
   ]
  },
  {
   "cell_type": "markdown",
   "id": "d4b6b636-a2fe-4a6d-a6ab-34e0133f59e2",
   "metadata": {},
   "source": [
    "2) Diccionarios"
   ]
  },
  {
   "cell_type": "code",
   "execution_count": 15,
   "id": "16331242-4acc-4410-8ee8-3ea1b0010171",
   "metadata": {},
   "outputs": [
    {
     "name": "stdout",
     "output_type": "stream",
     "text": [
      "{'elemento_1': 1, 'elemento_2': 2}\n",
      "<class 'dict'>\n"
     ]
    }
   ],
   "source": [
    "diccionario_1 = {'elemento_1' : 1,'elemento_2' : 2}\n",
    "\n",
    "print(diccionario_1)\n",
    "print(type(diccionario_1))\n"
   ]
  },
  {
   "cell_type": "code",
   "execution_count": 17,
   "id": "99b3c416-c9d2-4a81-827c-15b3ad926ad9",
   "metadata": {},
   "outputs": [
    {
     "name": "stdout",
     "output_type": "stream",
     "text": [
      "{'nombre': 'Ximena', 'edad': 18, 'profesion': 'Actuaria'}\n",
      "Ximena\n",
      "Actuaria\n"
     ]
    }
   ],
   "source": [
    "persona = {'nombre' : \"Ximena\",'edad':18,'profesion':\"Actuaria\"}\n",
    "print(persona)\n",
    "\n",
    "print(persona['nombre'])\n",
    "print(persona['profesion'])\n"
   ]
  },
  {
   "cell_type": "markdown",
   "id": "a6c7bcf5-f71b-4261-ac73-66d5feeba9a0",
   "metadata": {},
   "source": [
    "3) Listas"
   ]
  },
  {
   "cell_type": "code",
   "execution_count": 24,
   "id": "01ff081f-8c49-4195-88c8-b7b3ebca0777",
   "metadata": {},
   "outputs": [
    {
     "name": "stdout",
     "output_type": "stream",
     "text": [
      "<class 'list'>\n",
      "1\n",
      "5.77\n",
      "cuatro\n",
      "[1, 2, 3, 'cuatro', 5.77, True]\n",
      "[1, 2, 'cuatro', 5.77, True]\n",
      "5\n",
      "[1, 2, 'cuatro', 'cambieeee', True]\n"
     ]
    }
   ],
   "source": [
    "mi_lista = [1,2,3,\"cuatro\",5.77]\n",
    "print(type(mi_lista))\n",
    "\n",
    "print(mi_lista[0])\n",
    "print(mi_lista[-1])\n",
    "print(mi_lista[3])\n",
    "\n",
    "# Como agregar un elemento a una lista:\n",
    "mi_lista.append(True)\n",
    "print(mi_lista)\n",
    "\n",
    "# Como borrar un elemento de una lista:\n",
    "del mi_lista[2]\n",
    "print(mi_lista)\n",
    "\n",
    "# Como contar cantidad de elementos de una lista: \n",
    "print(len(mi_lista))\n",
    "\n",
    "# Como reemplazar un elemento de una lista:\n",
    "mi_lista[3] = \"cambieeee\"\n",
    "print(mi_lista)\n"
   ]
  },
  {
   "cell_type": "markdown",
   "id": "26222351-28ee-4ef8-8e4b-8a4b94871f95",
   "metadata": {},
   "source": [
    "4) Tupla"
   ]
  },
  {
   "cell_type": "code",
   "execution_count": 28,
   "id": "d8ca8b33-3189-4bc0-897a-1070013c207f",
   "metadata": {},
   "outputs": [
    {
     "name": "stdout",
     "output_type": "stream",
     "text": [
      "(1, 'dos', 3.5, 8)\n",
      "<class 'tuple'>\n",
      "3.5\n"
     ]
    }
   ],
   "source": [
    "mi_tupla = (1,\"dos\",3.5,8)\n",
    "print(mi_tupla)\n",
    "print(type(mi_tupla))\n",
    "\n",
    "print(mi_tupla[2])\n",
    "\n",
    "# No puedo reemplazar valores \n",
    "# mi_tupla[2] = 'cambieeeee'\n"
   ]
  },
  {
   "cell_type": "markdown",
   "id": "734e0cf2-66ca-4f86-93de-8fb2bbf19fd7",
   "metadata": {},
   "source": [
    "Estructuras de control"
   ]
  },
  {
   "cell_type": "markdown",
   "id": "f7032e71-13d1-4128-ac57-2310e0bd2937",
   "metadata": {},
   "source": [
    "1) FOR"
   ]
  },
  {
   "cell_type": "code",
   "execution_count": 30,
   "id": "fab570ee-f87c-4bfb-9f43-a6637ceceb28",
   "metadata": {},
   "outputs": [
    {
     "name": "stdout",
     "output_type": "stream",
     "text": [
      "range(1, 10)\n",
      "<class 'range'>\n"
     ]
    }
   ],
   "source": [
    "rangos = range(1,10) \n",
    "print(rangos)\n",
    "print(type(rangos))"
   ]
  },
  {
   "cell_type": "code",
   "execution_count": 31,
   "id": "935dc781-3170-4e48-b51e-4c625569064d",
   "metadata": {},
   "outputs": [
    {
     "name": "stdout",
     "output_type": "stream",
     "text": [
      "1\n",
      "9\n"
     ]
    }
   ],
   "source": [
    "# Inspeccionar elementos: \n",
    "print(rangos[0])\n",
    "print(rangos[-1])"
   ]
  },
  {
   "cell_type": "code",
   "execution_count": 32,
   "id": "e7fffff0-5cab-41d6-976e-a01ade47ac47",
   "metadata": {},
   "outputs": [
    {
     "name": "stdout",
     "output_type": "stream",
     "text": [
      "1\n",
      "2\n",
      "3\n",
      "4\n",
      "5\n",
      "6\n",
      "7\n",
      "8\n",
      "9\n"
     ]
    }
   ],
   "source": [
    "for i in rangos:\n",
    "    print(i)"
   ]
  },
  {
   "cell_type": "code",
   "execution_count": 33,
   "id": "1d674a30-b969-4885-9240-2dd368671853",
   "metadata": {},
   "outputs": [
    {
     "name": "stdout",
     "output_type": "stream",
     "text": [
      "1\n",
      "2\n",
      "3\n",
      "4\n",
      "5\n",
      "6\n",
      "7\n",
      "8\n",
      "9\n"
     ]
    }
   ],
   "source": [
    "for i in range(1,10) :\n",
    "    print(i)"
   ]
  },
  {
   "cell_type": "code",
   "execution_count": 34,
   "id": "cef866e0-0fe0-4e75-a2e3-4e5d39718f53",
   "metadata": {},
   "outputs": [
    {
     "name": "stdout",
     "output_type": "stream",
     "text": [
      "1\n",
      "2\n",
      "3\n",
      "4\n",
      "5\n",
      "6\n",
      "7\n",
      "8\n",
      "9\n"
     ]
    }
   ],
   "source": [
    "for x in rangos:\n",
    "    print(x)"
   ]
  },
  {
   "cell_type": "code",
   "execution_count": 38,
   "id": "4b44b198-8a41-4284-a109-67ddc4f5aa04",
   "metadata": {},
   "outputs": [
    {
     "name": "stdout",
     "output_type": "stream",
     "text": [
      "2\n",
      "4\n",
      "6\n",
      "8\n",
      "10\n",
      "12\n",
      "14\n",
      "16\n",
      "18\n"
     ]
    }
   ],
   "source": [
    "for i in rangos: \n",
    "    b = i * 2\n",
    "    print(b)\n",
    "    #print(i * 2) "
   ]
  },
  {
   "cell_type": "code",
   "execution_count": 36,
   "id": "c529e101-e63c-47dc-9bd5-7b5eb83deaa5",
   "metadata": {},
   "outputs": [
    {
     "name": "stdout",
     "output_type": "stream",
     "text": [
      "18\n"
     ]
    }
   ],
   "source": [
    "print(b)"
   ]
  },
  {
   "cell_type": "code",
   "execution_count": 39,
   "id": "c122f40e-1824-42a3-a64e-a51cdab94368",
   "metadata": {},
   "outputs": [
    {
     "name": "stdout",
     "output_type": "stream",
     "text": [
      "1\n",
      "2\n",
      "cuatro\n",
      "cambieeee\n",
      "True\n"
     ]
    }
   ],
   "source": [
    "for i in mi_lista:\n",
    "    print(i)\n"
   ]
  },
  {
   "cell_type": "code",
   "execution_count": 41,
   "id": "649698bc-a517-46d2-8c17-b95ce7c6b439",
   "metadata": {},
   "outputs": [
    {
     "name": "stdout",
     "output_type": "stream",
     "text": [
      "hola que tal\n",
      "hola que tal\n"
     ]
    }
   ],
   "source": [
    "# Como concateno? \n",
    "a = \"hola\"\n",
    "b = \" que tal\"\n",
    "print(a+b)\n",
    "c = a + b\n",
    "print(c)\n"
   ]
  },
  {
   "cell_type": "code",
   "execution_count": 42,
   "id": "9bffacd3-ca1f-4d1c-b7f5-0e516e8c464d",
   "metadata": {},
   "outputs": [
    {
     "name": "stdout",
     "output_type": "stream",
     "text": [
      "Lenguaje: Python\n",
      "Lenguaje: R\n",
      "Lenguaje: Julia\n"
     ]
    }
   ],
   "source": [
    "lenguajes = [\"Python\",\"R\",\"Julia\"]\n",
    "for i in lenguajes:\n",
    "    print(\"Lenguaje: \" + i)"
   ]
  },
  {
   "cell_type": "code",
   "execution_count": 45,
   "id": "286aa4d5-8d22-4f3a-ac62-9619855b25ea",
   "metadata": {},
   "outputs": [
    {
     "name": "stdout",
     "output_type": "stream",
     "text": [
      "<class 'str'>\n",
      "Sueldo de junior: $100\n",
      "Sueldo de semi_senior: $120\n",
      "Sueldo de senior: $130\n",
      "Sueldo de lider: $200\n",
      "Sueldo de jefe: $230\n",
      "Sueldo de gerente: $300\n"
     ]
    }
   ],
   "source": [
    "# Como recorro dos listas? \n",
    "puestos = [\"junior\",\"semi_senior\",\"senior\",\"lider\",\"jefe\",\"gerente\"]\n",
    "sueldos = [100,120,130,200,230,300]\n",
    "print(type(str(sueldos)))\n",
    "\n",
    "for x,y in zip(puestos,sueldos):\n",
    "    print(\"Sueldo de \" + x + \": $\" + str(y))\n"
   ]
  },
  {
   "cell_type": "code",
   "execution_count": 50,
   "id": "9e6581df-d665-44d4-9e05-fa59a698c0aa",
   "metadata": {},
   "outputs": [
    {
     "name": "stdout",
     "output_type": "stream",
     "text": [
      "[20 10 70 30 70]\n"
     ]
    }
   ],
   "source": [
    "# Como uso un paquete o libreria? \n",
    "#!pip install numpy\n",
    "import numpy as np \n",
    "variacion = np.diff(sueldos, n=1)\n",
    "print(variacion)"
   ]
  },
  {
   "cell_type": "code",
   "execution_count": 57,
   "id": "f42785bf-e80f-48db-a650-1d56e9703a30",
   "metadata": {},
   "outputs": [
    {
     "name": "stdout",
     "output_type": "stream",
     "text": [
      "['semi_senior', 'senior', 'lider', 'jefe', 'gerente']\n",
      "['senior', 'lider', 'jefe', 'gerente']\n",
      "Ascender a semi_senior equivale a $20 extra\n",
      "Ascender a senior equivale a $10 extra\n",
      "Ascender a lider equivale a $70 extra\n",
      "Ascender a jefe equivale a $30 extra\n",
      "Ascender a gerente equivale a $70 extra\n"
     ]
    }
   ],
   "source": [
    "print(puestos[1:])\n",
    "print(puestos[2:])\n",
    "\n",
    "for x,y in zip(puestos[1:],variacion):\n",
    "    print(\"Ascender a \" + x + \" equivale a $\" + str(y) + \" extra\")"
   ]
  },
  {
   "cell_type": "markdown",
   "id": "939a3688-c774-4ea1-879e-3e30be1bc808",
   "metadata": {},
   "source": [
    "2) WHILE "
   ]
  },
  {
   "cell_type": "code",
   "execution_count": 58,
   "id": "d8162642-e2a9-4d7b-9577-c495aee0f73c",
   "metadata": {},
   "outputs": [
    {
     "name": "stdout",
     "output_type": "stream",
     "text": [
      "Contador:  0\n",
      "Contador:  1\n",
      "Contador:  2\n",
      "Contador:  3\n",
      "Contador:  4\n"
     ]
    }
   ],
   "source": [
    "contador = 0\n",
    "while contador < 5:\n",
    "    print(\"Contador: \",contador)\n",
    "    contador += 1"
   ]
  },
  {
   "cell_type": "code",
   "execution_count": 59,
   "id": "74be4c92-5752-481d-aa3f-bf2b283776f2",
   "metadata": {},
   "outputs": [
    {
     "name": "stdout",
     "output_type": "stream",
     "text": [
      "1\n",
      "2\n",
      "3\n",
      "4\n",
      "5\n",
      "6\n",
      "7\n",
      "8\n",
      "9\n"
     ]
    }
   ],
   "source": [
    "i = 1\n",
    "while i < 10:\n",
    "    print(i)\n",
    "    i = i + 1\n"
   ]
  },
  {
   "cell_type": "code",
   "execution_count": null,
   "id": "0f516306-f464-44cf-a60e-b9155bff258d",
   "metadata": {},
   "outputs": [],
   "source": []
  }
 ],
 "metadata": {
  "kernelspec": {
   "display_name": "Python 3 (ipykernel)",
   "language": "python",
   "name": "python3"
  },
  "language_info": {
   "codemirror_mode": {
    "name": "ipython",
    "version": 3
   },
   "file_extension": ".py",
   "mimetype": "text/x-python",
   "name": "python",
   "nbconvert_exporter": "python",
   "pygments_lexer": "ipython3",
   "version": "3.11.4"
  }
 },
 "nbformat": 4,
 "nbformat_minor": 5
}
