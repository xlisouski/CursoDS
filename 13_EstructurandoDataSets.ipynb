{
 "cells": [
  {
   "cell_type": "code",
   "execution_count": 1,
   "id": "e66b719a",
   "metadata": {},
   "outputs": [],
   "source": [
    "import pandas as pd\n",
    "import numpy as np\n",
    "import matplotlib as mpl\n",
    "import matplotlib.pyplot as plt\n",
    "import seaborn as sns\n",
    "# Importo libreria para trabajar con dates \n",
    "from datetime import timedelta\n",
    "# Libreria para estimar regresión\n",
    "import statsmodels.formula.api as sm\n",
    "# Libreria para normalizar\n",
    "from sklearn.preprocessing import StandardScaler"
   ]
  },
  {
   "cell_type": "markdown",
   "id": "f268c829",
   "metadata": {},
   "source": [
    "# Intentando predecir el precio de una acción dentro de un mes"
   ]
  },
  {
   "cell_type": "markdown",
   "id": "bc6eb225",
   "metadata": {},
   "source": [
    "## Primer paso: Descargar la data\n",
    "<br>\n",
    "Para hacerlo, usé la página de Yahoo Finanzas, busqué dos empresas que me interesaban analizar, y descargué el historial diario de precios y volúmenes del último año. <br>\n",
    "<br>\n",
    "En este caso, vamos a vincular el precio de acciones de Banco Santander y Banco Galicia. <br>\n",
    "<br>\n",
    "Página de descarga: \n",
    "<br>\n",
    "https://es.finance.yahoo.com/quote/SAN.MC/history?p=SAN.MC\n",
    "<br>"
   ]
  },
  {
   "cell_type": "code",
   "execution_count": 2,
   "id": "d865e737",
   "metadata": {},
   "outputs": [],
   "source": [
    "# Levanto la data descargada \n",
    "url = 'https://raw.githubusercontent.com/xlisouski/DataCoder/main/GGAL.csv'\n",
    "galicia = pd.read_csv(url, sep = ',')\n",
    "\n",
    "url = 'https://raw.githubusercontent.com/xlisouski/DataCoder/main/SAN.MC.csv'\n",
    "santander = pd.read_csv(url, sep = ',')"
   ]
  },
  {
   "cell_type": "code",
   "execution_count": 24,
   "id": "2b4b7a2d",
   "metadata": {},
   "outputs": [
    {
     "data": {
      "text/plain": [
       "(1677, 7)"
      ]
     },
     "execution_count": 24,
     "metadata": {},
     "output_type": "execute_result"
    }
   ],
   "source": [
    "galicia.shape"
   ]
  },
  {
   "cell_type": "code",
   "execution_count": null,
   "id": "15a918b0",
   "metadata": {},
   "outputs": [],
   "source": [
    "galicia.head()"
   ]
  },
  {
   "cell_type": "code",
   "execution_count": null,
   "id": "e9108c27",
   "metadata": {},
   "outputs": [],
   "source": [
    "santander.head()"
   ]
  },
  {
   "cell_type": "markdown",
   "id": "c8a461a1",
   "metadata": {},
   "source": [
    "## Paso 2: definir qué estructura necesito \n",
    "<br>\n",
    "Para construir un dataset analizable apuntando al objetivo para el cual estoy estudiando la data, primero necesito definir de manera concreta y objetiva qué quisiera hacer en este dataset. \n",
    "<br>\n",
    "<br>\n",
    "\n",
    "**Objetivo:** Predicir cuál será el precio de la acción al cierre del Banco Galicia exactamente dentro de 30 días. \n",
    "<br>\n",
    "\n",
    "**Variable Target:** Precio de la acción del Banco Galicia dentro de 30 días. \n",
    "<br>\n",
    "\n",
    "**Features:** Información relacionada al historial de precios tanto del Banco Galicia como del Banco Santander. \n",
    "<br>\n",
    "<br>\n",
    "#### Ejemplo puntual de cómo construir un renglón:\n",
    "<br>\n",
    "\n",
    "Si me paro en el 23/08/2023: \n",
    "<br>\n",
    "1- El precio de la acción del Banco Galicia el 23/09/2023 será información para la variable target\n",
    "<br>\n",
    "2- El historial de precios y volúmenes antes del 23/08/2023 será información disponible para construir features \n",
    "<br>\n",
    "<br>\n",
    "\n",
    "**Entonces:** Muy importante conocer el concepto de **Punto de Observación**. \n",
    "Esto se refiere al momento del tiempo en que me estoy posicionando para construir el dataset de entrenamiento:\n",
    "\n",
    "<br>\n",
    "\n",
    "* La variable **Target** se calcula al momento del punto de observación o de manera posterior.\n",
    "* Los **Features** siempre deben calcularse con anteioridad al punto de observación. **SIEMPRE**.\n",
    "\n",
    "<br>"
   ]
  },
  {
   "cell_type": "code",
   "execution_count": 3,
   "id": "e17f07c6",
   "metadata": {},
   "outputs": [
    {
     "data": {
      "text/html": [
       "<div>\n",
       "<style scoped>\n",
       "    .dataframe tbody tr th:only-of-type {\n",
       "        vertical-align: middle;\n",
       "    }\n",
       "\n",
       "    .dataframe tbody tr th {\n",
       "        vertical-align: top;\n",
       "    }\n",
       "\n",
       "    .dataframe thead th {\n",
       "        text-align: right;\n",
       "    }\n",
       "</style>\n",
       "<table border=\"1\" class=\"dataframe\">\n",
       "  <thead>\n",
       "    <tr style=\"text-align: right;\">\n",
       "      <th></th>\n",
       "      <th>Date_Target</th>\n",
       "      <th>Close_Target</th>\n",
       "    </tr>\n",
       "  </thead>\n",
       "  <tbody>\n",
       "    <tr>\n",
       "      <th>0</th>\n",
       "      <td>2017-01-25</td>\n",
       "      <td>32.75</td>\n",
       "    </tr>\n",
       "    <tr>\n",
       "      <th>1</th>\n",
       "      <td>2017-01-26</td>\n",
       "      <td>31.90</td>\n",
       "    </tr>\n",
       "    <tr>\n",
       "      <th>2</th>\n",
       "      <td>2017-01-27</td>\n",
       "      <td>31.34</td>\n",
       "    </tr>\n",
       "    <tr>\n",
       "      <th>3</th>\n",
       "      <td>2017-01-30</td>\n",
       "      <td>30.84</td>\n",
       "    </tr>\n",
       "    <tr>\n",
       "      <th>4</th>\n",
       "      <td>2017-01-31</td>\n",
       "      <td>31.07</td>\n",
       "    </tr>\n",
       "  </tbody>\n",
       "</table>\n",
       "</div>"
      ],
      "text/plain": [
       "  Date_Target  Close_Target\n",
       "0  2017-01-25         32.75\n",
       "1  2017-01-26         31.90\n",
       "2  2017-01-27         31.34\n",
       "3  2017-01-30         30.84\n",
       "4  2017-01-31         31.07"
      ]
     },
     "execution_count": 3,
     "metadata": {},
     "output_type": "execute_result"
    }
   ],
   "source": [
    "# Creo mi variable target \n",
    "df = pd.DataFrame(galicia[['Date','Close']])\n",
    "df.rename(columns={'Date': 'Date_Target','Close': 'Close_Target'}, inplace=True)\n",
    "df.head()"
   ]
  },
  {
   "cell_type": "code",
   "execution_count": 4,
   "id": "6fb763fd",
   "metadata": {},
   "outputs": [
    {
     "data": {
      "text/html": [
       "<div>\n",
       "<style scoped>\n",
       "    .dataframe tbody tr th:only-of-type {\n",
       "        vertical-align: middle;\n",
       "    }\n",
       "\n",
       "    .dataframe tbody tr th {\n",
       "        vertical-align: top;\n",
       "    }\n",
       "\n",
       "    .dataframe thead th {\n",
       "        text-align: right;\n",
       "    }\n",
       "</style>\n",
       "<table border=\"1\" class=\"dataframe\">\n",
       "  <thead>\n",
       "    <tr style=\"text-align: right;\">\n",
       "      <th></th>\n",
       "      <th>Date_Target</th>\n",
       "      <th>Close_Target</th>\n",
       "      <th>Date_30dAntes</th>\n",
       "    </tr>\n",
       "  </thead>\n",
       "  <tbody>\n",
       "    <tr>\n",
       "      <th>0</th>\n",
       "      <td>2017-01-25</td>\n",
       "      <td>32.75</td>\n",
       "      <td>2016-12-26</td>\n",
       "    </tr>\n",
       "    <tr>\n",
       "      <th>1</th>\n",
       "      <td>2017-01-26</td>\n",
       "      <td>31.90</td>\n",
       "      <td>2016-12-27</td>\n",
       "    </tr>\n",
       "    <tr>\n",
       "      <th>2</th>\n",
       "      <td>2017-01-27</td>\n",
       "      <td>31.34</td>\n",
       "      <td>2016-12-28</td>\n",
       "    </tr>\n",
       "    <tr>\n",
       "      <th>3</th>\n",
       "      <td>2017-01-30</td>\n",
       "      <td>30.84</td>\n",
       "      <td>2016-12-31</td>\n",
       "    </tr>\n",
       "    <tr>\n",
       "      <th>4</th>\n",
       "      <td>2017-01-31</td>\n",
       "      <td>31.07</td>\n",
       "      <td>2017-01-01</td>\n",
       "    </tr>\n",
       "  </tbody>\n",
       "</table>\n",
       "</div>"
      ],
      "text/plain": [
       "  Date_Target  Close_Target Date_30dAntes\n",
       "0  2017-01-25         32.75    2016-12-26\n",
       "1  2017-01-26         31.90    2016-12-27\n",
       "2  2017-01-27         31.34    2016-12-28\n",
       "3  2017-01-30         30.84    2016-12-31\n",
       "4  2017-01-31         31.07    2017-01-01"
      ]
     },
     "execution_count": 4,
     "metadata": {},
     "output_type": "execute_result"
    }
   ],
   "source": [
    "# Transformo en tipo de dato \"datetime\" y calculo la fecha de hace 30 dias\n",
    "df['Date_Target'] = pd.to_datetime(df['Date_Target'])\n",
    "df['Date_30dAntes'] = df['Date_Target'] - pd.DateOffset(days=30)\n",
    "df.head()"
   ]
  },
  {
   "cell_type": "code",
   "execution_count": 5,
   "id": "82ba8283",
   "metadata": {},
   "outputs": [],
   "source": [
    "# Empiezo a calcular features. \n",
    "# Primero transformo las fechas de mi dataset en tipo dates: \n",
    "galicia['Date'] = pd.to_datetime(galicia['Date'])\n",
    "santander['Date'] = pd.to_datetime(santander['Date'])"
   ]
  },
  {
   "cell_type": "code",
   "execution_count": 6,
   "id": "f459b7c7",
   "metadata": {},
   "outputs": [],
   "source": [
    "# Primera: Precio de cierre y apertura hace 30 / 35 días: \n",
    "\n",
    "# Definir el margen de tiempo de +/- 5 días\n",
    "margen = timedelta(days = 5)\n",
    "\n",
    "# Realizar la unión basada en el margen de tiempo\n",
    "df_entrenar = pd.merge_asof(df, galicia[['Date','Close','Open']], \n",
    "                          left_on = 'Date_30dAntes',  \n",
    "                          right_on = 'Date', \n",
    "                          direction = 'backward', \n",
    "                          tolerance = margen)"
   ]
  },
  {
   "cell_type": "code",
   "execution_count": 7,
   "id": "be65d932",
   "metadata": {},
   "outputs": [
    {
     "data": {
      "text/html": [
       "<div>\n",
       "<style scoped>\n",
       "    .dataframe tbody tr th:only-of-type {\n",
       "        vertical-align: middle;\n",
       "    }\n",
       "\n",
       "    .dataframe tbody tr th {\n",
       "        vertical-align: top;\n",
       "    }\n",
       "\n",
       "    .dataframe thead th {\n",
       "        text-align: right;\n",
       "    }\n",
       "</style>\n",
       "<table border=\"1\" class=\"dataframe\">\n",
       "  <thead>\n",
       "    <tr style=\"text-align: right;\">\n",
       "      <th></th>\n",
       "      <th>Date_Target</th>\n",
       "      <th>Close_Target</th>\n",
       "      <th>Date_30dAntes</th>\n",
       "      <th>Date</th>\n",
       "      <th>Close_30dAntes</th>\n",
       "      <th>Open_30dAntes</th>\n",
       "    </tr>\n",
       "  </thead>\n",
       "  <tbody>\n",
       "    <tr>\n",
       "      <th>0</th>\n",
       "      <td>2017-01-25</td>\n",
       "      <td>32.750000</td>\n",
       "      <td>2016-12-26</td>\n",
       "      <td>NaT</td>\n",
       "      <td>NaN</td>\n",
       "      <td>NaN</td>\n",
       "    </tr>\n",
       "    <tr>\n",
       "      <th>1</th>\n",
       "      <td>2017-01-26</td>\n",
       "      <td>31.900000</td>\n",
       "      <td>2016-12-27</td>\n",
       "      <td>NaT</td>\n",
       "      <td>NaN</td>\n",
       "      <td>NaN</td>\n",
       "    </tr>\n",
       "    <tr>\n",
       "      <th>2</th>\n",
       "      <td>2017-01-27</td>\n",
       "      <td>31.340000</td>\n",
       "      <td>2016-12-28</td>\n",
       "      <td>NaT</td>\n",
       "      <td>NaN</td>\n",
       "      <td>NaN</td>\n",
       "    </tr>\n",
       "    <tr>\n",
       "      <th>3</th>\n",
       "      <td>2017-01-30</td>\n",
       "      <td>30.840000</td>\n",
       "      <td>2016-12-31</td>\n",
       "      <td>NaT</td>\n",
       "      <td>NaN</td>\n",
       "      <td>NaN</td>\n",
       "    </tr>\n",
       "    <tr>\n",
       "      <th>4</th>\n",
       "      <td>2017-01-31</td>\n",
       "      <td>31.070000</td>\n",
       "      <td>2017-01-01</td>\n",
       "      <td>NaT</td>\n",
       "      <td>NaN</td>\n",
       "      <td>NaN</td>\n",
       "    </tr>\n",
       "    <tr>\n",
       "      <th>...</th>\n",
       "      <td>...</td>\n",
       "      <td>...</td>\n",
       "      <td>...</td>\n",
       "      <td>...</td>\n",
       "      <td>...</td>\n",
       "      <td>...</td>\n",
       "    </tr>\n",
       "    <tr>\n",
       "      <th>95</th>\n",
       "      <td>2017-06-12</td>\n",
       "      <td>42.369999</td>\n",
       "      <td>2017-05-13</td>\n",
       "      <td>2017-05-12</td>\n",
       "      <td>42.040001</td>\n",
       "      <td>42.669998</td>\n",
       "    </tr>\n",
       "    <tr>\n",
       "      <th>96</th>\n",
       "      <td>2017-06-13</td>\n",
       "      <td>42.180000</td>\n",
       "      <td>2017-05-14</td>\n",
       "      <td>2017-05-12</td>\n",
       "      <td>42.040001</td>\n",
       "      <td>42.669998</td>\n",
       "    </tr>\n",
       "    <tr>\n",
       "      <th>97</th>\n",
       "      <td>2017-06-14</td>\n",
       "      <td>41.799999</td>\n",
       "      <td>2017-05-15</td>\n",
       "      <td>2017-05-15</td>\n",
       "      <td>43.060001</td>\n",
       "      <td>42.180000</td>\n",
       "    </tr>\n",
       "    <tr>\n",
       "      <th>98</th>\n",
       "      <td>2017-06-15</td>\n",
       "      <td>41.759998</td>\n",
       "      <td>2017-05-16</td>\n",
       "      <td>2017-05-16</td>\n",
       "      <td>43.660000</td>\n",
       "      <td>43.250000</td>\n",
       "    </tr>\n",
       "    <tr>\n",
       "      <th>99</th>\n",
       "      <td>2017-06-16</td>\n",
       "      <td>42.099998</td>\n",
       "      <td>2017-05-17</td>\n",
       "      <td>2017-05-17</td>\n",
       "      <td>43.369999</td>\n",
       "      <td>43.570000</td>\n",
       "    </tr>\n",
       "  </tbody>\n",
       "</table>\n",
       "<p>100 rows × 6 columns</p>\n",
       "</div>"
      ],
      "text/plain": [
       "   Date_Target  Close_Target Date_30dAntes       Date  Close_30dAntes  \\\n",
       "0   2017-01-25     32.750000    2016-12-26        NaT             NaN   \n",
       "1   2017-01-26     31.900000    2016-12-27        NaT             NaN   \n",
       "2   2017-01-27     31.340000    2016-12-28        NaT             NaN   \n",
       "3   2017-01-30     30.840000    2016-12-31        NaT             NaN   \n",
       "4   2017-01-31     31.070000    2017-01-01        NaT             NaN   \n",
       "..         ...           ...           ...        ...             ...   \n",
       "95  2017-06-12     42.369999    2017-05-13 2017-05-12       42.040001   \n",
       "96  2017-06-13     42.180000    2017-05-14 2017-05-12       42.040001   \n",
       "97  2017-06-14     41.799999    2017-05-15 2017-05-15       43.060001   \n",
       "98  2017-06-15     41.759998    2017-05-16 2017-05-16       43.660000   \n",
       "99  2017-06-16     42.099998    2017-05-17 2017-05-17       43.369999   \n",
       "\n",
       "    Open_30dAntes  \n",
       "0             NaN  \n",
       "1             NaN  \n",
       "2             NaN  \n",
       "3             NaN  \n",
       "4             NaN  \n",
       "..            ...  \n",
       "95      42.669998  \n",
       "96      42.669998  \n",
       "97      42.180000  \n",
       "98      43.250000  \n",
       "99      43.570000  \n",
       "\n",
       "[100 rows x 6 columns]"
      ]
     },
     "execution_count": 7,
     "metadata": {},
     "output_type": "execute_result"
    }
   ],
   "source": [
    "# Renonmbro features y printeo\n",
    "df_entrenar.rename(columns={'Close': 'Close_30dAntes','Open': 'Open_30dAntes'}, inplace=True)\n",
    "df_entrenar.head(100)"
   ]
  },
  {
   "cell_type": "markdown",
   "id": "dd59953a",
   "metadata": {},
   "source": [
    "## Evaluemos valores vacíos \n",
    "<br>\n",
    "Tenemos que preguntarnos, por qué hay valores vacíos? Vamos a inspeccionar: "
   ]
  },
  {
   "cell_type": "code",
   "execution_count": 8,
   "id": "94998b85",
   "metadata": {},
   "outputs": [
    {
     "data": {
      "text/plain": [
       "False    1656\n",
       "True       21\n",
       "Name: Close_30dAntes, dtype: int64"
      ]
     },
     "execution_count": 8,
     "metadata": {},
     "output_type": "execute_result"
    }
   ],
   "source": [
    "# Cuento vacíos \n",
    "df_entrenar['Close_30dAntes'].isnull().value_counts()"
   ]
  },
  {
   "cell_type": "code",
   "execution_count": 9,
   "id": "5ab7d663",
   "metadata": {},
   "outputs": [
    {
     "data": {
      "text/plain": [
       "False    1656\n",
       "True       21\n",
       "Name: Open_30dAntes, dtype: int64"
      ]
     },
     "execution_count": 9,
     "metadata": {},
     "output_type": "execute_result"
    }
   ],
   "source": [
    "# Cuento vacíos \n",
    "df_entrenar['Open_30dAntes'].isnull().value_counts()"
   ]
  },
  {
   "cell_type": "code",
   "execution_count": 10,
   "id": "3bbfa074",
   "metadata": {},
   "outputs": [
    {
     "data": {
      "text/html": [
       "<div>\n",
       "<style scoped>\n",
       "    .dataframe tbody tr th:only-of-type {\n",
       "        vertical-align: middle;\n",
       "    }\n",
       "\n",
       "    .dataframe tbody tr th {\n",
       "        vertical-align: top;\n",
       "    }\n",
       "\n",
       "    .dataframe thead th {\n",
       "        text-align: right;\n",
       "    }\n",
       "</style>\n",
       "<table border=\"1\" class=\"dataframe\">\n",
       "  <thead>\n",
       "    <tr style=\"text-align: right;\">\n",
       "      <th></th>\n",
       "      <th>Date_Target</th>\n",
       "      <th>Close_Target</th>\n",
       "      <th>Date_30dAntes</th>\n",
       "      <th>Date</th>\n",
       "      <th>Close_30dAntes</th>\n",
       "      <th>Open_30dAntes</th>\n",
       "    </tr>\n",
       "  </thead>\n",
       "  <tbody>\n",
       "    <tr>\n",
       "      <th>0</th>\n",
       "      <td>2017-01-25</td>\n",
       "      <td>32.750000</td>\n",
       "      <td>2016-12-26</td>\n",
       "      <td>NaT</td>\n",
       "      <td>NaN</td>\n",
       "      <td>NaN</td>\n",
       "    </tr>\n",
       "    <tr>\n",
       "      <th>1</th>\n",
       "      <td>2017-01-26</td>\n",
       "      <td>31.900000</td>\n",
       "      <td>2016-12-27</td>\n",
       "      <td>NaT</td>\n",
       "      <td>NaN</td>\n",
       "      <td>NaN</td>\n",
       "    </tr>\n",
       "    <tr>\n",
       "      <th>2</th>\n",
       "      <td>2017-01-27</td>\n",
       "      <td>31.340000</td>\n",
       "      <td>2016-12-28</td>\n",
       "      <td>NaT</td>\n",
       "      <td>NaN</td>\n",
       "      <td>NaN</td>\n",
       "    </tr>\n",
       "    <tr>\n",
       "      <th>3</th>\n",
       "      <td>2017-01-30</td>\n",
       "      <td>30.840000</td>\n",
       "      <td>2016-12-31</td>\n",
       "      <td>NaT</td>\n",
       "      <td>NaN</td>\n",
       "      <td>NaN</td>\n",
       "    </tr>\n",
       "    <tr>\n",
       "      <th>4</th>\n",
       "      <td>2017-01-31</td>\n",
       "      <td>31.070000</td>\n",
       "      <td>2017-01-01</td>\n",
       "      <td>NaT</td>\n",
       "      <td>NaN</td>\n",
       "      <td>NaN</td>\n",
       "    </tr>\n",
       "    <tr>\n",
       "      <th>5</th>\n",
       "      <td>2017-02-01</td>\n",
       "      <td>31.350000</td>\n",
       "      <td>2017-01-02</td>\n",
       "      <td>NaT</td>\n",
       "      <td>NaN</td>\n",
       "      <td>NaN</td>\n",
       "    </tr>\n",
       "    <tr>\n",
       "      <th>6</th>\n",
       "      <td>2017-02-02</td>\n",
       "      <td>32.020000</td>\n",
       "      <td>2017-01-03</td>\n",
       "      <td>NaT</td>\n",
       "      <td>NaN</td>\n",
       "      <td>NaN</td>\n",
       "    </tr>\n",
       "    <tr>\n",
       "      <th>7</th>\n",
       "      <td>2017-02-03</td>\n",
       "      <td>32.360001</td>\n",
       "      <td>2017-01-04</td>\n",
       "      <td>NaT</td>\n",
       "      <td>NaN</td>\n",
       "      <td>NaN</td>\n",
       "    </tr>\n",
       "    <tr>\n",
       "      <th>8</th>\n",
       "      <td>2017-02-06</td>\n",
       "      <td>32.520000</td>\n",
       "      <td>2017-01-07</td>\n",
       "      <td>NaT</td>\n",
       "      <td>NaN</td>\n",
       "      <td>NaN</td>\n",
       "    </tr>\n",
       "    <tr>\n",
       "      <th>9</th>\n",
       "      <td>2017-02-07</td>\n",
       "      <td>33.220001</td>\n",
       "      <td>2017-01-08</td>\n",
       "      <td>NaT</td>\n",
       "      <td>NaN</td>\n",
       "      <td>NaN</td>\n",
       "    </tr>\n",
       "    <tr>\n",
       "      <th>10</th>\n",
       "      <td>2017-02-08</td>\n",
       "      <td>34.419998</td>\n",
       "      <td>2017-01-09</td>\n",
       "      <td>NaT</td>\n",
       "      <td>NaN</td>\n",
       "      <td>NaN</td>\n",
       "    </tr>\n",
       "    <tr>\n",
       "      <th>11</th>\n",
       "      <td>2017-02-09</td>\n",
       "      <td>35.299999</td>\n",
       "      <td>2017-01-10</td>\n",
       "      <td>NaT</td>\n",
       "      <td>NaN</td>\n",
       "      <td>NaN</td>\n",
       "    </tr>\n",
       "    <tr>\n",
       "      <th>12</th>\n",
       "      <td>2017-02-10</td>\n",
       "      <td>35.669998</td>\n",
       "      <td>2017-01-11</td>\n",
       "      <td>NaT</td>\n",
       "      <td>NaN</td>\n",
       "      <td>NaN</td>\n",
       "    </tr>\n",
       "    <tr>\n",
       "      <th>13</th>\n",
       "      <td>2017-02-13</td>\n",
       "      <td>34.490002</td>\n",
       "      <td>2017-01-14</td>\n",
       "      <td>NaT</td>\n",
       "      <td>NaN</td>\n",
       "      <td>NaN</td>\n",
       "    </tr>\n",
       "    <tr>\n",
       "      <th>14</th>\n",
       "      <td>2017-02-14</td>\n",
       "      <td>34.700001</td>\n",
       "      <td>2017-01-15</td>\n",
       "      <td>NaT</td>\n",
       "      <td>NaN</td>\n",
       "      <td>NaN</td>\n",
       "    </tr>\n",
       "    <tr>\n",
       "      <th>15</th>\n",
       "      <td>2017-02-15</td>\n",
       "      <td>35.130001</td>\n",
       "      <td>2017-01-16</td>\n",
       "      <td>NaT</td>\n",
       "      <td>NaN</td>\n",
       "      <td>NaN</td>\n",
       "    </tr>\n",
       "    <tr>\n",
       "      <th>16</th>\n",
       "      <td>2017-02-16</td>\n",
       "      <td>34.250000</td>\n",
       "      <td>2017-01-17</td>\n",
       "      <td>NaT</td>\n",
       "      <td>NaN</td>\n",
       "      <td>NaN</td>\n",
       "    </tr>\n",
       "    <tr>\n",
       "      <th>17</th>\n",
       "      <td>2017-02-17</td>\n",
       "      <td>34.619999</td>\n",
       "      <td>2017-01-18</td>\n",
       "      <td>NaT</td>\n",
       "      <td>NaN</td>\n",
       "      <td>NaN</td>\n",
       "    </tr>\n",
       "    <tr>\n",
       "      <th>18</th>\n",
       "      <td>2017-02-21</td>\n",
       "      <td>34.680000</td>\n",
       "      <td>2017-01-22</td>\n",
       "      <td>NaT</td>\n",
       "      <td>NaN</td>\n",
       "      <td>NaN</td>\n",
       "    </tr>\n",
       "    <tr>\n",
       "      <th>19</th>\n",
       "      <td>2017-02-22</td>\n",
       "      <td>34.820000</td>\n",
       "      <td>2017-01-23</td>\n",
       "      <td>NaT</td>\n",
       "      <td>NaN</td>\n",
       "      <td>NaN</td>\n",
       "    </tr>\n",
       "    <tr>\n",
       "      <th>20</th>\n",
       "      <td>2017-02-23</td>\n",
       "      <td>33.599998</td>\n",
       "      <td>2017-01-24</td>\n",
       "      <td>NaT</td>\n",
       "      <td>NaN</td>\n",
       "      <td>NaN</td>\n",
       "    </tr>\n",
       "  </tbody>\n",
       "</table>\n",
       "</div>"
      ],
      "text/plain": [
       "   Date_Target  Close_Target Date_30dAntes Date  Close_30dAntes  Open_30dAntes\n",
       "0   2017-01-25     32.750000    2016-12-26  NaT             NaN            NaN\n",
       "1   2017-01-26     31.900000    2016-12-27  NaT             NaN            NaN\n",
       "2   2017-01-27     31.340000    2016-12-28  NaT             NaN            NaN\n",
       "3   2017-01-30     30.840000    2016-12-31  NaT             NaN            NaN\n",
       "4   2017-01-31     31.070000    2017-01-01  NaT             NaN            NaN\n",
       "5   2017-02-01     31.350000    2017-01-02  NaT             NaN            NaN\n",
       "6   2017-02-02     32.020000    2017-01-03  NaT             NaN            NaN\n",
       "7   2017-02-03     32.360001    2017-01-04  NaT             NaN            NaN\n",
       "8   2017-02-06     32.520000    2017-01-07  NaT             NaN            NaN\n",
       "9   2017-02-07     33.220001    2017-01-08  NaT             NaN            NaN\n",
       "10  2017-02-08     34.419998    2017-01-09  NaT             NaN            NaN\n",
       "11  2017-02-09     35.299999    2017-01-10  NaT             NaN            NaN\n",
       "12  2017-02-10     35.669998    2017-01-11  NaT             NaN            NaN\n",
       "13  2017-02-13     34.490002    2017-01-14  NaT             NaN            NaN\n",
       "14  2017-02-14     34.700001    2017-01-15  NaT             NaN            NaN\n",
       "15  2017-02-15     35.130001    2017-01-16  NaT             NaN            NaN\n",
       "16  2017-02-16     34.250000    2017-01-17  NaT             NaN            NaN\n",
       "17  2017-02-17     34.619999    2017-01-18  NaT             NaN            NaN\n",
       "18  2017-02-21     34.680000    2017-01-22  NaT             NaN            NaN\n",
       "19  2017-02-22     34.820000    2017-01-23  NaT             NaN            NaN\n",
       "20  2017-02-23     33.599998    2017-01-24  NaT             NaN            NaN"
      ]
     },
     "execution_count": 10,
     "metadata": {},
     "output_type": "execute_result"
    }
   ],
   "source": [
    "# Quienes son? \n",
    "df_entrenar.loc[df_entrenar['Open_30dAntes'].isnull() == True,]"
   ]
  },
  {
   "cell_type": "markdown",
   "id": "a8bc65d1",
   "metadata": {},
   "source": [
    "Los valores vacíos que vemos son porque el target es lo más antiguo que tenía el dataset, cuando busco la data de hace un mes no existe en el dataset!\n",
    "<br>\n",
    "\n",
    "Lo que voy a hacer es dejarlos fuera del análisis, ya que no puedo calcular features para esas fechas. "
   ]
  },
  {
   "cell_type": "code",
   "execution_count": 11,
   "id": "67a35ec8",
   "metadata": {},
   "outputs": [
    {
     "data": {
      "text/plain": [
       "(1656, 6)"
      ]
     },
     "execution_count": 11,
     "metadata": {},
     "output_type": "execute_result"
    }
   ],
   "source": [
    "# Elimino registros con valores vacíos \n",
    "df_entrenar = df_entrenar.dropna()\n",
    "df_entrenar.shape"
   ]
  },
  {
   "cell_type": "markdown",
   "id": "7d9a9fa9",
   "metadata": {},
   "source": [
    "## Hay relación entre target y features creadas? \n",
    "<br>\n",
    "Analicemos ahora si las features que generamos guardan relación con la variable target. "
   ]
  },
  {
   "cell_type": "code",
   "execution_count": 12,
   "id": "f2c59e27",
   "metadata": {},
   "outputs": [
    {
     "data": {
      "text/plain": [
       "Text(0, 0.5, 'Precio de la acción de Galicia')"
      ]
     },
     "execution_count": 12,
     "metadata": {},
     "output_type": "execute_result"
    },
    {
     "data": {
      "image/png": "[encoded data removed]",
      "text/plain": [
       "<Figure size 640x480 with 1 Axes>"
      ]
     },
     "metadata": {},
     "output_type": "display_data"
    }
   ],
   "source": [
    "plt.figure()\n",
    "sns.scatterplot(data = df_entrenar,\n",
    "                x = 'Open_30dAntes',\n",
    "                y = 'Close_Target',\n",
    "               color = '#34EB63')\n",
    "plt.xlabel('Precio de apertura de la misma acción hace 30 / 35 días')\n",
    "plt.ylabel('Precio de la acción de Galicia')"
   ]
  },
  {
   "cell_type": "code",
   "execution_count": 13,
   "id": "e2ffff71",
   "metadata": {},
   "outputs": [
    {
     "data": {
      "text/plain": [
       "Text(0, 0.5, 'Precio de la acción de Galicia')"
      ]
     },
     "execution_count": 13,
     "metadata": {},
     "output_type": "execute_result"
    },
    {
     "data": {
      "image/png": "[encoded data removed]",
      "text/plain": [
       "<Figure size 640x480 with 1 Axes>"
      ]
     },
     "metadata": {},
     "output_type": "display_data"
    }
   ],
   "source": [
    "plt.figure()\n",
    "sns.scatterplot(data = df_entrenar,\n",
    "                x = 'Close_30dAntes',\n",
    "                y = 'Close_Target',\n",
    "               color = '#34EB63')\n",
    "plt.xlabel('Precio de cierre de la misma acción hace 30 / 35 días')\n",
    "plt.ylabel('Precio de la acción de Galicia')"
   ]
  },
  {
   "cell_type": "markdown",
   "id": "ae4d190d",
   "metadata": {},
   "source": [
    "## Modelamos? \n",
    "Aparentemente hay una fuerte relación entre las features y la variable target. Modelamos? "
   ]
  },
  {
   "cell_type": "markdown",
   "id": "cdd68177",
   "metadata": {},
   "source": [
    "## Modelo 1: usando las dos features"
   ]
  },
  {
   "cell_type": "code",
   "execution_count": 14,
   "id": "320478e7",
   "metadata": {},
   "outputs": [
    {
     "name": "stdout",
     "output_type": "stream",
     "text": [
      "                            OLS Regression Results                            \n",
      "==============================================================================\n",
      "Dep. Variable:           Close_Target   R-squared:                       0.921\n",
      "Model:                            OLS   Adj. R-squared:                  0.921\n",
      "Method:                 Least Squares   F-statistic:                     9637.\n",
      "Date:                Mon, 25 Sep 2023   Prob (F-statistic):               0.00\n",
      "Time:                        13:01:10   Log-Likelihood:                -4955.6\n",
      "No. Observations:                1656   AIC:                             9917.\n",
      "Df Residuals:                    1653   BIC:                             9933.\n",
      "Df Model:                           2                                         \n",
      "Covariance Type:            nonrobust                                         \n",
      "==================================================================================\n",
      "                     coef    std err          t      P>|t|      [0.025      0.975]\n",
      "----------------------------------------------------------------------------------\n",
      "Intercept          0.7001      0.193      3.635      0.000       0.322       1.078\n",
      "Close_30dAntes     0.9018      0.150      6.009      0.000       0.607       1.196\n",
      "Open_30dAntes      0.0557      0.150      0.372      0.710      -0.238       0.350\n",
      "==============================================================================\n",
      "Omnibus:                      529.796   Durbin-Watson:                   0.080\n",
      "Prob(Omnibus):                  0.000   Jarque-Bera (JB):             3213.023\n",
      "Skew:                          -1.358   Prob(JB):                         0.00\n",
      "Kurtosis:                       9.260   Cond. No.                         70.6\n",
      "==============================================================================\n",
      "\n",
      "Notes:\n",
      "[1] Standard Errors assume that the covariance matrix of the errors is correctly specified.\n"
     ]
    }
   ],
   "source": [
    "# Estimo coeficientes para modelo de regresión lineal con una sola variable:\n",
    "model1 = 'Close_Target ~ Close_30dAntes + Open_30dAntes'\n",
    "lm1   = sm.ols(formula = model1, data = df_entrenar).fit()\n",
    "print(lm1.summary())"
   ]
  },
  {
   "cell_type": "code",
   "execution_count": 15,
   "id": "1a4a99f6",
   "metadata": {},
   "outputs": [
    {
     "name": "stdout",
     "output_type": "stream",
     "text": [
      "Coeficientes:\n",
      "Intercept         0.700127\n",
      "Close_30dAntes    0.901767\n",
      "Open_30dAntes     0.055739\n",
      "dtype: float64\n"
     ]
    }
   ],
   "source": [
    "coeficientes = lm1.params\n",
    "print('Coeficientes:')\n",
    "print(coeficientes)"
   ]
  },
  {
   "cell_type": "code",
   "execution_count": 16,
   "id": "7dcd0eb9",
   "metadata": {},
   "outputs": [
    {
     "name": "stdout",
     "output_type": "stream",
     "text": [
      "Intervalo de confianza de los coeficientes:\n",
      "                       0         1\n",
      "Intercept       0.322334  1.077919\n",
      "Close_30dAntes  0.607410  1.196123\n",
      "Open_30dAntes  -0.238049  0.349527\n"
     ]
    }
   ],
   "source": [
    "intervalo_confianza = lm1.conf_int()\n",
    "print(\"Intervalo de confianza de los coeficientes:\")\n",
    "print(intervalo_confianza) # Se nos da vuelta el beta! Excluyamos la variable Open_30dAntes"
   ]
  },
  {
   "cell_type": "code",
   "execution_count": null,
   "id": "25a855cc",
   "metadata": {},
   "outputs": [],
   "source": [
    "pvalores = lm1.pvalues\n",
    "print('P-Valores:')\n",
    "print(pvalores.round(6))"
   ]
  },
  {
   "cell_type": "code",
   "execution_count": null,
   "id": "08ebc07b",
   "metadata": {},
   "outputs": [],
   "source": [
    "r_cuadrado = lm1.rsquared\n",
    "print(\"Coeficiente de determinación (R-cuadrado):\", r_cuadrado.round(3))"
   ]
  },
  {
   "cell_type": "markdown",
   "id": "95d351b3",
   "metadata": {},
   "source": [
    "## Modelo 2: Sin el precio de apertura"
   ]
  },
  {
   "cell_type": "code",
   "execution_count": null,
   "id": "7f5c30d4",
   "metadata": {},
   "outputs": [],
   "source": [
    "# Estimo coeficientes para modelo de regresión lineal con una sola variable:\n",
    "model2 = 'Close_Target ~ Close_30dAntes'\n",
    "lm2   = sm.ols(formula = model2, data = df_entrenar).fit()\n",
    "print(lm2.summary())"
   ]
  },
  {
   "cell_type": "code",
   "execution_count": null,
   "id": "944692ae",
   "metadata": {},
   "outputs": [],
   "source": [
    "coeficientes = lm2.params\n",
    "print('Coeficientes:')\n",
    "print(coeficientes)"
   ]
  },
  {
   "cell_type": "code",
   "execution_count": null,
   "id": "fcef28cf",
   "metadata": {},
   "outputs": [],
   "source": [
    "intervalo_confianza = lm2.conf_int()\n",
    "print(\"Intervalo de confianza de los coeficientes:\")\n",
    "print(intervalo_confianza)"
   ]
  },
  {
   "cell_type": "code",
   "execution_count": null,
   "id": "9278371c",
   "metadata": {},
   "outputs": [],
   "source": [
    "pvalores = lm2.pvalues\n",
    "print('P-Valores:')\n",
    "print(pvalores.round(6))"
   ]
  },
  {
   "cell_type": "code",
   "execution_count": null,
   "id": "1dbd8120",
   "metadata": {},
   "outputs": [],
   "source": [
    "r_cuadrado = lm1.rsquared\n",
    "print(\"Coeficiente de determinación (R-cuadrado):\", r_cuadrado.round(3))"
   ]
  },
  {
   "cell_type": "markdown",
   "id": "5578958c",
   "metadata": {},
   "source": [
    "## Modelo 2 Visualmente"
   ]
  },
  {
   "cell_type": "code",
   "execution_count": null,
   "id": "25fa64c9",
   "metadata": {},
   "outputs": [],
   "source": [
    "# Graficamente:\n",
    "df_entrenar['y_estimado'] = lm2.predict(df_entrenar)\n",
    "g1 = plt.figure()\n",
    "sns.scatterplot(data = df_entrenar,\n",
    "                x = 'Close_30dAntes',\n",
    "                y = 'Close_Target',                \n",
    "                label = 'Real', \n",
    "                color = '#34EB63',\n",
    "                alpha = 0.75)\n",
    "sns.lineplot(data = df_entrenar, \n",
    "                x = 'Close_30dAntes', \n",
    "                y = 'y_estimado', \n",
    "                label = 'Predicción', \n",
    "                color = 'black')\n",
    "plt.xlabel('Precio de cierre de la misma acción hace 30 / 35 días')\n",
    "plt.ylabel('Precio de la acción de Galicia')\n",
    "plt.title('Datos reales vs Estimación')"
   ]
  },
  {
   "cell_type": "markdown",
   "id": "b0d20c83",
   "metadata": {},
   "source": [
    "# Agreguemos data de acciones de otro banco"
   ]
  },
  {
   "cell_type": "code",
   "execution_count": 17,
   "id": "d216b747",
   "metadata": {},
   "outputs": [
    {
     "data": {
      "text/html": [
       "<div>\n",
       "<style scoped>\n",
       "    .dataframe tbody tr th:only-of-type {\n",
       "        vertical-align: middle;\n",
       "    }\n",
       "\n",
       "    .dataframe tbody tr th {\n",
       "        vertical-align: top;\n",
       "    }\n",
       "\n",
       "    .dataframe thead th {\n",
       "        text-align: right;\n",
       "    }\n",
       "</style>\n",
       "<table border=\"1\" class=\"dataframe\">\n",
       "  <thead>\n",
       "    <tr style=\"text-align: right;\">\n",
       "      <th></th>\n",
       "      <th>Date_Target</th>\n",
       "      <th>Close_Target</th>\n",
       "      <th>Date_30dAntes</th>\n",
       "      <th>Date_x</th>\n",
       "      <th>Close_30dAntes</th>\n",
       "      <th>Open_30dAntes</th>\n",
       "      <th>Date_y</th>\n",
       "      <th>CloseSantander_30dAntes</th>\n",
       "      <th>OpenSantander_30dAntes</th>\n",
       "    </tr>\n",
       "  </thead>\n",
       "  <tbody>\n",
       "    <tr>\n",
       "      <th>0</th>\n",
       "      <td>2017-02-24</td>\n",
       "      <td>32.570000</td>\n",
       "      <td>2017-01-25</td>\n",
       "      <td>2017-01-25</td>\n",
       "      <td>32.750000</td>\n",
       "      <td>33.060001</td>\n",
       "      <td>2017-01-25</td>\n",
       "      <td>5.062568</td>\n",
       "      <td>4.967368</td>\n",
       "    </tr>\n",
       "    <tr>\n",
       "      <th>1</th>\n",
       "      <td>2017-02-27</td>\n",
       "      <td>32.299999</td>\n",
       "      <td>2017-01-28</td>\n",
       "      <td>2017-01-27</td>\n",
       "      <td>31.340000</td>\n",
       "      <td>31.639999</td>\n",
       "      <td>2017-01-27</td>\n",
       "      <td>5.049372</td>\n",
       "      <td>5.062568</td>\n",
       "    </tr>\n",
       "    <tr>\n",
       "      <th>2</th>\n",
       "      <td>2017-02-28</td>\n",
       "      <td>31.799999</td>\n",
       "      <td>2017-01-29</td>\n",
       "      <td>2017-01-27</td>\n",
       "      <td>31.340000</td>\n",
       "      <td>31.639999</td>\n",
       "      <td>2017-01-27</td>\n",
       "      <td>5.049372</td>\n",
       "      <td>5.062568</td>\n",
       "    </tr>\n",
       "    <tr>\n",
       "      <th>3</th>\n",
       "      <td>2017-03-01</td>\n",
       "      <td>32.910000</td>\n",
       "      <td>2017-01-30</td>\n",
       "      <td>2017-01-30</td>\n",
       "      <td>30.840000</td>\n",
       "      <td>30.920000</td>\n",
       "      <td>2017-01-30</td>\n",
       "      <td>4.904215</td>\n",
       "      <td>4.995645</td>\n",
       "    </tr>\n",
       "    <tr>\n",
       "      <th>4</th>\n",
       "      <td>2017-03-02</td>\n",
       "      <td>32.570000</td>\n",
       "      <td>2017-01-31</td>\n",
       "      <td>2017-01-31</td>\n",
       "      <td>31.070000</td>\n",
       "      <td>30.610001</td>\n",
       "      <td>2017-01-31</td>\n",
       "      <td>4.853316</td>\n",
       "      <td>4.901388</td>\n",
       "    </tr>\n",
       "    <tr>\n",
       "      <th>...</th>\n",
       "      <td>...</td>\n",
       "      <td>...</td>\n",
       "      <td>...</td>\n",
       "      <td>...</td>\n",
       "      <td>...</td>\n",
       "      <td>...</td>\n",
       "      <td>...</td>\n",
       "      <td>...</td>\n",
       "      <td>...</td>\n",
       "    </tr>\n",
       "    <tr>\n",
       "      <th>95</th>\n",
       "      <td>2017-07-12</td>\n",
       "      <td>42.680000</td>\n",
       "      <td>2017-06-12</td>\n",
       "      <td>2017-06-12</td>\n",
       "      <td>42.369999</td>\n",
       "      <td>43.040001</td>\n",
       "      <td>2017-06-12</td>\n",
       "      <td>5.716715</td>\n",
       "      <td>5.731796</td>\n",
       "    </tr>\n",
       "    <tr>\n",
       "      <th>96</th>\n",
       "      <td>2017-07-13</td>\n",
       "      <td>41.689999</td>\n",
       "      <td>2017-06-13</td>\n",
       "      <td>2017-06-13</td>\n",
       "      <td>42.180000</td>\n",
       "      <td>42.400002</td>\n",
       "      <td>2017-06-13</td>\n",
       "      <td>5.711059</td>\n",
       "      <td>5.749705</td>\n",
       "    </tr>\n",
       "    <tr>\n",
       "      <th>97</th>\n",
       "      <td>2017-07-14</td>\n",
       "      <td>40.910000</td>\n",
       "      <td>2017-06-14</td>\n",
       "      <td>2017-06-14</td>\n",
       "      <td>41.799999</td>\n",
       "      <td>42.299999</td>\n",
       "      <td>2017-06-14</td>\n",
       "      <td>5.589467</td>\n",
       "      <td>5.725198</td>\n",
       "    </tr>\n",
       "    <tr>\n",
       "      <th>98</th>\n",
       "      <td>2017-07-17</td>\n",
       "      <td>39.959999</td>\n",
       "      <td>2017-06-17</td>\n",
       "      <td>2017-06-16</td>\n",
       "      <td>42.099998</td>\n",
       "      <td>41.669998</td>\n",
       "      <td>2017-06-16</td>\n",
       "      <td>5.517832</td>\n",
       "      <td>5.575329</td>\n",
       "    </tr>\n",
       "    <tr>\n",
       "      <th>99</th>\n",
       "      <td>2017-07-18</td>\n",
       "      <td>37.730000</td>\n",
       "      <td>2017-06-18</td>\n",
       "      <td>2017-06-16</td>\n",
       "      <td>42.099998</td>\n",
       "      <td>41.669998</td>\n",
       "      <td>2017-06-16</td>\n",
       "      <td>5.517832</td>\n",
       "      <td>5.575329</td>\n",
       "    </tr>\n",
       "  </tbody>\n",
       "</table>\n",
       "<p>100 rows × 9 columns</p>\n",
       "</div>"
      ],
      "text/plain": [
       "   Date_Target  Close_Target Date_30dAntes     Date_x  Close_30dAntes  \\\n",
       "0   2017-02-24     32.570000    2017-01-25 2017-01-25       32.750000   \n",
       "1   2017-02-27     32.299999    2017-01-28 2017-01-27       31.340000   \n",
       "2   2017-02-28     31.799999    2017-01-29 2017-01-27       31.340000   \n",
       "3   2017-03-01     32.910000    2017-01-30 2017-01-30       30.840000   \n",
       "4   2017-03-02     32.570000    2017-01-31 2017-01-31       31.070000   \n",
       "..         ...           ...           ...        ...             ...   \n",
       "95  2017-07-12     42.680000    2017-06-12 2017-06-12       42.369999   \n",
       "96  2017-07-13     41.689999    2017-06-13 2017-06-13       42.180000   \n",
       "97  2017-07-14     40.910000    2017-06-14 2017-06-14       41.799999   \n",
       "98  2017-07-17     39.959999    2017-06-17 2017-06-16       42.099998   \n",
       "99  2017-07-18     37.730000    2017-06-18 2017-06-16       42.099998   \n",
       "\n",
       "    Open_30dAntes     Date_y  CloseSantander_30dAntes  OpenSantander_30dAntes  \n",
       "0       33.060001 2017-01-25                 5.062568                4.967368  \n",
       "1       31.639999 2017-01-27                 5.049372                5.062568  \n",
       "2       31.639999 2017-01-27                 5.049372                5.062568  \n",
       "3       30.920000 2017-01-30                 4.904215                4.995645  \n",
       "4       30.610001 2017-01-31                 4.853316                4.901388  \n",
       "..            ...        ...                      ...                     ...  \n",
       "95      43.040001 2017-06-12                 5.716715                5.731796  \n",
       "96      42.400002 2017-06-13                 5.711059                5.749705  \n",
       "97      42.299999 2017-06-14                 5.589467                5.725198  \n",
       "98      41.669998 2017-06-16                 5.517832                5.575329  \n",
       "99      41.669998 2017-06-16                 5.517832                5.575329  \n",
       "\n",
       "[100 rows x 9 columns]"
      ]
     },
     "execution_count": 17,
     "metadata": {},
     "output_type": "execute_result"
    }
   ],
   "source": [
    "# Segundo grupo: Precio de cierre y apertura de acciones de Santander hace 30 / 35 días: \n",
    "\n",
    "# Definir el margen de tiempo de +/- 5 días\n",
    "margen = timedelta(days = 5)\n",
    "\n",
    "# Realizar la unión basada en el margen de tiempo\n",
    "df_entrenar = pd.merge_asof(df_entrenar, santander[['Date','Close','Open']], \n",
    "                          left_on = 'Date_30dAntes',  \n",
    "                          right_on = 'Date', \n",
    "                          direction = 'backward', \n",
    "                          tolerance = margen)\n",
    "# Renonmbro features y printeo\n",
    "df_entrenar.rename(columns={'Close': 'CloseSantander_30dAntes','Open': 'OpenSantander_30dAntes'}, inplace=True)\n",
    "df_entrenar.head(100)"
   ]
  },
  {
   "cell_type": "code",
   "execution_count": 18,
   "id": "9ea17f0a",
   "metadata": {},
   "outputs": [
    {
     "data": {
      "text/plain": [
       "Text(0, 0.5, 'Precio de la acción de Galicia')"
      ]
     },
     "execution_count": 18,
     "metadata": {},
     "output_type": "execute_result"
    },
    {
     "data": {
      "image/png": "[encoded data removed]",
      "text/plain": [
       "<Figure size 640x480 with 1 Axes>"
      ]
     },
     "metadata": {},
     "output_type": "display_data"
    }
   ],
   "source": [
    "plt.figure()\n",
    "sns.scatterplot(data = df_entrenar,\n",
    "                x = 'CloseSantander_30dAntes',\n",
    "                y = 'Close_Target',\n",
    "               color = '#E048D3')\n",
    "plt.xlabel('Precio de cierre de la acción de Santander hace 30 / 35 días')\n",
    "plt.ylabel('Precio de la acción de Galicia')"
   ]
  },
  {
   "cell_type": "code",
   "execution_count": 19,
   "id": "d7ef2199",
   "metadata": {},
   "outputs": [
    {
     "data": {
      "text/plain": [
       "Text(0, 0.5, 'Precio de la acción de Galicia')"
      ]
     },
     "execution_count": 19,
     "metadata": {},
     "output_type": "execute_result"
    },
    {
     "data": {
      "image/png": "[encoded data removed]",
      "text/plain": [
       "<Figure size 640x480 with 1 Axes>"
      ]
     },
     "metadata": {},
     "output_type": "display_data"
    }
   ],
   "source": [
    "plt.figure()\n",
    "sns.scatterplot(data = df_entrenar,\n",
    "                x = 'OpenSantander_30dAntes',\n",
    "                y = 'Close_Target',\n",
    "               color = '#E048D3')\n",
    "plt.xlabel('Precio de cierre de la acción de Santander hace 30 / 35 días')\n",
    "plt.ylabel('Precio de la acción de Galicia')"
   ]
  },
  {
   "cell_type": "markdown",
   "id": "10fdb96c",
   "metadata": {},
   "source": [
    "# Modelo 3: Incluyo precio de apertura de Santander"
   ]
  },
  {
   "cell_type": "code",
   "execution_count": 20,
   "id": "4b1d5d91",
   "metadata": {},
   "outputs": [
    {
     "data": {
      "text/plain": [
       "False    1656\n",
       "Name: CloseSantander_30dAntes, dtype: int64"
      ]
     },
     "execution_count": 20,
     "metadata": {},
     "output_type": "execute_result"
    }
   ],
   "source": [
    "# Cuento vacíos \n",
    "df_entrenar['CloseSantander_30dAntes'].isnull().value_counts()"
   ]
  },
  {
   "cell_type": "code",
   "execution_count": 21,
   "id": "77956c9f",
   "metadata": {},
   "outputs": [
    {
     "name": "stdout",
     "output_type": "stream",
     "text": [
      "                            OLS Regression Results                            \n",
      "==============================================================================\n",
      "Dep. Variable:           Close_Target   R-squared:                       0.926\n",
      "Model:                            OLS   Adj. R-squared:                  0.926\n",
      "Method:                 Least Squares   F-statistic:                 1.030e+04\n",
      "Date:                Mon, 25 Sep 2023   Prob (F-statistic):               0.00\n",
      "Time:                        13:01:55   Log-Likelihood:                -4904.7\n",
      "No. Observations:                1656   AIC:                             9815.\n",
      "Df Residuals:                    1653   BIC:                             9832.\n",
      "Df Model:                           2                                         \n",
      "Covariance Type:            nonrobust                                         \n",
      "===========================================================================================\n",
      "                              coef    std err          t      P>|t|      [0.025      0.975]\n",
      "-------------------------------------------------------------------------------------------\n",
      "Intercept                  -4.7300      0.562     -8.421      0.000      -5.832      -3.628\n",
      "Close_30dAntes              0.8304      0.014     58.929      0.000       0.803       0.858\n",
      "CloseSantander_30dAntes     2.2800      0.222     10.252      0.000       1.844       2.716\n",
      "==============================================================================\n",
      "Omnibus:                      430.380   Durbin-Watson:                   0.079\n",
      "Prob(Omnibus):                  0.000   Jarque-Bera (JB):             2206.962\n",
      "Skew:                          -1.124   Prob(JB):                         0.00\n",
      "Kurtosis:                       8.189   Cond. No.                         147.\n",
      "==============================================================================\n",
      "\n",
      "Notes:\n",
      "[1] Standard Errors assume that the covariance matrix of the errors is correctly specified.\n"
     ]
    }
   ],
   "source": [
    "# Estimo coeficientes para modelo de regresión lineal:\n",
    "model3 = 'Close_Target ~ Close_30dAntes + CloseSantander_30dAntes'\n",
    "lm3   = sm.ols(formula = model3, data = df_entrenar).fit()\n",
    "print(lm3.summary())"
   ]
  },
  {
   "cell_type": "code",
   "execution_count": 22,
   "id": "8c605fa1",
   "metadata": {},
   "outputs": [
    {
     "name": "stdout",
     "output_type": "stream",
     "text": [
      "Intervalo de confianza de los coeficientes:\n",
      "                                0         1\n",
      "Intercept               -5.831635 -3.628266\n",
      "Close_30dAntes           0.802758  0.858037\n",
      "CloseSantander_30dAntes  1.843754  2.716156\n"
     ]
    }
   ],
   "source": [
    "intervalo_confianza = lm3.conf_int()\n",
    "print(\"Intervalo de confianza de los coeficientes:\")\n",
    "print(intervalo_confianza)"
   ]
  },
  {
   "cell_type": "markdown",
   "id": "c9675576",
   "metadata": {},
   "source": [
    "# Modelo 4: Normalizando los datos"
   ]
  },
  {
   "cell_type": "code",
   "execution_count": 25,
   "id": "580f9dbe",
   "metadata": {},
   "outputs": [
    {
     "name": "stdout",
     "output_type": "stream",
     "text": [
      "['Close_Target_Norm', 'Close_30dAntes_Norm', 'CloseSantander_30dAntes_Norm']\n"
     ]
    }
   ],
   "source": [
    "scaler = StandardScaler()\n",
    "\n",
    "# Selecciona las columnas numéricas que deseas escalar\n",
    "columnas_a_escalar = ['Close_Target','Close_30dAntes','CloseSantander_30dAntes']\n",
    "sufijo = '_Norm'\n",
    "columnas_a_escalar_nombres = [col + sufijo for col in columnas_a_escalar]\n",
    "print(columnas_a_escalar_nombres)"
   ]
  },
  {
   "cell_type": "code",
   "execution_count": 28,
   "id": "c8765839",
   "metadata": {},
   "outputs": [
    {
     "data": {
      "text/html": [
       "<div>\n",
       "<style scoped>\n",
       "    .dataframe tbody tr th:only-of-type {\n",
       "        vertical-align: middle;\n",
       "    }\n",
       "\n",
       "    .dataframe tbody tr th {\n",
       "        vertical-align: top;\n",
       "    }\n",
       "\n",
       "    .dataframe thead th {\n",
       "        text-align: right;\n",
       "    }\n",
       "</style>\n",
       "<table border=\"1\" class=\"dataframe\">\n",
       "  <thead>\n",
       "    <tr style=\"text-align: right;\">\n",
       "      <th></th>\n",
       "      <th>Date_Target</th>\n",
       "      <th>Close_Target</th>\n",
       "      <th>Date_30dAntes</th>\n",
       "      <th>Date_x</th>\n",
       "      <th>Close_30dAntes</th>\n",
       "      <th>Open_30dAntes</th>\n",
       "      <th>Date_y</th>\n",
       "      <th>CloseSantander_30dAntes</th>\n",
       "      <th>OpenSantander_30dAntes</th>\n",
       "      <th>Close_Target_Norm</th>\n",
       "      <th>Close_30dAntes_Norm</th>\n",
       "      <th>CloseSantander_30dAntes_Norm</th>\n",
       "    </tr>\n",
       "  </thead>\n",
       "  <tbody>\n",
       "    <tr>\n",
       "      <th>0</th>\n",
       "      <td>2017-02-24</td>\n",
       "      <td>32.570000</td>\n",
       "      <td>2017-01-25</td>\n",
       "      <td>2017-01-25</td>\n",
       "      <td>32.75</td>\n",
       "      <td>33.060001</td>\n",
       "      <td>2017-01-25</td>\n",
       "      <td>5.062568</td>\n",
       "      <td>4.967368</td>\n",
       "      <td>0.629558</td>\n",
       "      <td>0.625079</td>\n",
       "      <td>1.333793</td>\n",
       "    </tr>\n",
       "    <tr>\n",
       "      <th>1</th>\n",
       "      <td>2017-02-27</td>\n",
       "      <td>32.299999</td>\n",
       "      <td>2017-01-28</td>\n",
       "      <td>2017-01-27</td>\n",
       "      <td>31.34</td>\n",
       "      <td>31.639999</td>\n",
       "      <td>2017-01-27</td>\n",
       "      <td>5.049372</td>\n",
       "      <td>5.062568</td>\n",
       "      <td>0.613828</td>\n",
       "      <td>0.543113</td>\n",
       "      <td>1.321687</td>\n",
       "    </tr>\n",
       "    <tr>\n",
       "      <th>2</th>\n",
       "      <td>2017-02-28</td>\n",
       "      <td>31.799999</td>\n",
       "      <td>2017-01-29</td>\n",
       "      <td>2017-01-27</td>\n",
       "      <td>31.34</td>\n",
       "      <td>31.639999</td>\n",
       "      <td>2017-01-27</td>\n",
       "      <td>5.049372</td>\n",
       "      <td>5.062568</td>\n",
       "      <td>0.584697</td>\n",
       "      <td>0.543113</td>\n",
       "      <td>1.321687</td>\n",
       "    </tr>\n",
       "    <tr>\n",
       "      <th>3</th>\n",
       "      <td>2017-03-01</td>\n",
       "      <td>32.910000</td>\n",
       "      <td>2017-01-30</td>\n",
       "      <td>2017-01-30</td>\n",
       "      <td>30.84</td>\n",
       "      <td>30.920000</td>\n",
       "      <td>2017-01-30</td>\n",
       "      <td>4.904215</td>\n",
       "      <td>4.995645</td>\n",
       "      <td>0.649368</td>\n",
       "      <td>0.514046</td>\n",
       "      <td>1.188514</td>\n",
       "    </tr>\n",
       "    <tr>\n",
       "      <th>4</th>\n",
       "      <td>2017-03-02</td>\n",
       "      <td>32.570000</td>\n",
       "      <td>2017-01-31</td>\n",
       "      <td>2017-01-31</td>\n",
       "      <td>31.07</td>\n",
       "      <td>30.610001</td>\n",
       "      <td>2017-01-31</td>\n",
       "      <td>4.853316</td>\n",
       "      <td>4.901388</td>\n",
       "      <td>0.629558</td>\n",
       "      <td>0.527417</td>\n",
       "      <td>1.141817</td>\n",
       "    </tr>\n",
       "  </tbody>\n",
       "</table>\n",
       "</div>"
      ],
      "text/plain": [
       "  Date_Target  Close_Target Date_30dAntes     Date_x  Close_30dAntes  \\\n",
       "0  2017-02-24     32.570000    2017-01-25 2017-01-25           32.75   \n",
       "1  2017-02-27     32.299999    2017-01-28 2017-01-27           31.34   \n",
       "2  2017-02-28     31.799999    2017-01-29 2017-01-27           31.34   \n",
       "3  2017-03-01     32.910000    2017-01-30 2017-01-30           30.84   \n",
       "4  2017-03-02     32.570000    2017-01-31 2017-01-31           31.07   \n",
       "\n",
       "   Open_30dAntes     Date_y  CloseSantander_30dAntes  OpenSantander_30dAntes  \\\n",
       "0      33.060001 2017-01-25                 5.062568                4.967368   \n",
       "1      31.639999 2017-01-27                 5.049372                5.062568   \n",
       "2      31.639999 2017-01-27                 5.049372                5.062568   \n",
       "3      30.920000 2017-01-30                 4.904215                4.995645   \n",
       "4      30.610001 2017-01-31                 4.853316                4.901388   \n",
       "\n",
       "   Close_Target_Norm  Close_30dAntes_Norm  CloseSantander_30dAntes_Norm  \n",
       "0           0.629558             0.625079                      1.333793  \n",
       "1           0.613828             0.543113                      1.321687  \n",
       "2           0.584697             0.543113                      1.321687  \n",
       "3           0.649368             0.514046                      1.188514  \n",
       "4           0.629558             0.527417                      1.141817  "
      ]
     },
     "execution_count": 28,
     "metadata": {},
     "output_type": "execute_result"
    }
   ],
   "source": [
    "# Aplica el método fit_transform a las columnas seleccionadas\n",
    "df_entrenar[columnas_a_escalar_nombres] = scaler.fit_transform(df_entrenar[columnas_a_escalar])\n",
    "df_entrenar.head()"
   ]
  },
  {
   "cell_type": "code",
   "execution_count": 33,
   "id": "a873db0a",
   "metadata": {},
   "outputs": [
    {
     "name": "stdout",
     "output_type": "stream",
     "text": [
      "                            OLS Regression Results                            \n",
      "==============================================================================\n",
      "Dep. Variable:           Close_Target   R-squared:                       0.926\n",
      "Model:                            OLS   Adj. R-squared:                  0.926\n",
      "Method:                 Least Squares   F-statistic:                 1.030e+04\n",
      "Date:                Mon, 25 Sep 2023   Prob (F-statistic):               0.00\n",
      "Time:                        13:09:01   Log-Likelihood:                -4904.7\n",
      "No. Observations:                1656   AIC:                             9815.\n",
      "Df Residuals:                    1653   BIC:                             9832.\n",
      "Df Model:                           2                                         \n",
      "Covariance Type:            nonrobust                                         \n",
      "================================================================================================\n",
      "                                   coef    std err          t      P>|t|      [0.025      0.975]\n",
      "------------------------------------------------------------------------------------------------\n",
      "Intercept                       21.7643      0.115    189.168      0.000      21.539      21.990\n",
      "Close_30dAntes_Norm             14.2846      0.242     58.929      0.000      13.809      14.760\n",
      "CloseSantander_30dAntes_Norm     2.4851      0.242     10.252      0.000       2.010       2.961\n",
      "==============================================================================\n",
      "Omnibus:                      430.380   Durbin-Watson:                   0.079\n",
      "Prob(Omnibus):                  0.000   Jarque-Bera (JB):             2206.962\n",
      "Skew:                          -1.124   Prob(JB):                         0.00\n",
      "Kurtosis:                       8.189   Cond. No.                         3.96\n",
      "==============================================================================\n",
      "\n",
      "Notes:\n",
      "[1] Standard Errors assume that the covariance matrix of the errors is correctly specified.\n"
     ]
    }
   ],
   "source": [
    "# Estimo coeficientes para modelo de regresión lineal:\n",
    "model4 = 'Close_Target ~ Close_30dAntes_Norm + CloseSantander_30dAntes_Norm'\n",
    "lm4   = sm.ols(formula = model4, data = df_entrenar).fit()\n",
    "print(lm4.summary())"
   ]
  },
  {
   "cell_type": "code",
   "execution_count": 34,
   "id": "16558e40",
   "metadata": {},
   "outputs": [
    {
     "name": "stdout",
     "output_type": "stream",
     "text": [
      "Intervalo de confianza de los coeficientes:\n",
      "                                      0          1\n",
      "Intercept                     21.538671  21.990000\n",
      "Close_30dAntes_Norm           13.809163  14.760071\n",
      "CloseSantander_30dAntes_Norm   2.009673   2.960581\n"
     ]
    }
   ],
   "source": [
    "intervalo_confianza = lm4.conf_int()\n",
    "print(\"Intervalo de confianza de los coeficientes:\")\n",
    "print(intervalo_confianza)"
   ]
  }
 ],
 "metadata": {
  "kernelspec": {
   "display_name": "Python 3 (ipykernel)",
   "language": "python",
   "name": "python3"
  },
  "language_info": {
   "codemirror_mode": {
    "name": "ipython",
    "version": 3
   },
   "file_extension": ".py",
   "mimetype": "text/x-python",
   "name": "python",
   "nbconvert_exporter": "python",
   "pygments_lexer": "ipython3",
   "version": "3.11.4"
  }
 },
 "nbformat": 4,
 "nbformat_minor": 5
}
